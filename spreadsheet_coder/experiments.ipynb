{
  "nbformat": 4,
  "nbformat_minor": 0,
  "metadata": {
    "colab": {
      "name": "Experiments.ipynb",
      "provenance": [],
      "collapsed_sections": [],
      "toc_visible": true,
      "authorship_tag": "ABX9TyN9hGKi2FJIF3wZ14bglhlq",
      "include_colab_link": true
    },
    "kernelspec": {
      "name": "python3",
      "display_name": "Python 3"
    },
    "language_info": {
      "name": "python"
    }
  },
  "cells": [
    {
      "cell_type": "markdown",
      "metadata": {
        "id": "view-in-github",
        "colab_type": "text"
      },
      "source": [
        "<a href=\"https://colab.research.google.com/github/wy-go/google-research/blob/master/spreadsheet_coder/experiments.ipynb\" target=\"_parent\"><img src=\"https://colab.research.google.com/assets/colab-badge.svg\" alt=\"Open In Colab\"/></a>"
      ]
    },
    {
      "cell_type": "markdown",
      "metadata": {
        "id": "BxlH4IZDv-Zn"
      },
      "source": [
        "# Data\n",
        "Load data from [[UI]](https://console.cloud.google.com/storage/browser/spreadsheet_coder)"
      ]
    },
    {
      "cell_type": "markdown",
      "metadata": {
        "id": "TzH8cW8jR9sY"
      },
      "source": [
        "\n",
        "## Copy files from GCS with gsutil"
      ]
    },
    {
      "cell_type": "code",
      "metadata": {
        "colab": {
          "base_uri": "https://localhost:8080/"
        },
        "id": "gJLt_RvlwHA-",
        "outputId": "d905a1d0-424d-496f-a6eb-642cf926cd6c"
      },
      "source": [
        "from google.colab import auth\n",
        "auth.authenticate_user()\n",
        "\n",
        "# https://cloud.google.com/resource-manager/docs/creating-managing-projects\n",
        "project_id = 'sheetcoder'\n",
        "!gcloud config set project {project_id}"
      ],
      "execution_count": 12,
      "outputs": [
        {
          "output_type": "stream",
          "name": "stdout",
          "text": [
            "Updated property [core/project].\n"
          ]
        }
      ]
    },
    {
      "cell_type": "code",
      "metadata": {
        "colab": {
          "base_uri": "https://localhost:8080/"
        },
        "id": "XRy331zlxcJQ",
        "outputId": "71dbf83d-bb1c-4b9b-8508-6c7d6d1c3623"
      },
      "source": [
        "# Download the file from a given Google Cloud Storage bucket.\n",
        "!gsutil -m cp -r \\\n",
        "  \"gs://spreadsheet_coder/enron/\" \\\n",
        "  .\n",
        "  \n",
        "# Print the result to make sure the transfer worked.\n",
        "# !cat /sheetcoder/data/formulas_0_5.tf_record"
      ],
      "execution_count": 13,
      "outputs": [
        {
          "output_type": "stream",
          "name": "stdout",
          "text": [
            "Copying gs://spreadsheet_coder/enron/formulas_5_10.tf_record...\n",
            "/ [0/6 files][    0.0 B/  3.9 GiB]   0% Done                                    \rCopying gs://spreadsheet_coder/enron/formulas_10_15.tf_record...\n",
            "/ [0/6 files][    0.0 B/  3.9 GiB]   0% Done                                    \rCopying gs://spreadsheet_coder/enron/formulas_0_5.tf_record...\n",
            "/ [0/6 files][    0.0 B/  3.9 GiB]   0% Done                                    \rCopying gs://spreadsheet_coder/enron/formulas_15_20.tf_record...\n",
            "/ [0/6 files][    0.0 B/  3.9 GiB]   0% Done                                    \rCopying gs://spreadsheet_coder/enron/formulas_20_25.tf_record...\n",
            "Copying gs://spreadsheet_coder/enron/formulas_25_30.tf_record...\n",
            "| [6/6 files][  3.9 GiB/  3.9 GiB] 100% Done  14.9 MiB/s ETA 00:00:00           \n",
            "Operation completed over 6 objects/3.9 GiB.                                      \n"
          ]
        }
      ]
    },
    {
      "cell_type": "markdown",
      "metadata": {
        "id": "L4x0uZ6rSB0t"
      },
      "source": [
        "## Read the TFRecord files"
      ]
    },
    {
      "cell_type": "code",
      "metadata": {
        "id": "ElGiJTUW-L3b",
        "colab": {
          "base_uri": "https://localhost:8080/"
        },
        "outputId": "95dbd63f-a773-48d4-866b-bba94d1add7a"
      },
      "source": [
        "import tensorflow as tf\n",
        "import os\n",
        "\n",
        "data_dir = 'enron/'\n",
        "tfrecord_files = [data_dir + filename for filename in os.listdir(data_dir)]\n",
        "raw_dataset = tf.data.TFRecordDataset(tfrecord_files)\n",
        "\n",
        "# Show the first 3 records.\n",
        "for raw_record in raw_dataset.take(3):\n",
        "  print(repr(raw_record))"
      ],
      "execution_count": 15,
      "outputs": [
        {
          "output_type": "stream",
          "name": "stdout",
          "text": [
            "<tf.Tensor: shape=(), dtype=string, numpy=b\"\\n\\xdci\\n\\x12\\n\\tcol_index\\x12\\x05\\x1a\\x03\\n\\x01\\x13\\n\\x0e\\n\\x06doc_id\\x12\\x04\\n\\x02\\n\\x00\\n\\x1b\\n\\x06header\\x12\\x11\\n\\x0f\\n\\rContract Cost\\n\\xdad\\n\\x0ccontext_data\\x12\\xc9d\\n\\xc6d\\n\\xc3d$R[-1]C[-10]$userEnteredValue=empty$$R[-1]C[-9]$userEnteredValue=empty$$R[-1]C[-8]$userEnteredValue=empty$$R[-1]C[-7]$userEnteredValue=empty$$R[-1]C[-6]$userEnteredValue=empty$$R[-1]C[-5]$userEnteredValue=empty$$R[-1]C[-4]$userEnteredValue=empty$$R[-1]C[-3]$userEnteredValue=empty$$R[-1]C[-2]$userEnteredValue=empty$$R[-1]C[-1]$userEnteredValue=empty$$R[-1]C[0]$userEnteredValue=empty$$R[-1]C[1]$userEnteredValue=empty$$R[-1]C[2]$userEnteredValue=empty$$R[-1]C[3]$userEnteredValue=empty$$R[-1]C[4]$userEnteredValue=empty$$R[0]C[-10]$userEnteredValue=str:New$$R[0]C[-9]$userEnteredValue=doub:37165.0$$R[0]C[-8]$userEnteredValue=str:Whitewing$$R[0]C[-7]$userEnteredValue=str:$4.5MM DASHed$$R[0]C[-6]$userEnteredValue=str:N$$R[0]C[-5]$userEnteredValue=str:N/A$$R[0]C[-4]$userEnteredValue=str:EWS$$R[0]C[-3]$userEnteredValue=str:John Chappell$$R[0]C[-2]$userEnteredValue=str:Stephen Heck$$R[0]C[-1]$userEnteredValue=str:Sale in Process$$R[0]C[0]$formula=RANGE UPLUS FORMULA_START, formulaTokenList==+ RANGE, ranges=[R1C1FormulaRange{relativeRange=G278457581!R[3]C[-17], startTokenIndex=2, workbookRangeId=null}], computedValue=doub:83.41666666666667$$R[0]C[1]$formula=RANGE UPLUS FORMULA_START, formulaTokenList==+ RANGE, ranges=[R1C1FormulaRange{relativeRange=G278457581!R[3]C[13], startTokenIndex=2, workbookRangeId=null}], computedValue=doub:54.220833333333346$$R[0]C[2]$formula=RANGE UPLUS FORMULA_START, formulaTokenList==+ RANGE, ranges=[R1C1FormulaRange{relativeRange=G278457581!R[4]C[12], startTokenIndex=2, workbookRangeId=null}], computedValue=doub:49.215833333333336$$R[0]C[3]$userEnteredValue=empty$$R[0]C[4]$userEnteredValue=str:DASH in progress.$$R[1]C[-10]$userEnteredValue=str:New$$R[1]C[-9]$userEnteredValue=doub:37196.0$$R[1]C[-8]$userEnteredValue=str:Whitewing$$R[1]C[-7]$userEnteredValue=str:$4.5MM DASHed$$R[1]C[-6]$userEnteredValue=str:N$$R[1]C[-5]$userEnteredValue=str:N/A$$R[1]C[-4]$userEnteredValue=str:EWS$$R[1]C[-3]$userEnteredValue=str:John Chappell$$R[1]C[-2]$userEnteredValue=str:Stephen Heck$$R[1]C[-1]$userEnteredValue=str:Sale in Process$$R[1]C[0]$formula=RANGE UPLUS FORMULA_START, formulaTokenList==+ RANGE, ranges=[R1C1FormulaRange{relativeRange=G278457581!R[10]C[-17], startTokenIndex=2, workbookRangeId=null}], computedValue=doub:83.41666666666667$$R[1]C[1]$formula=RANGE UPLUS FORMULA_START, formulaTokenList==+ RANGE, ranges=[R1C1FormulaRange{relativeRange=G278457581!R[10]C[13], startTokenIndex=2, workbookRangeId=null}], computedValue=doub:54.220833333333346$$R[1]C[2]$formula=RANGE UPLUS FORMULA_START, formulaTokenList==+ RANGE, ranges=[R1C1FormulaRange{relativeRange=G278457581!R[11]C[12], startTokenIndex=2, workbookRangeId=null}], computedValue=doub:49.215833333333336$$R[1]C[3]$userEnteredValue=empty$$R[1]C[4]$userEnteredValue=str:DASH in progress.$$R[2]C[-10]$userEnteredValue=str:New$$R[2]C[-9]$userEnteredValue=doub:37226.0$$R[2]C[-8]$userEnteredValue=str:Whitewing$$R[2]C[-7]$userEnteredValue=str:$4.5MM DASHed$$R[2]C[-6]$userEnteredValue=str:N$$R[2]C[-5]$userEnteredValue=str:N/A$$R[2]C[-4]$userEnteredValue=str:EWS$$R[2]C[-3]$userEnteredValue=str:John Chappell$$R[2]C[-2]$userEnteredValue=str:Stephen Heck$$R[2]C[-1]$userEnteredValue=str:Sale in Process$$R[2]C[0]$formula=RANGE UPLUS FORMULA_START, formulaTokenList==+ RANGE, ranges=[R1C1FormulaRange{relativeRange=G278457581!R[17]C[-17], startTokenIndex=2, workbookRangeId=null}], computedValue=doub:83.41666666666667$$R[2]C[1]$formula=RANGE UPLUS FORMULA_START, formulaTokenList==+ RANGE, ranges=[R1C1FormulaRange{relativeRange=G278457581!R[17]C[13], startTokenIndex=2, workbookRangeId=null}], computedValue=doub:54.220833333333346$$R[2]C[2]$formula=RANGE UPLUS FORMULA_START, formulaTokenList==+ RANGE, ranges=[R1C1FormulaRange{relativeRange=G278457581!R[18]C[12], startTokenIndex=2, workbookRangeId=null}], computedValue=doub:49.215833333333336$$R[2]C[3]$userEnteredValue=empty$$R[2]C[4]$userEnteredValue=str:DASH in progress.$$R[3]C[-10]$userEnteredValue=str:New$$R[3]C[-9]$userEnteredValue=doub:37135.0$$R[3]C[-8]$userEnteredValue=str:ENE B/S$$R[3]C[-7]$userEnteredValue=str:Approved$$R[3]C[-6]$userEnteredValue=str:N$$R[3]C[-5]$userEnteredValue=str:N/A$$R[3]C[-4]$userEnteredValue=str:EWS$$R[3]C[-3]$userEnteredValue=str:Dick Westfahl$$R[3]C[-2]$userEnteredValue=empty$$R[3]C[-1]$userEnteredValue=str:NEPCO / NESCO - Goldendale (EECC)$$R[3]C[0]$formula=RANGE UPLUS FORMULA_START, formulaTokenList==+ RANGE, ranges=[R1C1FormulaRange{relativeRange=G278457581!R[32]C[-17], startTokenIndex=2, workbookRangeId=null}], computedValue=doub:36.24736$$R[3]C[1]$formula=RANGE UPLUS FORMULA_START, formulaTokenList==+ RANGE, ranges=[R1C1FormulaRange{relativeRange=G278457581!R[32]C[13], startTokenIndex=2, workbookRangeId=null}], computedValue=doub:35.613031199999995$$R[3]C[2]$formula=RANGE UPLUS FORMULA_START, formulaTokenList==+ RANGE, ranges=[R1C1FormulaRange{relativeRange=G278457581!R[33]C[12], startTokenIndex=2, workbookRangeId=null}], computedValue=doub:35.7036496$$R[3]C[3]$userEnteredValue=empty$$R[3]C[4]$userEnteredValue=str:Contract in the works, possible buyer$$R[4]C[-10]$userEnteredValue=str:Used$$R[4]C[-9]$userEnteredValue=str:Delivered$$R[4]C[-8]$userEnteredValue=str:West LB$$R[4]C[-7]$userEnteredValue=str:Analyzing$$R[4]C[-6]$userEnteredValue=str:N$$R[4]C[-5]$userEnteredValue=str:N/A$$R[4]C[-4]$userEnteredValue=str:EA$$R[4]C[-3]$userEnteredValue=empty$$R[4]C[-2]$userEnteredValue=empty$$R[4]C[-1]$userEnteredValue=str:Sale in Process$$R[4]C[0]$formula=RANGE UPLUS FORMULA_START, formulaTokenList==+ RANGE, ranges=[R1C1FormulaRange{relativeRange=G278457581!R[111]C[-17], startTokenIndex=2, workbookRangeId=null}], computedValue=doub:17.25$$R[4]C[1]$formula=RANGE UPLUS FORMULA_START, formulaTokenList==+ RANGE, ranges=[R1C1FormulaRange{relativeRange=G278457581!R[111]C[13], startTokenIndex=2, workbookRangeId=null}], computedValue=doub:17.25$$R[4]C[2]$formula=RANGE UPLUS FORMULA_START, formulaTokenList==+ RANGE, ranges=[R1C1FormulaRange{relativeRange=G278457581!R[112]C[12], startTokenIndex=2, workbookRangeId=null}], computedValue=doub:17.25$$R[4]C[3]$userEnteredValue=empty$$R[4]C[4]$userEnteredValue=str:3 Potential buyers in Canada, no legitimate offer as of 1/25/01.$$R[5]C[-10]$userEnteredValue=str:Used$$R[5]C[-9]$userEnteredValue=str:Delivered$$R[5]C[-8]$userEnteredValue=str:West LB$$R[5]C[-7]$userEnteredValue=str:Analyzing$$R[5]C[-6]$userEnteredValue=str:N$$R[5]C[-5]$userEnteredValue=str:N/A$$R[5]C[-4]$userEnteredValue=str:EA$$R[5]C[-3]$userEnteredValue=empty$$R[5]C[-2]$userEnteredValue=empty$$R[5]C[-1]$userEnteredValue=str:Sale in Process$$R[5]C[0]$formula=RANGE UPLUS FORMULA_START, formulaTokenList==+ RANGE, ranges=[R1C1FormulaRange{relativeRange=G278457581!R[118]C[-17], startTokenIndex=2, workbookRangeId=null}], computedValue=doub:17.25$$R[5]C[1]$formula=RANGE UPLUS FORMULA_START, formulaTokenList==+ RANGE, ranges=[R1C1FormulaRange{relativeRange=G278457581!R[118]C[13], startTokenIndex=2, workbookRangeId=null}], computedValue=doub:17.25$$R[5]C[2]$formula=RANGE UPLUS FORMULA_START, formulaTokenList==+ RANGE, ranges=[R1C1FormulaRange{relativeRange=G278457581!R[119]C[12], startTokenIndex=2, workbookRangeId=null}], computedValue=doub:17.25$$R[5]C[3]$userEnteredValue=empty$$R[5]C[4]$userEnteredValue=str:3 Potential buyers in Canada, no legitimate offer as of 1/25/01.$$R[6]C[-10]$userEnteredValue=str:New$$R[6]C[-9]$userEnteredValue=str:being cleaned$$R[6]C[-8]$userEnteredValue=str:ENE B/S$$R[6]C[-7]$userEnteredValue=str:Analyzing$$R[6]C[-6]$userEnteredValue=str:N$$R[6]C[-5]$userEnteredValue=str:N/A$$R[6]C[-4]$userEnteredValue=str:EA$$R[6]C[-3]$userEnteredValue=str:David Fairley, Mathew Gimble$$R[6]C[-2]$userEnteredValue=empty$$R[6]C[-1]$userEnteredValue=str:Purchaser Identified$$R[6]C[0]$formula=RANGE UPLUS FORMULA_START, formulaTokenList==+ RANGE, ranges=[R1C1FormulaRange{relativeRange=G278457581!R[21]C[-17], startTokenIndex=2, workbookRangeId=null}], computedValue=doub:24.506$$R[6]C[1]$formula=RANGE UPLUS FORMULA_START, formulaTokenList==+ RANGE, ranges=[R1C1FormulaRange{relativeRange=G278457581!R[21]C[13], startTokenIndex=2, workbookRangeId=null}], computedValue=doub:24.506000000000007$$R[6]C[2]$formula=RANGE UPLUS FORMULA_START, formulaTokenList==+ RANGE, ranges=[R1C1FormulaRange{relativeRange=G278457581!R[22]C[12], startTokenIndex=2, workbookRangeId=null}], computedValue=doub:24.506$$R[6]C[3]$userEnteredValue=str:CALME purchased turbine from ENA; turbine has not yet cleared customs;  generator incurred salt water damage while unloading$$R[6]C[4]$userEnteredValue=empty$$R[7]C[-10]$userEnteredValue=empty$$R[7]C[-9]$userEnteredValue=empty$$R[7]C[-8]$userEnteredValue=str:E-Next Generation$$R[7]C[-7]$userEnteredValue=str:$16.5MM on 2/16/01$$R[7]C[-6]$userEnteredValue=str:N$$R[7]C[-5]$userEnteredValue=str:N/A$$R[7]C[-4]$userEnteredValue=str:EA$$R[7]C[-3]$userEnteredValue=str:Jake Thomas/Laura Wente$$R[7]C[-2]$userEnteredValue=empty$$R[7]C[-1]$userEnteredValue=str:Columbia$$R[7]C[0]$formula=RANGE FORMULA_START, formulaTokenList== RANGE, ranges=[R1C1FormulaRange{relativeRange=G278457581!R[100]C[-17], startTokenIndex=1, workbookRangeId=null}], computedValue=doub:39.2$$R[7]C[1]$formula=RANGE FORMULA_START, formulaTokenList== RANGE, ranges=[R1C1FormulaRange{relativeRange=G278457581!R[100]C[13], startTokenIndex=1, workbookRangeId=null}], computedValue=doub:6.272$$R[7]C[2]$formula=RANGE FORMULA_START, formulaTokenList== RANGE, ranges=[R1C1FormulaRange{relativeRange=G278457581!R[101]C[12], startTokenIndex=1, workbookRangeId=null}], computedValue=doub:4.704$$R[7]C[3]$userEnteredValue=empty$$R[7]C[4]$userEnteredValue=empty$$R[8]C[-10]$userEnteredValue=str:New$$R[8]C[-9]$userEnteredValue=doub:37408.0$$R[8]C[-8]$userEnteredValue=str:West LB$$R[8]C[-7]$userEnteredValue=str:$2.5MM on 1/31/01$$R[8]C[-6]$userEnteredValue=str:N$$R[8]C[-5]$userEnteredValue=str:N/A$$R[8]C[-4]$userEnteredValue=str:EA$$R[8]C[-3]$userEnteredValue=empty$$R[8]C[-2]$userEnteredValue=empty$$R[8]C[-1]$userEnteredValue=str:Fort Pierce$$R[8]C[0]$formula=RANGE UPLUS FORMULA_START, formulaTokenList==+ RANGE, ranges=[R1C1FormulaRange{relativeRange=G278457581!R[139]C[-17], startTokenIndex=2, workbookRangeId=null}], computedValue=doub:43.618$$R[8]C[1]$formula=RANGE UPLUS FORMULA_START, formulaTokenList==+ RANGE, ranges=[R1C1FormulaRange{relativeRange=G278457581!R[139]C[13], startTokenIndex=2, workbookRangeId=null}], computedValue=doub:34.894400000000005$$R[8]C[2]$formula=RANGE UPLUS FORMULA_START, formulaTokenList==+ RANGE, ranges=[R1C1FormulaRange{relativeRange=G278457581!R[140]C[12], startTokenIndex=2, workbookRangeId=null}], computedValue=doub:43.618$$R[8]C[3]$userEnteredValue=empty$$R[8]C[4]$userEnteredValue=empty$$R[9]C[-10]$userEnteredValue=str:New$$R[9]C[-9]$userEnteredValue=doub:37591.0$$R[9]C[-8]$userEnteredValue=empty$$R[9]C[-7]$userEnteredValue=str:$4.2MM on 7/24/00$$R[9]C[-6]$userEnteredValue=str:N$$R[9]C[-5]$userEnteredValue=str:N/A$$R[9]C[-4]$userEnteredValue=str:EA$$R[9]C[-3]$userEnteredValue=str:Maurice Gilbert$$R[9]C[-2]$userEnteredValue=empty$$R[9]C[-1]$userEnteredValue=str:Las Vegas CoGen II$$R[9]C[0]$formula=RANGE UPLUS FORMULA_START, formulaTokenList==+ RANGE, ranges=[R1C1FormulaRange{relativeRange=G278457581!R[34]C[-17], startTokenIndex=2, workbookRangeId=null}], computedValue=doub:15.769725$$R[9]C[1]$formula=RANGE UPLUS FORMULA_START, formulaTokenList==+ RANGE, ranges=[R1C1FormulaRange{relativeRange=G278457581!R[34]C[13], startTokenIndex=2, workbookRangeId=null}], computedValue=doub:3.94243125$$R[9]C[2]$formula=RANGE UPLUS FORMULA_START, formulaTokenList==+ RANGE, ranges=[R1C1FormulaRange{relativeRange=G278457581!R[35]C[12], startTokenIndex=2, workbookRangeId=null}], computedValue=doub:3.153945$$R[9]C[3]$userEnteredValue=empty$$R[9]C[4]$userEnteredValue=empty$$R[10]C[-10]$userEnteredValue=str:New$$R[10]C[-9]$userEnteredValue=doub:37257.0$$R[10]C[-8]$userEnteredValue=empty$$R[10]C[-7]$userEnteredValue=str:$4.2MM on 7/24/00$$R[10]C[-6]$userEnteredValue=str:N$$R[10]C[-5]$userEnteredValue=str:N/A$$R[10]C[-4]$userEnteredValue=str:EA$$R[10]C[-3]$userEnteredValue=str:Maurice Gilbert$$R[10]C[-2]$userEnteredValue=empty$$R[10]C[-1]$userEnteredValue=str:Las Vegas CoGen II$$R[10]C[0]$formula=RANGE UPLUS FORMULA_START, formulaTokenList==+ RANGE, ranges=[R1C1FormulaRange{relativeRange=G278457581!R[41]C[-17], startTokenIndex=2, workbookRangeId=null}], computedValue=doub:15.769725$$R[10]C[1]$formula=RANGE UPLUS FORMULA_START, formulaTokenList==+ RANGE, ranges=[R1C1FormulaRange{relativeRange=G278457581!R[41]C[13], startTokenIndex=2, workbookRangeId=null}], computedValue=doub:3.94243125$$R[10]C[2]$formula=RANGE UPLUS FORMULA_START, formulaTokenList==+ RANGE, ranges=[R1C1FormulaRange{relativeRange=G278457581!R[42]C[12], startTokenIndex=2, workbookRangeId=null}], computedValue=doub:3.153945$$R[10]C[3]$userEnteredValue=empty$$R[10]C[4]$userEnteredValue=empty$\\n\\x15\\n\\x0crecord_index\\x12\\x05\\x1a\\x03\\n\\x01\\x01\\n\\x11\\n\\x08table_id\\x12\\x05\\x1a\\x03\\n\\x01\\x02\\n\\xeb\\x02\\n\\x0econtext_header\\x12\\xd8\\x02\\n\\xd5\\x02\\n\\xd2\\x02$C[-10]$New/Used$C[-9]$Delivery Date$C[-8]$Owner$C[-7]$DASH\\nApproval\\nDate$C[-6]$Notice to Proceed Given$C[-5]$Status of Financing$C[-4]$Controlled By$C[-3]$Originator / Developer$C[-2]$Project Manager$C[-1]$Project Name$C[0]$Contract Cost$C[1]$Contract Paid to Date\\n(Scheduled)$C[2]$\\nCancel-lation Payment$C[3]$Comments$C[4]$Status Update\\n#\\n\\x06ranges\\x12\\x19\\n\\x17\\n\\x15G278457581!R[3]C[-17]\\n,\\n\\x0ecomputed_value\\x12\\x1a\\n\\x18\\n\\x16doub:83.41666666666667\\n'\\n\\x12formula_token_list\\x12\\x11\\n\\x0f\\n\\rb'= +  RANGE'\\n(\\n\\x07formula\\x12\\x1d\\n\\x1b\\n\\x19RANGE UPLUS FORMULA_START\">\n",
            "<tf.Tensor: shape=(), dtype=string, numpy=b'\\n\\xbef\\n/\\n\\x06header\\x12%\\n#\\n!Contract Paid to Date\\n(Scheduled)\\n-\\n\\x0ecomputed_value\\x12\\x1b\\n\\x19\\n\\x17doub:54.220833333333346\\n\\x12\\n\\tcol_index\\x12\\x05\\x1a\\x03\\n\\x01\\x14\\n\\xb6a\\n\\x0ccontext_data\\x12\\xa5a\\n\\xa2a\\n\\x9fa$R[-1]C[-10]$userEnteredValue=empty$$R[-1]C[-9]$userEnteredValue=empty$$R[-1]C[-8]$userEnteredValue=empty$$R[-1]C[-7]$userEnteredValue=empty$$R[-1]C[-6]$userEnteredValue=empty$$R[-1]C[-5]$userEnteredValue=empty$$R[-1]C[-4]$userEnteredValue=empty$$R[-1]C[-3]$userEnteredValue=empty$$R[-1]C[-2]$userEnteredValue=empty$$R[-1]C[-1]$userEnteredValue=empty$$R[-1]C[0]$userEnteredValue=empty$$R[-1]C[1]$userEnteredValue=empty$$R[-1]C[2]$userEnteredValue=empty$$R[-1]C[3]$userEnteredValue=empty$$R[0]C[-10]$userEnteredValue=doub:37165.0$$R[0]C[-9]$userEnteredValue=str:Whitewing$$R[0]C[-8]$userEnteredValue=str:$4.5MM DASHed$$R[0]C[-7]$userEnteredValue=str:N$$R[0]C[-6]$userEnteredValue=str:N/A$$R[0]C[-5]$userEnteredValue=str:EWS$$R[0]C[-4]$userEnteredValue=str:John Chappell$$R[0]C[-3]$userEnteredValue=str:Stephen Heck$$R[0]C[-2]$userEnteredValue=str:Sale in Process$$R[0]C[-1]$formula=RANGE UPLUS FORMULA_START, formulaTokenList==+ RANGE, ranges=[R1C1FormulaRange{relativeRange=G278457581!R[3]C[-17], startTokenIndex=2, workbookRangeId=null}], computedValue=doub:83.41666666666667$$R[0]C[0]$formula=RANGE UPLUS FORMULA_START, formulaTokenList==+ RANGE, ranges=[R1C1FormulaRange{relativeRange=G278457581!R[3]C[13], startTokenIndex=2, workbookRangeId=null}], computedValue=doub:54.220833333333346$$R[0]C[1]$formula=RANGE UPLUS FORMULA_START, formulaTokenList==+ RANGE, ranges=[R1C1FormulaRange{relativeRange=G278457581!R[4]C[12], startTokenIndex=2, workbookRangeId=null}], computedValue=doub:49.215833333333336$$R[0]C[2]$userEnteredValue=empty$$R[0]C[3]$userEnteredValue=str:DASH in progress.$$R[1]C[-10]$userEnteredValue=doub:37196.0$$R[1]C[-9]$userEnteredValue=str:Whitewing$$R[1]C[-8]$userEnteredValue=str:$4.5MM DASHed$$R[1]C[-7]$userEnteredValue=str:N$$R[1]C[-6]$userEnteredValue=str:N/A$$R[1]C[-5]$userEnteredValue=str:EWS$$R[1]C[-4]$userEnteredValue=str:John Chappell$$R[1]C[-3]$userEnteredValue=str:Stephen Heck$$R[1]C[-2]$userEnteredValue=str:Sale in Process$$R[1]C[-1]$formula=RANGE UPLUS FORMULA_START, formulaTokenList==+ RANGE, ranges=[R1C1FormulaRange{relativeRange=G278457581!R[10]C[-17], startTokenIndex=2, workbookRangeId=null}], computedValue=doub:83.41666666666667$$R[1]C[0]$formula=RANGE UPLUS FORMULA_START, formulaTokenList==+ RANGE, ranges=[R1C1FormulaRange{relativeRange=G278457581!R[10]C[13], startTokenIndex=2, workbookRangeId=null}], computedValue=doub:54.220833333333346$$R[1]C[1]$formula=RANGE UPLUS FORMULA_START, formulaTokenList==+ RANGE, ranges=[R1C1FormulaRange{relativeRange=G278457581!R[11]C[12], startTokenIndex=2, workbookRangeId=null}], computedValue=doub:49.215833333333336$$R[1]C[2]$userEnteredValue=empty$$R[1]C[3]$userEnteredValue=str:DASH in progress.$$R[2]C[-10]$userEnteredValue=doub:37226.0$$R[2]C[-9]$userEnteredValue=str:Whitewing$$R[2]C[-8]$userEnteredValue=str:$4.5MM DASHed$$R[2]C[-7]$userEnteredValue=str:N$$R[2]C[-6]$userEnteredValue=str:N/A$$R[2]C[-5]$userEnteredValue=str:EWS$$R[2]C[-4]$userEnteredValue=str:John Chappell$$R[2]C[-3]$userEnteredValue=str:Stephen Heck$$R[2]C[-2]$userEnteredValue=str:Sale in Process$$R[2]C[-1]$formula=RANGE UPLUS FORMULA_START, formulaTokenList==+ RANGE, ranges=[R1C1FormulaRange{relativeRange=G278457581!R[17]C[-17], startTokenIndex=2, workbookRangeId=null}], computedValue=doub:83.41666666666667$$R[2]C[0]$formula=RANGE UPLUS FORMULA_START, formulaTokenList==+ RANGE, ranges=[R1C1FormulaRange{relativeRange=G278457581!R[17]C[13], startTokenIndex=2, workbookRangeId=null}], computedValue=doub:54.220833333333346$$R[2]C[1]$formula=RANGE UPLUS FORMULA_START, formulaTokenList==+ RANGE, ranges=[R1C1FormulaRange{relativeRange=G278457581!R[18]C[12], startTokenIndex=2, workbookRangeId=null}], computedValue=doub:49.215833333333336$$R[2]C[2]$userEnteredValue=empty$$R[2]C[3]$userEnteredValue=str:DASH in progress.$$R[3]C[-10]$userEnteredValue=doub:37135.0$$R[3]C[-9]$userEnteredValue=str:ENE B/S$$R[3]C[-8]$userEnteredValue=str:Approved$$R[3]C[-7]$userEnteredValue=str:N$$R[3]C[-6]$userEnteredValue=str:N/A$$R[3]C[-5]$userEnteredValue=str:EWS$$R[3]C[-4]$userEnteredValue=str:Dick Westfahl$$R[3]C[-3]$userEnteredValue=empty$$R[3]C[-2]$userEnteredValue=str:NEPCO / NESCO - Goldendale (EECC)$$R[3]C[-1]$formula=RANGE UPLUS FORMULA_START, formulaTokenList==+ RANGE, ranges=[R1C1FormulaRange{relativeRange=G278457581!R[32]C[-17], startTokenIndex=2, workbookRangeId=null}], computedValue=doub:36.24736$$R[3]C[0]$formula=RANGE UPLUS FORMULA_START, formulaTokenList==+ RANGE, ranges=[R1C1FormulaRange{relativeRange=G278457581!R[32]C[13], startTokenIndex=2, workbookRangeId=null}], computedValue=doub:35.613031199999995$$R[3]C[1]$formula=RANGE UPLUS FORMULA_START, formulaTokenList==+ RANGE, ranges=[R1C1FormulaRange{relativeRange=G278457581!R[33]C[12], startTokenIndex=2, workbookRangeId=null}], computedValue=doub:35.7036496$$R[3]C[2]$userEnteredValue=empty$$R[3]C[3]$userEnteredValue=str:Contract in the works, possible buyer$$R[4]C[-10]$userEnteredValue=str:Delivered$$R[4]C[-9]$userEnteredValue=str:West LB$$R[4]C[-8]$userEnteredValue=str:Analyzing$$R[4]C[-7]$userEnteredValue=str:N$$R[4]C[-6]$userEnteredValue=str:N/A$$R[4]C[-5]$userEnteredValue=str:EA$$R[4]C[-4]$userEnteredValue=empty$$R[4]C[-3]$userEnteredValue=empty$$R[4]C[-2]$userEnteredValue=str:Sale in Process$$R[4]C[-1]$formula=RANGE UPLUS FORMULA_START, formulaTokenList==+ RANGE, ranges=[R1C1FormulaRange{relativeRange=G278457581!R[111]C[-17], startTokenIndex=2, workbookRangeId=null}], computedValue=doub:17.25$$R[4]C[0]$formula=RANGE UPLUS FORMULA_START, formulaTokenList==+ RANGE, ranges=[R1C1FormulaRange{relativeRange=G278457581!R[111]C[13], startTokenIndex=2, workbookRangeId=null}], computedValue=doub:17.25$$R[4]C[1]$formula=RANGE UPLUS FORMULA_START, formulaTokenList==+ RANGE, ranges=[R1C1FormulaRange{relativeRange=G278457581!R[112]C[12], startTokenIndex=2, workbookRangeId=null}], computedValue=doub:17.25$$R[4]C[2]$userEnteredValue=empty$$R[4]C[3]$userEnteredValue=str:3 Potential buyers in Canada, no legitimate offer as of 1/25/01.$$R[5]C[-10]$userEnteredValue=str:Delivered$$R[5]C[-9]$userEnteredValue=str:West LB$$R[5]C[-8]$userEnteredValue=str:Analyzing$$R[5]C[-7]$userEnteredValue=str:N$$R[5]C[-6]$userEnteredValue=str:N/A$$R[5]C[-5]$userEnteredValue=str:EA$$R[5]C[-4]$userEnteredValue=empty$$R[5]C[-3]$userEnteredValue=empty$$R[5]C[-2]$userEnteredValue=str:Sale in Process$$R[5]C[-1]$formula=RANGE UPLUS FORMULA_START, formulaTokenList==+ RANGE, ranges=[R1C1FormulaRange{relativeRange=G278457581!R[118]C[-17], startTokenIndex=2, workbookRangeId=null}], computedValue=doub:17.25$$R[5]C[0]$formula=RANGE UPLUS FORMULA_START, formulaTokenList==+ RANGE, ranges=[R1C1FormulaRange{relativeRange=G278457581!R[118]C[13], startTokenIndex=2, workbookRangeId=null}], computedValue=doub:17.25$$R[5]C[1]$formula=RANGE UPLUS FORMULA_START, formulaTokenList==+ RANGE, ranges=[R1C1FormulaRange{relativeRange=G278457581!R[119]C[12], startTokenIndex=2, workbookRangeId=null}], computedValue=doub:17.25$$R[5]C[2]$userEnteredValue=empty$$R[5]C[3]$userEnteredValue=str:3 Potential buyers in Canada, no legitimate offer as of 1/25/01.$$R[6]C[-10]$userEnteredValue=str:being cleaned$$R[6]C[-9]$userEnteredValue=str:ENE B/S$$R[6]C[-8]$userEnteredValue=str:Analyzing$$R[6]C[-7]$userEnteredValue=str:N$$R[6]C[-6]$userEnteredValue=str:N/A$$R[6]C[-5]$userEnteredValue=str:EA$$R[6]C[-4]$userEnteredValue=str:David Fairley, Mathew Gimble$$R[6]C[-3]$userEnteredValue=empty$$R[6]C[-2]$userEnteredValue=str:Purchaser Identified$$R[6]C[-1]$formula=RANGE UPLUS FORMULA_START, formulaTokenList==+ RANGE, ranges=[R1C1FormulaRange{relativeRange=G278457581!R[21]C[-17], startTokenIndex=2, workbookRangeId=null}], computedValue=doub:24.506$$R[6]C[0]$formula=RANGE UPLUS FORMULA_START, formulaTokenList==+ RANGE, ranges=[R1C1FormulaRange{relativeRange=G278457581!R[21]C[13], startTokenIndex=2, workbookRangeId=null}], computedValue=doub:24.506000000000007$$R[6]C[1]$formula=RANGE UPLUS FORMULA_START, formulaTokenList==+ RANGE, ranges=[R1C1FormulaRange{relativeRange=G278457581!R[22]C[12], startTokenIndex=2, workbookRangeId=null}], computedValue=doub:24.506$$R[6]C[2]$userEnteredValue=str:CALME purchased turbine from ENA; turbine has not yet cleared customs;  generator incurred salt water damage while unloading$$R[6]C[3]$userEnteredValue=empty$$R[7]C[-10]$userEnteredValue=empty$$R[7]C[-9]$userEnteredValue=str:E-Next Generation$$R[7]C[-8]$userEnteredValue=str:$16.5MM on 2/16/01$$R[7]C[-7]$userEnteredValue=str:N$$R[7]C[-6]$userEnteredValue=str:N/A$$R[7]C[-5]$userEnteredValue=str:EA$$R[7]C[-4]$userEnteredValue=str:Jake Thomas/Laura Wente$$R[7]C[-3]$userEnteredValue=empty$$R[7]C[-2]$userEnteredValue=str:Columbia$$R[7]C[-1]$formula=RANGE FORMULA_START, formulaTokenList== RANGE, ranges=[R1C1FormulaRange{relativeRange=G278457581!R[100]C[-17], startTokenIndex=1, workbookRangeId=null}], computedValue=doub:39.2$$R[7]C[0]$formula=RANGE FORMULA_START, formulaTokenList== RANGE, ranges=[R1C1FormulaRange{relativeRange=G278457581!R[100]C[13], startTokenIndex=1, workbookRangeId=null}], computedValue=doub:6.272$$R[7]C[1]$formula=RANGE FORMULA_START, formulaTokenList== RANGE, ranges=[R1C1FormulaRange{relativeRange=G278457581!R[101]C[12], startTokenIndex=1, workbookRangeId=null}], computedValue=doub:4.704$$R[7]C[2]$userEnteredValue=empty$$R[7]C[3]$userEnteredValue=empty$$R[8]C[-10]$userEnteredValue=doub:37408.0$$R[8]C[-9]$userEnteredValue=str:West LB$$R[8]C[-8]$userEnteredValue=str:$2.5MM on 1/31/01$$R[8]C[-7]$userEnteredValue=str:N$$R[8]C[-6]$userEnteredValue=str:N/A$$R[8]C[-5]$userEnteredValue=str:EA$$R[8]C[-4]$userEnteredValue=empty$$R[8]C[-3]$userEnteredValue=empty$$R[8]C[-2]$userEnteredValue=str:Fort Pierce$$R[8]C[-1]$formula=RANGE UPLUS FORMULA_START, formulaTokenList==+ RANGE, ranges=[R1C1FormulaRange{relativeRange=G278457581!R[139]C[-17], startTokenIndex=2, workbookRangeId=null}], computedValue=doub:43.618$$R[8]C[0]$formula=RANGE UPLUS FORMULA_START, formulaTokenList==+ RANGE, ranges=[R1C1FormulaRange{relativeRange=G278457581!R[139]C[13], startTokenIndex=2, workbookRangeId=null}], computedValue=doub:34.894400000000005$$R[8]C[1]$formula=RANGE UPLUS FORMULA_START, formulaTokenList==+ RANGE, ranges=[R1C1FormulaRange{relativeRange=G278457581!R[140]C[12], startTokenIndex=2, workbookRangeId=null}], computedValue=doub:43.618$$R[8]C[2]$userEnteredValue=empty$$R[8]C[3]$userEnteredValue=empty$$R[9]C[-10]$userEnteredValue=doub:37591.0$$R[9]C[-9]$userEnteredValue=empty$$R[9]C[-8]$userEnteredValue=str:$4.2MM on 7/24/00$$R[9]C[-7]$userEnteredValue=str:N$$R[9]C[-6]$userEnteredValue=str:N/A$$R[9]C[-5]$userEnteredValue=str:EA$$R[9]C[-4]$userEnteredValue=str:Maurice Gilbert$$R[9]C[-3]$userEnteredValue=empty$$R[9]C[-2]$userEnteredValue=str:Las Vegas CoGen II$$R[9]C[-1]$formula=RANGE UPLUS FORMULA_START, formulaTokenList==+ RANGE, ranges=[R1C1FormulaRange{relativeRange=G278457581!R[34]C[-17], startTokenIndex=2, workbookRangeId=null}], computedValue=doub:15.769725$$R[9]C[0]$formula=RANGE UPLUS FORMULA_START, formulaTokenList==+ RANGE, ranges=[R1C1FormulaRange{relativeRange=G278457581!R[34]C[13], startTokenIndex=2, workbookRangeId=null}], computedValue=doub:3.94243125$$R[9]C[1]$formula=RANGE UPLUS FORMULA_START, formulaTokenList==+ RANGE, ranges=[R1C1FormulaRange{relativeRange=G278457581!R[35]C[12], startTokenIndex=2, workbookRangeId=null}], computedValue=doub:3.153945$$R[9]C[2]$userEnteredValue=empty$$R[9]C[3]$userEnteredValue=empty$$R[10]C[-10]$userEnteredValue=doub:37257.0$$R[10]C[-9]$userEnteredValue=empty$$R[10]C[-8]$userEnteredValue=str:$4.2MM on 7/24/00$$R[10]C[-7]$userEnteredValue=str:N$$R[10]C[-6]$userEnteredValue=str:N/A$$R[10]C[-5]$userEnteredValue=str:EA$$R[10]C[-4]$userEnteredValue=str:Maurice Gilbert$$R[10]C[-3]$userEnteredValue=empty$$R[10]C[-2]$userEnteredValue=str:Las Vegas CoGen II$$R[10]C[-1]$formula=RANGE UPLUS FORMULA_START, formulaTokenList==+ RANGE, ranges=[R1C1FormulaRange{relativeRange=G278457581!R[41]C[-17], startTokenIndex=2, workbookRangeId=null}], computedValue=doub:15.769725$$R[10]C[0]$formula=RANGE UPLUS FORMULA_START, formulaTokenList==+ RANGE, ranges=[R1C1FormulaRange{relativeRange=G278457581!R[41]C[13], startTokenIndex=2, workbookRangeId=null}], computedValue=doub:3.94243125$$R[10]C[1]$formula=RANGE UPLUS FORMULA_START, formulaTokenList==+ RANGE, ranges=[R1C1FormulaRange{relativeRange=G278457581!R[42]C[12], startTokenIndex=2, workbookRangeId=null}], computedValue=doub:3.153945$$R[10]C[2]$userEnteredValue=empty$$R[10]C[3]$userEnteredValue=empty$\\n\\xdd\\x02\\n\\x0econtext_header\\x12\\xca\\x02\\n\\xc7\\x02\\n\\xc4\\x02$C[-10]$Delivery Date$C[-9]$Owner$C[-8]$DASH\\nApproval\\nDate$C[-7]$Notice to Proceed Given$C[-6]$Status of Financing$C[-5]$Controlled By$C[-4]$Originator / Developer$C[-3]$Project Manager$C[-2]$Project Name$C[-1]$Contract Cost$C[0]$Contract Paid to Date\\n(Scheduled)$C[1]$\\nCancel-lation Payment$C[2]$Comments$C[3]$Status Update\\n\\'\\n\\x12formula_token_list\\x12\\x11\\n\\x0f\\n\\rb\\'= +  RANGE\\'\\n\"\\n\\x06ranges\\x12\\x18\\n\\x16\\n\\x14G278457581!R[3]C[13]\\n\\x15\\n\\x0crecord_index\\x12\\x05\\x1a\\x03\\n\\x01\\x01\\n\\x11\\n\\x08table_id\\x12\\x05\\x1a\\x03\\n\\x01\\x02\\n(\\n\\x07formula\\x12\\x1d\\n\\x1b\\n\\x19RANGE UPLUS FORMULA_START\\n\\x0e\\n\\x06doc_id\\x12\\x04\\n\\x02\\n\\x00'>\n",
            "<tf.Tensor: shape=(), dtype=string, numpy=b'\\n\\xc5b\\n\\x0e\\n\\x06doc_id\\x12\\x04\\n\\x02\\n\\x00\\n\\x12\\n\\tcol_index\\x12\\x05\\x1a\\x03\\n\\x01\\x15\\n\\xca\\x02\\n\\x0econtext_header\\x12\\xb7\\x02\\n\\xb4\\x02\\n\\xb1\\x02$C[-10]$Owner$C[-9]$DASH\\nApproval\\nDate$C[-8]$Notice to Proceed Given$C[-7]$Status of Financing$C[-6]$Controlled By$C[-5]$Originator / Developer$C[-4]$Project Manager$C[-3]$Project Name$C[-2]$Contract Cost$C[-1]$Contract Paid to Date\\n(Scheduled)$C[0]$\\nCancel-lation Payment$C[1]$Comments$C[2]$Status Update\\n\"\\n\\x06ranges\\x12\\x18\\n\\x16\\n\\x14G278457581!R[4]C[12]\\n\\'\\n\\x12formula_token_list\\x12\\x11\\n\\x0f\\n\\rb\\'= +  RANGE\\'\\n$\\n\\x06header\\x12\\x1a\\n\\x18\\n\\x16\\nCancel-lation Payment\\n(\\n\\x07formula\\x12\\x1d\\n\\x1b\\n\\x19RANGE UPLUS FORMULA_START\\n\\xdb]\\n\\x0ccontext_data\\x12\\xca]\\n\\xc7]\\n\\xc4]$R[-1]C[-10]$userEnteredValue=empty$$R[-1]C[-9]$userEnteredValue=empty$$R[-1]C[-8]$userEnteredValue=empty$$R[-1]C[-7]$userEnteredValue=empty$$R[-1]C[-6]$userEnteredValue=empty$$R[-1]C[-5]$userEnteredValue=empty$$R[-1]C[-4]$userEnteredValue=empty$$R[-1]C[-3]$userEnteredValue=empty$$R[-1]C[-2]$userEnteredValue=empty$$R[-1]C[-1]$userEnteredValue=empty$$R[-1]C[0]$userEnteredValue=empty$$R[-1]C[1]$userEnteredValue=empty$$R[-1]C[2]$userEnteredValue=empty$$R[0]C[-10]$userEnteredValue=str:Whitewing$$R[0]C[-9]$userEnteredValue=str:$4.5MM DASHed$$R[0]C[-8]$userEnteredValue=str:N$$R[0]C[-7]$userEnteredValue=str:N/A$$R[0]C[-6]$userEnteredValue=str:EWS$$R[0]C[-5]$userEnteredValue=str:John Chappell$$R[0]C[-4]$userEnteredValue=str:Stephen Heck$$R[0]C[-3]$userEnteredValue=str:Sale in Process$$R[0]C[-2]$formula=RANGE UPLUS FORMULA_START, formulaTokenList==+ RANGE, ranges=[R1C1FormulaRange{relativeRange=G278457581!R[3]C[-17], startTokenIndex=2, workbookRangeId=null}], computedValue=doub:83.41666666666667$$R[0]C[-1]$formula=RANGE UPLUS FORMULA_START, formulaTokenList==+ RANGE, ranges=[R1C1FormulaRange{relativeRange=G278457581!R[3]C[13], startTokenIndex=2, workbookRangeId=null}], computedValue=doub:54.220833333333346$$R[0]C[0]$formula=RANGE UPLUS FORMULA_START, formulaTokenList==+ RANGE, ranges=[R1C1FormulaRange{relativeRange=G278457581!R[4]C[12], startTokenIndex=2, workbookRangeId=null}], computedValue=doub:49.215833333333336$$R[0]C[1]$userEnteredValue=empty$$R[0]C[2]$userEnteredValue=str:DASH in progress.$$R[1]C[-10]$userEnteredValue=str:Whitewing$$R[1]C[-9]$userEnteredValue=str:$4.5MM DASHed$$R[1]C[-8]$userEnteredValue=str:N$$R[1]C[-7]$userEnteredValue=str:N/A$$R[1]C[-6]$userEnteredValue=str:EWS$$R[1]C[-5]$userEnteredValue=str:John Chappell$$R[1]C[-4]$userEnteredValue=str:Stephen Heck$$R[1]C[-3]$userEnteredValue=str:Sale in Process$$R[1]C[-2]$formula=RANGE UPLUS FORMULA_START, formulaTokenList==+ RANGE, ranges=[R1C1FormulaRange{relativeRange=G278457581!R[10]C[-17], startTokenIndex=2, workbookRangeId=null}], computedValue=doub:83.41666666666667$$R[1]C[-1]$formula=RANGE UPLUS FORMULA_START, formulaTokenList==+ RANGE, ranges=[R1C1FormulaRange{relativeRange=G278457581!R[10]C[13], startTokenIndex=2, workbookRangeId=null}], computedValue=doub:54.220833333333346$$R[1]C[0]$formula=RANGE UPLUS FORMULA_START, formulaTokenList==+ RANGE, ranges=[R1C1FormulaRange{relativeRange=G278457581!R[11]C[12], startTokenIndex=2, workbookRangeId=null}], computedValue=doub:49.215833333333336$$R[1]C[1]$userEnteredValue=empty$$R[1]C[2]$userEnteredValue=str:DASH in progress.$$R[2]C[-10]$userEnteredValue=str:Whitewing$$R[2]C[-9]$userEnteredValue=str:$4.5MM DASHed$$R[2]C[-8]$userEnteredValue=str:N$$R[2]C[-7]$userEnteredValue=str:N/A$$R[2]C[-6]$userEnteredValue=str:EWS$$R[2]C[-5]$userEnteredValue=str:John Chappell$$R[2]C[-4]$userEnteredValue=str:Stephen Heck$$R[2]C[-3]$userEnteredValue=str:Sale in Process$$R[2]C[-2]$formula=RANGE UPLUS FORMULA_START, formulaTokenList==+ RANGE, ranges=[R1C1FormulaRange{relativeRange=G278457581!R[17]C[-17], startTokenIndex=2, workbookRangeId=null}], computedValue=doub:83.41666666666667$$R[2]C[-1]$formula=RANGE UPLUS FORMULA_START, formulaTokenList==+ RANGE, ranges=[R1C1FormulaRange{relativeRange=G278457581!R[17]C[13], startTokenIndex=2, workbookRangeId=null}], computedValue=doub:54.220833333333346$$R[2]C[0]$formula=RANGE UPLUS FORMULA_START, formulaTokenList==+ RANGE, ranges=[R1C1FormulaRange{relativeRange=G278457581!R[18]C[12], startTokenIndex=2, workbookRangeId=null}], computedValue=doub:49.215833333333336$$R[2]C[1]$userEnteredValue=empty$$R[2]C[2]$userEnteredValue=str:DASH in progress.$$R[3]C[-10]$userEnteredValue=str:ENE B/S$$R[3]C[-9]$userEnteredValue=str:Approved$$R[3]C[-8]$userEnteredValue=str:N$$R[3]C[-7]$userEnteredValue=str:N/A$$R[3]C[-6]$userEnteredValue=str:EWS$$R[3]C[-5]$userEnteredValue=str:Dick Westfahl$$R[3]C[-4]$userEnteredValue=empty$$R[3]C[-3]$userEnteredValue=str:NEPCO / NESCO - Goldendale (EECC)$$R[3]C[-2]$formula=RANGE UPLUS FORMULA_START, formulaTokenList==+ RANGE, ranges=[R1C1FormulaRange{relativeRange=G278457581!R[32]C[-17], startTokenIndex=2, workbookRangeId=null}], computedValue=doub:36.24736$$R[3]C[-1]$formula=RANGE UPLUS FORMULA_START, formulaTokenList==+ RANGE, ranges=[R1C1FormulaRange{relativeRange=G278457581!R[32]C[13], startTokenIndex=2, workbookRangeId=null}], computedValue=doub:35.613031199999995$$R[3]C[0]$formula=RANGE UPLUS FORMULA_START, formulaTokenList==+ RANGE, ranges=[R1C1FormulaRange{relativeRange=G278457581!R[33]C[12], startTokenIndex=2, workbookRangeId=null}], computedValue=doub:35.7036496$$R[3]C[1]$userEnteredValue=empty$$R[3]C[2]$userEnteredValue=str:Contract in the works, possible buyer$$R[4]C[-10]$userEnteredValue=str:West LB$$R[4]C[-9]$userEnteredValue=str:Analyzing$$R[4]C[-8]$userEnteredValue=str:N$$R[4]C[-7]$userEnteredValue=str:N/A$$R[4]C[-6]$userEnteredValue=str:EA$$R[4]C[-5]$userEnteredValue=empty$$R[4]C[-4]$userEnteredValue=empty$$R[4]C[-3]$userEnteredValue=str:Sale in Process$$R[4]C[-2]$formula=RANGE UPLUS FORMULA_START, formulaTokenList==+ RANGE, ranges=[R1C1FormulaRange{relativeRange=G278457581!R[111]C[-17], startTokenIndex=2, workbookRangeId=null}], computedValue=doub:17.25$$R[4]C[-1]$formula=RANGE UPLUS FORMULA_START, formulaTokenList==+ RANGE, ranges=[R1C1FormulaRange{relativeRange=G278457581!R[111]C[13], startTokenIndex=2, workbookRangeId=null}], computedValue=doub:17.25$$R[4]C[0]$formula=RANGE UPLUS FORMULA_START, formulaTokenList==+ RANGE, ranges=[R1C1FormulaRange{relativeRange=G278457581!R[112]C[12], startTokenIndex=2, workbookRangeId=null}], computedValue=doub:17.25$$R[4]C[1]$userEnteredValue=empty$$R[4]C[2]$userEnteredValue=str:3 Potential buyers in Canada, no legitimate offer as of 1/25/01.$$R[5]C[-10]$userEnteredValue=str:West LB$$R[5]C[-9]$userEnteredValue=str:Analyzing$$R[5]C[-8]$userEnteredValue=str:N$$R[5]C[-7]$userEnteredValue=str:N/A$$R[5]C[-6]$userEnteredValue=str:EA$$R[5]C[-5]$userEnteredValue=empty$$R[5]C[-4]$userEnteredValue=empty$$R[5]C[-3]$userEnteredValue=str:Sale in Process$$R[5]C[-2]$formula=RANGE UPLUS FORMULA_START, formulaTokenList==+ RANGE, ranges=[R1C1FormulaRange{relativeRange=G278457581!R[118]C[-17], startTokenIndex=2, workbookRangeId=null}], computedValue=doub:17.25$$R[5]C[-1]$formula=RANGE UPLUS FORMULA_START, formulaTokenList==+ RANGE, ranges=[R1C1FormulaRange{relativeRange=G278457581!R[118]C[13], startTokenIndex=2, workbookRangeId=null}], computedValue=doub:17.25$$R[5]C[0]$formula=RANGE UPLUS FORMULA_START, formulaTokenList==+ RANGE, ranges=[R1C1FormulaRange{relativeRange=G278457581!R[119]C[12], startTokenIndex=2, workbookRangeId=null}], computedValue=doub:17.25$$R[5]C[1]$userEnteredValue=empty$$R[5]C[2]$userEnteredValue=str:3 Potential buyers in Canada, no legitimate offer as of 1/25/01.$$R[6]C[-10]$userEnteredValue=str:ENE B/S$$R[6]C[-9]$userEnteredValue=str:Analyzing$$R[6]C[-8]$userEnteredValue=str:N$$R[6]C[-7]$userEnteredValue=str:N/A$$R[6]C[-6]$userEnteredValue=str:EA$$R[6]C[-5]$userEnteredValue=str:David Fairley, Mathew Gimble$$R[6]C[-4]$userEnteredValue=empty$$R[6]C[-3]$userEnteredValue=str:Purchaser Identified$$R[6]C[-2]$formula=RANGE UPLUS FORMULA_START, formulaTokenList==+ RANGE, ranges=[R1C1FormulaRange{relativeRange=G278457581!R[21]C[-17], startTokenIndex=2, workbookRangeId=null}], computedValue=doub:24.506$$R[6]C[-1]$formula=RANGE UPLUS FORMULA_START, formulaTokenList==+ RANGE, ranges=[R1C1FormulaRange{relativeRange=G278457581!R[21]C[13], startTokenIndex=2, workbookRangeId=null}], computedValue=doub:24.506000000000007$$R[6]C[0]$formula=RANGE UPLUS FORMULA_START, formulaTokenList==+ RANGE, ranges=[R1C1FormulaRange{relativeRange=G278457581!R[22]C[12], startTokenIndex=2, workbookRangeId=null}], computedValue=doub:24.506$$R[6]C[1]$userEnteredValue=str:CALME purchased turbine from ENA; turbine has not yet cleared customs;  generator incurred salt water damage while unloading$$R[6]C[2]$userEnteredValue=empty$$R[7]C[-10]$userEnteredValue=str:E-Next Generation$$R[7]C[-9]$userEnteredValue=str:$16.5MM on 2/16/01$$R[7]C[-8]$userEnteredValue=str:N$$R[7]C[-7]$userEnteredValue=str:N/A$$R[7]C[-6]$userEnteredValue=str:EA$$R[7]C[-5]$userEnteredValue=str:Jake Thomas/Laura Wente$$R[7]C[-4]$userEnteredValue=empty$$R[7]C[-3]$userEnteredValue=str:Columbia$$R[7]C[-2]$formula=RANGE FORMULA_START, formulaTokenList== RANGE, ranges=[R1C1FormulaRange{relativeRange=G278457581!R[100]C[-17], startTokenIndex=1, workbookRangeId=null}], computedValue=doub:39.2$$R[7]C[-1]$formula=RANGE FORMULA_START, formulaTokenList== RANGE, ranges=[R1C1FormulaRange{relativeRange=G278457581!R[100]C[13], startTokenIndex=1, workbookRangeId=null}], computedValue=doub:6.272$$R[7]C[0]$formula=RANGE FORMULA_START, formulaTokenList== RANGE, ranges=[R1C1FormulaRange{relativeRange=G278457581!R[101]C[12], startTokenIndex=1, workbookRangeId=null}], computedValue=doub:4.704$$R[7]C[1]$userEnteredValue=empty$$R[7]C[2]$userEnteredValue=empty$$R[8]C[-10]$userEnteredValue=str:West LB$$R[8]C[-9]$userEnteredValue=str:$2.5MM on 1/31/01$$R[8]C[-8]$userEnteredValue=str:N$$R[8]C[-7]$userEnteredValue=str:N/A$$R[8]C[-6]$userEnteredValue=str:EA$$R[8]C[-5]$userEnteredValue=empty$$R[8]C[-4]$userEnteredValue=empty$$R[8]C[-3]$userEnteredValue=str:Fort Pierce$$R[8]C[-2]$formula=RANGE UPLUS FORMULA_START, formulaTokenList==+ RANGE, ranges=[R1C1FormulaRange{relativeRange=G278457581!R[139]C[-17], startTokenIndex=2, workbookRangeId=null}], computedValue=doub:43.618$$R[8]C[-1]$formula=RANGE UPLUS FORMULA_START, formulaTokenList==+ RANGE, ranges=[R1C1FormulaRange{relativeRange=G278457581!R[139]C[13], startTokenIndex=2, workbookRangeId=null}], computedValue=doub:34.894400000000005$$R[8]C[0]$formula=RANGE UPLUS FORMULA_START, formulaTokenList==+ RANGE, ranges=[R1C1FormulaRange{relativeRange=G278457581!R[140]C[12], startTokenIndex=2, workbookRangeId=null}], computedValue=doub:43.618$$R[8]C[1]$userEnteredValue=empty$$R[8]C[2]$userEnteredValue=empty$$R[9]C[-10]$userEnteredValue=empty$$R[9]C[-9]$userEnteredValue=str:$4.2MM on 7/24/00$$R[9]C[-8]$userEnteredValue=str:N$$R[9]C[-7]$userEnteredValue=str:N/A$$R[9]C[-6]$userEnteredValue=str:EA$$R[9]C[-5]$userEnteredValue=str:Maurice Gilbert$$R[9]C[-4]$userEnteredValue=empty$$R[9]C[-3]$userEnteredValue=str:Las Vegas CoGen II$$R[9]C[-2]$formula=RANGE UPLUS FORMULA_START, formulaTokenList==+ RANGE, ranges=[R1C1FormulaRange{relativeRange=G278457581!R[34]C[-17], startTokenIndex=2, workbookRangeId=null}], computedValue=doub:15.769725$$R[9]C[-1]$formula=RANGE UPLUS FORMULA_START, formulaTokenList==+ RANGE, ranges=[R1C1FormulaRange{relativeRange=G278457581!R[34]C[13], startTokenIndex=2, workbookRangeId=null}], computedValue=doub:3.94243125$$R[9]C[0]$formula=RANGE UPLUS FORMULA_START, formulaTokenList==+ RANGE, ranges=[R1C1FormulaRange{relativeRange=G278457581!R[35]C[12], startTokenIndex=2, workbookRangeId=null}], computedValue=doub:3.153945$$R[9]C[1]$userEnteredValue=empty$$R[9]C[2]$userEnteredValue=empty$$R[10]C[-10]$userEnteredValue=empty$$R[10]C[-9]$userEnteredValue=str:$4.2MM on 7/24/00$$R[10]C[-8]$userEnteredValue=str:N$$R[10]C[-7]$userEnteredValue=str:N/A$$R[10]C[-6]$userEnteredValue=str:EA$$R[10]C[-5]$userEnteredValue=str:Maurice Gilbert$$R[10]C[-4]$userEnteredValue=empty$$R[10]C[-3]$userEnteredValue=str:Las Vegas CoGen II$$R[10]C[-2]$formula=RANGE UPLUS FORMULA_START, formulaTokenList==+ RANGE, ranges=[R1C1FormulaRange{relativeRange=G278457581!R[41]C[-17], startTokenIndex=2, workbookRangeId=null}], computedValue=doub:15.769725$$R[10]C[-1]$formula=RANGE UPLUS FORMULA_START, formulaTokenList==+ RANGE, ranges=[R1C1FormulaRange{relativeRange=G278457581!R[41]C[13], startTokenIndex=2, workbookRangeId=null}], computedValue=doub:3.94243125$$R[10]C[0]$formula=RANGE UPLUS FORMULA_START, formulaTokenList==+ RANGE, ranges=[R1C1FormulaRange{relativeRange=G278457581!R[42]C[12], startTokenIndex=2, workbookRangeId=null}], computedValue=doub:3.153945$$R[10]C[1]$userEnteredValue=empty$$R[10]C[2]$userEnteredValue=empty$\\n\\x11\\n\\x08table_id\\x12\\x05\\x1a\\x03\\n\\x01\\x02\\n\\x15\\n\\x0crecord_index\\x12\\x05\\x1a\\x03\\n\\x01\\x01\\n-\\n\\x0ecomputed_value\\x12\\x1b\\n\\x19\\n\\x17doub:49.215833333333336'>\n"
          ]
        }
      ]
    },
    {
      "cell_type": "code",
      "metadata": {
        "colab": {
          "base_uri": "https://localhost:8080/"
        },
        "id": "Uyd7VSL6MANW",
        "outputId": "a3a2815a-eb7a-4e26-edef-60e625f8e2d2"
      },
      "source": [
        "# Create a description of the features.\n",
        "feature_description = {\n",
        "    'table_id': tf.io.FixedLenFeature([], tf.int64),\n",
        "    'doc_id': tf.io.FixedLenFeature([], tf.string),\n",
        "    'record_index': tf.io.FixedLenFeature([], tf.int64),\n",
        "    'col_index': tf.io.FixedLenFeature([], tf.int64),\n",
        "    'formula': tf.io.FixedLenFeature([], tf.string),\n",
        "    'formula_token_list': tf.io.FixedLenFeature([], tf.string),\n",
        "    'ranges': tf.io.FixedLenFeature([], tf.string),\n",
        "    'computed_value': tf.io.FixedLenFeature([], tf.string),\n",
        "    'header': tf.io.FixedLenFeature([], tf.string),\n",
        "    'context_header': tf.io.FixedLenFeature([], tf.string),\n",
        "    'context_data': tf.io.FixedLenFeature([], tf.string)\n",
        "}\n",
        "\n",
        "def _parse_example(example_proto):\n",
        "  # Parse the input `tf.train.Example` proto using the dictionary above.\n",
        "  return tf.io.parse_single_example(example_proto, feature_description)\n",
        "\n",
        "parsed_dataset = raw_dataset.map(_parse_example)\n",
        "\n",
        "parsed_dataset"
      ],
      "execution_count": 17,
      "outputs": [
        {
          "output_type": "execute_result",
          "data": {
            "text/plain": [
              "<MapDataset shapes: {col_index: (), computed_value: (), context_data: (), context_header: (), doc_id: (), formula: (), formula_token_list: (), header: (), ranges: (), record_index: (), table_id: ()}, types: {col_index: tf.int64, computed_value: tf.string, context_data: tf.string, context_header: tf.string, doc_id: tf.string, formula: tf.string, formula_token_list: tf.string, header: tf.string, ranges: tf.string, record_index: tf.int64, table_id: tf.int64}>"
            ]
          },
          "metadata": {},
          "execution_count": 17
        }
      ]
    },
    {
      "cell_type": "code",
      "metadata": {
        "colab": {
          "base_uri": "https://localhost:8080/"
        },
        "id": "R7VRu9ONF1NW",
        "outputId": "875ab6d3-260d-4b2f-9099-51551dec2ff6"
      },
      "source": [
        "# Show the first 3 observations in datasets.\n",
        "for parsed_record in parsed_dataset.take(3):\n",
        "  print(repr(parsed_record))"
      ],
      "execution_count": 18,
      "outputs": [
        {
          "output_type": "stream",
          "name": "stdout",
          "text": [
            "{'col_index': <tf.Tensor: shape=(), dtype=int64, numpy=19>, 'computed_value': <tf.Tensor: shape=(), dtype=string, numpy=b'doub:83.41666666666667'>, 'context_data': <tf.Tensor: shape=(), dtype=string, numpy=b'$R[-1]C[-10]$userEnteredValue=empty$$R[-1]C[-9]$userEnteredValue=empty$$R[-1]C[-8]$userEnteredValue=empty$$R[-1]C[-7]$userEnteredValue=empty$$R[-1]C[-6]$userEnteredValue=empty$$R[-1]C[-5]$userEnteredValue=empty$$R[-1]C[-4]$userEnteredValue=empty$$R[-1]C[-3]$userEnteredValue=empty$$R[-1]C[-2]$userEnteredValue=empty$$R[-1]C[-1]$userEnteredValue=empty$$R[-1]C[0]$userEnteredValue=empty$$R[-1]C[1]$userEnteredValue=empty$$R[-1]C[2]$userEnteredValue=empty$$R[-1]C[3]$userEnteredValue=empty$$R[-1]C[4]$userEnteredValue=empty$$R[0]C[-10]$userEnteredValue=str:New$$R[0]C[-9]$userEnteredValue=doub:37165.0$$R[0]C[-8]$userEnteredValue=str:Whitewing$$R[0]C[-7]$userEnteredValue=str:$4.5MM DASHed$$R[0]C[-6]$userEnteredValue=str:N$$R[0]C[-5]$userEnteredValue=str:N/A$$R[0]C[-4]$userEnteredValue=str:EWS$$R[0]C[-3]$userEnteredValue=str:John Chappell$$R[0]C[-2]$userEnteredValue=str:Stephen Heck$$R[0]C[-1]$userEnteredValue=str:Sale in Process$$R[0]C[0]$formula=RANGE UPLUS FORMULA_START, formulaTokenList==+ RANGE, ranges=[R1C1FormulaRange{relativeRange=G278457581!R[3]C[-17], startTokenIndex=2, workbookRangeId=null}], computedValue=doub:83.41666666666667$$R[0]C[1]$formula=RANGE UPLUS FORMULA_START, formulaTokenList==+ RANGE, ranges=[R1C1FormulaRange{relativeRange=G278457581!R[3]C[13], startTokenIndex=2, workbookRangeId=null}], computedValue=doub:54.220833333333346$$R[0]C[2]$formula=RANGE UPLUS FORMULA_START, formulaTokenList==+ RANGE, ranges=[R1C1FormulaRange{relativeRange=G278457581!R[4]C[12], startTokenIndex=2, workbookRangeId=null}], computedValue=doub:49.215833333333336$$R[0]C[3]$userEnteredValue=empty$$R[0]C[4]$userEnteredValue=str:DASH in progress.$$R[1]C[-10]$userEnteredValue=str:New$$R[1]C[-9]$userEnteredValue=doub:37196.0$$R[1]C[-8]$userEnteredValue=str:Whitewing$$R[1]C[-7]$userEnteredValue=str:$4.5MM DASHed$$R[1]C[-6]$userEnteredValue=str:N$$R[1]C[-5]$userEnteredValue=str:N/A$$R[1]C[-4]$userEnteredValue=str:EWS$$R[1]C[-3]$userEnteredValue=str:John Chappell$$R[1]C[-2]$userEnteredValue=str:Stephen Heck$$R[1]C[-1]$userEnteredValue=str:Sale in Process$$R[1]C[0]$formula=RANGE UPLUS FORMULA_START, formulaTokenList==+ RANGE, ranges=[R1C1FormulaRange{relativeRange=G278457581!R[10]C[-17], startTokenIndex=2, workbookRangeId=null}], computedValue=doub:83.41666666666667$$R[1]C[1]$formula=RANGE UPLUS FORMULA_START, formulaTokenList==+ RANGE, ranges=[R1C1FormulaRange{relativeRange=G278457581!R[10]C[13], startTokenIndex=2, workbookRangeId=null}], computedValue=doub:54.220833333333346$$R[1]C[2]$formula=RANGE UPLUS FORMULA_START, formulaTokenList==+ RANGE, ranges=[R1C1FormulaRange{relativeRange=G278457581!R[11]C[12], startTokenIndex=2, workbookRangeId=null}], computedValue=doub:49.215833333333336$$R[1]C[3]$userEnteredValue=empty$$R[1]C[4]$userEnteredValue=str:DASH in progress.$$R[2]C[-10]$userEnteredValue=str:New$$R[2]C[-9]$userEnteredValue=doub:37226.0$$R[2]C[-8]$userEnteredValue=str:Whitewing$$R[2]C[-7]$userEnteredValue=str:$4.5MM DASHed$$R[2]C[-6]$userEnteredValue=str:N$$R[2]C[-5]$userEnteredValue=str:N/A$$R[2]C[-4]$userEnteredValue=str:EWS$$R[2]C[-3]$userEnteredValue=str:John Chappell$$R[2]C[-2]$userEnteredValue=str:Stephen Heck$$R[2]C[-1]$userEnteredValue=str:Sale in Process$$R[2]C[0]$formula=RANGE UPLUS FORMULA_START, formulaTokenList==+ RANGE, ranges=[R1C1FormulaRange{relativeRange=G278457581!R[17]C[-17], startTokenIndex=2, workbookRangeId=null}], computedValue=doub:83.41666666666667$$R[2]C[1]$formula=RANGE UPLUS FORMULA_START, formulaTokenList==+ RANGE, ranges=[R1C1FormulaRange{relativeRange=G278457581!R[17]C[13], startTokenIndex=2, workbookRangeId=null}], computedValue=doub:54.220833333333346$$R[2]C[2]$formula=RANGE UPLUS FORMULA_START, formulaTokenList==+ RANGE, ranges=[R1C1FormulaRange{relativeRange=G278457581!R[18]C[12], startTokenIndex=2, workbookRangeId=null}], computedValue=doub:49.215833333333336$$R[2]C[3]$userEnteredValue=empty$$R[2]C[4]$userEnteredValue=str:DASH in progress.$$R[3]C[-10]$userEnteredValue=str:New$$R[3]C[-9]$userEnteredValue=doub:37135.0$$R[3]C[-8]$userEnteredValue=str:ENE B/S$$R[3]C[-7]$userEnteredValue=str:Approved$$R[3]C[-6]$userEnteredValue=str:N$$R[3]C[-5]$userEnteredValue=str:N/A$$R[3]C[-4]$userEnteredValue=str:EWS$$R[3]C[-3]$userEnteredValue=str:Dick Westfahl$$R[3]C[-2]$userEnteredValue=empty$$R[3]C[-1]$userEnteredValue=str:NEPCO / NESCO - Goldendale (EECC)$$R[3]C[0]$formula=RANGE UPLUS FORMULA_START, formulaTokenList==+ RANGE, ranges=[R1C1FormulaRange{relativeRange=G278457581!R[32]C[-17], startTokenIndex=2, workbookRangeId=null}], computedValue=doub:36.24736$$R[3]C[1]$formula=RANGE UPLUS FORMULA_START, formulaTokenList==+ RANGE, ranges=[R1C1FormulaRange{relativeRange=G278457581!R[32]C[13], startTokenIndex=2, workbookRangeId=null}], computedValue=doub:35.613031199999995$$R[3]C[2]$formula=RANGE UPLUS FORMULA_START, formulaTokenList==+ RANGE, ranges=[R1C1FormulaRange{relativeRange=G278457581!R[33]C[12], startTokenIndex=2, workbookRangeId=null}], computedValue=doub:35.7036496$$R[3]C[3]$userEnteredValue=empty$$R[3]C[4]$userEnteredValue=str:Contract in the works, possible buyer$$R[4]C[-10]$userEnteredValue=str:Used$$R[4]C[-9]$userEnteredValue=str:Delivered$$R[4]C[-8]$userEnteredValue=str:West LB$$R[4]C[-7]$userEnteredValue=str:Analyzing$$R[4]C[-6]$userEnteredValue=str:N$$R[4]C[-5]$userEnteredValue=str:N/A$$R[4]C[-4]$userEnteredValue=str:EA$$R[4]C[-3]$userEnteredValue=empty$$R[4]C[-2]$userEnteredValue=empty$$R[4]C[-1]$userEnteredValue=str:Sale in Process$$R[4]C[0]$formula=RANGE UPLUS FORMULA_START, formulaTokenList==+ RANGE, ranges=[R1C1FormulaRange{relativeRange=G278457581!R[111]C[-17], startTokenIndex=2, workbookRangeId=null}], computedValue=doub:17.25$$R[4]C[1]$formula=RANGE UPLUS FORMULA_START, formulaTokenList==+ RANGE, ranges=[R1C1FormulaRange{relativeRange=G278457581!R[111]C[13], startTokenIndex=2, workbookRangeId=null}], computedValue=doub:17.25$$R[4]C[2]$formula=RANGE UPLUS FORMULA_START, formulaTokenList==+ RANGE, ranges=[R1C1FormulaRange{relativeRange=G278457581!R[112]C[12], startTokenIndex=2, workbookRangeId=null}], computedValue=doub:17.25$$R[4]C[3]$userEnteredValue=empty$$R[4]C[4]$userEnteredValue=str:3 Potential buyers in Canada, no legitimate offer as of 1/25/01.$$R[5]C[-10]$userEnteredValue=str:Used$$R[5]C[-9]$userEnteredValue=str:Delivered$$R[5]C[-8]$userEnteredValue=str:West LB$$R[5]C[-7]$userEnteredValue=str:Analyzing$$R[5]C[-6]$userEnteredValue=str:N$$R[5]C[-5]$userEnteredValue=str:N/A$$R[5]C[-4]$userEnteredValue=str:EA$$R[5]C[-3]$userEnteredValue=empty$$R[5]C[-2]$userEnteredValue=empty$$R[5]C[-1]$userEnteredValue=str:Sale in Process$$R[5]C[0]$formula=RANGE UPLUS FORMULA_START, formulaTokenList==+ RANGE, ranges=[R1C1FormulaRange{relativeRange=G278457581!R[118]C[-17], startTokenIndex=2, workbookRangeId=null}], computedValue=doub:17.25$$R[5]C[1]$formula=RANGE UPLUS FORMULA_START, formulaTokenList==+ RANGE, ranges=[R1C1FormulaRange{relativeRange=G278457581!R[118]C[13], startTokenIndex=2, workbookRangeId=null}], computedValue=doub:17.25$$R[5]C[2]$formula=RANGE UPLUS FORMULA_START, formulaTokenList==+ RANGE, ranges=[R1C1FormulaRange{relativeRange=G278457581!R[119]C[12], startTokenIndex=2, workbookRangeId=null}], computedValue=doub:17.25$$R[5]C[3]$userEnteredValue=empty$$R[5]C[4]$userEnteredValue=str:3 Potential buyers in Canada, no legitimate offer as of 1/25/01.$$R[6]C[-10]$userEnteredValue=str:New$$R[6]C[-9]$userEnteredValue=str:being cleaned$$R[6]C[-8]$userEnteredValue=str:ENE B/S$$R[6]C[-7]$userEnteredValue=str:Analyzing$$R[6]C[-6]$userEnteredValue=str:N$$R[6]C[-5]$userEnteredValue=str:N/A$$R[6]C[-4]$userEnteredValue=str:EA$$R[6]C[-3]$userEnteredValue=str:David Fairley, Mathew Gimble$$R[6]C[-2]$userEnteredValue=empty$$R[6]C[-1]$userEnteredValue=str:Purchaser Identified$$R[6]C[0]$formula=RANGE UPLUS FORMULA_START, formulaTokenList==+ RANGE, ranges=[R1C1FormulaRange{relativeRange=G278457581!R[21]C[-17], startTokenIndex=2, workbookRangeId=null}], computedValue=doub:24.506$$R[6]C[1]$formula=RANGE UPLUS FORMULA_START, formulaTokenList==+ RANGE, ranges=[R1C1FormulaRange{relativeRange=G278457581!R[21]C[13], startTokenIndex=2, workbookRangeId=null}], computedValue=doub:24.506000000000007$$R[6]C[2]$formula=RANGE UPLUS FORMULA_START, formulaTokenList==+ RANGE, ranges=[R1C1FormulaRange{relativeRange=G278457581!R[22]C[12], startTokenIndex=2, workbookRangeId=null}], computedValue=doub:24.506$$R[6]C[3]$userEnteredValue=str:CALME purchased turbine from ENA; turbine has not yet cleared customs;  generator incurred salt water damage while unloading$$R[6]C[4]$userEnteredValue=empty$$R[7]C[-10]$userEnteredValue=empty$$R[7]C[-9]$userEnteredValue=empty$$R[7]C[-8]$userEnteredValue=str:E-Next Generation$$R[7]C[-7]$userEnteredValue=str:$16.5MM on 2/16/01$$R[7]C[-6]$userEnteredValue=str:N$$R[7]C[-5]$userEnteredValue=str:N/A$$R[7]C[-4]$userEnteredValue=str:EA$$R[7]C[-3]$userEnteredValue=str:Jake Thomas/Laura Wente$$R[7]C[-2]$userEnteredValue=empty$$R[7]C[-1]$userEnteredValue=str:Columbia$$R[7]C[0]$formula=RANGE FORMULA_START, formulaTokenList== RANGE, ranges=[R1C1FormulaRange{relativeRange=G278457581!R[100]C[-17], startTokenIndex=1, workbookRangeId=null}], computedValue=doub:39.2$$R[7]C[1]$formula=RANGE FORMULA_START, formulaTokenList== RANGE, ranges=[R1C1FormulaRange{relativeRange=G278457581!R[100]C[13], startTokenIndex=1, workbookRangeId=null}], computedValue=doub:6.272$$R[7]C[2]$formula=RANGE FORMULA_START, formulaTokenList== RANGE, ranges=[R1C1FormulaRange{relativeRange=G278457581!R[101]C[12], startTokenIndex=1, workbookRangeId=null}], computedValue=doub:4.704$$R[7]C[3]$userEnteredValue=empty$$R[7]C[4]$userEnteredValue=empty$$R[8]C[-10]$userEnteredValue=str:New$$R[8]C[-9]$userEnteredValue=doub:37408.0$$R[8]C[-8]$userEnteredValue=str:West LB$$R[8]C[-7]$userEnteredValue=str:$2.5MM on 1/31/01$$R[8]C[-6]$userEnteredValue=str:N$$R[8]C[-5]$userEnteredValue=str:N/A$$R[8]C[-4]$userEnteredValue=str:EA$$R[8]C[-3]$userEnteredValue=empty$$R[8]C[-2]$userEnteredValue=empty$$R[8]C[-1]$userEnteredValue=str:Fort Pierce$$R[8]C[0]$formula=RANGE UPLUS FORMULA_START, formulaTokenList==+ RANGE, ranges=[R1C1FormulaRange{relativeRange=G278457581!R[139]C[-17], startTokenIndex=2, workbookRangeId=null}], computedValue=doub:43.618$$R[8]C[1]$formula=RANGE UPLUS FORMULA_START, formulaTokenList==+ RANGE, ranges=[R1C1FormulaRange{relativeRange=G278457581!R[139]C[13], startTokenIndex=2, workbookRangeId=null}], computedValue=doub:34.894400000000005$$R[8]C[2]$formula=RANGE UPLUS FORMULA_START, formulaTokenList==+ RANGE, ranges=[R1C1FormulaRange{relativeRange=G278457581!R[140]C[12], startTokenIndex=2, workbookRangeId=null}], computedValue=doub:43.618$$R[8]C[3]$userEnteredValue=empty$$R[8]C[4]$userEnteredValue=empty$$R[9]C[-10]$userEnteredValue=str:New$$R[9]C[-9]$userEnteredValue=doub:37591.0$$R[9]C[-8]$userEnteredValue=empty$$R[9]C[-7]$userEnteredValue=str:$4.2MM on 7/24/00$$R[9]C[-6]$userEnteredValue=str:N$$R[9]C[-5]$userEnteredValue=str:N/A$$R[9]C[-4]$userEnteredValue=str:EA$$R[9]C[-3]$userEnteredValue=str:Maurice Gilbert$$R[9]C[-2]$userEnteredValue=empty$$R[9]C[-1]$userEnteredValue=str:Las Vegas CoGen II$$R[9]C[0]$formula=RANGE UPLUS FORMULA_START, formulaTokenList==+ RANGE, ranges=[R1C1FormulaRange{relativeRange=G278457581!R[34]C[-17], startTokenIndex=2, workbookRangeId=null}], computedValue=doub:15.769725$$R[9]C[1]$formula=RANGE UPLUS FORMULA_START, formulaTokenList==+ RANGE, ranges=[R1C1FormulaRange{relativeRange=G278457581!R[34]C[13], startTokenIndex=2, workbookRangeId=null}], computedValue=doub:3.94243125$$R[9]C[2]$formula=RANGE UPLUS FORMULA_START, formulaTokenList==+ RANGE, ranges=[R1C1FormulaRange{relativeRange=G278457581!R[35]C[12], startTokenIndex=2, workbookRangeId=null}], computedValue=doub:3.153945$$R[9]C[3]$userEnteredValue=empty$$R[9]C[4]$userEnteredValue=empty$$R[10]C[-10]$userEnteredValue=str:New$$R[10]C[-9]$userEnteredValue=doub:37257.0$$R[10]C[-8]$userEnteredValue=empty$$R[10]C[-7]$userEnteredValue=str:$4.2MM on 7/24/00$$R[10]C[-6]$userEnteredValue=str:N$$R[10]C[-5]$userEnteredValue=str:N/A$$R[10]C[-4]$userEnteredValue=str:EA$$R[10]C[-3]$userEnteredValue=str:Maurice Gilbert$$R[10]C[-2]$userEnteredValue=empty$$R[10]C[-1]$userEnteredValue=str:Las Vegas CoGen II$$R[10]C[0]$formula=RANGE UPLUS FORMULA_START, formulaTokenList==+ RANGE, ranges=[R1C1FormulaRange{relativeRange=G278457581!R[41]C[-17], startTokenIndex=2, workbookRangeId=null}], computedValue=doub:15.769725$$R[10]C[1]$formula=RANGE UPLUS FORMULA_START, formulaTokenList==+ RANGE, ranges=[R1C1FormulaRange{relativeRange=G278457581!R[41]C[13], startTokenIndex=2, workbookRangeId=null}], computedValue=doub:3.94243125$$R[10]C[2]$formula=RANGE UPLUS FORMULA_START, formulaTokenList==+ RANGE, ranges=[R1C1FormulaRange{relativeRange=G278457581!R[42]C[12], startTokenIndex=2, workbookRangeId=null}], computedValue=doub:3.153945$$R[10]C[3]$userEnteredValue=empty$$R[10]C[4]$userEnteredValue=empty$'>, 'context_header': <tf.Tensor: shape=(), dtype=string, numpy=b'$C[-10]$New/Used$C[-9]$Delivery Date$C[-8]$Owner$C[-7]$DASH\\nApproval\\nDate$C[-6]$Notice to Proceed Given$C[-5]$Status of Financing$C[-4]$Controlled By$C[-3]$Originator / Developer$C[-2]$Project Manager$C[-1]$Project Name$C[0]$Contract Cost$C[1]$Contract Paid to Date\\n(Scheduled)$C[2]$\\nCancel-lation Payment$C[3]$Comments$C[4]$Status Update'>, 'doc_id': <tf.Tensor: shape=(), dtype=string, numpy=b''>, 'formula': <tf.Tensor: shape=(), dtype=string, numpy=b'RANGE UPLUS FORMULA_START'>, 'formula_token_list': <tf.Tensor: shape=(), dtype=string, numpy=b\"b'= +  RANGE'\">, 'header': <tf.Tensor: shape=(), dtype=string, numpy=b'Contract Cost'>, 'ranges': <tf.Tensor: shape=(), dtype=string, numpy=b'G278457581!R[3]C[-17]'>, 'record_index': <tf.Tensor: shape=(), dtype=int64, numpy=1>, 'table_id': <tf.Tensor: shape=(), dtype=int64, numpy=2>}\n",
            "{'col_index': <tf.Tensor: shape=(), dtype=int64, numpy=20>, 'computed_value': <tf.Tensor: shape=(), dtype=string, numpy=b'doub:54.220833333333346'>, 'context_data': <tf.Tensor: shape=(), dtype=string, numpy=b'$R[-1]C[-10]$userEnteredValue=empty$$R[-1]C[-9]$userEnteredValue=empty$$R[-1]C[-8]$userEnteredValue=empty$$R[-1]C[-7]$userEnteredValue=empty$$R[-1]C[-6]$userEnteredValue=empty$$R[-1]C[-5]$userEnteredValue=empty$$R[-1]C[-4]$userEnteredValue=empty$$R[-1]C[-3]$userEnteredValue=empty$$R[-1]C[-2]$userEnteredValue=empty$$R[-1]C[-1]$userEnteredValue=empty$$R[-1]C[0]$userEnteredValue=empty$$R[-1]C[1]$userEnteredValue=empty$$R[-1]C[2]$userEnteredValue=empty$$R[-1]C[3]$userEnteredValue=empty$$R[0]C[-10]$userEnteredValue=doub:37165.0$$R[0]C[-9]$userEnteredValue=str:Whitewing$$R[0]C[-8]$userEnteredValue=str:$4.5MM DASHed$$R[0]C[-7]$userEnteredValue=str:N$$R[0]C[-6]$userEnteredValue=str:N/A$$R[0]C[-5]$userEnteredValue=str:EWS$$R[0]C[-4]$userEnteredValue=str:John Chappell$$R[0]C[-3]$userEnteredValue=str:Stephen Heck$$R[0]C[-2]$userEnteredValue=str:Sale in Process$$R[0]C[-1]$formula=RANGE UPLUS FORMULA_START, formulaTokenList==+ RANGE, ranges=[R1C1FormulaRange{relativeRange=G278457581!R[3]C[-17], startTokenIndex=2, workbookRangeId=null}], computedValue=doub:83.41666666666667$$R[0]C[0]$formula=RANGE UPLUS FORMULA_START, formulaTokenList==+ RANGE, ranges=[R1C1FormulaRange{relativeRange=G278457581!R[3]C[13], startTokenIndex=2, workbookRangeId=null}], computedValue=doub:54.220833333333346$$R[0]C[1]$formula=RANGE UPLUS FORMULA_START, formulaTokenList==+ RANGE, ranges=[R1C1FormulaRange{relativeRange=G278457581!R[4]C[12], startTokenIndex=2, workbookRangeId=null}], computedValue=doub:49.215833333333336$$R[0]C[2]$userEnteredValue=empty$$R[0]C[3]$userEnteredValue=str:DASH in progress.$$R[1]C[-10]$userEnteredValue=doub:37196.0$$R[1]C[-9]$userEnteredValue=str:Whitewing$$R[1]C[-8]$userEnteredValue=str:$4.5MM DASHed$$R[1]C[-7]$userEnteredValue=str:N$$R[1]C[-6]$userEnteredValue=str:N/A$$R[1]C[-5]$userEnteredValue=str:EWS$$R[1]C[-4]$userEnteredValue=str:John Chappell$$R[1]C[-3]$userEnteredValue=str:Stephen Heck$$R[1]C[-2]$userEnteredValue=str:Sale in Process$$R[1]C[-1]$formula=RANGE UPLUS FORMULA_START, formulaTokenList==+ RANGE, ranges=[R1C1FormulaRange{relativeRange=G278457581!R[10]C[-17], startTokenIndex=2, workbookRangeId=null}], computedValue=doub:83.41666666666667$$R[1]C[0]$formula=RANGE UPLUS FORMULA_START, formulaTokenList==+ RANGE, ranges=[R1C1FormulaRange{relativeRange=G278457581!R[10]C[13], startTokenIndex=2, workbookRangeId=null}], computedValue=doub:54.220833333333346$$R[1]C[1]$formula=RANGE UPLUS FORMULA_START, formulaTokenList==+ RANGE, ranges=[R1C1FormulaRange{relativeRange=G278457581!R[11]C[12], startTokenIndex=2, workbookRangeId=null}], computedValue=doub:49.215833333333336$$R[1]C[2]$userEnteredValue=empty$$R[1]C[3]$userEnteredValue=str:DASH in progress.$$R[2]C[-10]$userEnteredValue=doub:37226.0$$R[2]C[-9]$userEnteredValue=str:Whitewing$$R[2]C[-8]$userEnteredValue=str:$4.5MM DASHed$$R[2]C[-7]$userEnteredValue=str:N$$R[2]C[-6]$userEnteredValue=str:N/A$$R[2]C[-5]$userEnteredValue=str:EWS$$R[2]C[-4]$userEnteredValue=str:John Chappell$$R[2]C[-3]$userEnteredValue=str:Stephen Heck$$R[2]C[-2]$userEnteredValue=str:Sale in Process$$R[2]C[-1]$formula=RANGE UPLUS FORMULA_START, formulaTokenList==+ RANGE, ranges=[R1C1FormulaRange{relativeRange=G278457581!R[17]C[-17], startTokenIndex=2, workbookRangeId=null}], computedValue=doub:83.41666666666667$$R[2]C[0]$formula=RANGE UPLUS FORMULA_START, formulaTokenList==+ RANGE, ranges=[R1C1FormulaRange{relativeRange=G278457581!R[17]C[13], startTokenIndex=2, workbookRangeId=null}], computedValue=doub:54.220833333333346$$R[2]C[1]$formula=RANGE UPLUS FORMULA_START, formulaTokenList==+ RANGE, ranges=[R1C1FormulaRange{relativeRange=G278457581!R[18]C[12], startTokenIndex=2, workbookRangeId=null}], computedValue=doub:49.215833333333336$$R[2]C[2]$userEnteredValue=empty$$R[2]C[3]$userEnteredValue=str:DASH in progress.$$R[3]C[-10]$userEnteredValue=doub:37135.0$$R[3]C[-9]$userEnteredValue=str:ENE B/S$$R[3]C[-8]$userEnteredValue=str:Approved$$R[3]C[-7]$userEnteredValue=str:N$$R[3]C[-6]$userEnteredValue=str:N/A$$R[3]C[-5]$userEnteredValue=str:EWS$$R[3]C[-4]$userEnteredValue=str:Dick Westfahl$$R[3]C[-3]$userEnteredValue=empty$$R[3]C[-2]$userEnteredValue=str:NEPCO / NESCO - Goldendale (EECC)$$R[3]C[-1]$formula=RANGE UPLUS FORMULA_START, formulaTokenList==+ RANGE, ranges=[R1C1FormulaRange{relativeRange=G278457581!R[32]C[-17], startTokenIndex=2, workbookRangeId=null}], computedValue=doub:36.24736$$R[3]C[0]$formula=RANGE UPLUS FORMULA_START, formulaTokenList==+ RANGE, ranges=[R1C1FormulaRange{relativeRange=G278457581!R[32]C[13], startTokenIndex=2, workbookRangeId=null}], computedValue=doub:35.613031199999995$$R[3]C[1]$formula=RANGE UPLUS FORMULA_START, formulaTokenList==+ RANGE, ranges=[R1C1FormulaRange{relativeRange=G278457581!R[33]C[12], startTokenIndex=2, workbookRangeId=null}], computedValue=doub:35.7036496$$R[3]C[2]$userEnteredValue=empty$$R[3]C[3]$userEnteredValue=str:Contract in the works, possible buyer$$R[4]C[-10]$userEnteredValue=str:Delivered$$R[4]C[-9]$userEnteredValue=str:West LB$$R[4]C[-8]$userEnteredValue=str:Analyzing$$R[4]C[-7]$userEnteredValue=str:N$$R[4]C[-6]$userEnteredValue=str:N/A$$R[4]C[-5]$userEnteredValue=str:EA$$R[4]C[-4]$userEnteredValue=empty$$R[4]C[-3]$userEnteredValue=empty$$R[4]C[-2]$userEnteredValue=str:Sale in Process$$R[4]C[-1]$formula=RANGE UPLUS FORMULA_START, formulaTokenList==+ RANGE, ranges=[R1C1FormulaRange{relativeRange=G278457581!R[111]C[-17], startTokenIndex=2, workbookRangeId=null}], computedValue=doub:17.25$$R[4]C[0]$formula=RANGE UPLUS FORMULA_START, formulaTokenList==+ RANGE, ranges=[R1C1FormulaRange{relativeRange=G278457581!R[111]C[13], startTokenIndex=2, workbookRangeId=null}], computedValue=doub:17.25$$R[4]C[1]$formula=RANGE UPLUS FORMULA_START, formulaTokenList==+ RANGE, ranges=[R1C1FormulaRange{relativeRange=G278457581!R[112]C[12], startTokenIndex=2, workbookRangeId=null}], computedValue=doub:17.25$$R[4]C[2]$userEnteredValue=empty$$R[4]C[3]$userEnteredValue=str:3 Potential buyers in Canada, no legitimate offer as of 1/25/01.$$R[5]C[-10]$userEnteredValue=str:Delivered$$R[5]C[-9]$userEnteredValue=str:West LB$$R[5]C[-8]$userEnteredValue=str:Analyzing$$R[5]C[-7]$userEnteredValue=str:N$$R[5]C[-6]$userEnteredValue=str:N/A$$R[5]C[-5]$userEnteredValue=str:EA$$R[5]C[-4]$userEnteredValue=empty$$R[5]C[-3]$userEnteredValue=empty$$R[5]C[-2]$userEnteredValue=str:Sale in Process$$R[5]C[-1]$formula=RANGE UPLUS FORMULA_START, formulaTokenList==+ RANGE, ranges=[R1C1FormulaRange{relativeRange=G278457581!R[118]C[-17], startTokenIndex=2, workbookRangeId=null}], computedValue=doub:17.25$$R[5]C[0]$formula=RANGE UPLUS FORMULA_START, formulaTokenList==+ RANGE, ranges=[R1C1FormulaRange{relativeRange=G278457581!R[118]C[13], startTokenIndex=2, workbookRangeId=null}], computedValue=doub:17.25$$R[5]C[1]$formula=RANGE UPLUS FORMULA_START, formulaTokenList==+ RANGE, ranges=[R1C1FormulaRange{relativeRange=G278457581!R[119]C[12], startTokenIndex=2, workbookRangeId=null}], computedValue=doub:17.25$$R[5]C[2]$userEnteredValue=empty$$R[5]C[3]$userEnteredValue=str:3 Potential buyers in Canada, no legitimate offer as of 1/25/01.$$R[6]C[-10]$userEnteredValue=str:being cleaned$$R[6]C[-9]$userEnteredValue=str:ENE B/S$$R[6]C[-8]$userEnteredValue=str:Analyzing$$R[6]C[-7]$userEnteredValue=str:N$$R[6]C[-6]$userEnteredValue=str:N/A$$R[6]C[-5]$userEnteredValue=str:EA$$R[6]C[-4]$userEnteredValue=str:David Fairley, Mathew Gimble$$R[6]C[-3]$userEnteredValue=empty$$R[6]C[-2]$userEnteredValue=str:Purchaser Identified$$R[6]C[-1]$formula=RANGE UPLUS FORMULA_START, formulaTokenList==+ RANGE, ranges=[R1C1FormulaRange{relativeRange=G278457581!R[21]C[-17], startTokenIndex=2, workbookRangeId=null}], computedValue=doub:24.506$$R[6]C[0]$formula=RANGE UPLUS FORMULA_START, formulaTokenList==+ RANGE, ranges=[R1C1FormulaRange{relativeRange=G278457581!R[21]C[13], startTokenIndex=2, workbookRangeId=null}], computedValue=doub:24.506000000000007$$R[6]C[1]$formula=RANGE UPLUS FORMULA_START, formulaTokenList==+ RANGE, ranges=[R1C1FormulaRange{relativeRange=G278457581!R[22]C[12], startTokenIndex=2, workbookRangeId=null}], computedValue=doub:24.506$$R[6]C[2]$userEnteredValue=str:CALME purchased turbine from ENA; turbine has not yet cleared customs;  generator incurred salt water damage while unloading$$R[6]C[3]$userEnteredValue=empty$$R[7]C[-10]$userEnteredValue=empty$$R[7]C[-9]$userEnteredValue=str:E-Next Generation$$R[7]C[-8]$userEnteredValue=str:$16.5MM on 2/16/01$$R[7]C[-7]$userEnteredValue=str:N$$R[7]C[-6]$userEnteredValue=str:N/A$$R[7]C[-5]$userEnteredValue=str:EA$$R[7]C[-4]$userEnteredValue=str:Jake Thomas/Laura Wente$$R[7]C[-3]$userEnteredValue=empty$$R[7]C[-2]$userEnteredValue=str:Columbia$$R[7]C[-1]$formula=RANGE FORMULA_START, formulaTokenList== RANGE, ranges=[R1C1FormulaRange{relativeRange=G278457581!R[100]C[-17], startTokenIndex=1, workbookRangeId=null}], computedValue=doub:39.2$$R[7]C[0]$formula=RANGE FORMULA_START, formulaTokenList== RANGE, ranges=[R1C1FormulaRange{relativeRange=G278457581!R[100]C[13], startTokenIndex=1, workbookRangeId=null}], computedValue=doub:6.272$$R[7]C[1]$formula=RANGE FORMULA_START, formulaTokenList== RANGE, ranges=[R1C1FormulaRange{relativeRange=G278457581!R[101]C[12], startTokenIndex=1, workbookRangeId=null}], computedValue=doub:4.704$$R[7]C[2]$userEnteredValue=empty$$R[7]C[3]$userEnteredValue=empty$$R[8]C[-10]$userEnteredValue=doub:37408.0$$R[8]C[-9]$userEnteredValue=str:West LB$$R[8]C[-8]$userEnteredValue=str:$2.5MM on 1/31/01$$R[8]C[-7]$userEnteredValue=str:N$$R[8]C[-6]$userEnteredValue=str:N/A$$R[8]C[-5]$userEnteredValue=str:EA$$R[8]C[-4]$userEnteredValue=empty$$R[8]C[-3]$userEnteredValue=empty$$R[8]C[-2]$userEnteredValue=str:Fort Pierce$$R[8]C[-1]$formula=RANGE UPLUS FORMULA_START, formulaTokenList==+ RANGE, ranges=[R1C1FormulaRange{relativeRange=G278457581!R[139]C[-17], startTokenIndex=2, workbookRangeId=null}], computedValue=doub:43.618$$R[8]C[0]$formula=RANGE UPLUS FORMULA_START, formulaTokenList==+ RANGE, ranges=[R1C1FormulaRange{relativeRange=G278457581!R[139]C[13], startTokenIndex=2, workbookRangeId=null}], computedValue=doub:34.894400000000005$$R[8]C[1]$formula=RANGE UPLUS FORMULA_START, formulaTokenList==+ RANGE, ranges=[R1C1FormulaRange{relativeRange=G278457581!R[140]C[12], startTokenIndex=2, workbookRangeId=null}], computedValue=doub:43.618$$R[8]C[2]$userEnteredValue=empty$$R[8]C[3]$userEnteredValue=empty$$R[9]C[-10]$userEnteredValue=doub:37591.0$$R[9]C[-9]$userEnteredValue=empty$$R[9]C[-8]$userEnteredValue=str:$4.2MM on 7/24/00$$R[9]C[-7]$userEnteredValue=str:N$$R[9]C[-6]$userEnteredValue=str:N/A$$R[9]C[-5]$userEnteredValue=str:EA$$R[9]C[-4]$userEnteredValue=str:Maurice Gilbert$$R[9]C[-3]$userEnteredValue=empty$$R[9]C[-2]$userEnteredValue=str:Las Vegas CoGen II$$R[9]C[-1]$formula=RANGE UPLUS FORMULA_START, formulaTokenList==+ RANGE, ranges=[R1C1FormulaRange{relativeRange=G278457581!R[34]C[-17], startTokenIndex=2, workbookRangeId=null}], computedValue=doub:15.769725$$R[9]C[0]$formula=RANGE UPLUS FORMULA_START, formulaTokenList==+ RANGE, ranges=[R1C1FormulaRange{relativeRange=G278457581!R[34]C[13], startTokenIndex=2, workbookRangeId=null}], computedValue=doub:3.94243125$$R[9]C[1]$formula=RANGE UPLUS FORMULA_START, formulaTokenList==+ RANGE, ranges=[R1C1FormulaRange{relativeRange=G278457581!R[35]C[12], startTokenIndex=2, workbookRangeId=null}], computedValue=doub:3.153945$$R[9]C[2]$userEnteredValue=empty$$R[9]C[3]$userEnteredValue=empty$$R[10]C[-10]$userEnteredValue=doub:37257.0$$R[10]C[-9]$userEnteredValue=empty$$R[10]C[-8]$userEnteredValue=str:$4.2MM on 7/24/00$$R[10]C[-7]$userEnteredValue=str:N$$R[10]C[-6]$userEnteredValue=str:N/A$$R[10]C[-5]$userEnteredValue=str:EA$$R[10]C[-4]$userEnteredValue=str:Maurice Gilbert$$R[10]C[-3]$userEnteredValue=empty$$R[10]C[-2]$userEnteredValue=str:Las Vegas CoGen II$$R[10]C[-1]$formula=RANGE UPLUS FORMULA_START, formulaTokenList==+ RANGE, ranges=[R1C1FormulaRange{relativeRange=G278457581!R[41]C[-17], startTokenIndex=2, workbookRangeId=null}], computedValue=doub:15.769725$$R[10]C[0]$formula=RANGE UPLUS FORMULA_START, formulaTokenList==+ RANGE, ranges=[R1C1FormulaRange{relativeRange=G278457581!R[41]C[13], startTokenIndex=2, workbookRangeId=null}], computedValue=doub:3.94243125$$R[10]C[1]$formula=RANGE UPLUS FORMULA_START, formulaTokenList==+ RANGE, ranges=[R1C1FormulaRange{relativeRange=G278457581!R[42]C[12], startTokenIndex=2, workbookRangeId=null}], computedValue=doub:3.153945$$R[10]C[2]$userEnteredValue=empty$$R[10]C[3]$userEnteredValue=empty$'>, 'context_header': <tf.Tensor: shape=(), dtype=string, numpy=b'$C[-10]$Delivery Date$C[-9]$Owner$C[-8]$DASH\\nApproval\\nDate$C[-7]$Notice to Proceed Given$C[-6]$Status of Financing$C[-5]$Controlled By$C[-4]$Originator / Developer$C[-3]$Project Manager$C[-2]$Project Name$C[-1]$Contract Cost$C[0]$Contract Paid to Date\\n(Scheduled)$C[1]$\\nCancel-lation Payment$C[2]$Comments$C[3]$Status Update'>, 'doc_id': <tf.Tensor: shape=(), dtype=string, numpy=b''>, 'formula': <tf.Tensor: shape=(), dtype=string, numpy=b'RANGE UPLUS FORMULA_START'>, 'formula_token_list': <tf.Tensor: shape=(), dtype=string, numpy=b\"b'= +  RANGE'\">, 'header': <tf.Tensor: shape=(), dtype=string, numpy=b'Contract Paid to Date\\n(Scheduled)'>, 'ranges': <tf.Tensor: shape=(), dtype=string, numpy=b'G278457581!R[3]C[13]'>, 'record_index': <tf.Tensor: shape=(), dtype=int64, numpy=1>, 'table_id': <tf.Tensor: shape=(), dtype=int64, numpy=2>}\n",
            "{'col_index': <tf.Tensor: shape=(), dtype=int64, numpy=21>, 'computed_value': <tf.Tensor: shape=(), dtype=string, numpy=b'doub:49.215833333333336'>, 'context_data': <tf.Tensor: shape=(), dtype=string, numpy=b'$R[-1]C[-10]$userEnteredValue=empty$$R[-1]C[-9]$userEnteredValue=empty$$R[-1]C[-8]$userEnteredValue=empty$$R[-1]C[-7]$userEnteredValue=empty$$R[-1]C[-6]$userEnteredValue=empty$$R[-1]C[-5]$userEnteredValue=empty$$R[-1]C[-4]$userEnteredValue=empty$$R[-1]C[-3]$userEnteredValue=empty$$R[-1]C[-2]$userEnteredValue=empty$$R[-1]C[-1]$userEnteredValue=empty$$R[-1]C[0]$userEnteredValue=empty$$R[-1]C[1]$userEnteredValue=empty$$R[-1]C[2]$userEnteredValue=empty$$R[0]C[-10]$userEnteredValue=str:Whitewing$$R[0]C[-9]$userEnteredValue=str:$4.5MM DASHed$$R[0]C[-8]$userEnteredValue=str:N$$R[0]C[-7]$userEnteredValue=str:N/A$$R[0]C[-6]$userEnteredValue=str:EWS$$R[0]C[-5]$userEnteredValue=str:John Chappell$$R[0]C[-4]$userEnteredValue=str:Stephen Heck$$R[0]C[-3]$userEnteredValue=str:Sale in Process$$R[0]C[-2]$formula=RANGE UPLUS FORMULA_START, formulaTokenList==+ RANGE, ranges=[R1C1FormulaRange{relativeRange=G278457581!R[3]C[-17], startTokenIndex=2, workbookRangeId=null}], computedValue=doub:83.41666666666667$$R[0]C[-1]$formula=RANGE UPLUS FORMULA_START, formulaTokenList==+ RANGE, ranges=[R1C1FormulaRange{relativeRange=G278457581!R[3]C[13], startTokenIndex=2, workbookRangeId=null}], computedValue=doub:54.220833333333346$$R[0]C[0]$formula=RANGE UPLUS FORMULA_START, formulaTokenList==+ RANGE, ranges=[R1C1FormulaRange{relativeRange=G278457581!R[4]C[12], startTokenIndex=2, workbookRangeId=null}], computedValue=doub:49.215833333333336$$R[0]C[1]$userEnteredValue=empty$$R[0]C[2]$userEnteredValue=str:DASH in progress.$$R[1]C[-10]$userEnteredValue=str:Whitewing$$R[1]C[-9]$userEnteredValue=str:$4.5MM DASHed$$R[1]C[-8]$userEnteredValue=str:N$$R[1]C[-7]$userEnteredValue=str:N/A$$R[1]C[-6]$userEnteredValue=str:EWS$$R[1]C[-5]$userEnteredValue=str:John Chappell$$R[1]C[-4]$userEnteredValue=str:Stephen Heck$$R[1]C[-3]$userEnteredValue=str:Sale in Process$$R[1]C[-2]$formula=RANGE UPLUS FORMULA_START, formulaTokenList==+ RANGE, ranges=[R1C1FormulaRange{relativeRange=G278457581!R[10]C[-17], startTokenIndex=2, workbookRangeId=null}], computedValue=doub:83.41666666666667$$R[1]C[-1]$formula=RANGE UPLUS FORMULA_START, formulaTokenList==+ RANGE, ranges=[R1C1FormulaRange{relativeRange=G278457581!R[10]C[13], startTokenIndex=2, workbookRangeId=null}], computedValue=doub:54.220833333333346$$R[1]C[0]$formula=RANGE UPLUS FORMULA_START, formulaTokenList==+ RANGE, ranges=[R1C1FormulaRange{relativeRange=G278457581!R[11]C[12], startTokenIndex=2, workbookRangeId=null}], computedValue=doub:49.215833333333336$$R[1]C[1]$userEnteredValue=empty$$R[1]C[2]$userEnteredValue=str:DASH in progress.$$R[2]C[-10]$userEnteredValue=str:Whitewing$$R[2]C[-9]$userEnteredValue=str:$4.5MM DASHed$$R[2]C[-8]$userEnteredValue=str:N$$R[2]C[-7]$userEnteredValue=str:N/A$$R[2]C[-6]$userEnteredValue=str:EWS$$R[2]C[-5]$userEnteredValue=str:John Chappell$$R[2]C[-4]$userEnteredValue=str:Stephen Heck$$R[2]C[-3]$userEnteredValue=str:Sale in Process$$R[2]C[-2]$formula=RANGE UPLUS FORMULA_START, formulaTokenList==+ RANGE, ranges=[R1C1FormulaRange{relativeRange=G278457581!R[17]C[-17], startTokenIndex=2, workbookRangeId=null}], computedValue=doub:83.41666666666667$$R[2]C[-1]$formula=RANGE UPLUS FORMULA_START, formulaTokenList==+ RANGE, ranges=[R1C1FormulaRange{relativeRange=G278457581!R[17]C[13], startTokenIndex=2, workbookRangeId=null}], computedValue=doub:54.220833333333346$$R[2]C[0]$formula=RANGE UPLUS FORMULA_START, formulaTokenList==+ RANGE, ranges=[R1C1FormulaRange{relativeRange=G278457581!R[18]C[12], startTokenIndex=2, workbookRangeId=null}], computedValue=doub:49.215833333333336$$R[2]C[1]$userEnteredValue=empty$$R[2]C[2]$userEnteredValue=str:DASH in progress.$$R[3]C[-10]$userEnteredValue=str:ENE B/S$$R[3]C[-9]$userEnteredValue=str:Approved$$R[3]C[-8]$userEnteredValue=str:N$$R[3]C[-7]$userEnteredValue=str:N/A$$R[3]C[-6]$userEnteredValue=str:EWS$$R[3]C[-5]$userEnteredValue=str:Dick Westfahl$$R[3]C[-4]$userEnteredValue=empty$$R[3]C[-3]$userEnteredValue=str:NEPCO / NESCO - Goldendale (EECC)$$R[3]C[-2]$formula=RANGE UPLUS FORMULA_START, formulaTokenList==+ RANGE, ranges=[R1C1FormulaRange{relativeRange=G278457581!R[32]C[-17], startTokenIndex=2, workbookRangeId=null}], computedValue=doub:36.24736$$R[3]C[-1]$formula=RANGE UPLUS FORMULA_START, formulaTokenList==+ RANGE, ranges=[R1C1FormulaRange{relativeRange=G278457581!R[32]C[13], startTokenIndex=2, workbookRangeId=null}], computedValue=doub:35.613031199999995$$R[3]C[0]$formula=RANGE UPLUS FORMULA_START, formulaTokenList==+ RANGE, ranges=[R1C1FormulaRange{relativeRange=G278457581!R[33]C[12], startTokenIndex=2, workbookRangeId=null}], computedValue=doub:35.7036496$$R[3]C[1]$userEnteredValue=empty$$R[3]C[2]$userEnteredValue=str:Contract in the works, possible buyer$$R[4]C[-10]$userEnteredValue=str:West LB$$R[4]C[-9]$userEnteredValue=str:Analyzing$$R[4]C[-8]$userEnteredValue=str:N$$R[4]C[-7]$userEnteredValue=str:N/A$$R[4]C[-6]$userEnteredValue=str:EA$$R[4]C[-5]$userEnteredValue=empty$$R[4]C[-4]$userEnteredValue=empty$$R[4]C[-3]$userEnteredValue=str:Sale in Process$$R[4]C[-2]$formula=RANGE UPLUS FORMULA_START, formulaTokenList==+ RANGE, ranges=[R1C1FormulaRange{relativeRange=G278457581!R[111]C[-17], startTokenIndex=2, workbookRangeId=null}], computedValue=doub:17.25$$R[4]C[-1]$formula=RANGE UPLUS FORMULA_START, formulaTokenList==+ RANGE, ranges=[R1C1FormulaRange{relativeRange=G278457581!R[111]C[13], startTokenIndex=2, workbookRangeId=null}], computedValue=doub:17.25$$R[4]C[0]$formula=RANGE UPLUS FORMULA_START, formulaTokenList==+ RANGE, ranges=[R1C1FormulaRange{relativeRange=G278457581!R[112]C[12], startTokenIndex=2, workbookRangeId=null}], computedValue=doub:17.25$$R[4]C[1]$userEnteredValue=empty$$R[4]C[2]$userEnteredValue=str:3 Potential buyers in Canada, no legitimate offer as of 1/25/01.$$R[5]C[-10]$userEnteredValue=str:West LB$$R[5]C[-9]$userEnteredValue=str:Analyzing$$R[5]C[-8]$userEnteredValue=str:N$$R[5]C[-7]$userEnteredValue=str:N/A$$R[5]C[-6]$userEnteredValue=str:EA$$R[5]C[-5]$userEnteredValue=empty$$R[5]C[-4]$userEnteredValue=empty$$R[5]C[-3]$userEnteredValue=str:Sale in Process$$R[5]C[-2]$formula=RANGE UPLUS FORMULA_START, formulaTokenList==+ RANGE, ranges=[R1C1FormulaRange{relativeRange=G278457581!R[118]C[-17], startTokenIndex=2, workbookRangeId=null}], computedValue=doub:17.25$$R[5]C[-1]$formula=RANGE UPLUS FORMULA_START, formulaTokenList==+ RANGE, ranges=[R1C1FormulaRange{relativeRange=G278457581!R[118]C[13], startTokenIndex=2, workbookRangeId=null}], computedValue=doub:17.25$$R[5]C[0]$formula=RANGE UPLUS FORMULA_START, formulaTokenList==+ RANGE, ranges=[R1C1FormulaRange{relativeRange=G278457581!R[119]C[12], startTokenIndex=2, workbookRangeId=null}], computedValue=doub:17.25$$R[5]C[1]$userEnteredValue=empty$$R[5]C[2]$userEnteredValue=str:3 Potential buyers in Canada, no legitimate offer as of 1/25/01.$$R[6]C[-10]$userEnteredValue=str:ENE B/S$$R[6]C[-9]$userEnteredValue=str:Analyzing$$R[6]C[-8]$userEnteredValue=str:N$$R[6]C[-7]$userEnteredValue=str:N/A$$R[6]C[-6]$userEnteredValue=str:EA$$R[6]C[-5]$userEnteredValue=str:David Fairley, Mathew Gimble$$R[6]C[-4]$userEnteredValue=empty$$R[6]C[-3]$userEnteredValue=str:Purchaser Identified$$R[6]C[-2]$formula=RANGE UPLUS FORMULA_START, formulaTokenList==+ RANGE, ranges=[R1C1FormulaRange{relativeRange=G278457581!R[21]C[-17], startTokenIndex=2, workbookRangeId=null}], computedValue=doub:24.506$$R[6]C[-1]$formula=RANGE UPLUS FORMULA_START, formulaTokenList==+ RANGE, ranges=[R1C1FormulaRange{relativeRange=G278457581!R[21]C[13], startTokenIndex=2, workbookRangeId=null}], computedValue=doub:24.506000000000007$$R[6]C[0]$formula=RANGE UPLUS FORMULA_START, formulaTokenList==+ RANGE, ranges=[R1C1FormulaRange{relativeRange=G278457581!R[22]C[12], startTokenIndex=2, workbookRangeId=null}], computedValue=doub:24.506$$R[6]C[1]$userEnteredValue=str:CALME purchased turbine from ENA; turbine has not yet cleared customs;  generator incurred salt water damage while unloading$$R[6]C[2]$userEnteredValue=empty$$R[7]C[-10]$userEnteredValue=str:E-Next Generation$$R[7]C[-9]$userEnteredValue=str:$16.5MM on 2/16/01$$R[7]C[-8]$userEnteredValue=str:N$$R[7]C[-7]$userEnteredValue=str:N/A$$R[7]C[-6]$userEnteredValue=str:EA$$R[7]C[-5]$userEnteredValue=str:Jake Thomas/Laura Wente$$R[7]C[-4]$userEnteredValue=empty$$R[7]C[-3]$userEnteredValue=str:Columbia$$R[7]C[-2]$formula=RANGE FORMULA_START, formulaTokenList== RANGE, ranges=[R1C1FormulaRange{relativeRange=G278457581!R[100]C[-17], startTokenIndex=1, workbookRangeId=null}], computedValue=doub:39.2$$R[7]C[-1]$formula=RANGE FORMULA_START, formulaTokenList== RANGE, ranges=[R1C1FormulaRange{relativeRange=G278457581!R[100]C[13], startTokenIndex=1, workbookRangeId=null}], computedValue=doub:6.272$$R[7]C[0]$formula=RANGE FORMULA_START, formulaTokenList== RANGE, ranges=[R1C1FormulaRange{relativeRange=G278457581!R[101]C[12], startTokenIndex=1, workbookRangeId=null}], computedValue=doub:4.704$$R[7]C[1]$userEnteredValue=empty$$R[7]C[2]$userEnteredValue=empty$$R[8]C[-10]$userEnteredValue=str:West LB$$R[8]C[-9]$userEnteredValue=str:$2.5MM on 1/31/01$$R[8]C[-8]$userEnteredValue=str:N$$R[8]C[-7]$userEnteredValue=str:N/A$$R[8]C[-6]$userEnteredValue=str:EA$$R[8]C[-5]$userEnteredValue=empty$$R[8]C[-4]$userEnteredValue=empty$$R[8]C[-3]$userEnteredValue=str:Fort Pierce$$R[8]C[-2]$formula=RANGE UPLUS FORMULA_START, formulaTokenList==+ RANGE, ranges=[R1C1FormulaRange{relativeRange=G278457581!R[139]C[-17], startTokenIndex=2, workbookRangeId=null}], computedValue=doub:43.618$$R[8]C[-1]$formula=RANGE UPLUS FORMULA_START, formulaTokenList==+ RANGE, ranges=[R1C1FormulaRange{relativeRange=G278457581!R[139]C[13], startTokenIndex=2, workbookRangeId=null}], computedValue=doub:34.894400000000005$$R[8]C[0]$formula=RANGE UPLUS FORMULA_START, formulaTokenList==+ RANGE, ranges=[R1C1FormulaRange{relativeRange=G278457581!R[140]C[12], startTokenIndex=2, workbookRangeId=null}], computedValue=doub:43.618$$R[8]C[1]$userEnteredValue=empty$$R[8]C[2]$userEnteredValue=empty$$R[9]C[-10]$userEnteredValue=empty$$R[9]C[-9]$userEnteredValue=str:$4.2MM on 7/24/00$$R[9]C[-8]$userEnteredValue=str:N$$R[9]C[-7]$userEnteredValue=str:N/A$$R[9]C[-6]$userEnteredValue=str:EA$$R[9]C[-5]$userEnteredValue=str:Maurice Gilbert$$R[9]C[-4]$userEnteredValue=empty$$R[9]C[-3]$userEnteredValue=str:Las Vegas CoGen II$$R[9]C[-2]$formula=RANGE UPLUS FORMULA_START, formulaTokenList==+ RANGE, ranges=[R1C1FormulaRange{relativeRange=G278457581!R[34]C[-17], startTokenIndex=2, workbookRangeId=null}], computedValue=doub:15.769725$$R[9]C[-1]$formula=RANGE UPLUS FORMULA_START, formulaTokenList==+ RANGE, ranges=[R1C1FormulaRange{relativeRange=G278457581!R[34]C[13], startTokenIndex=2, workbookRangeId=null}], computedValue=doub:3.94243125$$R[9]C[0]$formula=RANGE UPLUS FORMULA_START, formulaTokenList==+ RANGE, ranges=[R1C1FormulaRange{relativeRange=G278457581!R[35]C[12], startTokenIndex=2, workbookRangeId=null}], computedValue=doub:3.153945$$R[9]C[1]$userEnteredValue=empty$$R[9]C[2]$userEnteredValue=empty$$R[10]C[-10]$userEnteredValue=empty$$R[10]C[-9]$userEnteredValue=str:$4.2MM on 7/24/00$$R[10]C[-8]$userEnteredValue=str:N$$R[10]C[-7]$userEnteredValue=str:N/A$$R[10]C[-6]$userEnteredValue=str:EA$$R[10]C[-5]$userEnteredValue=str:Maurice Gilbert$$R[10]C[-4]$userEnteredValue=empty$$R[10]C[-3]$userEnteredValue=str:Las Vegas CoGen II$$R[10]C[-2]$formula=RANGE UPLUS FORMULA_START, formulaTokenList==+ RANGE, ranges=[R1C1FormulaRange{relativeRange=G278457581!R[41]C[-17], startTokenIndex=2, workbookRangeId=null}], computedValue=doub:15.769725$$R[10]C[-1]$formula=RANGE UPLUS FORMULA_START, formulaTokenList==+ RANGE, ranges=[R1C1FormulaRange{relativeRange=G278457581!R[41]C[13], startTokenIndex=2, workbookRangeId=null}], computedValue=doub:3.94243125$$R[10]C[0]$formula=RANGE UPLUS FORMULA_START, formulaTokenList==+ RANGE, ranges=[R1C1FormulaRange{relativeRange=G278457581!R[42]C[12], startTokenIndex=2, workbookRangeId=null}], computedValue=doub:3.153945$$R[10]C[1]$userEnteredValue=empty$$R[10]C[2]$userEnteredValue=empty$'>, 'context_header': <tf.Tensor: shape=(), dtype=string, numpy=b'$C[-10]$Owner$C[-9]$DASH\\nApproval\\nDate$C[-8]$Notice to Proceed Given$C[-7]$Status of Financing$C[-6]$Controlled By$C[-5]$Originator / Developer$C[-4]$Project Manager$C[-3]$Project Name$C[-2]$Contract Cost$C[-1]$Contract Paid to Date\\n(Scheduled)$C[0]$\\nCancel-lation Payment$C[1]$Comments$C[2]$Status Update'>, 'doc_id': <tf.Tensor: shape=(), dtype=string, numpy=b''>, 'formula': <tf.Tensor: shape=(), dtype=string, numpy=b'RANGE UPLUS FORMULA_START'>, 'formula_token_list': <tf.Tensor: shape=(), dtype=string, numpy=b\"b'= +  RANGE'\">, 'header': <tf.Tensor: shape=(), dtype=string, numpy=b'\\nCancel-lation Payment'>, 'ranges': <tf.Tensor: shape=(), dtype=string, numpy=b'G278457581!R[4]C[12]'>, 'record_index': <tf.Tensor: shape=(), dtype=int64, numpy=1>, 'table_id': <tf.Tensor: shape=(), dtype=int64, numpy=2>}\n"
          ]
        }
      ]
    },
    {
      "cell_type": "markdown",
      "metadata": {
        "id": "9SrRuRgiSLu-"
      },
      "source": [
        "## Statistics from paper"
      ]
    },
    {
      "cell_type": "markdown",
      "metadata": {
        "id": "HKKmfZUIekmw"
      },
      "source": [
        "<div>\n",
        "  <h6 align=center>Dataset</h6>\n",
        "\n",
        "  <table border=\"1\" class=\"dataframe\">\n",
        "    <thead>\n",
        "      <tr align=center>\n",
        "        <th></th>\n",
        "        <th>Train</th>\n",
        "        <th>Validation</th>\n",
        "        <th>Test</th>\n",
        "        <th>Total</th>\n",
        "      </tr>\n",
        "    </thead>\n",
        "    <tbody>\n",
        "      <tr align=center>\n",
        "        <th align=left>#Samples</th>\n",
        "        <td>178K</td>\n",
        "        <td>41K</td>\n",
        "        <td>33K</td>\n",
        "        <td>252K</td>\n",
        "      </tr>\n",
        "    </tbody>\n",
        "  </table>\n",
        "  <br />\n",
        "  <table border=\"1\" class=\"dataframe\">\n",
        "    <thead>\n",
        "      <tr align=center>\n",
        "        <th align=left>Sketch Length</th>\n",
        "        <th>2</th>\n",
        "        <th>3</th>\n",
        "        <th>4-5</th>\n",
        "        <th>6-7</th>\n",
        "        <th>8+</th>\n",
        "      </tr>\n",
        "    </thead>\n",
        "    <tbody>\n",
        "      <tr align=center>\n",
        "        <th align=left>Distribution</th>\n",
        "        <td>55%</td>\n",
        "        <td>18%</td>\n",
        "        <td>13%</td>\n",
        "        <td>9%</td>\n",
        "        <td>5%</td>\n",
        "      </tr>\n",
        "    </tbody>\n",
        "  </table>\n",
        "  <br />\n",
        "  <table border=\"1\" class=\"dataframe\">\n",
        "    <thead>\n",
        "      <tr align=center>\n",
        "        <th></th>\n",
        "        <th>Spreadsheet Functions</th>\n",
        "        <th>Type</th>\n",
        "      </tr>\n",
        "    </thead>\n",
        "    <tbody>\n",
        "      <tr align=center>\n",
        "        <th align=left>1</th>\n",
        "        <td>ADD(+)</td>\n",
        "        <td>Operator</td>\n",
        "      </tr>\n",
        "      <tr align=center>\n",
        "        <th align=left>2</th>\n",
        "        <td>MINUS(-)</td>\n",
        "        <td>Operator</td>\n",
        "      </tr>\n",
        "      <tr align=center>\n",
        "        <th align=left>3</th>\n",
        "        <td>MULPTIPLY(*)</td>\n",
        "        <td>Operator</td>\n",
        "      </tr>\n",
        "      <tr align=center>\n",
        "        <th align=left>4</th>\n",
        "        <td>DIV(/)</td>\n",
        "        <td>Operator</td>\n",
        "      </tr>\n",
        "      <tr align=center>\n",
        "        <th align=left>5</th>\n",
        "        <td>UPLUS</td>\n",
        "        <td>Operator</td>\n",
        "      </tr>\n",
        "      <tr align=center>\n",
        "        <th align=left>6</th>\n",
        "        <td>UMINUS</td>\n",
        "        <td>Operator</td>\n",
        "      </tr>      \n",
        "      <tr align=center>\n",
        "        <th align=left>7</th>\n",
        "        <td>SUM</td>\n",
        "        <td>Math</td>\n",
        "      </tr>\n",
        "      <tr align=center>\n",
        "        <th align=left>8</th>\n",
        "        <td>ABS</td>\n",
        "        <td>Math</td>\n",
        "      </tr>\n",
        "      <tr align=center>\n",
        "        <th align=left>9</th>\n",
        "        <td>LN</td>\n",
        "        <td>Math</td>\n",
        "      </tr>\n",
        "      <tr align=center>\n",
        "        <th align=left>10</th>\n",
        "        <td>AVERAGE</td>\n",
        "        <td>Statistical</td>\n",
        "      </tr>\n",
        "      <tr align=center>\n",
        "        <th align=left>11</th>\n",
        "        <td>MIN</td>\n",
        "        <td>Statistical</td>\n",
        "      </tr>\n",
        "      <tr align=center>\n",
        "        <th align=left>12</th>\n",
        "        <td>MAX</td>\n",
        "        <td>Statistical</td>\n",
        "      </tr>\n",
        "      <tr align=center>\n",
        "        <th align=left>13</th>\n",
        "        <td>COUNT</td>\n",
        "        <td>Statistical</td>\n",
        "      </tr>\n",
        "      <tr align=center>\n",
        "        <th align=left>14</th>\n",
        "        <td>COUNTA</td>\n",
        "        <td>Statistical</td>\n",
        "      </tr>\n",
        "      <tr align=center>\n",
        "        <th align=left>15</th>\n",
        "        <td>STDEV</td>\n",
        "        <td>Statistical</td>\n",
        "      </tr>\n",
        "      <tr align=center>\n",
        "        <th align=left>16</th>\n",
        "        <td>DAY</td>\n",
        "        <td>Date</td>\n",
        "      </tr>\n",
        "      <tr align=center>\n",
        "        <th align=left>17</th>\n",
        "        <td>WEEKDAY</td>\n",
        "        <td>Date</td>\n",
        "      </tr>\n",
        "    </tbody>\n",
        "  </table>\n",
        "</div>\n",
        "\n",
        "<br />\n",
        "\n",
        "<div>\n",
        "  <h6 align=center>Result</h6>\n",
        "  <table border=\"1\" class=\"dataframe\">\n",
        "    <thead>\n",
        "      <tr align=center>\n",
        "        <th align=left>Dataset</th>\n",
        "        <th>Top-1</th>\n",
        "        <th>Top-5</th>\n",
        "        <th>Top-10</th>\n",
        "      </tr>\n",
        "    </thead>\n",
        "    <tbody>\n",
        "      <tr align=center>\n",
        "        <th align=left>Enron</th>\n",
        "        <td>29.8%</td>\n",
        "        <td>41.8%</td>\n",
        "        <td>48.5%</td>\n",
        "      </tr>\n",
        "      <tr align=center>\n",
        "        <th align=left>Google Sheets</th>\n",
        "        <td>42.51%</td>\n",
        "        <td>54.41%</td>\n",
        "        <td>58.57%</td>\n",
        "      </tr>\n",
        "    </tbody>\n",
        "  </table>\n",
        "</div>"
      ]
    },
    {
      "cell_type": "markdown",
      "metadata": {
        "id": "X7W0qiukRsxo"
      },
      "source": [
        "# Model![model architecture](https://raw.github.com/wy-go/google-research/master/spreadsheet_coder/spreadsheetcoder_model_architecture.png)\n"
      ]
    },
    {
      "cell_type": "code",
      "metadata": {
        "colab": {
          "base_uri": "https://localhost:8080/"
        },
        "id": "FtF_mSd4ASwl",
        "outputId": "5b52f805-56a3-40a9-c541-badcbf8fe38b"
      },
      "source": [
        "# Clone the entire repo.\n",
        "!git clone https://github.com/google-research/google-research.git"
      ],
      "execution_count": 19,
      "outputs": [
        {
          "output_type": "stream",
          "name": "stdout",
          "text": [
            "Cloning into 'google-research'...\n",
            "remote: Enumerating objects: 36727, done.\u001b[K\n",
            "remote: Counting objects: 100% (1415/1415), done.\u001b[K\n",
            "remote: Compressing objects: 100% (872/872), done.\u001b[K\n",
            "remote: Total 36727 (delta 615), reused 1152 (delta 518), pack-reused 35312\u001b[K\n",
            "Receiving objects: 100% (36727/36727), 296.83 MiB | 29.16 MiB/s, done.\n",
            "Resolving deltas: 100% (19755/19755), done.\n",
            "Checking out files: 100% (12418/12418), done.\n"
          ]
        }
      ]
    },
    {
      "cell_type": "code",
      "metadata": {
        "colab": {
          "base_uri": "https://localhost:8080/"
        },
        "id": "iKr1TrXXfT6u",
        "outputId": "083cf732-c81c-4aef-9ca8-68527158fe7d"
      },
      "source": [
        "!ls google-research/spreadsheet_coder/"
      ],
      "execution_count": 20,
      "outputs": [
        {
          "output_type": "stream",
          "name": "stdout",
          "text": [
            "bert_modeling.py  mobilebert_modeling.py  model_utils.py\n",
            "constants.py\t  model.py\t\t  README.md\n"
          ]
        }
      ]
    },
    {
      "cell_type": "code",
      "metadata": {
        "id": "AioSG3_jer67"
      },
      "source": [
        "# Exclude intended target\n"
      ],
      "execution_count": null,
      "outputs": []
    }
  ]
}