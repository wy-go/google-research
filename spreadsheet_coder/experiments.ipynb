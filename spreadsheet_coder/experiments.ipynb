{
  "nbformat": 4,
  "nbformat_minor": 0,
  "metadata": {
    "colab": {
      "name": "Experiments.ipynb",
      "provenance": [],
      "collapsed_sections": [
        "n7gB7qcEvQMI",
        "Rq4sOOJKwbkz",
        "GRVDhZhIwybr",
        "LFE-CsugyDev",
        "EGqFn7G7yocT",
        "sQrfHbQC80_N"
      ],
      "authorship_tag": "ABX9TyOX5ffY8RfsYBDkRGxv5F0L",
      "include_colab_link": true
    },
    "kernelspec": {
      "name": "python3",
      "display_name": "Python 3"
    },
    "language_info": {
      "name": "python"
    }
  },
  "cells": [
    {
      "cell_type": "markdown",
      "metadata": {
        "id": "view-in-github",
        "colab_type": "text"
      },
      "source": [
        "<a href=\"https://colab.research.google.com/github/wy-go/google-research/blob/master/spreadsheet_coder/experiments.ipynb\" target=\"_parent\"><img src=\"https://colab.research.google.com/assets/colab-badge.svg\" alt=\"Open In Colab\"/></a>"
      ]
    },
    {
      "cell_type": "markdown",
      "metadata": {
        "id": "BxlH4IZDv-Zn"
      },
      "source": [
        "# Data\n",
        "Load data from [[UI]](https://console.cloud.google.com/storage/browser/spreadsheet_coder)"
      ]
    },
    {
      "cell_type": "markdown",
      "metadata": {
        "id": "TzH8cW8jR9sY"
      },
      "source": [
        "\n",
        "## Copy files from GCS with gsutil"
      ]
    },
    {
      "cell_type": "code",
      "metadata": {
        "colab": {
          "base_uri": "https://localhost:8080/"
        },
        "id": "gJLt_RvlwHA-",
        "outputId": "f608bbee-8897-4e8e-88bc-5cceb4edb150"
      },
      "source": [
        "from google.colab import auth\n",
        "auth.authenticate_user()\n",
        "\n",
        "# https://cloud.google.com/resource-manager/docs/creating-managing-projects\n",
        "project_id = 'sheetcoder'\n",
        "!gcloud config set project {project_id}"
      ],
      "execution_count": 1,
      "outputs": [
        {
          "output_type": "stream",
          "name": "stdout",
          "text": [
            "Updated property [core/project].\n"
          ]
        }
      ]
    },
    {
      "cell_type": "code",
      "metadata": {
        "colab": {
          "base_uri": "https://localhost:8080/"
        },
        "id": "FtF_mSd4ASwl",
        "outputId": "8988ec31-0fee-4044-f465-77bb4eca4bc8"
      },
      "source": [
        "%cd /content/\n",
        "!ls\n",
        "!rm -rf google-research \n",
        "# Clone the entire repo.\n",
        "!git clone https://github.com/wy-go/google-research.git"
      ],
      "execution_count": 2,
      "outputs": [
        {
          "output_type": "stream",
          "name": "stdout",
          "text": [
            "/content\n",
            "adc.json  google-research  sample_data\n",
            "Cloning into 'google-research'...\n",
            "remote: Enumerating objects: 36716, done.\u001b[K\n",
            "remote: Counting objects: 100% (1404/1404), done.\u001b[K\n",
            "remote: Compressing objects: 100% (888/888), done.\u001b[K\n",
            "remote: Total 36716 (delta 606), reused 1116 (delta 491), pack-reused 35312\u001b[K\n",
            "Receiving objects: 100% (36716/36716), 296.98 MiB | 29.04 MiB/s, done.\n",
            "Resolving deltas: 100% (19746/19746), done.\n",
            "Checking out files: 100% (12421/12421), done.\n"
          ]
        }
      ]
    },
    {
      "cell_type": "code",
      "metadata": {
        "colab": {
          "base_uri": "https://localhost:8080/"
        },
        "id": "XRy331zlxcJQ",
        "outputId": "3db520e5-28b4-49fc-ab25-e8cf6c621cc8"
      },
      "source": [
        "# Download the file from a given Google Cloud Storage bucket.\n",
        "%cd google-research/spreadsheet_coder\n",
        "!gsutil -m cp -r \\\n",
        "  \"gs://spreadsheet_coder/enron/\" .\n",
        "!ls"
      ],
      "execution_count": 3,
      "outputs": [
        {
          "output_type": "stream",
          "name": "stdout",
          "text": [
            "/content/google-research/spreadsheet_coder\n",
            "Copying gs://spreadsheet_coder/enron/formulas_5_10.tf_record...\n",
            "Copying gs://spreadsheet_coder/enron/formulas_0_5.tf_record...\n",
            "Copying gs://spreadsheet_coder/enron/formulas_20_25.tf_record...\n",
            "Copying gs://spreadsheet_coder/enron/formulas_15_20.tf_record...\n",
            "Copying gs://spreadsheet_coder/enron/formulas_10_15.tf_record...\n",
            "Copying gs://spreadsheet_coder/enron/formulas_25_30.tf_record...\n",
            "\\ [6/6 files][  3.9 GiB/  3.9 GiB] 100% Done  52.6 MiB/s ETA 00:00:00           \n",
            "Operation completed over 6 objects/3.9 GiB.                                      \n",
            "bert_modeling.py\tmodel.py\n",
            "constants.py\t\tmodel_utils.py\n",
            "enron\t\t\tREADME.md\n",
            "experiments.ipynb\tspreadsheetcoder_model_architecture.png\n",
            "mobilebert_modeling.py\n"
          ]
        }
      ]
    },
    {
      "cell_type": "markdown",
      "metadata": {
        "id": "L4x0uZ6rSB0t"
      },
      "source": [
        "## Read the TFRecord files"
      ]
    },
    {
      "cell_type": "code",
      "metadata": {
        "id": "ElGiJTUW-L3b",
        "colab": {
          "base_uri": "https://localhost:8080/"
        },
        "outputId": "51fe991c-1491-41e0-fa97-817f12bc20e5"
      },
      "source": [
        "import tensorflow as tf\n",
        "print(tf.__version__)"
      ],
      "execution_count": 4,
      "outputs": [
        {
          "output_type": "stream",
          "name": "stdout",
          "text": [
            "2.6.0\n"
          ]
        }
      ]
    },
    {
      "cell_type": "code",
      "metadata": {
        "colab": {
          "base_uri": "https://localhost:8080/"
        },
        "id": "TGDl1T4RDZly",
        "outputId": "6ad6bb74-7c37-46d0-c633-c3ef755886c7"
      },
      "source": [
        "import os\n",
        "\n",
        "data_dir = 'enron/'\n",
        "tfrecord_files = [data_dir + filename for filename in os.listdir(data_dir)]\n",
        "raw_dataset = tf.data.TFRecordDataset(tfrecord_files)\n",
        "\n",
        "# Show the first 3 records.\n",
        "for raw_record in raw_dataset.take(3):\n",
        "  print(repr(raw_record))"
      ],
      "execution_count": 5,
      "outputs": [
        {
          "output_type": "stream",
          "name": "stdout",
          "text": [
            "<tf.Tensor: shape=(), dtype=string, numpy=b'\\n\\xc0\\x1b\\n\\x99\\x19\\n\\x0ccontext_data\\x12\\x88\\x19\\n\\x85\\x19\\n\\x82\\x19$R[0]C[0]$formula=RANGE UPLUS RANGE - FORMULA_START, formulaTokenList==+ RANGE - RANGE, ranges=[R1C1FormulaRange{relativeRange=R[0]C[-12], startTokenIndex=2, workbookRangeId=null}, R1C1FormulaRange{relativeRange=R[0]C[-2], startTokenIndex=4, workbookRangeId=null}], computedValue=doub:0.0$$R[1]C[0]$formula=RANGE UPLUS RANGE - FORMULA_START, formulaTokenList==+ RANGE - RANGE, ranges=[R1C1FormulaRange{relativeRange=R[0]C[-12], startTokenIndex=2, workbookRangeId=null}, R1C1FormulaRange{relativeRange=R[0]C[-2], startTokenIndex=4, workbookRangeId=null}], computedValue=doub:-2392.0$$R[2]C[0]$formula=RANGE UPLUS RANGE - FORMULA_START, formulaTokenList==+ RANGE - RANGE, ranges=[R1C1FormulaRange{relativeRange=R[0]C[-12], startTokenIndex=2, workbookRangeId=null}, R1C1FormulaRange{relativeRange=R[0]C[-2], startTokenIndex=4, workbookRangeId=null}], computedValue=doub:-995.0$$R[3]C[0]$formula=RANGE UPLUS RANGE - FORMULA_START, formulaTokenList==+ RANGE - RANGE, ranges=[R1C1FormulaRange{relativeRange=R[0]C[-12], startTokenIndex=2, workbookRangeId=null}, R1C1FormulaRange{relativeRange=R[0]C[-2], startTokenIndex=4, workbookRangeId=null}], computedValue=doub:-818.0$$R[4]C[0]$formula=RANGE UPLUS RANGE - FORMULA_START, formulaTokenList==+ RANGE - RANGE, ranges=[R1C1FormulaRange{relativeRange=R[0]C[-12], startTokenIndex=2, workbookRangeId=null}, R1C1FormulaRange{relativeRange=R[0]C[-2], startTokenIndex=4, workbookRangeId=null}], computedValue=doub:-1899.0$$R[5]C[0]$formula=RANGE UPLUS RANGE - FORMULA_START, formulaTokenList==+ RANGE - RANGE, ranges=[R1C1FormulaRange{relativeRange=R[0]C[-12], startTokenIndex=2, workbookRangeId=null}, R1C1FormulaRange{relativeRange=R[0]C[-2], startTokenIndex=4, workbookRangeId=null}], computedValue=doub:-2298.0$$R[6]C[0]$formula=RANGE UPLUS RANGE - FORMULA_START, formulaTokenList==+ RANGE - RANGE, ranges=[R1C1FormulaRange{relativeRange=R[0]C[-12], startTokenIndex=2, workbookRangeId=null}, R1C1FormulaRange{relativeRange=R[0]C[-2], startTokenIndex=4, workbookRangeId=null}], computedValue=doub:-1888.0$$R[7]C[0]$formula=RANGE UPLUS RANGE - FORMULA_START, formulaTokenList==+ RANGE - RANGE, ranges=[R1C1FormulaRange{relativeRange=R[0]C[-12], startTokenIndex=2, workbookRangeId=null}, R1C1FormulaRange{relativeRange=R[0]C[-2], startTokenIndex=4, workbookRangeId=null}], computedValue=doub:0.0$$R[8]C[0]$formula=RANGE UPLUS RANGE - FORMULA_START, formulaTokenList==+ RANGE - RANGE, ranges=[R1C1FormulaRange{relativeRange=R[0]C[-12], startTokenIndex=2, workbookRangeId=null}, R1C1FormulaRange{relativeRange=R[0]C[-2], startTokenIndex=4, workbookRangeId=null}], computedValue=doub:0.0$$R[9]C[0]$formula=RANGE UPLUS RANGE - FORMULA_START, formulaTokenList==+ RANGE - RANGE, ranges=[R1C1FormulaRange{relativeRange=R[0]C[-12], startTokenIndex=2, workbookRangeId=null}, R1C1FormulaRange{relativeRange=R[0]C[-2], startTokenIndex=4, workbookRangeId=null}], computedValue=doub:0.0$$R[10]C[0]$formula=RANGE UPLUS RANGE - FORMULA_START, formulaTokenList==+ RANGE - RANGE, ranges=[R1C1FormulaRange{relativeRange=R[0]C[-12], startTokenIndex=2, workbookRangeId=null}, R1C1FormulaRange{relativeRange=R[0]C[-2], startTokenIndex=4, workbookRangeId=null}], computedValue=doub:0.0$\\n0\\n\\x07formula\\x12%\\n#\\n!RANGE UPLUS RANGE - FORMULA_START\\n\\x0e\\n\\x06doc_id\\x12\\x04\\n\\x02\\n\\x00\\n\\x12\\n\\tcol_index\\x12\\x05\\x1a\\x03\\n\\x01\\x19\\n\\x1e\\n\\x0ecomputed_value\\x12\\x0c\\n\\n\\n\\x08doub:0.0\\n\\x0e\\n\\x06header\\x12\\x04\\n\\x02\\n\\x00\\n0\\n\\x12formula_token_list\\x12\\x1a\\n\\x18\\n\\x16b\\'= +  RANGE -  RANGE\\'\\n\\x15\\n\\x0crecord_index\\x12\\x05\\x1a\\x03\\n\\x01\\x00\\n\\x1c\\n\\x0econtext_header\\x12\\n\\n\\x08\\n\\x06$C[0]$\\n\\x11\\n\\x08table_id\\x12\\x05\\x1a\\x03\\n\\x01\\x0f\\n\"\\n\\x06ranges\\x12\\x18\\n\\x16\\n\\x14R[0]C[-12] R[0]C[-2]'>\n",
            "<tf.Tensor: shape=(), dtype=string, numpy=b'\\n\\xe6\\x1d\\n\\xbb\\x1b\\n\\x0ccontext_data\\x12\\xaa\\x1b\\n\\xa7\\x1b\\n\\xa4\\x1b$R[-1]C[0]$formula=RANGE UPLUS RANGE - FORMULA_START, formulaTokenList==+ RANGE - RANGE, ranges=[R1C1FormulaRange{relativeRange=R[0]C[-12], startTokenIndex=2, workbookRangeId=null}, R1C1FormulaRange{relativeRange=R[0]C[-2], startTokenIndex=4, workbookRangeId=null}], computedValue=doub:0.0$$R[0]C[0]$formula=RANGE UPLUS RANGE - FORMULA_START, formulaTokenList==+ RANGE - RANGE, ranges=[R1C1FormulaRange{relativeRange=R[0]C[-12], startTokenIndex=2, workbookRangeId=null}, R1C1FormulaRange{relativeRange=R[0]C[-2], startTokenIndex=4, workbookRangeId=null}], computedValue=doub:-2392.0$$R[1]C[0]$formula=RANGE UPLUS RANGE - FORMULA_START, formulaTokenList==+ RANGE - RANGE, ranges=[R1C1FormulaRange{relativeRange=R[0]C[-12], startTokenIndex=2, workbookRangeId=null}, R1C1FormulaRange{relativeRange=R[0]C[-2], startTokenIndex=4, workbookRangeId=null}], computedValue=doub:-995.0$$R[2]C[0]$formula=RANGE UPLUS RANGE - FORMULA_START, formulaTokenList==+ RANGE - RANGE, ranges=[R1C1FormulaRange{relativeRange=R[0]C[-12], startTokenIndex=2, workbookRangeId=null}, R1C1FormulaRange{relativeRange=R[0]C[-2], startTokenIndex=4, workbookRangeId=null}], computedValue=doub:-818.0$$R[3]C[0]$formula=RANGE UPLUS RANGE - FORMULA_START, formulaTokenList==+ RANGE - RANGE, ranges=[R1C1FormulaRange{relativeRange=R[0]C[-12], startTokenIndex=2, workbookRangeId=null}, R1C1FormulaRange{relativeRange=R[0]C[-2], startTokenIndex=4, workbookRangeId=null}], computedValue=doub:-1899.0$$R[4]C[0]$formula=RANGE UPLUS RANGE - FORMULA_START, formulaTokenList==+ RANGE - RANGE, ranges=[R1C1FormulaRange{relativeRange=R[0]C[-12], startTokenIndex=2, workbookRangeId=null}, R1C1FormulaRange{relativeRange=R[0]C[-2], startTokenIndex=4, workbookRangeId=null}], computedValue=doub:-2298.0$$R[5]C[0]$formula=RANGE UPLUS RANGE - FORMULA_START, formulaTokenList==+ RANGE - RANGE, ranges=[R1C1FormulaRange{relativeRange=R[0]C[-12], startTokenIndex=2, workbookRangeId=null}, R1C1FormulaRange{relativeRange=R[0]C[-2], startTokenIndex=4, workbookRangeId=null}], computedValue=doub:-1888.0$$R[6]C[0]$formula=RANGE UPLUS RANGE - FORMULA_START, formulaTokenList==+ RANGE - RANGE, ranges=[R1C1FormulaRange{relativeRange=R[0]C[-12], startTokenIndex=2, workbookRangeId=null}, R1C1FormulaRange{relativeRange=R[0]C[-2], startTokenIndex=4, workbookRangeId=null}], computedValue=doub:0.0$$R[7]C[0]$formula=RANGE UPLUS RANGE - FORMULA_START, formulaTokenList==+ RANGE - RANGE, ranges=[R1C1FormulaRange{relativeRange=R[0]C[-12], startTokenIndex=2, workbookRangeId=null}, R1C1FormulaRange{relativeRange=R[0]C[-2], startTokenIndex=4, workbookRangeId=null}], computedValue=doub:0.0$$R[8]C[0]$formula=RANGE UPLUS RANGE - FORMULA_START, formulaTokenList==+ RANGE - RANGE, ranges=[R1C1FormulaRange{relativeRange=R[0]C[-12], startTokenIndex=2, workbookRangeId=null}, R1C1FormulaRange{relativeRange=R[0]C[-2], startTokenIndex=4, workbookRangeId=null}], computedValue=doub:0.0$$R[9]C[0]$formula=RANGE UPLUS RANGE - FORMULA_START, formulaTokenList==+ RANGE - RANGE, ranges=[R1C1FormulaRange{relativeRange=R[0]C[-12], startTokenIndex=2, workbookRangeId=null}, R1C1FormulaRange{relativeRange=R[0]C[-2], startTokenIndex=4, workbookRangeId=null}], computedValue=doub:0.0$$R[10]C[0]$formula=RANGE UPLUS RANGE - FORMULA_START, formulaTokenList==+ RANGE - RANGE, ranges=[R1C1FormulaRange{relativeRange=R[0]C[-12], startTokenIndex=2, workbookRangeId=null}, R1C1FormulaRange{relativeRange=R[0]C[-2], startTokenIndex=4, workbookRangeId=null}], computedValue=doub:0.0$\\n\\x11\\n\\x08table_id\\x12\\x05\\x1a\\x03\\n\\x01\\x0f\\n\\x0e\\n\\x06header\\x12\\x04\\n\\x02\\n\\x00\\n\\x0e\\n\\x06doc_id\\x12\\x04\\n\\x02\\n\\x00\\n\\x1c\\n\\x0econtext_header\\x12\\n\\n\\x08\\n\\x06$C[0]$\\n\"\\n\\x0ecomputed_value\\x12\\x10\\n\\x0e\\n\\x0cdoub:-2392.0\\n\\x15\\n\\x0crecord_index\\x12\\x05\\x1a\\x03\\n\\x01\\x01\\n\"\\n\\x06ranges\\x12\\x18\\n\\x16\\n\\x14R[0]C[-12] R[0]C[-2]\\n0\\n\\x07formula\\x12%\\n#\\n!RANGE UPLUS RANGE - FORMULA_START\\n\\x12\\n\\tcol_index\\x12\\x05\\x1a\\x03\\n\\x01\\x19\\n0\\n\\x12formula_token_list\\x12\\x1a\\n\\x18\\n\\x16b\\'= +  RANGE -  RANGE\\''>\n",
            "<tf.Tensor: shape=(), dtype=string, numpy=b'\\n\\x87 \\n\\x0e\\n\\x06header\\x12\\x04\\n\\x02\\n\\x00\\n\\x1c\\n\\x0econtext_header\\x12\\n\\n\\x08\\n\\x06$C[0]$\\n\\x0e\\n\\x06doc_id\\x12\\x04\\n\\x02\\n\\x00\\n\\xdd\\x1d\\n\\x0ccontext_data\\x12\\xcc\\x1d\\n\\xc9\\x1d\\n\\xc6\\x1d$R[-2]C[0]$formula=RANGE UPLUS RANGE - FORMULA_START, formulaTokenList==+ RANGE - RANGE, ranges=[R1C1FormulaRange{relativeRange=R[0]C[-12], startTokenIndex=2, workbookRangeId=null}, R1C1FormulaRange{relativeRange=R[0]C[-2], startTokenIndex=4, workbookRangeId=null}], computedValue=doub:0.0$$R[-1]C[0]$formula=RANGE UPLUS RANGE - FORMULA_START, formulaTokenList==+ RANGE - RANGE, ranges=[R1C1FormulaRange{relativeRange=R[0]C[-12], startTokenIndex=2, workbookRangeId=null}, R1C1FormulaRange{relativeRange=R[0]C[-2], startTokenIndex=4, workbookRangeId=null}], computedValue=doub:-2392.0$$R[0]C[0]$formula=RANGE UPLUS RANGE - FORMULA_START, formulaTokenList==+ RANGE - RANGE, ranges=[R1C1FormulaRange{relativeRange=R[0]C[-12], startTokenIndex=2, workbookRangeId=null}, R1C1FormulaRange{relativeRange=R[0]C[-2], startTokenIndex=4, workbookRangeId=null}], computedValue=doub:-995.0$$R[1]C[0]$formula=RANGE UPLUS RANGE - FORMULA_START, formulaTokenList==+ RANGE - RANGE, ranges=[R1C1FormulaRange{relativeRange=R[0]C[-12], startTokenIndex=2, workbookRangeId=null}, R1C1FormulaRange{relativeRange=R[0]C[-2], startTokenIndex=4, workbookRangeId=null}], computedValue=doub:-818.0$$R[2]C[0]$formula=RANGE UPLUS RANGE - FORMULA_START, formulaTokenList==+ RANGE - RANGE, ranges=[R1C1FormulaRange{relativeRange=R[0]C[-12], startTokenIndex=2, workbookRangeId=null}, R1C1FormulaRange{relativeRange=R[0]C[-2], startTokenIndex=4, workbookRangeId=null}], computedValue=doub:-1899.0$$R[3]C[0]$formula=RANGE UPLUS RANGE - FORMULA_START, formulaTokenList==+ RANGE - RANGE, ranges=[R1C1FormulaRange{relativeRange=R[0]C[-12], startTokenIndex=2, workbookRangeId=null}, R1C1FormulaRange{relativeRange=R[0]C[-2], startTokenIndex=4, workbookRangeId=null}], computedValue=doub:-2298.0$$R[4]C[0]$formula=RANGE UPLUS RANGE - FORMULA_START, formulaTokenList==+ RANGE - RANGE, ranges=[R1C1FormulaRange{relativeRange=R[0]C[-12], startTokenIndex=2, workbookRangeId=null}, R1C1FormulaRange{relativeRange=R[0]C[-2], startTokenIndex=4, workbookRangeId=null}], computedValue=doub:-1888.0$$R[5]C[0]$formula=RANGE UPLUS RANGE - FORMULA_START, formulaTokenList==+ RANGE - RANGE, ranges=[R1C1FormulaRange{relativeRange=R[0]C[-12], startTokenIndex=2, workbookRangeId=null}, R1C1FormulaRange{relativeRange=R[0]C[-2], startTokenIndex=4, workbookRangeId=null}], computedValue=doub:0.0$$R[6]C[0]$formula=RANGE UPLUS RANGE - FORMULA_START, formulaTokenList==+ RANGE - RANGE, ranges=[R1C1FormulaRange{relativeRange=R[0]C[-12], startTokenIndex=2, workbookRangeId=null}, R1C1FormulaRange{relativeRange=R[0]C[-2], startTokenIndex=4, workbookRangeId=null}], computedValue=doub:0.0$$R[7]C[0]$formula=RANGE UPLUS RANGE - FORMULA_START, formulaTokenList==+ RANGE - RANGE, ranges=[R1C1FormulaRange{relativeRange=R[0]C[-12], startTokenIndex=2, workbookRangeId=null}, R1C1FormulaRange{relativeRange=R[0]C[-2], startTokenIndex=4, workbookRangeId=null}], computedValue=doub:0.0$$R[8]C[0]$formula=RANGE UPLUS RANGE - FORMULA_START, formulaTokenList==+ RANGE - RANGE, ranges=[R1C1FormulaRange{relativeRange=R[0]C[-12], startTokenIndex=2, workbookRangeId=null}, R1C1FormulaRange{relativeRange=R[0]C[-2], startTokenIndex=4, workbookRangeId=null}], computedValue=doub:0.0$$R[9]C[0]$formula=RANGE UPLUS RANGE - FORMULA_START, formulaTokenList==+ RANGE - RANGE, ranges=[R1C1FormulaRange{relativeRange=R[0]C[-12], startTokenIndex=2, workbookRangeId=null}, R1C1FormulaRange{relativeRange=R[0]C[-2], startTokenIndex=4, workbookRangeId=null}], computedValue=doub:0.0$$R[10]C[0]$formula=RANGE UPLUS RANGE - FORMULA_START, formulaTokenList==+ RANGE - RANGE, ranges=[R1C1FormulaRange{relativeRange=R[0]C[-12], startTokenIndex=2, workbookRangeId=null}, R1C1FormulaRange{relativeRange=R[0]C[-2], startTokenIndex=4, workbookRangeId=null}], computedValue=doub:0.0$\\n\\x12\\n\\tcol_index\\x12\\x05\\x1a\\x03\\n\\x01\\x19\\n\\x15\\n\\x0crecord_index\\x12\\x05\\x1a\\x03\\n\\x01\\x02\\n\"\\n\\x06ranges\\x12\\x18\\n\\x16\\n\\x14R[0]C[-12] R[0]C[-2]\\n!\\n\\x0ecomputed_value\\x12\\x0f\\n\\r\\n\\x0bdoub:-995.0\\n0\\n\\x12formula_token_list\\x12\\x1a\\n\\x18\\n\\x16b\\'= +  RANGE -  RANGE\\'\\n0\\n\\x07formula\\x12%\\n#\\n!RANGE UPLUS RANGE - FORMULA_START\\n\\x11\\n\\x08table_id\\x12\\x05\\x1a\\x03\\n\\x01\\x0f'>\n"
          ]
        }
      ]
    },
    {
      "cell_type": "code",
      "metadata": {
        "colab": {
          "base_uri": "https://localhost:8080/"
        },
        "id": "Uyd7VSL6MANW",
        "outputId": "bafc4f7a-0ee6-422c-84f9-1698f548c169"
      },
      "source": [
        "# Create a description of the features.\n",
        "feature_description = {\n",
        "    'table_id': tf.io.FixedLenFeature([], tf.int64),\n",
        "    'doc_id': tf.io.FixedLenFeature([], tf.string),\n",
        "    'record_index': tf.io.FixedLenFeature([], tf.int64),\n",
        "    'col_index': tf.io.FixedLenFeature([], tf.int64),\n",
        "    'formula': tf.io.FixedLenFeature([], tf.string),\n",
        "    'formula_token_list': tf.io.FixedLenFeature([], tf.string),\n",
        "    'ranges': tf.io.FixedLenFeature([], tf.string),\n",
        "    'computed_value': tf.io.FixedLenFeature([], tf.string),\n",
        "    'header': tf.io.FixedLenFeature([], tf.string),\n",
        "    'context_header': tf.io.FixedLenFeature([], tf.string),\n",
        "    'context_data': tf.io.FixedLenFeature([], tf.string)\n",
        "}\n",
        "\n",
        "def _parse_example(example_proto):\n",
        "  # Parse the input `tf.train.Example` proto using the dictionary above.\n",
        "  feature_dict = tf.io.parse_single_example(example_proto, feature_description)\n",
        "  return feature_dict\n",
        "\n",
        "parsed_dataset = raw_dataset.map(_parse_example)\n",
        "\n",
        "parsed_dataset"
      ],
      "execution_count": 6,
      "outputs": [
        {
          "output_type": "execute_result",
          "data": {
            "text/plain": [
              "<MapDataset shapes: {col_index: (), computed_value: (), context_data: (), context_header: (), doc_id: (), formula: (), formula_token_list: (), header: (), ranges: (), record_index: (), table_id: ()}, types: {col_index: tf.int64, computed_value: tf.string, context_data: tf.string, context_header: tf.string, doc_id: tf.string, formula: tf.string, formula_token_list: tf.string, header: tf.string, ranges: tf.string, record_index: tf.int64, table_id: tf.int64}>"
            ]
          },
          "metadata": {},
          "execution_count": 6
        }
      ]
    },
    {
      "cell_type": "code",
      "metadata": {
        "colab": {
          "base_uri": "https://localhost:8080/"
        },
        "id": "R7VRu9ONF1NW",
        "outputId": "fecb92cf-f99b-4931-b939-51cffbb1eb75"
      },
      "source": [
        "# Show the first 3 observations in datasets.\n",
        "for parsed_record in parsed_dataset.take(10):\n",
        "  print(parsed_record)"
      ],
      "execution_count": 7,
      "outputs": [
        {
          "output_type": "stream",
          "name": "stdout",
          "text": [
            "{'col_index': <tf.Tensor: shape=(), dtype=int64, numpy=25>, 'computed_value': <tf.Tensor: shape=(), dtype=string, numpy=b'doub:0.0'>, 'context_data': <tf.Tensor: shape=(), dtype=string, numpy=b'$R[0]C[0]$formula=RANGE UPLUS RANGE - FORMULA_START, formulaTokenList==+ RANGE - RANGE, ranges=[R1C1FormulaRange{relativeRange=R[0]C[-12], startTokenIndex=2, workbookRangeId=null}, R1C1FormulaRange{relativeRange=R[0]C[-2], startTokenIndex=4, workbookRangeId=null}], computedValue=doub:0.0$$R[1]C[0]$formula=RANGE UPLUS RANGE - FORMULA_START, formulaTokenList==+ RANGE - RANGE, ranges=[R1C1FormulaRange{relativeRange=R[0]C[-12], startTokenIndex=2, workbookRangeId=null}, R1C1FormulaRange{relativeRange=R[0]C[-2], startTokenIndex=4, workbookRangeId=null}], computedValue=doub:-2392.0$$R[2]C[0]$formula=RANGE UPLUS RANGE - FORMULA_START, formulaTokenList==+ RANGE - RANGE, ranges=[R1C1FormulaRange{relativeRange=R[0]C[-12], startTokenIndex=2, workbookRangeId=null}, R1C1FormulaRange{relativeRange=R[0]C[-2], startTokenIndex=4, workbookRangeId=null}], computedValue=doub:-995.0$$R[3]C[0]$formula=RANGE UPLUS RANGE - FORMULA_START, formulaTokenList==+ RANGE - RANGE, ranges=[R1C1FormulaRange{relativeRange=R[0]C[-12], startTokenIndex=2, workbookRangeId=null}, R1C1FormulaRange{relativeRange=R[0]C[-2], startTokenIndex=4, workbookRangeId=null}], computedValue=doub:-818.0$$R[4]C[0]$formula=RANGE UPLUS RANGE - FORMULA_START, formulaTokenList==+ RANGE - RANGE, ranges=[R1C1FormulaRange{relativeRange=R[0]C[-12], startTokenIndex=2, workbookRangeId=null}, R1C1FormulaRange{relativeRange=R[0]C[-2], startTokenIndex=4, workbookRangeId=null}], computedValue=doub:-1899.0$$R[5]C[0]$formula=RANGE UPLUS RANGE - FORMULA_START, formulaTokenList==+ RANGE - RANGE, ranges=[R1C1FormulaRange{relativeRange=R[0]C[-12], startTokenIndex=2, workbookRangeId=null}, R1C1FormulaRange{relativeRange=R[0]C[-2], startTokenIndex=4, workbookRangeId=null}], computedValue=doub:-2298.0$$R[6]C[0]$formula=RANGE UPLUS RANGE - FORMULA_START, formulaTokenList==+ RANGE - RANGE, ranges=[R1C1FormulaRange{relativeRange=R[0]C[-12], startTokenIndex=2, workbookRangeId=null}, R1C1FormulaRange{relativeRange=R[0]C[-2], startTokenIndex=4, workbookRangeId=null}], computedValue=doub:-1888.0$$R[7]C[0]$formula=RANGE UPLUS RANGE - FORMULA_START, formulaTokenList==+ RANGE - RANGE, ranges=[R1C1FormulaRange{relativeRange=R[0]C[-12], startTokenIndex=2, workbookRangeId=null}, R1C1FormulaRange{relativeRange=R[0]C[-2], startTokenIndex=4, workbookRangeId=null}], computedValue=doub:0.0$$R[8]C[0]$formula=RANGE UPLUS RANGE - FORMULA_START, formulaTokenList==+ RANGE - RANGE, ranges=[R1C1FormulaRange{relativeRange=R[0]C[-12], startTokenIndex=2, workbookRangeId=null}, R1C1FormulaRange{relativeRange=R[0]C[-2], startTokenIndex=4, workbookRangeId=null}], computedValue=doub:0.0$$R[9]C[0]$formula=RANGE UPLUS RANGE - FORMULA_START, formulaTokenList==+ RANGE - RANGE, ranges=[R1C1FormulaRange{relativeRange=R[0]C[-12], startTokenIndex=2, workbookRangeId=null}, R1C1FormulaRange{relativeRange=R[0]C[-2], startTokenIndex=4, workbookRangeId=null}], computedValue=doub:0.0$$R[10]C[0]$formula=RANGE UPLUS RANGE - FORMULA_START, formulaTokenList==+ RANGE - RANGE, ranges=[R1C1FormulaRange{relativeRange=R[0]C[-12], startTokenIndex=2, workbookRangeId=null}, R1C1FormulaRange{relativeRange=R[0]C[-2], startTokenIndex=4, workbookRangeId=null}], computedValue=doub:0.0$'>, 'context_header': <tf.Tensor: shape=(), dtype=string, numpy=b'$C[0]$'>, 'doc_id': <tf.Tensor: shape=(), dtype=string, numpy=b''>, 'formula': <tf.Tensor: shape=(), dtype=string, numpy=b'RANGE UPLUS RANGE - FORMULA_START'>, 'formula_token_list': <tf.Tensor: shape=(), dtype=string, numpy=b\"b'= +  RANGE -  RANGE'\">, 'header': <tf.Tensor: shape=(), dtype=string, numpy=b''>, 'ranges': <tf.Tensor: shape=(), dtype=string, numpy=b'R[0]C[-12] R[0]C[-2]'>, 'record_index': <tf.Tensor: shape=(), dtype=int64, numpy=0>, 'table_id': <tf.Tensor: shape=(), dtype=int64, numpy=15>}\n",
            "{'col_index': <tf.Tensor: shape=(), dtype=int64, numpy=25>, 'computed_value': <tf.Tensor: shape=(), dtype=string, numpy=b'doub:-2392.0'>, 'context_data': <tf.Tensor: shape=(), dtype=string, numpy=b'$R[-1]C[0]$formula=RANGE UPLUS RANGE - FORMULA_START, formulaTokenList==+ RANGE - RANGE, ranges=[R1C1FormulaRange{relativeRange=R[0]C[-12], startTokenIndex=2, workbookRangeId=null}, R1C1FormulaRange{relativeRange=R[0]C[-2], startTokenIndex=4, workbookRangeId=null}], computedValue=doub:0.0$$R[0]C[0]$formula=RANGE UPLUS RANGE - FORMULA_START, formulaTokenList==+ RANGE - RANGE, ranges=[R1C1FormulaRange{relativeRange=R[0]C[-12], startTokenIndex=2, workbookRangeId=null}, R1C1FormulaRange{relativeRange=R[0]C[-2], startTokenIndex=4, workbookRangeId=null}], computedValue=doub:-2392.0$$R[1]C[0]$formula=RANGE UPLUS RANGE - FORMULA_START, formulaTokenList==+ RANGE - RANGE, ranges=[R1C1FormulaRange{relativeRange=R[0]C[-12], startTokenIndex=2, workbookRangeId=null}, R1C1FormulaRange{relativeRange=R[0]C[-2], startTokenIndex=4, workbookRangeId=null}], computedValue=doub:-995.0$$R[2]C[0]$formula=RANGE UPLUS RANGE - FORMULA_START, formulaTokenList==+ RANGE - RANGE, ranges=[R1C1FormulaRange{relativeRange=R[0]C[-12], startTokenIndex=2, workbookRangeId=null}, R1C1FormulaRange{relativeRange=R[0]C[-2], startTokenIndex=4, workbookRangeId=null}], computedValue=doub:-818.0$$R[3]C[0]$formula=RANGE UPLUS RANGE - FORMULA_START, formulaTokenList==+ RANGE - RANGE, ranges=[R1C1FormulaRange{relativeRange=R[0]C[-12], startTokenIndex=2, workbookRangeId=null}, R1C1FormulaRange{relativeRange=R[0]C[-2], startTokenIndex=4, workbookRangeId=null}], computedValue=doub:-1899.0$$R[4]C[0]$formula=RANGE UPLUS RANGE - FORMULA_START, formulaTokenList==+ RANGE - RANGE, ranges=[R1C1FormulaRange{relativeRange=R[0]C[-12], startTokenIndex=2, workbookRangeId=null}, R1C1FormulaRange{relativeRange=R[0]C[-2], startTokenIndex=4, workbookRangeId=null}], computedValue=doub:-2298.0$$R[5]C[0]$formula=RANGE UPLUS RANGE - FORMULA_START, formulaTokenList==+ RANGE - RANGE, ranges=[R1C1FormulaRange{relativeRange=R[0]C[-12], startTokenIndex=2, workbookRangeId=null}, R1C1FormulaRange{relativeRange=R[0]C[-2], startTokenIndex=4, workbookRangeId=null}], computedValue=doub:-1888.0$$R[6]C[0]$formula=RANGE UPLUS RANGE - FORMULA_START, formulaTokenList==+ RANGE - RANGE, ranges=[R1C1FormulaRange{relativeRange=R[0]C[-12], startTokenIndex=2, workbookRangeId=null}, R1C1FormulaRange{relativeRange=R[0]C[-2], startTokenIndex=4, workbookRangeId=null}], computedValue=doub:0.0$$R[7]C[0]$formula=RANGE UPLUS RANGE - FORMULA_START, formulaTokenList==+ RANGE - RANGE, ranges=[R1C1FormulaRange{relativeRange=R[0]C[-12], startTokenIndex=2, workbookRangeId=null}, R1C1FormulaRange{relativeRange=R[0]C[-2], startTokenIndex=4, workbookRangeId=null}], computedValue=doub:0.0$$R[8]C[0]$formula=RANGE UPLUS RANGE - FORMULA_START, formulaTokenList==+ RANGE - RANGE, ranges=[R1C1FormulaRange{relativeRange=R[0]C[-12], startTokenIndex=2, workbookRangeId=null}, R1C1FormulaRange{relativeRange=R[0]C[-2], startTokenIndex=4, workbookRangeId=null}], computedValue=doub:0.0$$R[9]C[0]$formula=RANGE UPLUS RANGE - FORMULA_START, formulaTokenList==+ RANGE - RANGE, ranges=[R1C1FormulaRange{relativeRange=R[0]C[-12], startTokenIndex=2, workbookRangeId=null}, R1C1FormulaRange{relativeRange=R[0]C[-2], startTokenIndex=4, workbookRangeId=null}], computedValue=doub:0.0$$R[10]C[0]$formula=RANGE UPLUS RANGE - FORMULA_START, formulaTokenList==+ RANGE - RANGE, ranges=[R1C1FormulaRange{relativeRange=R[0]C[-12], startTokenIndex=2, workbookRangeId=null}, R1C1FormulaRange{relativeRange=R[0]C[-2], startTokenIndex=4, workbookRangeId=null}], computedValue=doub:0.0$'>, 'context_header': <tf.Tensor: shape=(), dtype=string, numpy=b'$C[0]$'>, 'doc_id': <tf.Tensor: shape=(), dtype=string, numpy=b''>, 'formula': <tf.Tensor: shape=(), dtype=string, numpy=b'RANGE UPLUS RANGE - FORMULA_START'>, 'formula_token_list': <tf.Tensor: shape=(), dtype=string, numpy=b\"b'= +  RANGE -  RANGE'\">, 'header': <tf.Tensor: shape=(), dtype=string, numpy=b''>, 'ranges': <tf.Tensor: shape=(), dtype=string, numpy=b'R[0]C[-12] R[0]C[-2]'>, 'record_index': <tf.Tensor: shape=(), dtype=int64, numpy=1>, 'table_id': <tf.Tensor: shape=(), dtype=int64, numpy=15>}\n",
            "{'col_index': <tf.Tensor: shape=(), dtype=int64, numpy=25>, 'computed_value': <tf.Tensor: shape=(), dtype=string, numpy=b'doub:-995.0'>, 'context_data': <tf.Tensor: shape=(), dtype=string, numpy=b'$R[-2]C[0]$formula=RANGE UPLUS RANGE - FORMULA_START, formulaTokenList==+ RANGE - RANGE, ranges=[R1C1FormulaRange{relativeRange=R[0]C[-12], startTokenIndex=2, workbookRangeId=null}, R1C1FormulaRange{relativeRange=R[0]C[-2], startTokenIndex=4, workbookRangeId=null}], computedValue=doub:0.0$$R[-1]C[0]$formula=RANGE UPLUS RANGE - FORMULA_START, formulaTokenList==+ RANGE - RANGE, ranges=[R1C1FormulaRange{relativeRange=R[0]C[-12], startTokenIndex=2, workbookRangeId=null}, R1C1FormulaRange{relativeRange=R[0]C[-2], startTokenIndex=4, workbookRangeId=null}], computedValue=doub:-2392.0$$R[0]C[0]$formula=RANGE UPLUS RANGE - FORMULA_START, formulaTokenList==+ RANGE - RANGE, ranges=[R1C1FormulaRange{relativeRange=R[0]C[-12], startTokenIndex=2, workbookRangeId=null}, R1C1FormulaRange{relativeRange=R[0]C[-2], startTokenIndex=4, workbookRangeId=null}], computedValue=doub:-995.0$$R[1]C[0]$formula=RANGE UPLUS RANGE - FORMULA_START, formulaTokenList==+ RANGE - RANGE, ranges=[R1C1FormulaRange{relativeRange=R[0]C[-12], startTokenIndex=2, workbookRangeId=null}, R1C1FormulaRange{relativeRange=R[0]C[-2], startTokenIndex=4, workbookRangeId=null}], computedValue=doub:-818.0$$R[2]C[0]$formula=RANGE UPLUS RANGE - FORMULA_START, formulaTokenList==+ RANGE - RANGE, ranges=[R1C1FormulaRange{relativeRange=R[0]C[-12], startTokenIndex=2, workbookRangeId=null}, R1C1FormulaRange{relativeRange=R[0]C[-2], startTokenIndex=4, workbookRangeId=null}], computedValue=doub:-1899.0$$R[3]C[0]$formula=RANGE UPLUS RANGE - FORMULA_START, formulaTokenList==+ RANGE - RANGE, ranges=[R1C1FormulaRange{relativeRange=R[0]C[-12], startTokenIndex=2, workbookRangeId=null}, R1C1FormulaRange{relativeRange=R[0]C[-2], startTokenIndex=4, workbookRangeId=null}], computedValue=doub:-2298.0$$R[4]C[0]$formula=RANGE UPLUS RANGE - FORMULA_START, formulaTokenList==+ RANGE - RANGE, ranges=[R1C1FormulaRange{relativeRange=R[0]C[-12], startTokenIndex=2, workbookRangeId=null}, R1C1FormulaRange{relativeRange=R[0]C[-2], startTokenIndex=4, workbookRangeId=null}], computedValue=doub:-1888.0$$R[5]C[0]$formula=RANGE UPLUS RANGE - FORMULA_START, formulaTokenList==+ RANGE - RANGE, ranges=[R1C1FormulaRange{relativeRange=R[0]C[-12], startTokenIndex=2, workbookRangeId=null}, R1C1FormulaRange{relativeRange=R[0]C[-2], startTokenIndex=4, workbookRangeId=null}], computedValue=doub:0.0$$R[6]C[0]$formula=RANGE UPLUS RANGE - FORMULA_START, formulaTokenList==+ RANGE - RANGE, ranges=[R1C1FormulaRange{relativeRange=R[0]C[-12], startTokenIndex=2, workbookRangeId=null}, R1C1FormulaRange{relativeRange=R[0]C[-2], startTokenIndex=4, workbookRangeId=null}], computedValue=doub:0.0$$R[7]C[0]$formula=RANGE UPLUS RANGE - FORMULA_START, formulaTokenList==+ RANGE - RANGE, ranges=[R1C1FormulaRange{relativeRange=R[0]C[-12], startTokenIndex=2, workbookRangeId=null}, R1C1FormulaRange{relativeRange=R[0]C[-2], startTokenIndex=4, workbookRangeId=null}], computedValue=doub:0.0$$R[8]C[0]$formula=RANGE UPLUS RANGE - FORMULA_START, formulaTokenList==+ RANGE - RANGE, ranges=[R1C1FormulaRange{relativeRange=R[0]C[-12], startTokenIndex=2, workbookRangeId=null}, R1C1FormulaRange{relativeRange=R[0]C[-2], startTokenIndex=4, workbookRangeId=null}], computedValue=doub:0.0$$R[9]C[0]$formula=RANGE UPLUS RANGE - FORMULA_START, formulaTokenList==+ RANGE - RANGE, ranges=[R1C1FormulaRange{relativeRange=R[0]C[-12], startTokenIndex=2, workbookRangeId=null}, R1C1FormulaRange{relativeRange=R[0]C[-2], startTokenIndex=4, workbookRangeId=null}], computedValue=doub:0.0$$R[10]C[0]$formula=RANGE UPLUS RANGE - FORMULA_START, formulaTokenList==+ RANGE - RANGE, ranges=[R1C1FormulaRange{relativeRange=R[0]C[-12], startTokenIndex=2, workbookRangeId=null}, R1C1FormulaRange{relativeRange=R[0]C[-2], startTokenIndex=4, workbookRangeId=null}], computedValue=doub:0.0$'>, 'context_header': <tf.Tensor: shape=(), dtype=string, numpy=b'$C[0]$'>, 'doc_id': <tf.Tensor: shape=(), dtype=string, numpy=b''>, 'formula': <tf.Tensor: shape=(), dtype=string, numpy=b'RANGE UPLUS RANGE - FORMULA_START'>, 'formula_token_list': <tf.Tensor: shape=(), dtype=string, numpy=b\"b'= +  RANGE -  RANGE'\">, 'header': <tf.Tensor: shape=(), dtype=string, numpy=b''>, 'ranges': <tf.Tensor: shape=(), dtype=string, numpy=b'R[0]C[-12] R[0]C[-2]'>, 'record_index': <tf.Tensor: shape=(), dtype=int64, numpy=2>, 'table_id': <tf.Tensor: shape=(), dtype=int64, numpy=15>}\n",
            "{'col_index': <tf.Tensor: shape=(), dtype=int64, numpy=25>, 'computed_value': <tf.Tensor: shape=(), dtype=string, numpy=b'doub:-818.0'>, 'context_data': <tf.Tensor: shape=(), dtype=string, numpy=b'$R[-3]C[0]$formula=RANGE UPLUS RANGE - FORMULA_START, formulaTokenList==+ RANGE - RANGE, ranges=[R1C1FormulaRange{relativeRange=R[0]C[-12], startTokenIndex=2, workbookRangeId=null}, R1C1FormulaRange{relativeRange=R[0]C[-2], startTokenIndex=4, workbookRangeId=null}], computedValue=doub:0.0$$R[-2]C[0]$formula=RANGE UPLUS RANGE - FORMULA_START, formulaTokenList==+ RANGE - RANGE, ranges=[R1C1FormulaRange{relativeRange=R[0]C[-12], startTokenIndex=2, workbookRangeId=null}, R1C1FormulaRange{relativeRange=R[0]C[-2], startTokenIndex=4, workbookRangeId=null}], computedValue=doub:-2392.0$$R[-1]C[0]$formula=RANGE UPLUS RANGE - FORMULA_START, formulaTokenList==+ RANGE - RANGE, ranges=[R1C1FormulaRange{relativeRange=R[0]C[-12], startTokenIndex=2, workbookRangeId=null}, R1C1FormulaRange{relativeRange=R[0]C[-2], startTokenIndex=4, workbookRangeId=null}], computedValue=doub:-995.0$$R[0]C[0]$formula=RANGE UPLUS RANGE - FORMULA_START, formulaTokenList==+ RANGE - RANGE, ranges=[R1C1FormulaRange{relativeRange=R[0]C[-12], startTokenIndex=2, workbookRangeId=null}, R1C1FormulaRange{relativeRange=R[0]C[-2], startTokenIndex=4, workbookRangeId=null}], computedValue=doub:-818.0$$R[1]C[0]$formula=RANGE UPLUS RANGE - FORMULA_START, formulaTokenList==+ RANGE - RANGE, ranges=[R1C1FormulaRange{relativeRange=R[0]C[-12], startTokenIndex=2, workbookRangeId=null}, R1C1FormulaRange{relativeRange=R[0]C[-2], startTokenIndex=4, workbookRangeId=null}], computedValue=doub:-1899.0$$R[2]C[0]$formula=RANGE UPLUS RANGE - FORMULA_START, formulaTokenList==+ RANGE - RANGE, ranges=[R1C1FormulaRange{relativeRange=R[0]C[-12], startTokenIndex=2, workbookRangeId=null}, R1C1FormulaRange{relativeRange=R[0]C[-2], startTokenIndex=4, workbookRangeId=null}], computedValue=doub:-2298.0$$R[3]C[0]$formula=RANGE UPLUS RANGE - FORMULA_START, formulaTokenList==+ RANGE - RANGE, ranges=[R1C1FormulaRange{relativeRange=R[0]C[-12], startTokenIndex=2, workbookRangeId=null}, R1C1FormulaRange{relativeRange=R[0]C[-2], startTokenIndex=4, workbookRangeId=null}], computedValue=doub:-1888.0$$R[4]C[0]$formula=RANGE UPLUS RANGE - FORMULA_START, formulaTokenList==+ RANGE - RANGE, ranges=[R1C1FormulaRange{relativeRange=R[0]C[-12], startTokenIndex=2, workbookRangeId=null}, R1C1FormulaRange{relativeRange=R[0]C[-2], startTokenIndex=4, workbookRangeId=null}], computedValue=doub:0.0$$R[5]C[0]$formula=RANGE UPLUS RANGE - FORMULA_START, formulaTokenList==+ RANGE - RANGE, ranges=[R1C1FormulaRange{relativeRange=R[0]C[-12], startTokenIndex=2, workbookRangeId=null}, R1C1FormulaRange{relativeRange=R[0]C[-2], startTokenIndex=4, workbookRangeId=null}], computedValue=doub:0.0$$R[6]C[0]$formula=RANGE UPLUS RANGE - FORMULA_START, formulaTokenList==+ RANGE - RANGE, ranges=[R1C1FormulaRange{relativeRange=R[0]C[-12], startTokenIndex=2, workbookRangeId=null}, R1C1FormulaRange{relativeRange=R[0]C[-2], startTokenIndex=4, workbookRangeId=null}], computedValue=doub:0.0$$R[7]C[0]$formula=RANGE UPLUS RANGE - FORMULA_START, formulaTokenList==+ RANGE - RANGE, ranges=[R1C1FormulaRange{relativeRange=R[0]C[-12], startTokenIndex=2, workbookRangeId=null}, R1C1FormulaRange{relativeRange=R[0]C[-2], startTokenIndex=4, workbookRangeId=null}], computedValue=doub:0.0$$R[8]C[0]$formula=RANGE UPLUS RANGE - FORMULA_START, formulaTokenList==+ RANGE - RANGE, ranges=[R1C1FormulaRange{relativeRange=R[0]C[-12], startTokenIndex=2, workbookRangeId=null}, R1C1FormulaRange{relativeRange=R[0]C[-2], startTokenIndex=4, workbookRangeId=null}], computedValue=doub:0.0$$R[9]C[0]$formula=RANGE UPLUS RANGE - FORMULA_START, formulaTokenList==+ RANGE - RANGE, ranges=[R1C1FormulaRange{relativeRange=R[0]C[-12], startTokenIndex=2, workbookRangeId=null}, R1C1FormulaRange{relativeRange=R[0]C[-2], startTokenIndex=4, workbookRangeId=null}], computedValue=doub:0.0$$R[10]C[0]$formula=RANGE UPLUS RANGE - FORMULA_START, formulaTokenList==+ RANGE - RANGE, ranges=[R1C1FormulaRange{relativeRange=R[0]C[-12], startTokenIndex=2, workbookRangeId=null}, R1C1FormulaRange{relativeRange=R[0]C[-2], startTokenIndex=4, workbookRangeId=null}], computedValue=doub:0.0$'>, 'context_header': <tf.Tensor: shape=(), dtype=string, numpy=b'$C[0]$'>, 'doc_id': <tf.Tensor: shape=(), dtype=string, numpy=b''>, 'formula': <tf.Tensor: shape=(), dtype=string, numpy=b'RANGE UPLUS RANGE - FORMULA_START'>, 'formula_token_list': <tf.Tensor: shape=(), dtype=string, numpy=b\"b'= +  RANGE -  RANGE'\">, 'header': <tf.Tensor: shape=(), dtype=string, numpy=b''>, 'ranges': <tf.Tensor: shape=(), dtype=string, numpy=b'R[0]C[-12] R[0]C[-2]'>, 'record_index': <tf.Tensor: shape=(), dtype=int64, numpy=3>, 'table_id': <tf.Tensor: shape=(), dtype=int64, numpy=15>}\n",
            "{'col_index': <tf.Tensor: shape=(), dtype=int64, numpy=25>, 'computed_value': <tf.Tensor: shape=(), dtype=string, numpy=b'doub:-1899.0'>, 'context_data': <tf.Tensor: shape=(), dtype=string, numpy=b'$R[-4]C[0]$formula=RANGE UPLUS RANGE - FORMULA_START, formulaTokenList==+ RANGE - RANGE, ranges=[R1C1FormulaRange{relativeRange=R[0]C[-12], startTokenIndex=2, workbookRangeId=null}, R1C1FormulaRange{relativeRange=R[0]C[-2], startTokenIndex=4, workbookRangeId=null}], computedValue=doub:0.0$$R[-3]C[0]$formula=RANGE UPLUS RANGE - FORMULA_START, formulaTokenList==+ RANGE - RANGE, ranges=[R1C1FormulaRange{relativeRange=R[0]C[-12], startTokenIndex=2, workbookRangeId=null}, R1C1FormulaRange{relativeRange=R[0]C[-2], startTokenIndex=4, workbookRangeId=null}], computedValue=doub:-2392.0$$R[-2]C[0]$formula=RANGE UPLUS RANGE - FORMULA_START, formulaTokenList==+ RANGE - RANGE, ranges=[R1C1FormulaRange{relativeRange=R[0]C[-12], startTokenIndex=2, workbookRangeId=null}, R1C1FormulaRange{relativeRange=R[0]C[-2], startTokenIndex=4, workbookRangeId=null}], computedValue=doub:-995.0$$R[-1]C[0]$formula=RANGE UPLUS RANGE - FORMULA_START, formulaTokenList==+ RANGE - RANGE, ranges=[R1C1FormulaRange{relativeRange=R[0]C[-12], startTokenIndex=2, workbookRangeId=null}, R1C1FormulaRange{relativeRange=R[0]C[-2], startTokenIndex=4, workbookRangeId=null}], computedValue=doub:-818.0$$R[0]C[0]$formula=RANGE UPLUS RANGE - FORMULA_START, formulaTokenList==+ RANGE - RANGE, ranges=[R1C1FormulaRange{relativeRange=R[0]C[-12], startTokenIndex=2, workbookRangeId=null}, R1C1FormulaRange{relativeRange=R[0]C[-2], startTokenIndex=4, workbookRangeId=null}], computedValue=doub:-1899.0$$R[1]C[0]$formula=RANGE UPLUS RANGE - FORMULA_START, formulaTokenList==+ RANGE - RANGE, ranges=[R1C1FormulaRange{relativeRange=R[0]C[-12], startTokenIndex=2, workbookRangeId=null}, R1C1FormulaRange{relativeRange=R[0]C[-2], startTokenIndex=4, workbookRangeId=null}], computedValue=doub:-2298.0$$R[2]C[0]$formula=RANGE UPLUS RANGE - FORMULA_START, formulaTokenList==+ RANGE - RANGE, ranges=[R1C1FormulaRange{relativeRange=R[0]C[-12], startTokenIndex=2, workbookRangeId=null}, R1C1FormulaRange{relativeRange=R[0]C[-2], startTokenIndex=4, workbookRangeId=null}], computedValue=doub:-1888.0$$R[3]C[0]$formula=RANGE UPLUS RANGE - FORMULA_START, formulaTokenList==+ RANGE - RANGE, ranges=[R1C1FormulaRange{relativeRange=R[0]C[-12], startTokenIndex=2, workbookRangeId=null}, R1C1FormulaRange{relativeRange=R[0]C[-2], startTokenIndex=4, workbookRangeId=null}], computedValue=doub:0.0$$R[4]C[0]$formula=RANGE UPLUS RANGE - FORMULA_START, formulaTokenList==+ RANGE - RANGE, ranges=[R1C1FormulaRange{relativeRange=R[0]C[-12], startTokenIndex=2, workbookRangeId=null}, R1C1FormulaRange{relativeRange=R[0]C[-2], startTokenIndex=4, workbookRangeId=null}], computedValue=doub:0.0$$R[5]C[0]$formula=RANGE UPLUS RANGE - FORMULA_START, formulaTokenList==+ RANGE - RANGE, ranges=[R1C1FormulaRange{relativeRange=R[0]C[-12], startTokenIndex=2, workbookRangeId=null}, R1C1FormulaRange{relativeRange=R[0]C[-2], startTokenIndex=4, workbookRangeId=null}], computedValue=doub:0.0$$R[6]C[0]$formula=RANGE UPLUS RANGE - FORMULA_START, formulaTokenList==+ RANGE - RANGE, ranges=[R1C1FormulaRange{relativeRange=R[0]C[-12], startTokenIndex=2, workbookRangeId=null}, R1C1FormulaRange{relativeRange=R[0]C[-2], startTokenIndex=4, workbookRangeId=null}], computedValue=doub:0.0$$R[7]C[0]$formula=RANGE UPLUS RANGE - FORMULA_START, formulaTokenList==+ RANGE - RANGE, ranges=[R1C1FormulaRange{relativeRange=R[0]C[-12], startTokenIndex=2, workbookRangeId=null}, R1C1FormulaRange{relativeRange=R[0]C[-2], startTokenIndex=4, workbookRangeId=null}], computedValue=doub:0.0$$R[8]C[0]$formula=RANGE UPLUS RANGE - FORMULA_START, formulaTokenList==+ RANGE - RANGE, ranges=[R1C1FormulaRange{relativeRange=R[0]C[-12], startTokenIndex=2, workbookRangeId=null}, R1C1FormulaRange{relativeRange=R[0]C[-2], startTokenIndex=4, workbookRangeId=null}], computedValue=doub:0.0$$R[9]C[0]$formula=RANGE UPLUS RANGE - FORMULA_START, formulaTokenList==+ RANGE - RANGE, ranges=[R1C1FormulaRange{relativeRange=R[0]C[-12], startTokenIndex=2, workbookRangeId=null}, R1C1FormulaRange{relativeRange=R[0]C[-2], startTokenIndex=4, workbookRangeId=null}], computedValue=doub:0.0$$R[10]C[0]$formula=RANGE UPLUS RANGE - FORMULA_START, formulaTokenList==+ RANGE - RANGE, ranges=[R1C1FormulaRange{relativeRange=R[0]C[-12], startTokenIndex=2, workbookRangeId=null}, R1C1FormulaRange{relativeRange=R[0]C[-2], startTokenIndex=4, workbookRangeId=null}], computedValue=doub:0.0$'>, 'context_header': <tf.Tensor: shape=(), dtype=string, numpy=b'$C[0]$'>, 'doc_id': <tf.Tensor: shape=(), dtype=string, numpy=b''>, 'formula': <tf.Tensor: shape=(), dtype=string, numpy=b'RANGE UPLUS RANGE - FORMULA_START'>, 'formula_token_list': <tf.Tensor: shape=(), dtype=string, numpy=b\"b'= +  RANGE -  RANGE'\">, 'header': <tf.Tensor: shape=(), dtype=string, numpy=b''>, 'ranges': <tf.Tensor: shape=(), dtype=string, numpy=b'R[0]C[-12] R[0]C[-2]'>, 'record_index': <tf.Tensor: shape=(), dtype=int64, numpy=4>, 'table_id': <tf.Tensor: shape=(), dtype=int64, numpy=15>}\n",
            "{'col_index': <tf.Tensor: shape=(), dtype=int64, numpy=25>, 'computed_value': <tf.Tensor: shape=(), dtype=string, numpy=b'doub:-2298.0'>, 'context_data': <tf.Tensor: shape=(), dtype=string, numpy=b'$R[-5]C[0]$formula=RANGE UPLUS RANGE - FORMULA_START, formulaTokenList==+ RANGE - RANGE, ranges=[R1C1FormulaRange{relativeRange=R[0]C[-12], startTokenIndex=2, workbookRangeId=null}, R1C1FormulaRange{relativeRange=R[0]C[-2], startTokenIndex=4, workbookRangeId=null}], computedValue=doub:0.0$$R[-4]C[0]$formula=RANGE UPLUS RANGE - FORMULA_START, formulaTokenList==+ RANGE - RANGE, ranges=[R1C1FormulaRange{relativeRange=R[0]C[-12], startTokenIndex=2, workbookRangeId=null}, R1C1FormulaRange{relativeRange=R[0]C[-2], startTokenIndex=4, workbookRangeId=null}], computedValue=doub:-2392.0$$R[-3]C[0]$formula=RANGE UPLUS RANGE - FORMULA_START, formulaTokenList==+ RANGE - RANGE, ranges=[R1C1FormulaRange{relativeRange=R[0]C[-12], startTokenIndex=2, workbookRangeId=null}, R1C1FormulaRange{relativeRange=R[0]C[-2], startTokenIndex=4, workbookRangeId=null}], computedValue=doub:-995.0$$R[-2]C[0]$formula=RANGE UPLUS RANGE - FORMULA_START, formulaTokenList==+ RANGE - RANGE, ranges=[R1C1FormulaRange{relativeRange=R[0]C[-12], startTokenIndex=2, workbookRangeId=null}, R1C1FormulaRange{relativeRange=R[0]C[-2], startTokenIndex=4, workbookRangeId=null}], computedValue=doub:-818.0$$R[-1]C[0]$formula=RANGE UPLUS RANGE - FORMULA_START, formulaTokenList==+ RANGE - RANGE, ranges=[R1C1FormulaRange{relativeRange=R[0]C[-12], startTokenIndex=2, workbookRangeId=null}, R1C1FormulaRange{relativeRange=R[0]C[-2], startTokenIndex=4, workbookRangeId=null}], computedValue=doub:-1899.0$$R[0]C[0]$formula=RANGE UPLUS RANGE - FORMULA_START, formulaTokenList==+ RANGE - RANGE, ranges=[R1C1FormulaRange{relativeRange=R[0]C[-12], startTokenIndex=2, workbookRangeId=null}, R1C1FormulaRange{relativeRange=R[0]C[-2], startTokenIndex=4, workbookRangeId=null}], computedValue=doub:-2298.0$$R[1]C[0]$formula=RANGE UPLUS RANGE - FORMULA_START, formulaTokenList==+ RANGE - RANGE, ranges=[R1C1FormulaRange{relativeRange=R[0]C[-12], startTokenIndex=2, workbookRangeId=null}, R1C1FormulaRange{relativeRange=R[0]C[-2], startTokenIndex=4, workbookRangeId=null}], computedValue=doub:-1888.0$$R[2]C[0]$formula=RANGE UPLUS RANGE - FORMULA_START, formulaTokenList==+ RANGE - RANGE, ranges=[R1C1FormulaRange{relativeRange=R[0]C[-12], startTokenIndex=2, workbookRangeId=null}, R1C1FormulaRange{relativeRange=R[0]C[-2], startTokenIndex=4, workbookRangeId=null}], computedValue=doub:0.0$$R[3]C[0]$formula=RANGE UPLUS RANGE - FORMULA_START, formulaTokenList==+ RANGE - RANGE, ranges=[R1C1FormulaRange{relativeRange=R[0]C[-12], startTokenIndex=2, workbookRangeId=null}, R1C1FormulaRange{relativeRange=R[0]C[-2], startTokenIndex=4, workbookRangeId=null}], computedValue=doub:0.0$$R[4]C[0]$formula=RANGE UPLUS RANGE - FORMULA_START, formulaTokenList==+ RANGE - RANGE, ranges=[R1C1FormulaRange{relativeRange=R[0]C[-12], startTokenIndex=2, workbookRangeId=null}, R1C1FormulaRange{relativeRange=R[0]C[-2], startTokenIndex=4, workbookRangeId=null}], computedValue=doub:0.0$$R[5]C[0]$formula=RANGE UPLUS RANGE - FORMULA_START, formulaTokenList==+ RANGE - RANGE, ranges=[R1C1FormulaRange{relativeRange=R[0]C[-12], startTokenIndex=2, workbookRangeId=null}, R1C1FormulaRange{relativeRange=R[0]C[-2], startTokenIndex=4, workbookRangeId=null}], computedValue=doub:0.0$$R[6]C[0]$formula=RANGE UPLUS RANGE - FORMULA_START, formulaTokenList==+ RANGE - RANGE, ranges=[R1C1FormulaRange{relativeRange=R[0]C[-12], startTokenIndex=2, workbookRangeId=null}, R1C1FormulaRange{relativeRange=R[0]C[-2], startTokenIndex=4, workbookRangeId=null}], computedValue=doub:0.0$$R[7]C[0]$formula=RANGE UPLUS RANGE - FORMULA_START, formulaTokenList==+ RANGE - RANGE, ranges=[R1C1FormulaRange{relativeRange=R[0]C[-12], startTokenIndex=2, workbookRangeId=null}, R1C1FormulaRange{relativeRange=R[0]C[-2], startTokenIndex=4, workbookRangeId=null}], computedValue=doub:0.0$$R[8]C[0]$formula=RANGE UPLUS RANGE - FORMULA_START, formulaTokenList==+ RANGE - RANGE, ranges=[R1C1FormulaRange{relativeRange=R[0]C[-12], startTokenIndex=2, workbookRangeId=null}, R1C1FormulaRange{relativeRange=R[0]C[-2], startTokenIndex=4, workbookRangeId=null}], computedValue=doub:0.0$$R[9]C[0]$formula=RANGE UPLUS RANGE - FORMULA_START, formulaTokenList==+ RANGE - RANGE, ranges=[R1C1FormulaRange{relativeRange=R[0]C[-12], startTokenIndex=2, workbookRangeId=null}, R1C1FormulaRange{relativeRange=R[0]C[-2], startTokenIndex=4, workbookRangeId=null}], computedValue=doub:0.0$$R[10]C[0]$formula=RANGE UPLUS RANGE - FORMULA_START, formulaTokenList==+ RANGE - RANGE, ranges=[R1C1FormulaRange{relativeRange=R[0]C[-12], startTokenIndex=2, workbookRangeId=null}, R1C1FormulaRange{relativeRange=R[0]C[-2], startTokenIndex=4, workbookRangeId=null}], computedValue=doub:0.0$'>, 'context_header': <tf.Tensor: shape=(), dtype=string, numpy=b'$C[0]$'>, 'doc_id': <tf.Tensor: shape=(), dtype=string, numpy=b''>, 'formula': <tf.Tensor: shape=(), dtype=string, numpy=b'RANGE UPLUS RANGE - FORMULA_START'>, 'formula_token_list': <tf.Tensor: shape=(), dtype=string, numpy=b\"b'= +  RANGE -  RANGE'\">, 'header': <tf.Tensor: shape=(), dtype=string, numpy=b''>, 'ranges': <tf.Tensor: shape=(), dtype=string, numpy=b'R[0]C[-12] R[0]C[-2]'>, 'record_index': <tf.Tensor: shape=(), dtype=int64, numpy=5>, 'table_id': <tf.Tensor: shape=(), dtype=int64, numpy=15>}\n",
            "{'col_index': <tf.Tensor: shape=(), dtype=int64, numpy=25>, 'computed_value': <tf.Tensor: shape=(), dtype=string, numpy=b'doub:-1888.0'>, 'context_data': <tf.Tensor: shape=(), dtype=string, numpy=b'$R[-6]C[0]$formula=RANGE UPLUS RANGE - FORMULA_START, formulaTokenList==+ RANGE - RANGE, ranges=[R1C1FormulaRange{relativeRange=R[0]C[-12], startTokenIndex=2, workbookRangeId=null}, R1C1FormulaRange{relativeRange=R[0]C[-2], startTokenIndex=4, workbookRangeId=null}], computedValue=doub:0.0$$R[-5]C[0]$formula=RANGE UPLUS RANGE - FORMULA_START, formulaTokenList==+ RANGE - RANGE, ranges=[R1C1FormulaRange{relativeRange=R[0]C[-12], startTokenIndex=2, workbookRangeId=null}, R1C1FormulaRange{relativeRange=R[0]C[-2], startTokenIndex=4, workbookRangeId=null}], computedValue=doub:-2392.0$$R[-4]C[0]$formula=RANGE UPLUS RANGE - FORMULA_START, formulaTokenList==+ RANGE - RANGE, ranges=[R1C1FormulaRange{relativeRange=R[0]C[-12], startTokenIndex=2, workbookRangeId=null}, R1C1FormulaRange{relativeRange=R[0]C[-2], startTokenIndex=4, workbookRangeId=null}], computedValue=doub:-995.0$$R[-3]C[0]$formula=RANGE UPLUS RANGE - FORMULA_START, formulaTokenList==+ RANGE - RANGE, ranges=[R1C1FormulaRange{relativeRange=R[0]C[-12], startTokenIndex=2, workbookRangeId=null}, R1C1FormulaRange{relativeRange=R[0]C[-2], startTokenIndex=4, workbookRangeId=null}], computedValue=doub:-818.0$$R[-2]C[0]$formula=RANGE UPLUS RANGE - FORMULA_START, formulaTokenList==+ RANGE - RANGE, ranges=[R1C1FormulaRange{relativeRange=R[0]C[-12], startTokenIndex=2, workbookRangeId=null}, R1C1FormulaRange{relativeRange=R[0]C[-2], startTokenIndex=4, workbookRangeId=null}], computedValue=doub:-1899.0$$R[-1]C[0]$formula=RANGE UPLUS RANGE - FORMULA_START, formulaTokenList==+ RANGE - RANGE, ranges=[R1C1FormulaRange{relativeRange=R[0]C[-12], startTokenIndex=2, workbookRangeId=null}, R1C1FormulaRange{relativeRange=R[0]C[-2], startTokenIndex=4, workbookRangeId=null}], computedValue=doub:-2298.0$$R[0]C[0]$formula=RANGE UPLUS RANGE - FORMULA_START, formulaTokenList==+ RANGE - RANGE, ranges=[R1C1FormulaRange{relativeRange=R[0]C[-12], startTokenIndex=2, workbookRangeId=null}, R1C1FormulaRange{relativeRange=R[0]C[-2], startTokenIndex=4, workbookRangeId=null}], computedValue=doub:-1888.0$$R[1]C[0]$formula=RANGE UPLUS RANGE - FORMULA_START, formulaTokenList==+ RANGE - RANGE, ranges=[R1C1FormulaRange{relativeRange=R[0]C[-12], startTokenIndex=2, workbookRangeId=null}, R1C1FormulaRange{relativeRange=R[0]C[-2], startTokenIndex=4, workbookRangeId=null}], computedValue=doub:0.0$$R[2]C[0]$formula=RANGE UPLUS RANGE - FORMULA_START, formulaTokenList==+ RANGE - RANGE, ranges=[R1C1FormulaRange{relativeRange=R[0]C[-12], startTokenIndex=2, workbookRangeId=null}, R1C1FormulaRange{relativeRange=R[0]C[-2], startTokenIndex=4, workbookRangeId=null}], computedValue=doub:0.0$$R[3]C[0]$formula=RANGE UPLUS RANGE - FORMULA_START, formulaTokenList==+ RANGE - RANGE, ranges=[R1C1FormulaRange{relativeRange=R[0]C[-12], startTokenIndex=2, workbookRangeId=null}, R1C1FormulaRange{relativeRange=R[0]C[-2], startTokenIndex=4, workbookRangeId=null}], computedValue=doub:0.0$$R[4]C[0]$formula=RANGE UPLUS RANGE - FORMULA_START, formulaTokenList==+ RANGE - RANGE, ranges=[R1C1FormulaRange{relativeRange=R[0]C[-12], startTokenIndex=2, workbookRangeId=null}, R1C1FormulaRange{relativeRange=R[0]C[-2], startTokenIndex=4, workbookRangeId=null}], computedValue=doub:0.0$$R[5]C[0]$formula=RANGE UPLUS RANGE - FORMULA_START, formulaTokenList==+ RANGE - RANGE, ranges=[R1C1FormulaRange{relativeRange=R[0]C[-12], startTokenIndex=2, workbookRangeId=null}, R1C1FormulaRange{relativeRange=R[0]C[-2], startTokenIndex=4, workbookRangeId=null}], computedValue=doub:0.0$$R[6]C[0]$formula=RANGE UPLUS RANGE - FORMULA_START, formulaTokenList==+ RANGE - RANGE, ranges=[R1C1FormulaRange{relativeRange=R[0]C[-12], startTokenIndex=2, workbookRangeId=null}, R1C1FormulaRange{relativeRange=R[0]C[-2], startTokenIndex=4, workbookRangeId=null}], computedValue=doub:0.0$$R[7]C[0]$formula=RANGE UPLUS RANGE - FORMULA_START, formulaTokenList==+ RANGE - RANGE, ranges=[R1C1FormulaRange{relativeRange=R[0]C[-12], startTokenIndex=2, workbookRangeId=null}, R1C1FormulaRange{relativeRange=R[0]C[-2], startTokenIndex=4, workbookRangeId=null}], computedValue=doub:0.0$$R[8]C[0]$formula=RANGE UPLUS RANGE - FORMULA_START, formulaTokenList==+ RANGE - RANGE, ranges=[R1C1FormulaRange{relativeRange=R[0]C[-12], startTokenIndex=2, workbookRangeId=null}, R1C1FormulaRange{relativeRange=R[0]C[-2], startTokenIndex=4, workbookRangeId=null}], computedValue=doub:0.0$$R[9]C[0]$formula=RANGE UPLUS RANGE - FORMULA_START, formulaTokenList==+ RANGE - RANGE, ranges=[R1C1FormulaRange{relativeRange=R[0]C[-12], startTokenIndex=2, workbookRangeId=null}, R1C1FormulaRange{relativeRange=R[0]C[-2], startTokenIndex=4, workbookRangeId=null}], computedValue=doub:0.0$$R[10]C[0]$formula=RANGE UPLUS RANGE - FORMULA_START, formulaTokenList==+ RANGE - RANGE, ranges=[R1C1FormulaRange{relativeRange=R[0]C[-12], startTokenIndex=2, workbookRangeId=null}, R1C1FormulaRange{relativeRange=R[0]C[-2], startTokenIndex=4, workbookRangeId=null}], computedValue=doub:0.0$'>, 'context_header': <tf.Tensor: shape=(), dtype=string, numpy=b'$C[0]$'>, 'doc_id': <tf.Tensor: shape=(), dtype=string, numpy=b''>, 'formula': <tf.Tensor: shape=(), dtype=string, numpy=b'RANGE UPLUS RANGE - FORMULA_START'>, 'formula_token_list': <tf.Tensor: shape=(), dtype=string, numpy=b\"b'= +  RANGE -  RANGE'\">, 'header': <tf.Tensor: shape=(), dtype=string, numpy=b''>, 'ranges': <tf.Tensor: shape=(), dtype=string, numpy=b'R[0]C[-12] R[0]C[-2]'>, 'record_index': <tf.Tensor: shape=(), dtype=int64, numpy=6>, 'table_id': <tf.Tensor: shape=(), dtype=int64, numpy=15>}\n",
            "{'col_index': <tf.Tensor: shape=(), dtype=int64, numpy=25>, 'computed_value': <tf.Tensor: shape=(), dtype=string, numpy=b'doub:0.0'>, 'context_data': <tf.Tensor: shape=(), dtype=string, numpy=b'$R[-7]C[0]$formula=RANGE UPLUS RANGE - FORMULA_START, formulaTokenList==+ RANGE - RANGE, ranges=[R1C1FormulaRange{relativeRange=R[0]C[-12], startTokenIndex=2, workbookRangeId=null}, R1C1FormulaRange{relativeRange=R[0]C[-2], startTokenIndex=4, workbookRangeId=null}], computedValue=doub:0.0$$R[-6]C[0]$formula=RANGE UPLUS RANGE - FORMULA_START, formulaTokenList==+ RANGE - RANGE, ranges=[R1C1FormulaRange{relativeRange=R[0]C[-12], startTokenIndex=2, workbookRangeId=null}, R1C1FormulaRange{relativeRange=R[0]C[-2], startTokenIndex=4, workbookRangeId=null}], computedValue=doub:-2392.0$$R[-5]C[0]$formula=RANGE UPLUS RANGE - FORMULA_START, formulaTokenList==+ RANGE - RANGE, ranges=[R1C1FormulaRange{relativeRange=R[0]C[-12], startTokenIndex=2, workbookRangeId=null}, R1C1FormulaRange{relativeRange=R[0]C[-2], startTokenIndex=4, workbookRangeId=null}], computedValue=doub:-995.0$$R[-4]C[0]$formula=RANGE UPLUS RANGE - FORMULA_START, formulaTokenList==+ RANGE - RANGE, ranges=[R1C1FormulaRange{relativeRange=R[0]C[-12], startTokenIndex=2, workbookRangeId=null}, R1C1FormulaRange{relativeRange=R[0]C[-2], startTokenIndex=4, workbookRangeId=null}], computedValue=doub:-818.0$$R[-3]C[0]$formula=RANGE UPLUS RANGE - FORMULA_START, formulaTokenList==+ RANGE - RANGE, ranges=[R1C1FormulaRange{relativeRange=R[0]C[-12], startTokenIndex=2, workbookRangeId=null}, R1C1FormulaRange{relativeRange=R[0]C[-2], startTokenIndex=4, workbookRangeId=null}], computedValue=doub:-1899.0$$R[-2]C[0]$formula=RANGE UPLUS RANGE - FORMULA_START, formulaTokenList==+ RANGE - RANGE, ranges=[R1C1FormulaRange{relativeRange=R[0]C[-12], startTokenIndex=2, workbookRangeId=null}, R1C1FormulaRange{relativeRange=R[0]C[-2], startTokenIndex=4, workbookRangeId=null}], computedValue=doub:-2298.0$$R[-1]C[0]$formula=RANGE UPLUS RANGE - FORMULA_START, formulaTokenList==+ RANGE - RANGE, ranges=[R1C1FormulaRange{relativeRange=R[0]C[-12], startTokenIndex=2, workbookRangeId=null}, R1C1FormulaRange{relativeRange=R[0]C[-2], startTokenIndex=4, workbookRangeId=null}], computedValue=doub:-1888.0$$R[0]C[0]$formula=RANGE UPLUS RANGE - FORMULA_START, formulaTokenList==+ RANGE - RANGE, ranges=[R1C1FormulaRange{relativeRange=R[0]C[-12], startTokenIndex=2, workbookRangeId=null}, R1C1FormulaRange{relativeRange=R[0]C[-2], startTokenIndex=4, workbookRangeId=null}], computedValue=doub:0.0$$R[1]C[0]$formula=RANGE UPLUS RANGE - FORMULA_START, formulaTokenList==+ RANGE - RANGE, ranges=[R1C1FormulaRange{relativeRange=R[0]C[-12], startTokenIndex=2, workbookRangeId=null}, R1C1FormulaRange{relativeRange=R[0]C[-2], startTokenIndex=4, workbookRangeId=null}], computedValue=doub:0.0$$R[2]C[0]$formula=RANGE UPLUS RANGE - FORMULA_START, formulaTokenList==+ RANGE - RANGE, ranges=[R1C1FormulaRange{relativeRange=R[0]C[-12], startTokenIndex=2, workbookRangeId=null}, R1C1FormulaRange{relativeRange=R[0]C[-2], startTokenIndex=4, workbookRangeId=null}], computedValue=doub:0.0$$R[3]C[0]$formula=RANGE UPLUS RANGE - FORMULA_START, formulaTokenList==+ RANGE - RANGE, ranges=[R1C1FormulaRange{relativeRange=R[0]C[-12], startTokenIndex=2, workbookRangeId=null}, R1C1FormulaRange{relativeRange=R[0]C[-2], startTokenIndex=4, workbookRangeId=null}], computedValue=doub:0.0$$R[4]C[0]$formula=RANGE UPLUS RANGE - FORMULA_START, formulaTokenList==+ RANGE - RANGE, ranges=[R1C1FormulaRange{relativeRange=R[0]C[-12], startTokenIndex=2, workbookRangeId=null}, R1C1FormulaRange{relativeRange=R[0]C[-2], startTokenIndex=4, workbookRangeId=null}], computedValue=doub:0.0$$R[5]C[0]$formula=RANGE UPLUS RANGE - FORMULA_START, formulaTokenList==+ RANGE - RANGE, ranges=[R1C1FormulaRange{relativeRange=R[0]C[-12], startTokenIndex=2, workbookRangeId=null}, R1C1FormulaRange{relativeRange=R[0]C[-2], startTokenIndex=4, workbookRangeId=null}], computedValue=doub:0.0$$R[6]C[0]$formula=RANGE UPLUS RANGE - FORMULA_START, formulaTokenList==+ RANGE - RANGE, ranges=[R1C1FormulaRange{relativeRange=R[0]C[-12], startTokenIndex=2, workbookRangeId=null}, R1C1FormulaRange{relativeRange=R[0]C[-2], startTokenIndex=4, workbookRangeId=null}], computedValue=doub:0.0$$R[7]C[0]$formula=RANGE UPLUS RANGE - FORMULA_START, formulaTokenList==+ RANGE - RANGE, ranges=[R1C1FormulaRange{relativeRange=R[0]C[-12], startTokenIndex=2, workbookRangeId=null}, R1C1FormulaRange{relativeRange=R[0]C[-2], startTokenIndex=4, workbookRangeId=null}], computedValue=doub:0.0$$R[8]C[0]$formula=RANGE UPLUS RANGE - FORMULA_START, formulaTokenList==+ RANGE - RANGE, ranges=[R1C1FormulaRange{relativeRange=R[0]C[-12], startTokenIndex=2, workbookRangeId=null}, R1C1FormulaRange{relativeRange=R[0]C[-2], startTokenIndex=4, workbookRangeId=null}], computedValue=doub:0.0$$R[9]C[0]$formula=RANGE UPLUS RANGE - FORMULA_START, formulaTokenList==+ RANGE - RANGE, ranges=[R1C1FormulaRange{relativeRange=R[0]C[-12], startTokenIndex=2, workbookRangeId=null}, R1C1FormulaRange{relativeRange=R[0]C[-2], startTokenIndex=4, workbookRangeId=null}], computedValue=doub:0.0$$R[10]C[0]$formula=RANGE UPLUS RANGE - FORMULA_START, formulaTokenList==+ RANGE - RANGE, ranges=[R1C1FormulaRange{relativeRange=R[0]C[-12], startTokenIndex=2, workbookRangeId=null}, R1C1FormulaRange{relativeRange=R[0]C[-2], startTokenIndex=4, workbookRangeId=null}], computedValue=doub:0.0$'>, 'context_header': <tf.Tensor: shape=(), dtype=string, numpy=b'$C[0]$'>, 'doc_id': <tf.Tensor: shape=(), dtype=string, numpy=b''>, 'formula': <tf.Tensor: shape=(), dtype=string, numpy=b'RANGE UPLUS RANGE - FORMULA_START'>, 'formula_token_list': <tf.Tensor: shape=(), dtype=string, numpy=b\"b'= +  RANGE -  RANGE'\">, 'header': <tf.Tensor: shape=(), dtype=string, numpy=b''>, 'ranges': <tf.Tensor: shape=(), dtype=string, numpy=b'R[0]C[-12] R[0]C[-2]'>, 'record_index': <tf.Tensor: shape=(), dtype=int64, numpy=7>, 'table_id': <tf.Tensor: shape=(), dtype=int64, numpy=15>}\n",
            "{'col_index': <tf.Tensor: shape=(), dtype=int64, numpy=25>, 'computed_value': <tf.Tensor: shape=(), dtype=string, numpy=b'doub:0.0'>, 'context_data': <tf.Tensor: shape=(), dtype=string, numpy=b'$R[-8]C[0]$formula=RANGE UPLUS RANGE - FORMULA_START, formulaTokenList==+ RANGE - RANGE, ranges=[R1C1FormulaRange{relativeRange=R[0]C[-12], startTokenIndex=2, workbookRangeId=null}, R1C1FormulaRange{relativeRange=R[0]C[-2], startTokenIndex=4, workbookRangeId=null}], computedValue=doub:0.0$$R[-7]C[0]$formula=RANGE UPLUS RANGE - FORMULA_START, formulaTokenList==+ RANGE - RANGE, ranges=[R1C1FormulaRange{relativeRange=R[0]C[-12], startTokenIndex=2, workbookRangeId=null}, R1C1FormulaRange{relativeRange=R[0]C[-2], startTokenIndex=4, workbookRangeId=null}], computedValue=doub:-2392.0$$R[-6]C[0]$formula=RANGE UPLUS RANGE - FORMULA_START, formulaTokenList==+ RANGE - RANGE, ranges=[R1C1FormulaRange{relativeRange=R[0]C[-12], startTokenIndex=2, workbookRangeId=null}, R1C1FormulaRange{relativeRange=R[0]C[-2], startTokenIndex=4, workbookRangeId=null}], computedValue=doub:-995.0$$R[-5]C[0]$formula=RANGE UPLUS RANGE - FORMULA_START, formulaTokenList==+ RANGE - RANGE, ranges=[R1C1FormulaRange{relativeRange=R[0]C[-12], startTokenIndex=2, workbookRangeId=null}, R1C1FormulaRange{relativeRange=R[0]C[-2], startTokenIndex=4, workbookRangeId=null}], computedValue=doub:-818.0$$R[-4]C[0]$formula=RANGE UPLUS RANGE - FORMULA_START, formulaTokenList==+ RANGE - RANGE, ranges=[R1C1FormulaRange{relativeRange=R[0]C[-12], startTokenIndex=2, workbookRangeId=null}, R1C1FormulaRange{relativeRange=R[0]C[-2], startTokenIndex=4, workbookRangeId=null}], computedValue=doub:-1899.0$$R[-3]C[0]$formula=RANGE UPLUS RANGE - FORMULA_START, formulaTokenList==+ RANGE - RANGE, ranges=[R1C1FormulaRange{relativeRange=R[0]C[-12], startTokenIndex=2, workbookRangeId=null}, R1C1FormulaRange{relativeRange=R[0]C[-2], startTokenIndex=4, workbookRangeId=null}], computedValue=doub:-2298.0$$R[-2]C[0]$formula=RANGE UPLUS RANGE - FORMULA_START, formulaTokenList==+ RANGE - RANGE, ranges=[R1C1FormulaRange{relativeRange=R[0]C[-12], startTokenIndex=2, workbookRangeId=null}, R1C1FormulaRange{relativeRange=R[0]C[-2], startTokenIndex=4, workbookRangeId=null}], computedValue=doub:-1888.0$$R[-1]C[0]$formula=RANGE UPLUS RANGE - FORMULA_START, formulaTokenList==+ RANGE - RANGE, ranges=[R1C1FormulaRange{relativeRange=R[0]C[-12], startTokenIndex=2, workbookRangeId=null}, R1C1FormulaRange{relativeRange=R[0]C[-2], startTokenIndex=4, workbookRangeId=null}], computedValue=doub:0.0$$R[0]C[0]$formula=RANGE UPLUS RANGE - FORMULA_START, formulaTokenList==+ RANGE - RANGE, ranges=[R1C1FormulaRange{relativeRange=R[0]C[-12], startTokenIndex=2, workbookRangeId=null}, R1C1FormulaRange{relativeRange=R[0]C[-2], startTokenIndex=4, workbookRangeId=null}], computedValue=doub:0.0$$R[1]C[0]$formula=RANGE UPLUS RANGE - FORMULA_START, formulaTokenList==+ RANGE - RANGE, ranges=[R1C1FormulaRange{relativeRange=R[0]C[-12], startTokenIndex=2, workbookRangeId=null}, R1C1FormulaRange{relativeRange=R[0]C[-2], startTokenIndex=4, workbookRangeId=null}], computedValue=doub:0.0$$R[2]C[0]$formula=RANGE UPLUS RANGE - FORMULA_START, formulaTokenList==+ RANGE - RANGE, ranges=[R1C1FormulaRange{relativeRange=R[0]C[-12], startTokenIndex=2, workbookRangeId=null}, R1C1FormulaRange{relativeRange=R[0]C[-2], startTokenIndex=4, workbookRangeId=null}], computedValue=doub:0.0$$R[3]C[0]$formula=RANGE UPLUS RANGE - FORMULA_START, formulaTokenList==+ RANGE - RANGE, ranges=[R1C1FormulaRange{relativeRange=R[0]C[-12], startTokenIndex=2, workbookRangeId=null}, R1C1FormulaRange{relativeRange=R[0]C[-2], startTokenIndex=4, workbookRangeId=null}], computedValue=doub:0.0$$R[4]C[0]$formula=RANGE UPLUS RANGE - FORMULA_START, formulaTokenList==+ RANGE - RANGE, ranges=[R1C1FormulaRange{relativeRange=R[0]C[-12], startTokenIndex=2, workbookRangeId=null}, R1C1FormulaRange{relativeRange=R[0]C[-2], startTokenIndex=4, workbookRangeId=null}], computedValue=doub:0.0$$R[5]C[0]$formula=RANGE UPLUS RANGE - FORMULA_START, formulaTokenList==+ RANGE - RANGE, ranges=[R1C1FormulaRange{relativeRange=R[0]C[-12], startTokenIndex=2, workbookRangeId=null}, R1C1FormulaRange{relativeRange=R[0]C[-2], startTokenIndex=4, workbookRangeId=null}], computedValue=doub:0.0$$R[6]C[0]$formula=RANGE UPLUS RANGE - FORMULA_START, formulaTokenList==+ RANGE - RANGE, ranges=[R1C1FormulaRange{relativeRange=R[0]C[-12], startTokenIndex=2, workbookRangeId=null}, R1C1FormulaRange{relativeRange=R[0]C[-2], startTokenIndex=4, workbookRangeId=null}], computedValue=doub:0.0$$R[7]C[0]$formula=RANGE UPLUS RANGE - FORMULA_START, formulaTokenList==+ RANGE - RANGE, ranges=[R1C1FormulaRange{relativeRange=R[0]C[-12], startTokenIndex=2, workbookRangeId=null}, R1C1FormulaRange{relativeRange=R[0]C[-2], startTokenIndex=4, workbookRangeId=null}], computedValue=doub:0.0$$R[8]C[0]$formula=RANGE UPLUS RANGE - FORMULA_START, formulaTokenList==+ RANGE - RANGE, ranges=[R1C1FormulaRange{relativeRange=R[0]C[-12], startTokenIndex=2, workbookRangeId=null}, R1C1FormulaRange{relativeRange=R[0]C[-2], startTokenIndex=4, workbookRangeId=null}], computedValue=doub:0.0$$R[9]C[0]$formula=RANGE UPLUS RANGE - FORMULA_START, formulaTokenList==+ RANGE - RANGE, ranges=[R1C1FormulaRange{relativeRange=R[0]C[-12], startTokenIndex=2, workbookRangeId=null}, R1C1FormulaRange{relativeRange=R[0]C[-2], startTokenIndex=4, workbookRangeId=null}], computedValue=doub:0.0$$R[10]C[0]$formula=RANGE UPLUS RANGE - FORMULA_START, formulaTokenList==+ RANGE - RANGE, ranges=[R1C1FormulaRange{relativeRange=R[0]C[-12], startTokenIndex=2, workbookRangeId=null}, R1C1FormulaRange{relativeRange=R[0]C[-2], startTokenIndex=4, workbookRangeId=null}], computedValue=doub:0.0$'>, 'context_header': <tf.Tensor: shape=(), dtype=string, numpy=b'$C[0]$'>, 'doc_id': <tf.Tensor: shape=(), dtype=string, numpy=b''>, 'formula': <tf.Tensor: shape=(), dtype=string, numpy=b'RANGE UPLUS RANGE - FORMULA_START'>, 'formula_token_list': <tf.Tensor: shape=(), dtype=string, numpy=b\"b'= +  RANGE -  RANGE'\">, 'header': <tf.Tensor: shape=(), dtype=string, numpy=b''>, 'ranges': <tf.Tensor: shape=(), dtype=string, numpy=b'R[0]C[-12] R[0]C[-2]'>, 'record_index': <tf.Tensor: shape=(), dtype=int64, numpy=8>, 'table_id': <tf.Tensor: shape=(), dtype=int64, numpy=15>}\n",
            "{'col_index': <tf.Tensor: shape=(), dtype=int64, numpy=25>, 'computed_value': <tf.Tensor: shape=(), dtype=string, numpy=b'doub:0.0'>, 'context_data': <tf.Tensor: shape=(), dtype=string, numpy=b'$R[-9]C[0]$formula=RANGE UPLUS RANGE - FORMULA_START, formulaTokenList==+ RANGE - RANGE, ranges=[R1C1FormulaRange{relativeRange=R[0]C[-12], startTokenIndex=2, workbookRangeId=null}, R1C1FormulaRange{relativeRange=R[0]C[-2], startTokenIndex=4, workbookRangeId=null}], computedValue=doub:0.0$$R[-8]C[0]$formula=RANGE UPLUS RANGE - FORMULA_START, formulaTokenList==+ RANGE - RANGE, ranges=[R1C1FormulaRange{relativeRange=R[0]C[-12], startTokenIndex=2, workbookRangeId=null}, R1C1FormulaRange{relativeRange=R[0]C[-2], startTokenIndex=4, workbookRangeId=null}], computedValue=doub:-2392.0$$R[-7]C[0]$formula=RANGE UPLUS RANGE - FORMULA_START, formulaTokenList==+ RANGE - RANGE, ranges=[R1C1FormulaRange{relativeRange=R[0]C[-12], startTokenIndex=2, workbookRangeId=null}, R1C1FormulaRange{relativeRange=R[0]C[-2], startTokenIndex=4, workbookRangeId=null}], computedValue=doub:-995.0$$R[-6]C[0]$formula=RANGE UPLUS RANGE - FORMULA_START, formulaTokenList==+ RANGE - RANGE, ranges=[R1C1FormulaRange{relativeRange=R[0]C[-12], startTokenIndex=2, workbookRangeId=null}, R1C1FormulaRange{relativeRange=R[0]C[-2], startTokenIndex=4, workbookRangeId=null}], computedValue=doub:-818.0$$R[-5]C[0]$formula=RANGE UPLUS RANGE - FORMULA_START, formulaTokenList==+ RANGE - RANGE, ranges=[R1C1FormulaRange{relativeRange=R[0]C[-12], startTokenIndex=2, workbookRangeId=null}, R1C1FormulaRange{relativeRange=R[0]C[-2], startTokenIndex=4, workbookRangeId=null}], computedValue=doub:-1899.0$$R[-4]C[0]$formula=RANGE UPLUS RANGE - FORMULA_START, formulaTokenList==+ RANGE - RANGE, ranges=[R1C1FormulaRange{relativeRange=R[0]C[-12], startTokenIndex=2, workbookRangeId=null}, R1C1FormulaRange{relativeRange=R[0]C[-2], startTokenIndex=4, workbookRangeId=null}], computedValue=doub:-2298.0$$R[-3]C[0]$formula=RANGE UPLUS RANGE - FORMULA_START, formulaTokenList==+ RANGE - RANGE, ranges=[R1C1FormulaRange{relativeRange=R[0]C[-12], startTokenIndex=2, workbookRangeId=null}, R1C1FormulaRange{relativeRange=R[0]C[-2], startTokenIndex=4, workbookRangeId=null}], computedValue=doub:-1888.0$$R[-2]C[0]$formula=RANGE UPLUS RANGE - FORMULA_START, formulaTokenList==+ RANGE - RANGE, ranges=[R1C1FormulaRange{relativeRange=R[0]C[-12], startTokenIndex=2, workbookRangeId=null}, R1C1FormulaRange{relativeRange=R[0]C[-2], startTokenIndex=4, workbookRangeId=null}], computedValue=doub:0.0$$R[-1]C[0]$formula=RANGE UPLUS RANGE - FORMULA_START, formulaTokenList==+ RANGE - RANGE, ranges=[R1C1FormulaRange{relativeRange=R[0]C[-12], startTokenIndex=2, workbookRangeId=null}, R1C1FormulaRange{relativeRange=R[0]C[-2], startTokenIndex=4, workbookRangeId=null}], computedValue=doub:0.0$$R[0]C[0]$formula=RANGE UPLUS RANGE - FORMULA_START, formulaTokenList==+ RANGE - RANGE, ranges=[R1C1FormulaRange{relativeRange=R[0]C[-12], startTokenIndex=2, workbookRangeId=null}, R1C1FormulaRange{relativeRange=R[0]C[-2], startTokenIndex=4, workbookRangeId=null}], computedValue=doub:0.0$$R[1]C[0]$formula=RANGE UPLUS RANGE - FORMULA_START, formulaTokenList==+ RANGE - RANGE, ranges=[R1C1FormulaRange{relativeRange=R[0]C[-12], startTokenIndex=2, workbookRangeId=null}, R1C1FormulaRange{relativeRange=R[0]C[-2], startTokenIndex=4, workbookRangeId=null}], computedValue=doub:0.0$$R[2]C[0]$formula=RANGE UPLUS RANGE - FORMULA_START, formulaTokenList==+ RANGE - RANGE, ranges=[R1C1FormulaRange{relativeRange=R[0]C[-12], startTokenIndex=2, workbookRangeId=null}, R1C1FormulaRange{relativeRange=R[0]C[-2], startTokenIndex=4, workbookRangeId=null}], computedValue=doub:0.0$$R[3]C[0]$formula=RANGE UPLUS RANGE - FORMULA_START, formulaTokenList==+ RANGE - RANGE, ranges=[R1C1FormulaRange{relativeRange=R[0]C[-12], startTokenIndex=2, workbookRangeId=null}, R1C1FormulaRange{relativeRange=R[0]C[-2], startTokenIndex=4, workbookRangeId=null}], computedValue=doub:0.0$$R[4]C[0]$formula=RANGE UPLUS RANGE - FORMULA_START, formulaTokenList==+ RANGE - RANGE, ranges=[R1C1FormulaRange{relativeRange=R[0]C[-12], startTokenIndex=2, workbookRangeId=null}, R1C1FormulaRange{relativeRange=R[0]C[-2], startTokenIndex=4, workbookRangeId=null}], computedValue=doub:0.0$$R[5]C[0]$formula=RANGE UPLUS RANGE - FORMULA_START, formulaTokenList==+ RANGE - RANGE, ranges=[R1C1FormulaRange{relativeRange=R[0]C[-12], startTokenIndex=2, workbookRangeId=null}, R1C1FormulaRange{relativeRange=R[0]C[-2], startTokenIndex=4, workbookRangeId=null}], computedValue=doub:0.0$$R[6]C[0]$formula=RANGE UPLUS RANGE - FORMULA_START, formulaTokenList==+ RANGE - RANGE, ranges=[R1C1FormulaRange{relativeRange=R[0]C[-12], startTokenIndex=2, workbookRangeId=null}, R1C1FormulaRange{relativeRange=R[0]C[-2], startTokenIndex=4, workbookRangeId=null}], computedValue=doub:0.0$$R[7]C[0]$formula=RANGE UPLUS RANGE - FORMULA_START, formulaTokenList==+ RANGE - RANGE, ranges=[R1C1FormulaRange{relativeRange=R[0]C[-12], startTokenIndex=2, workbookRangeId=null}, R1C1FormulaRange{relativeRange=R[0]C[-2], startTokenIndex=4, workbookRangeId=null}], computedValue=doub:0.0$$R[8]C[0]$formula=RANGE UPLUS RANGE - FORMULA_START, formulaTokenList==+ RANGE - RANGE, ranges=[R1C1FormulaRange{relativeRange=R[0]C[-12], startTokenIndex=2, workbookRangeId=null}, R1C1FormulaRange{relativeRange=R[0]C[-2], startTokenIndex=4, workbookRangeId=null}], computedValue=doub:0.0$$R[9]C[0]$formula=RANGE UPLUS RANGE - FORMULA_START, formulaTokenList==+ RANGE - RANGE, ranges=[R1C1FormulaRange{relativeRange=R[0]C[-12], startTokenIndex=2, workbookRangeId=null}, R1C1FormulaRange{relativeRange=R[0]C[-2], startTokenIndex=4, workbookRangeId=null}], computedValue=doub:0.0$$R[10]C[0]$formula=RANGE UPLUS RANGE - FORMULA_START, formulaTokenList==+ RANGE - RANGE, ranges=[R1C1FormulaRange{relativeRange=R[0]C[-12], startTokenIndex=2, workbookRangeId=null}, R1C1FormulaRange{relativeRange=R[0]C[-2], startTokenIndex=4, workbookRangeId=null}], computedValue=doub:0.0$'>, 'context_header': <tf.Tensor: shape=(), dtype=string, numpy=b'$C[0]$'>, 'doc_id': <tf.Tensor: shape=(), dtype=string, numpy=b''>, 'formula': <tf.Tensor: shape=(), dtype=string, numpy=b'RANGE UPLUS RANGE - FORMULA_START'>, 'formula_token_list': <tf.Tensor: shape=(), dtype=string, numpy=b\"b'= +  RANGE -  RANGE'\">, 'header': <tf.Tensor: shape=(), dtype=string, numpy=b''>, 'ranges': <tf.Tensor: shape=(), dtype=string, numpy=b'R[0]C[-12] R[0]C[-2]'>, 'record_index': <tf.Tensor: shape=(), dtype=int64, numpy=9>, 'table_id': <tf.Tensor: shape=(), dtype=int64, numpy=15>}\n",
            "{'col_index': <tf.Tensor: shape=(), dtype=int64, numpy=25>, 'computed_value': <tf.Tensor: shape=(), dtype=string, numpy=b'doub:0.0'>, 'context_data': <tf.Tensor: shape=(), dtype=string, numpy=b'$R[-10]C[0]$formula=RANGE UPLUS RANGE - FORMULA_START, formulaTokenList==+ RANGE - RANGE, ranges=[R1C1FormulaRange{relativeRange=R[0]C[-12], startTokenIndex=2, workbookRangeId=null}, R1C1FormulaRange{relativeRange=R[0]C[-2], startTokenIndex=4, workbookRangeId=null}], computedValue=doub:0.0$$R[-9]C[0]$formula=RANGE UPLUS RANGE - FORMULA_START, formulaTokenList==+ RANGE - RANGE, ranges=[R1C1FormulaRange{relativeRange=R[0]C[-12], startTokenIndex=2, workbookRangeId=null}, R1C1FormulaRange{relativeRange=R[0]C[-2], startTokenIndex=4, workbookRangeId=null}], computedValue=doub:-2392.0$$R[-8]C[0]$formula=RANGE UPLUS RANGE - FORMULA_START, formulaTokenList==+ RANGE - RANGE, ranges=[R1C1FormulaRange{relativeRange=R[0]C[-12], startTokenIndex=2, workbookRangeId=null}, R1C1FormulaRange{relativeRange=R[0]C[-2], startTokenIndex=4, workbookRangeId=null}], computedValue=doub:-995.0$$R[-7]C[0]$formula=RANGE UPLUS RANGE - FORMULA_START, formulaTokenList==+ RANGE - RANGE, ranges=[R1C1FormulaRange{relativeRange=R[0]C[-12], startTokenIndex=2, workbookRangeId=null}, R1C1FormulaRange{relativeRange=R[0]C[-2], startTokenIndex=4, workbookRangeId=null}], computedValue=doub:-818.0$$R[-6]C[0]$formula=RANGE UPLUS RANGE - FORMULA_START, formulaTokenList==+ RANGE - RANGE, ranges=[R1C1FormulaRange{relativeRange=R[0]C[-12], startTokenIndex=2, workbookRangeId=null}, R1C1FormulaRange{relativeRange=R[0]C[-2], startTokenIndex=4, workbookRangeId=null}], computedValue=doub:-1899.0$$R[-5]C[0]$formula=RANGE UPLUS RANGE - FORMULA_START, formulaTokenList==+ RANGE - RANGE, ranges=[R1C1FormulaRange{relativeRange=R[0]C[-12], startTokenIndex=2, workbookRangeId=null}, R1C1FormulaRange{relativeRange=R[0]C[-2], startTokenIndex=4, workbookRangeId=null}], computedValue=doub:-2298.0$$R[-4]C[0]$formula=RANGE UPLUS RANGE - FORMULA_START, formulaTokenList==+ RANGE - RANGE, ranges=[R1C1FormulaRange{relativeRange=R[0]C[-12], startTokenIndex=2, workbookRangeId=null}, R1C1FormulaRange{relativeRange=R[0]C[-2], startTokenIndex=4, workbookRangeId=null}], computedValue=doub:-1888.0$$R[-3]C[0]$formula=RANGE UPLUS RANGE - FORMULA_START, formulaTokenList==+ RANGE - RANGE, ranges=[R1C1FormulaRange{relativeRange=R[0]C[-12], startTokenIndex=2, workbookRangeId=null}, R1C1FormulaRange{relativeRange=R[0]C[-2], startTokenIndex=4, workbookRangeId=null}], computedValue=doub:0.0$$R[-2]C[0]$formula=RANGE UPLUS RANGE - FORMULA_START, formulaTokenList==+ RANGE - RANGE, ranges=[R1C1FormulaRange{relativeRange=R[0]C[-12], startTokenIndex=2, workbookRangeId=null}, R1C1FormulaRange{relativeRange=R[0]C[-2], startTokenIndex=4, workbookRangeId=null}], computedValue=doub:0.0$$R[-1]C[0]$formula=RANGE UPLUS RANGE - FORMULA_START, formulaTokenList==+ RANGE - RANGE, ranges=[R1C1FormulaRange{relativeRange=R[0]C[-12], startTokenIndex=2, workbookRangeId=null}, R1C1FormulaRange{relativeRange=R[0]C[-2], startTokenIndex=4, workbookRangeId=null}], computedValue=doub:0.0$$R[0]C[0]$formula=RANGE UPLUS RANGE - FORMULA_START, formulaTokenList==+ RANGE - RANGE, ranges=[R1C1FormulaRange{relativeRange=R[0]C[-12], startTokenIndex=2, workbookRangeId=null}, R1C1FormulaRange{relativeRange=R[0]C[-2], startTokenIndex=4, workbookRangeId=null}], computedValue=doub:0.0$$R[1]C[0]$formula=RANGE UPLUS RANGE - FORMULA_START, formulaTokenList==+ RANGE - RANGE, ranges=[R1C1FormulaRange{relativeRange=R[0]C[-12], startTokenIndex=2, workbookRangeId=null}, R1C1FormulaRange{relativeRange=R[0]C[-2], startTokenIndex=4, workbookRangeId=null}], computedValue=doub:0.0$$R[2]C[0]$formula=RANGE UPLUS RANGE - FORMULA_START, formulaTokenList==+ RANGE - RANGE, ranges=[R1C1FormulaRange{relativeRange=R[0]C[-12], startTokenIndex=2, workbookRangeId=null}, R1C1FormulaRange{relativeRange=R[0]C[-2], startTokenIndex=4, workbookRangeId=null}], computedValue=doub:0.0$$R[3]C[0]$formula=RANGE UPLUS RANGE - FORMULA_START, formulaTokenList==+ RANGE - RANGE, ranges=[R1C1FormulaRange{relativeRange=R[0]C[-12], startTokenIndex=2, workbookRangeId=null}, R1C1FormulaRange{relativeRange=R[0]C[-2], startTokenIndex=4, workbookRangeId=null}], computedValue=doub:0.0$$R[4]C[0]$formula=RANGE UPLUS RANGE - FORMULA_START, formulaTokenList==+ RANGE - RANGE, ranges=[R1C1FormulaRange{relativeRange=R[0]C[-12], startTokenIndex=2, workbookRangeId=null}, R1C1FormulaRange{relativeRange=R[0]C[-2], startTokenIndex=4, workbookRangeId=null}], computedValue=doub:0.0$$R[5]C[0]$formula=RANGE UPLUS RANGE - FORMULA_START, formulaTokenList==+ RANGE - RANGE, ranges=[R1C1FormulaRange{relativeRange=R[0]C[-12], startTokenIndex=2, workbookRangeId=null}, R1C1FormulaRange{relativeRange=R[0]C[-2], startTokenIndex=4, workbookRangeId=null}], computedValue=doub:0.0$$R[6]C[0]$formula=RANGE UPLUS RANGE - FORMULA_START, formulaTokenList==+ RANGE - RANGE, ranges=[R1C1FormulaRange{relativeRange=R[0]C[-12], startTokenIndex=2, workbookRangeId=null}, R1C1FormulaRange{relativeRange=R[0]C[-2], startTokenIndex=4, workbookRangeId=null}], computedValue=doub:0.0$$R[7]C[0]$formula=RANGE UPLUS RANGE - FORMULA_START, formulaTokenList==+ RANGE - RANGE, ranges=[R1C1FormulaRange{relativeRange=R[0]C[-12], startTokenIndex=2, workbookRangeId=null}, R1C1FormulaRange{relativeRange=R[0]C[-2], startTokenIndex=4, workbookRangeId=null}], computedValue=doub:0.0$$R[8]C[0]$formula=RANGE UPLUS RANGE - FORMULA_START, formulaTokenList==+ RANGE - RANGE, ranges=[R1C1FormulaRange{relativeRange=R[0]C[-12], startTokenIndex=2, workbookRangeId=null}, R1C1FormulaRange{relativeRange=R[0]C[-2], startTokenIndex=4, workbookRangeId=null}], computedValue=doub:0.0$$R[9]C[0]$formula=RANGE UPLUS RANGE - FORMULA_START, formulaTokenList==+ RANGE - RANGE, ranges=[R1C1FormulaRange{relativeRange=R[0]C[-12], startTokenIndex=2, workbookRangeId=null}, R1C1FormulaRange{relativeRange=R[0]C[-2], startTokenIndex=4, workbookRangeId=null}], computedValue=doub:0.0$$R[10]C[0]$formula=RANGE UPLUS RANGE - FORMULA_START, formulaTokenList==+ RANGE - RANGE, ranges=[R1C1FormulaRange{relativeRange=R[0]C[-12], startTokenIndex=2, workbookRangeId=null}, R1C1FormulaRange{relativeRange=R[0]C[-2], startTokenIndex=4, workbookRangeId=null}], computedValue=doub:0.0$'>, 'context_header': <tf.Tensor: shape=(), dtype=string, numpy=b'$C[0]$'>, 'doc_id': <tf.Tensor: shape=(), dtype=string, numpy=b''>, 'formula': <tf.Tensor: shape=(), dtype=string, numpy=b'RANGE UPLUS RANGE - FORMULA_START'>, 'formula_token_list': <tf.Tensor: shape=(), dtype=string, numpy=b\"b'= +  RANGE -  RANGE'\">, 'header': <tf.Tensor: shape=(), dtype=string, numpy=b''>, 'ranges': <tf.Tensor: shape=(), dtype=string, numpy=b'R[0]C[-12] R[0]C[-2]'>, 'record_index': <tf.Tensor: shape=(), dtype=int64, numpy=10>, 'table_id': <tf.Tensor: shape=(), dtype=int64, numpy=15>}\n",
            "{'col_index': <tf.Tensor: shape=(), dtype=int64, numpy=25>, 'computed_value': <tf.Tensor: shape=(), dtype=string, numpy=b'doub:-10290.0'>, 'context_data': <tf.Tensor: shape=(), dtype=string, numpy=b'$R[-10]C[0]$formula=RANGE UPLUS RANGE - FORMULA_START, formulaTokenList==+ RANGE - RANGE, ranges=[R1C1FormulaRange{relativeRange=R[0]C[-12], startTokenIndex=2, workbookRangeId=null}, R1C1FormulaRange{relativeRange=R[0]C[-2], startTokenIndex=4, workbookRangeId=null}], computedValue=doub:0.0$$R[-9]C[0]$formula=RANGE UPLUS RANGE - FORMULA_START, formulaTokenList==+ RANGE - RANGE, ranges=[R1C1FormulaRange{relativeRange=R[0]C[-12], startTokenIndex=2, workbookRangeId=null}, R1C1FormulaRange{relativeRange=R[0]C[-2], startTokenIndex=4, workbookRangeId=null}], computedValue=doub:0.0$$R[-8]C[0]$formula=RANGE UPLUS RANGE - FORMULA_START, formulaTokenList==+ RANGE - RANGE, ranges=[R1C1FormulaRange{relativeRange=R[0]C[-12], startTokenIndex=2, workbookRangeId=null}, R1C1FormulaRange{relativeRange=R[0]C[-2], startTokenIndex=4, workbookRangeId=null}], computedValue=doub:0.0$$R[-7]C[0]$formula=RANGE UPLUS RANGE - FORMULA_START, formulaTokenList==+ RANGE - RANGE, ranges=[R1C1FormulaRange{relativeRange=R[0]C[-12], startTokenIndex=2, workbookRangeId=null}, R1C1FormulaRange{relativeRange=R[0]C[-2], startTokenIndex=4, workbookRangeId=null}], computedValue=doub:0.0$$R[-6]C[0]$formula=RANGE UPLUS RANGE - FORMULA_START, formulaTokenList==+ RANGE - RANGE, ranges=[R1C1FormulaRange{relativeRange=R[0]C[-12], startTokenIndex=2, workbookRangeId=null}, R1C1FormulaRange{relativeRange=R[0]C[-2], startTokenIndex=4, workbookRangeId=null}], computedValue=doub:0.0$$R[-5]C[0]$formula=RANGE UPLUS RANGE - FORMULA_START, formulaTokenList==+ RANGE - RANGE, ranges=[R1C1FormulaRange{relativeRange=R[0]C[-12], startTokenIndex=2, workbookRangeId=null}, R1C1FormulaRange{relativeRange=R[0]C[-2], startTokenIndex=4, workbookRangeId=null}], computedValue=doub:0.0$$R[-4]C[0]$formula=RANGE UPLUS RANGE - FORMULA_START, formulaTokenList==+ RANGE - RANGE, ranges=[R1C1FormulaRange{relativeRange=R[0]C[-12], startTokenIndex=2, workbookRangeId=null}, R1C1FormulaRange{relativeRange=R[0]C[-2], startTokenIndex=4, workbookRangeId=null}], computedValue=doub:0.0$$R[-3]C[0]$formula=RANGE UPLUS RANGE - FORMULA_START, formulaTokenList==+ RANGE - RANGE, ranges=[R1C1FormulaRange{relativeRange=R[0]C[-12], startTokenIndex=2, workbookRangeId=null}, R1C1FormulaRange{relativeRange=R[0]C[-2], startTokenIndex=4, workbookRangeId=null}], computedValue=doub:0.0$$R[-2]C[0]$formula=RANGE UPLUS RANGE - FORMULA_START, formulaTokenList==+ RANGE - RANGE, ranges=[R1C1FormulaRange{relativeRange=R[0]C[-12], startTokenIndex=2, workbookRangeId=null}, R1C1FormulaRange{relativeRange=R[0]C[-2], startTokenIndex=4, workbookRangeId=null}], computedValue=doub:0.0$$R[-1]C[0]$formula=RANGE UPLUS RANGE - FORMULA_START, formulaTokenList==+ RANGE - RANGE, ranges=[R1C1FormulaRange{relativeRange=R[0]C[-12], startTokenIndex=2, workbookRangeId=null}, R1C1FormulaRange{relativeRange=R[0]C[-2], startTokenIndex=4, workbookRangeId=null}], computedValue=doub:0.0$$R[0]C[0]$formula=RANGE SUM FORMULA_START, formulaTokenList==SUM( RANGE ), ranges=[R1C1FormulaRange{relativeRange=R[-33]C[0]:R[-1]C[0], startTokenIndex=3, workbookRangeId=null}], computedValue=doub:-10290.0$'>, 'context_header': <tf.Tensor: shape=(), dtype=string, numpy=b'$C[0]$'>, 'doc_id': <tf.Tensor: shape=(), dtype=string, numpy=b''>, 'formula': <tf.Tensor: shape=(), dtype=string, numpy=b'RANGE SUM FORMULA_START'>, 'formula_token_list': <tf.Tensor: shape=(), dtype=string, numpy=b\"b'=SUM(  RANGE ) '\">, 'header': <tf.Tensor: shape=(), dtype=string, numpy=b''>, 'ranges': <tf.Tensor: shape=(), dtype=string, numpy=b'R[-33]C[0]:R[-1]C[0]'>, 'record_index': <tf.Tensor: shape=(), dtype=int64, numpy=34>, 'table_id': <tf.Tensor: shape=(), dtype=int64, numpy=15>}\n",
            "{'col_index': <tf.Tensor: shape=(), dtype=int64, numpy=13>, 'computed_value': <tf.Tensor: shape=(), dtype=string, numpy=b'doub:34118.0'>, 'context_data': <tf.Tensor: shape=(), dtype=string, numpy=b'$R[0]C[0]$formula=RANGE SUM FORMULA_START, formulaTokenList==SUM( RANGE ), ranges=[R1C1FormulaRange{relativeRange=R[0]C[-12]:R[0]C[-2], startTokenIndex=3, workbookRangeId=null}], computedValue=doub:34118.0$$R[1]C[0]$formula=RANGE SUM FORMULA_START, formulaTokenList==SUM( RANGE ), ranges=[R1C1FormulaRange{relativeRange=R[0]C[-12]:R[0]C[-2], startTokenIndex=3, workbookRangeId=null}], computedValue=doub:54118.0$$R[2]C[0]$formula=RANGE SUM FORMULA_START, formulaTokenList==SUM( RANGE ), ranges=[R1C1FormulaRange{relativeRange=R[0]C[-12]:R[0]C[-2], startTokenIndex=3, workbookRangeId=null}], computedValue=doub:34118.0$$R[3]C[0]$formula=RANGE SUM FORMULA_START, formulaTokenList==SUM( RANGE ), ranges=[R1C1FormulaRange{relativeRange=R[0]C[-12]:R[0]C[-2], startTokenIndex=3, workbookRangeId=null}], computedValue=doub:34118.0$$R[4]C[0]$formula=RANGE SUM FORMULA_START, formulaTokenList==SUM( RANGE ), ranges=[R1C1FormulaRange{relativeRange=R[0]C[-12]:R[0]C[-2], startTokenIndex=3, workbookRangeId=null}], computedValue=doub:34118.0$$R[5]C[0]$formula=RANGE SUM FORMULA_START, formulaTokenList==SUM( RANGE ), ranges=[R1C1FormulaRange{relativeRange=R[0]C[-12]:R[0]C[-2], startTokenIndex=3, workbookRangeId=null}], computedValue=doub:34118.0$$R[6]C[0]$formula=RANGE SUM FORMULA_START, formulaTokenList==SUM( RANGE ), ranges=[R1C1FormulaRange{relativeRange=R[0]C[-12]:R[0]C[-2], startTokenIndex=3, workbookRangeId=null}], computedValue=doub:0.0$$R[7]C[0]$formula=RANGE SUM FORMULA_START, formulaTokenList==SUM( RANGE ), ranges=[R1C1FormulaRange{relativeRange=R[0]C[-12]:R[0]C[-2], startTokenIndex=3, workbookRangeId=null}], computedValue=doub:0.0$$R[8]C[0]$formula=RANGE SUM FORMULA_START, formulaTokenList==SUM( RANGE ), ranges=[R1C1FormulaRange{relativeRange=R[0]C[-12]:R[0]C[-2], startTokenIndex=3, workbookRangeId=null}], computedValue=doub:0.0$$R[9]C[0]$formula=RANGE SUM FORMULA_START, formulaTokenList==SUM( RANGE ), ranges=[R1C1FormulaRange{relativeRange=R[0]C[-12]:R[0]C[-2], startTokenIndex=3, workbookRangeId=null}], computedValue=doub:0.0$$R[10]C[0]$formula=RANGE SUM FORMULA_START, formulaTokenList==SUM( RANGE ), ranges=[R1C1FormulaRange{relativeRange=R[0]C[-12]:R[0]C[-2], startTokenIndex=3, workbookRangeId=null}], computedValue=doub:0.0$'>, 'context_header': <tf.Tensor: shape=(), dtype=string, numpy=b'$C[0]$'>, 'doc_id': <tf.Tensor: shape=(), dtype=string, numpy=b''>, 'formula': <tf.Tensor: shape=(), dtype=string, numpy=b'RANGE SUM FORMULA_START'>, 'formula_token_list': <tf.Tensor: shape=(), dtype=string, numpy=b\"b'=SUM(  RANGE ) '\">, 'header': <tf.Tensor: shape=(), dtype=string, numpy=b''>, 'ranges': <tf.Tensor: shape=(), dtype=string, numpy=b'R[0]C[-12]:R[0]C[-2]'>, 'record_index': <tf.Tensor: shape=(), dtype=int64, numpy=0>, 'table_id': <tf.Tensor: shape=(), dtype=int64, numpy=16>}\n",
            "{'col_index': <tf.Tensor: shape=(), dtype=int64, numpy=13>, 'computed_value': <tf.Tensor: shape=(), dtype=string, numpy=b'doub:54118.0'>, 'context_data': <tf.Tensor: shape=(), dtype=string, numpy=b'$R[-1]C[0]$formula=RANGE SUM FORMULA_START, formulaTokenList==SUM( RANGE ), ranges=[R1C1FormulaRange{relativeRange=R[0]C[-12]:R[0]C[-2], startTokenIndex=3, workbookRangeId=null}], computedValue=doub:34118.0$$R[0]C[0]$formula=RANGE SUM FORMULA_START, formulaTokenList==SUM( RANGE ), ranges=[R1C1FormulaRange{relativeRange=R[0]C[-12]:R[0]C[-2], startTokenIndex=3, workbookRangeId=null}], computedValue=doub:54118.0$$R[1]C[0]$formula=RANGE SUM FORMULA_START, formulaTokenList==SUM( RANGE ), ranges=[R1C1FormulaRange{relativeRange=R[0]C[-12]:R[0]C[-2], startTokenIndex=3, workbookRangeId=null}], computedValue=doub:34118.0$$R[2]C[0]$formula=RANGE SUM FORMULA_START, formulaTokenList==SUM( RANGE ), ranges=[R1C1FormulaRange{relativeRange=R[0]C[-12]:R[0]C[-2], startTokenIndex=3, workbookRangeId=null}], computedValue=doub:34118.0$$R[3]C[0]$formula=RANGE SUM FORMULA_START, formulaTokenList==SUM( RANGE ), ranges=[R1C1FormulaRange{relativeRange=R[0]C[-12]:R[0]C[-2], startTokenIndex=3, workbookRangeId=null}], computedValue=doub:34118.0$$R[4]C[0]$formula=RANGE SUM FORMULA_START, formulaTokenList==SUM( RANGE ), ranges=[R1C1FormulaRange{relativeRange=R[0]C[-12]:R[0]C[-2], startTokenIndex=3, workbookRangeId=null}], computedValue=doub:34118.0$$R[5]C[0]$formula=RANGE SUM FORMULA_START, formulaTokenList==SUM( RANGE ), ranges=[R1C1FormulaRange{relativeRange=R[0]C[-12]:R[0]C[-2], startTokenIndex=3, workbookRangeId=null}], computedValue=doub:0.0$$R[6]C[0]$formula=RANGE SUM FORMULA_START, formulaTokenList==SUM( RANGE ), ranges=[R1C1FormulaRange{relativeRange=R[0]C[-12]:R[0]C[-2], startTokenIndex=3, workbookRangeId=null}], computedValue=doub:0.0$$R[7]C[0]$formula=RANGE SUM FORMULA_START, formulaTokenList==SUM( RANGE ), ranges=[R1C1FormulaRange{relativeRange=R[0]C[-12]:R[0]C[-2], startTokenIndex=3, workbookRangeId=null}], computedValue=doub:0.0$$R[8]C[0]$formula=RANGE SUM FORMULA_START, formulaTokenList==SUM( RANGE ), ranges=[R1C1FormulaRange{relativeRange=R[0]C[-12]:R[0]C[-2], startTokenIndex=3, workbookRangeId=null}], computedValue=doub:0.0$$R[9]C[0]$formula=RANGE SUM FORMULA_START, formulaTokenList==SUM( RANGE ), ranges=[R1C1FormulaRange{relativeRange=R[0]C[-12]:R[0]C[-2], startTokenIndex=3, workbookRangeId=null}], computedValue=doub:0.0$$R[10]C[0]$formula=RANGE SUM FORMULA_START, formulaTokenList==SUM( RANGE ), ranges=[R1C1FormulaRange{relativeRange=R[0]C[-12]:R[0]C[-2], startTokenIndex=3, workbookRangeId=null}], computedValue=doub:0.0$'>, 'context_header': <tf.Tensor: shape=(), dtype=string, numpy=b'$C[0]$'>, 'doc_id': <tf.Tensor: shape=(), dtype=string, numpy=b''>, 'formula': <tf.Tensor: shape=(), dtype=string, numpy=b'RANGE SUM FORMULA_START'>, 'formula_token_list': <tf.Tensor: shape=(), dtype=string, numpy=b\"b'=SUM(  RANGE ) '\">, 'header': <tf.Tensor: shape=(), dtype=string, numpy=b''>, 'ranges': <tf.Tensor: shape=(), dtype=string, numpy=b'R[0]C[-12]:R[0]C[-2]'>, 'record_index': <tf.Tensor: shape=(), dtype=int64, numpy=1>, 'table_id': <tf.Tensor: shape=(), dtype=int64, numpy=16>}\n",
            "{'col_index': <tf.Tensor: shape=(), dtype=int64, numpy=13>, 'computed_value': <tf.Tensor: shape=(), dtype=string, numpy=b'doub:34118.0'>, 'context_data': <tf.Tensor: shape=(), dtype=string, numpy=b'$R[-2]C[0]$formula=RANGE SUM FORMULA_START, formulaTokenList==SUM( RANGE ), ranges=[R1C1FormulaRange{relativeRange=R[0]C[-12]:R[0]C[-2], startTokenIndex=3, workbookRangeId=null}], computedValue=doub:34118.0$$R[-1]C[0]$formula=RANGE SUM FORMULA_START, formulaTokenList==SUM( RANGE ), ranges=[R1C1FormulaRange{relativeRange=R[0]C[-12]:R[0]C[-2], startTokenIndex=3, workbookRangeId=null}], computedValue=doub:54118.0$$R[0]C[0]$formula=RANGE SUM FORMULA_START, formulaTokenList==SUM( RANGE ), ranges=[R1C1FormulaRange{relativeRange=R[0]C[-12]:R[0]C[-2], startTokenIndex=3, workbookRangeId=null}], computedValue=doub:34118.0$$R[1]C[0]$formula=RANGE SUM FORMULA_START, formulaTokenList==SUM( RANGE ), ranges=[R1C1FormulaRange{relativeRange=R[0]C[-12]:R[0]C[-2], startTokenIndex=3, workbookRangeId=null}], computedValue=doub:34118.0$$R[2]C[0]$formula=RANGE SUM FORMULA_START, formulaTokenList==SUM( RANGE ), ranges=[R1C1FormulaRange{relativeRange=R[0]C[-12]:R[0]C[-2], startTokenIndex=3, workbookRangeId=null}], computedValue=doub:34118.0$$R[3]C[0]$formula=RANGE SUM FORMULA_START, formulaTokenList==SUM( RANGE ), ranges=[R1C1FormulaRange{relativeRange=R[0]C[-12]:R[0]C[-2], startTokenIndex=3, workbookRangeId=null}], computedValue=doub:34118.0$$R[4]C[0]$formula=RANGE SUM FORMULA_START, formulaTokenList==SUM( RANGE ), ranges=[R1C1FormulaRange{relativeRange=R[0]C[-12]:R[0]C[-2], startTokenIndex=3, workbookRangeId=null}], computedValue=doub:0.0$$R[5]C[0]$formula=RANGE SUM FORMULA_START, formulaTokenList==SUM( RANGE ), ranges=[R1C1FormulaRange{relativeRange=R[0]C[-12]:R[0]C[-2], startTokenIndex=3, workbookRangeId=null}], computedValue=doub:0.0$$R[6]C[0]$formula=RANGE SUM FORMULA_START, formulaTokenList==SUM( RANGE ), ranges=[R1C1FormulaRange{relativeRange=R[0]C[-12]:R[0]C[-2], startTokenIndex=3, workbookRangeId=null}], computedValue=doub:0.0$$R[7]C[0]$formula=RANGE SUM FORMULA_START, formulaTokenList==SUM( RANGE ), ranges=[R1C1FormulaRange{relativeRange=R[0]C[-12]:R[0]C[-2], startTokenIndex=3, workbookRangeId=null}], computedValue=doub:0.0$$R[8]C[0]$formula=RANGE SUM FORMULA_START, formulaTokenList==SUM( RANGE ), ranges=[R1C1FormulaRange{relativeRange=R[0]C[-12]:R[0]C[-2], startTokenIndex=3, workbookRangeId=null}], computedValue=doub:0.0$$R[9]C[0]$formula=RANGE SUM FORMULA_START, formulaTokenList==SUM( RANGE ), ranges=[R1C1FormulaRange{relativeRange=R[0]C[-12]:R[0]C[-2], startTokenIndex=3, workbookRangeId=null}], computedValue=doub:0.0$$R[10]C[0]$formula=RANGE SUM FORMULA_START, formulaTokenList==SUM( RANGE ), ranges=[R1C1FormulaRange{relativeRange=R[0]C[-12]:R[0]C[-2], startTokenIndex=3, workbookRangeId=null}], computedValue=doub:0.0$'>, 'context_header': <tf.Tensor: shape=(), dtype=string, numpy=b'$C[0]$'>, 'doc_id': <tf.Tensor: shape=(), dtype=string, numpy=b''>, 'formula': <tf.Tensor: shape=(), dtype=string, numpy=b'RANGE SUM FORMULA_START'>, 'formula_token_list': <tf.Tensor: shape=(), dtype=string, numpy=b\"b'=SUM(  RANGE ) '\">, 'header': <tf.Tensor: shape=(), dtype=string, numpy=b''>, 'ranges': <tf.Tensor: shape=(), dtype=string, numpy=b'R[0]C[-12]:R[0]C[-2]'>, 'record_index': <tf.Tensor: shape=(), dtype=int64, numpy=2>, 'table_id': <tf.Tensor: shape=(), dtype=int64, numpy=16>}\n",
            "{'col_index': <tf.Tensor: shape=(), dtype=int64, numpy=13>, 'computed_value': <tf.Tensor: shape=(), dtype=string, numpy=b'doub:34118.0'>, 'context_data': <tf.Tensor: shape=(), dtype=string, numpy=b'$R[-3]C[0]$formula=RANGE SUM FORMULA_START, formulaTokenList==SUM( RANGE ), ranges=[R1C1FormulaRange{relativeRange=R[0]C[-12]:R[0]C[-2], startTokenIndex=3, workbookRangeId=null}], computedValue=doub:34118.0$$R[-2]C[0]$formula=RANGE SUM FORMULA_START, formulaTokenList==SUM( RANGE ), ranges=[R1C1FormulaRange{relativeRange=R[0]C[-12]:R[0]C[-2], startTokenIndex=3, workbookRangeId=null}], computedValue=doub:54118.0$$R[-1]C[0]$formula=RANGE SUM FORMULA_START, formulaTokenList==SUM( RANGE ), ranges=[R1C1FormulaRange{relativeRange=R[0]C[-12]:R[0]C[-2], startTokenIndex=3, workbookRangeId=null}], computedValue=doub:34118.0$$R[0]C[0]$formula=RANGE SUM FORMULA_START, formulaTokenList==SUM( RANGE ), ranges=[R1C1FormulaRange{relativeRange=R[0]C[-12]:R[0]C[-2], startTokenIndex=3, workbookRangeId=null}], computedValue=doub:34118.0$$R[1]C[0]$formula=RANGE SUM FORMULA_START, formulaTokenList==SUM( RANGE ), ranges=[R1C1FormulaRange{relativeRange=R[0]C[-12]:R[0]C[-2], startTokenIndex=3, workbookRangeId=null}], computedValue=doub:34118.0$$R[2]C[0]$formula=RANGE SUM FORMULA_START, formulaTokenList==SUM( RANGE ), ranges=[R1C1FormulaRange{relativeRange=R[0]C[-12]:R[0]C[-2], startTokenIndex=3, workbookRangeId=null}], computedValue=doub:34118.0$$R[3]C[0]$formula=RANGE SUM FORMULA_START, formulaTokenList==SUM( RANGE ), ranges=[R1C1FormulaRange{relativeRange=R[0]C[-12]:R[0]C[-2], startTokenIndex=3, workbookRangeId=null}], computedValue=doub:0.0$$R[4]C[0]$formula=RANGE SUM FORMULA_START, formulaTokenList==SUM( RANGE ), ranges=[R1C1FormulaRange{relativeRange=R[0]C[-12]:R[0]C[-2], startTokenIndex=3, workbookRangeId=null}], computedValue=doub:0.0$$R[5]C[0]$formula=RANGE SUM FORMULA_START, formulaTokenList==SUM( RANGE ), ranges=[R1C1FormulaRange{relativeRange=R[0]C[-12]:R[0]C[-2], startTokenIndex=3, workbookRangeId=null}], computedValue=doub:0.0$$R[6]C[0]$formula=RANGE SUM FORMULA_START, formulaTokenList==SUM( RANGE ), ranges=[R1C1FormulaRange{relativeRange=R[0]C[-12]:R[0]C[-2], startTokenIndex=3, workbookRangeId=null}], computedValue=doub:0.0$$R[7]C[0]$formula=RANGE SUM FORMULA_START, formulaTokenList==SUM( RANGE ), ranges=[R1C1FormulaRange{relativeRange=R[0]C[-12]:R[0]C[-2], startTokenIndex=3, workbookRangeId=null}], computedValue=doub:0.0$$R[8]C[0]$formula=RANGE SUM FORMULA_START, formulaTokenList==SUM( RANGE ), ranges=[R1C1FormulaRange{relativeRange=R[0]C[-12]:R[0]C[-2], startTokenIndex=3, workbookRangeId=null}], computedValue=doub:0.0$$R[9]C[0]$formula=RANGE SUM FORMULA_START, formulaTokenList==SUM( RANGE ), ranges=[R1C1FormulaRange{relativeRange=R[0]C[-12]:R[0]C[-2], startTokenIndex=3, workbookRangeId=null}], computedValue=doub:0.0$$R[10]C[0]$formula=RANGE SUM FORMULA_START, formulaTokenList==SUM( RANGE ), ranges=[R1C1FormulaRange{relativeRange=R[0]C[-12]:R[0]C[-2], startTokenIndex=3, workbookRangeId=null}], computedValue=doub:0.0$'>, 'context_header': <tf.Tensor: shape=(), dtype=string, numpy=b'$C[0]$'>, 'doc_id': <tf.Tensor: shape=(), dtype=string, numpy=b''>, 'formula': <tf.Tensor: shape=(), dtype=string, numpy=b'RANGE SUM FORMULA_START'>, 'formula_token_list': <tf.Tensor: shape=(), dtype=string, numpy=b\"b'=SUM(  RANGE ) '\">, 'header': <tf.Tensor: shape=(), dtype=string, numpy=b''>, 'ranges': <tf.Tensor: shape=(), dtype=string, numpy=b'R[0]C[-12]:R[0]C[-2]'>, 'record_index': <tf.Tensor: shape=(), dtype=int64, numpy=3>, 'table_id': <tf.Tensor: shape=(), dtype=int64, numpy=16>}\n",
            "{'col_index': <tf.Tensor: shape=(), dtype=int64, numpy=13>, 'computed_value': <tf.Tensor: shape=(), dtype=string, numpy=b'doub:34118.0'>, 'context_data': <tf.Tensor: shape=(), dtype=string, numpy=b'$R[-4]C[0]$formula=RANGE SUM FORMULA_START, formulaTokenList==SUM( RANGE ), ranges=[R1C1FormulaRange{relativeRange=R[0]C[-12]:R[0]C[-2], startTokenIndex=3, workbookRangeId=null}], computedValue=doub:34118.0$$R[-3]C[0]$formula=RANGE SUM FORMULA_START, formulaTokenList==SUM( RANGE ), ranges=[R1C1FormulaRange{relativeRange=R[0]C[-12]:R[0]C[-2], startTokenIndex=3, workbookRangeId=null}], computedValue=doub:54118.0$$R[-2]C[0]$formula=RANGE SUM FORMULA_START, formulaTokenList==SUM( RANGE ), ranges=[R1C1FormulaRange{relativeRange=R[0]C[-12]:R[0]C[-2], startTokenIndex=3, workbookRangeId=null}], computedValue=doub:34118.0$$R[-1]C[0]$formula=RANGE SUM FORMULA_START, formulaTokenList==SUM( RANGE ), ranges=[R1C1FormulaRange{relativeRange=R[0]C[-12]:R[0]C[-2], startTokenIndex=3, workbookRangeId=null}], computedValue=doub:34118.0$$R[0]C[0]$formula=RANGE SUM FORMULA_START, formulaTokenList==SUM( RANGE ), ranges=[R1C1FormulaRange{relativeRange=R[0]C[-12]:R[0]C[-2], startTokenIndex=3, workbookRangeId=null}], computedValue=doub:34118.0$$R[1]C[0]$formula=RANGE SUM FORMULA_START, formulaTokenList==SUM( RANGE ), ranges=[R1C1FormulaRange{relativeRange=R[0]C[-12]:R[0]C[-2], startTokenIndex=3, workbookRangeId=null}], computedValue=doub:34118.0$$R[2]C[0]$formula=RANGE SUM FORMULA_START, formulaTokenList==SUM( RANGE ), ranges=[R1C1FormulaRange{relativeRange=R[0]C[-12]:R[0]C[-2], startTokenIndex=3, workbookRangeId=null}], computedValue=doub:0.0$$R[3]C[0]$formula=RANGE SUM FORMULA_START, formulaTokenList==SUM( RANGE ), ranges=[R1C1FormulaRange{relativeRange=R[0]C[-12]:R[0]C[-2], startTokenIndex=3, workbookRangeId=null}], computedValue=doub:0.0$$R[4]C[0]$formula=RANGE SUM FORMULA_START, formulaTokenList==SUM( RANGE ), ranges=[R1C1FormulaRange{relativeRange=R[0]C[-12]:R[0]C[-2], startTokenIndex=3, workbookRangeId=null}], computedValue=doub:0.0$$R[5]C[0]$formula=RANGE SUM FORMULA_START, formulaTokenList==SUM( RANGE ), ranges=[R1C1FormulaRange{relativeRange=R[0]C[-12]:R[0]C[-2], startTokenIndex=3, workbookRangeId=null}], computedValue=doub:0.0$$R[6]C[0]$formula=RANGE SUM FORMULA_START, formulaTokenList==SUM( RANGE ), ranges=[R1C1FormulaRange{relativeRange=R[0]C[-12]:R[0]C[-2], startTokenIndex=3, workbookRangeId=null}], computedValue=doub:0.0$$R[7]C[0]$formula=RANGE SUM FORMULA_START, formulaTokenList==SUM( RANGE ), ranges=[R1C1FormulaRange{relativeRange=R[0]C[-12]:R[0]C[-2], startTokenIndex=3, workbookRangeId=null}], computedValue=doub:0.0$$R[8]C[0]$formula=RANGE SUM FORMULA_START, formulaTokenList==SUM( RANGE ), ranges=[R1C1FormulaRange{relativeRange=R[0]C[-12]:R[0]C[-2], startTokenIndex=3, workbookRangeId=null}], computedValue=doub:0.0$$R[9]C[0]$formula=RANGE SUM FORMULA_START, formulaTokenList==SUM( RANGE ), ranges=[R1C1FormulaRange{relativeRange=R[0]C[-12]:R[0]C[-2], startTokenIndex=3, workbookRangeId=null}], computedValue=doub:0.0$$R[10]C[0]$formula=RANGE SUM FORMULA_START, formulaTokenList==SUM( RANGE ), ranges=[R1C1FormulaRange{relativeRange=R[0]C[-12]:R[0]C[-2], startTokenIndex=3, workbookRangeId=null}], computedValue=doub:0.0$'>, 'context_header': <tf.Tensor: shape=(), dtype=string, numpy=b'$C[0]$'>, 'doc_id': <tf.Tensor: shape=(), dtype=string, numpy=b''>, 'formula': <tf.Tensor: shape=(), dtype=string, numpy=b'RANGE SUM FORMULA_START'>, 'formula_token_list': <tf.Tensor: shape=(), dtype=string, numpy=b\"b'=SUM(  RANGE ) '\">, 'header': <tf.Tensor: shape=(), dtype=string, numpy=b''>, 'ranges': <tf.Tensor: shape=(), dtype=string, numpy=b'R[0]C[-12]:R[0]C[-2]'>, 'record_index': <tf.Tensor: shape=(), dtype=int64, numpy=4>, 'table_id': <tf.Tensor: shape=(), dtype=int64, numpy=16>}\n",
            "{'col_index': <tf.Tensor: shape=(), dtype=int64, numpy=13>, 'computed_value': <tf.Tensor: shape=(), dtype=string, numpy=b'doub:34118.0'>, 'context_data': <tf.Tensor: shape=(), dtype=string, numpy=b'$R[-5]C[0]$formula=RANGE SUM FORMULA_START, formulaTokenList==SUM( RANGE ), ranges=[R1C1FormulaRange{relativeRange=R[0]C[-12]:R[0]C[-2], startTokenIndex=3, workbookRangeId=null}], computedValue=doub:34118.0$$R[-4]C[0]$formula=RANGE SUM FORMULA_START, formulaTokenList==SUM( RANGE ), ranges=[R1C1FormulaRange{relativeRange=R[0]C[-12]:R[0]C[-2], startTokenIndex=3, workbookRangeId=null}], computedValue=doub:54118.0$$R[-3]C[0]$formula=RANGE SUM FORMULA_START, formulaTokenList==SUM( RANGE ), ranges=[R1C1FormulaRange{relativeRange=R[0]C[-12]:R[0]C[-2], startTokenIndex=3, workbookRangeId=null}], computedValue=doub:34118.0$$R[-2]C[0]$formula=RANGE SUM FORMULA_START, formulaTokenList==SUM( RANGE ), ranges=[R1C1FormulaRange{relativeRange=R[0]C[-12]:R[0]C[-2], startTokenIndex=3, workbookRangeId=null}], computedValue=doub:34118.0$$R[-1]C[0]$formula=RANGE SUM FORMULA_START, formulaTokenList==SUM( RANGE ), ranges=[R1C1FormulaRange{relativeRange=R[0]C[-12]:R[0]C[-2], startTokenIndex=3, workbookRangeId=null}], computedValue=doub:34118.0$$R[0]C[0]$formula=RANGE SUM FORMULA_START, formulaTokenList==SUM( RANGE ), ranges=[R1C1FormulaRange{relativeRange=R[0]C[-12]:R[0]C[-2], startTokenIndex=3, workbookRangeId=null}], computedValue=doub:34118.0$$R[1]C[0]$formula=RANGE SUM FORMULA_START, formulaTokenList==SUM( RANGE ), ranges=[R1C1FormulaRange{relativeRange=R[0]C[-12]:R[0]C[-2], startTokenIndex=3, workbookRangeId=null}], computedValue=doub:0.0$$R[2]C[0]$formula=RANGE SUM FORMULA_START, formulaTokenList==SUM( RANGE ), ranges=[R1C1FormulaRange{relativeRange=R[0]C[-12]:R[0]C[-2], startTokenIndex=3, workbookRangeId=null}], computedValue=doub:0.0$$R[3]C[0]$formula=RANGE SUM FORMULA_START, formulaTokenList==SUM( RANGE ), ranges=[R1C1FormulaRange{relativeRange=R[0]C[-12]:R[0]C[-2], startTokenIndex=3, workbookRangeId=null}], computedValue=doub:0.0$$R[4]C[0]$formula=RANGE SUM FORMULA_START, formulaTokenList==SUM( RANGE ), ranges=[R1C1FormulaRange{relativeRange=R[0]C[-12]:R[0]C[-2], startTokenIndex=3, workbookRangeId=null}], computedValue=doub:0.0$$R[5]C[0]$formula=RANGE SUM FORMULA_START, formulaTokenList==SUM( RANGE ), ranges=[R1C1FormulaRange{relativeRange=R[0]C[-12]:R[0]C[-2], startTokenIndex=3, workbookRangeId=null}], computedValue=doub:0.0$$R[6]C[0]$formula=RANGE SUM FORMULA_START, formulaTokenList==SUM( RANGE ), ranges=[R1C1FormulaRange{relativeRange=R[0]C[-12]:R[0]C[-2], startTokenIndex=3, workbookRangeId=null}], computedValue=doub:0.0$$R[7]C[0]$formula=RANGE SUM FORMULA_START, formulaTokenList==SUM( RANGE ), ranges=[R1C1FormulaRange{relativeRange=R[0]C[-12]:R[0]C[-2], startTokenIndex=3, workbookRangeId=null}], computedValue=doub:0.0$$R[8]C[0]$formula=RANGE SUM FORMULA_START, formulaTokenList==SUM( RANGE ), ranges=[R1C1FormulaRange{relativeRange=R[0]C[-12]:R[0]C[-2], startTokenIndex=3, workbookRangeId=null}], computedValue=doub:0.0$$R[9]C[0]$formula=RANGE SUM FORMULA_START, formulaTokenList==SUM( RANGE ), ranges=[R1C1FormulaRange{relativeRange=R[0]C[-12]:R[0]C[-2], startTokenIndex=3, workbookRangeId=null}], computedValue=doub:0.0$$R[10]C[0]$formula=RANGE SUM FORMULA_START, formulaTokenList==SUM( RANGE ), ranges=[R1C1FormulaRange{relativeRange=R[0]C[-12]:R[0]C[-2], startTokenIndex=3, workbookRangeId=null}], computedValue=doub:0.0$'>, 'context_header': <tf.Tensor: shape=(), dtype=string, numpy=b'$C[0]$'>, 'doc_id': <tf.Tensor: shape=(), dtype=string, numpy=b''>, 'formula': <tf.Tensor: shape=(), dtype=string, numpy=b'RANGE SUM FORMULA_START'>, 'formula_token_list': <tf.Tensor: shape=(), dtype=string, numpy=b\"b'=SUM(  RANGE ) '\">, 'header': <tf.Tensor: shape=(), dtype=string, numpy=b''>, 'ranges': <tf.Tensor: shape=(), dtype=string, numpy=b'R[0]C[-12]:R[0]C[-2]'>, 'record_index': <tf.Tensor: shape=(), dtype=int64, numpy=5>, 'table_id': <tf.Tensor: shape=(), dtype=int64, numpy=16>}\n",
            "{'col_index': <tf.Tensor: shape=(), dtype=int64, numpy=13>, 'computed_value': <tf.Tensor: shape=(), dtype=string, numpy=b'doub:0.0'>, 'context_data': <tf.Tensor: shape=(), dtype=string, numpy=b'$R[-6]C[0]$formula=RANGE SUM FORMULA_START, formulaTokenList==SUM( RANGE ), ranges=[R1C1FormulaRange{relativeRange=R[0]C[-12]:R[0]C[-2], startTokenIndex=3, workbookRangeId=null}], computedValue=doub:34118.0$$R[-5]C[0]$formula=RANGE SUM FORMULA_START, formulaTokenList==SUM( RANGE ), ranges=[R1C1FormulaRange{relativeRange=R[0]C[-12]:R[0]C[-2], startTokenIndex=3, workbookRangeId=null}], computedValue=doub:54118.0$$R[-4]C[0]$formula=RANGE SUM FORMULA_START, formulaTokenList==SUM( RANGE ), ranges=[R1C1FormulaRange{relativeRange=R[0]C[-12]:R[0]C[-2], startTokenIndex=3, workbookRangeId=null}], computedValue=doub:34118.0$$R[-3]C[0]$formula=RANGE SUM FORMULA_START, formulaTokenList==SUM( RANGE ), ranges=[R1C1FormulaRange{relativeRange=R[0]C[-12]:R[0]C[-2], startTokenIndex=3, workbookRangeId=null}], computedValue=doub:34118.0$$R[-2]C[0]$formula=RANGE SUM FORMULA_START, formulaTokenList==SUM( RANGE ), ranges=[R1C1FormulaRange{relativeRange=R[0]C[-12]:R[0]C[-2], startTokenIndex=3, workbookRangeId=null}], computedValue=doub:34118.0$$R[-1]C[0]$formula=RANGE SUM FORMULA_START, formulaTokenList==SUM( RANGE ), ranges=[R1C1FormulaRange{relativeRange=R[0]C[-12]:R[0]C[-2], startTokenIndex=3, workbookRangeId=null}], computedValue=doub:34118.0$$R[0]C[0]$formula=RANGE SUM FORMULA_START, formulaTokenList==SUM( RANGE ), ranges=[R1C1FormulaRange{relativeRange=R[0]C[-12]:R[0]C[-2], startTokenIndex=3, workbookRangeId=null}], computedValue=doub:0.0$$R[1]C[0]$formula=RANGE SUM FORMULA_START, formulaTokenList==SUM( RANGE ), ranges=[R1C1FormulaRange{relativeRange=R[0]C[-12]:R[0]C[-2], startTokenIndex=3, workbookRangeId=null}], computedValue=doub:0.0$$R[2]C[0]$formula=RANGE SUM FORMULA_START, formulaTokenList==SUM( RANGE ), ranges=[R1C1FormulaRange{relativeRange=R[0]C[-12]:R[0]C[-2], startTokenIndex=3, workbookRangeId=null}], computedValue=doub:0.0$$R[3]C[0]$formula=RANGE SUM FORMULA_START, formulaTokenList==SUM( RANGE ), ranges=[R1C1FormulaRange{relativeRange=R[0]C[-12]:R[0]C[-2], startTokenIndex=3, workbookRangeId=null}], computedValue=doub:0.0$$R[4]C[0]$formula=RANGE SUM FORMULA_START, formulaTokenList==SUM( RANGE ), ranges=[R1C1FormulaRange{relativeRange=R[0]C[-12]:R[0]C[-2], startTokenIndex=3, workbookRangeId=null}], computedValue=doub:0.0$$R[5]C[0]$formula=RANGE SUM FORMULA_START, formulaTokenList==SUM( RANGE ), ranges=[R1C1FormulaRange{relativeRange=R[0]C[-12]:R[0]C[-2], startTokenIndex=3, workbookRangeId=null}], computedValue=doub:0.0$$R[6]C[0]$formula=RANGE SUM FORMULA_START, formulaTokenList==SUM( RANGE ), ranges=[R1C1FormulaRange{relativeRange=R[0]C[-12]:R[0]C[-2], startTokenIndex=3, workbookRangeId=null}], computedValue=doub:0.0$$R[7]C[0]$formula=RANGE SUM FORMULA_START, formulaTokenList==SUM( RANGE ), ranges=[R1C1FormulaRange{relativeRange=R[0]C[-12]:R[0]C[-2], startTokenIndex=3, workbookRangeId=null}], computedValue=doub:0.0$$R[8]C[0]$formula=RANGE SUM FORMULA_START, formulaTokenList==SUM( RANGE ), ranges=[R1C1FormulaRange{relativeRange=R[0]C[-12]:R[0]C[-2], startTokenIndex=3, workbookRangeId=null}], computedValue=doub:0.0$$R[9]C[0]$formula=RANGE SUM FORMULA_START, formulaTokenList==SUM( RANGE ), ranges=[R1C1FormulaRange{relativeRange=R[0]C[-12]:R[0]C[-2], startTokenIndex=3, workbookRangeId=null}], computedValue=doub:0.0$$R[10]C[0]$formula=RANGE SUM FORMULA_START, formulaTokenList==SUM( RANGE ), ranges=[R1C1FormulaRange{relativeRange=R[0]C[-12]:R[0]C[-2], startTokenIndex=3, workbookRangeId=null}], computedValue=doub:0.0$'>, 'context_header': <tf.Tensor: shape=(), dtype=string, numpy=b'$C[0]$'>, 'doc_id': <tf.Tensor: shape=(), dtype=string, numpy=b''>, 'formula': <tf.Tensor: shape=(), dtype=string, numpy=b'RANGE SUM FORMULA_START'>, 'formula_token_list': <tf.Tensor: shape=(), dtype=string, numpy=b\"b'=SUM(  RANGE ) '\">, 'header': <tf.Tensor: shape=(), dtype=string, numpy=b''>, 'ranges': <tf.Tensor: shape=(), dtype=string, numpy=b'R[0]C[-12]:R[0]C[-2]'>, 'record_index': <tf.Tensor: shape=(), dtype=int64, numpy=6>, 'table_id': <tf.Tensor: shape=(), dtype=int64, numpy=16>}\n",
            "{'col_index': <tf.Tensor: shape=(), dtype=int64, numpy=13>, 'computed_value': <tf.Tensor: shape=(), dtype=string, numpy=b'doub:0.0'>, 'context_data': <tf.Tensor: shape=(), dtype=string, numpy=b'$R[-7]C[0]$formula=RANGE SUM FORMULA_START, formulaTokenList==SUM( RANGE ), ranges=[R1C1FormulaRange{relativeRange=R[0]C[-12]:R[0]C[-2], startTokenIndex=3, workbookRangeId=null}], computedValue=doub:34118.0$$R[-6]C[0]$formula=RANGE SUM FORMULA_START, formulaTokenList==SUM( RANGE ), ranges=[R1C1FormulaRange{relativeRange=R[0]C[-12]:R[0]C[-2], startTokenIndex=3, workbookRangeId=null}], computedValue=doub:54118.0$$R[-5]C[0]$formula=RANGE SUM FORMULA_START, formulaTokenList==SUM( RANGE ), ranges=[R1C1FormulaRange{relativeRange=R[0]C[-12]:R[0]C[-2], startTokenIndex=3, workbookRangeId=null}], computedValue=doub:34118.0$$R[-4]C[0]$formula=RANGE SUM FORMULA_START, formulaTokenList==SUM( RANGE ), ranges=[R1C1FormulaRange{relativeRange=R[0]C[-12]:R[0]C[-2], startTokenIndex=3, workbookRangeId=null}], computedValue=doub:34118.0$$R[-3]C[0]$formula=RANGE SUM FORMULA_START, formulaTokenList==SUM( RANGE ), ranges=[R1C1FormulaRange{relativeRange=R[0]C[-12]:R[0]C[-2], startTokenIndex=3, workbookRangeId=null}], computedValue=doub:34118.0$$R[-2]C[0]$formula=RANGE SUM FORMULA_START, formulaTokenList==SUM( RANGE ), ranges=[R1C1FormulaRange{relativeRange=R[0]C[-12]:R[0]C[-2], startTokenIndex=3, workbookRangeId=null}], computedValue=doub:34118.0$$R[-1]C[0]$formula=RANGE SUM FORMULA_START, formulaTokenList==SUM( RANGE ), ranges=[R1C1FormulaRange{relativeRange=R[0]C[-12]:R[0]C[-2], startTokenIndex=3, workbookRangeId=null}], computedValue=doub:0.0$$R[0]C[0]$formula=RANGE SUM FORMULA_START, formulaTokenList==SUM( RANGE ), ranges=[R1C1FormulaRange{relativeRange=R[0]C[-12]:R[0]C[-2], startTokenIndex=3, workbookRangeId=null}], computedValue=doub:0.0$$R[1]C[0]$formula=RANGE SUM FORMULA_START, formulaTokenList==SUM( RANGE ), ranges=[R1C1FormulaRange{relativeRange=R[0]C[-12]:R[0]C[-2], startTokenIndex=3, workbookRangeId=null}], computedValue=doub:0.0$$R[2]C[0]$formula=RANGE SUM FORMULA_START, formulaTokenList==SUM( RANGE ), ranges=[R1C1FormulaRange{relativeRange=R[0]C[-12]:R[0]C[-2], startTokenIndex=3, workbookRangeId=null}], computedValue=doub:0.0$$R[3]C[0]$formula=RANGE SUM FORMULA_START, formulaTokenList==SUM( RANGE ), ranges=[R1C1FormulaRange{relativeRange=R[0]C[-12]:R[0]C[-2], startTokenIndex=3, workbookRangeId=null}], computedValue=doub:0.0$$R[4]C[0]$formula=RANGE SUM FORMULA_START, formulaTokenList==SUM( RANGE ), ranges=[R1C1FormulaRange{relativeRange=R[0]C[-12]:R[0]C[-2], startTokenIndex=3, workbookRangeId=null}], computedValue=doub:0.0$$R[5]C[0]$formula=RANGE SUM FORMULA_START, formulaTokenList==SUM( RANGE ), ranges=[R1C1FormulaRange{relativeRange=R[0]C[-12]:R[0]C[-2], startTokenIndex=3, workbookRangeId=null}], computedValue=doub:0.0$$R[6]C[0]$formula=RANGE SUM FORMULA_START, formulaTokenList==SUM( RANGE ), ranges=[R1C1FormulaRange{relativeRange=R[0]C[-12]:R[0]C[-2], startTokenIndex=3, workbookRangeId=null}], computedValue=doub:0.0$$R[7]C[0]$formula=RANGE SUM FORMULA_START, formulaTokenList==SUM( RANGE ), ranges=[R1C1FormulaRange{relativeRange=R[0]C[-12]:R[0]C[-2], startTokenIndex=3, workbookRangeId=null}], computedValue=doub:0.0$$R[8]C[0]$formula=RANGE SUM FORMULA_START, formulaTokenList==SUM( RANGE ), ranges=[R1C1FormulaRange{relativeRange=R[0]C[-12]:R[0]C[-2], startTokenIndex=3, workbookRangeId=null}], computedValue=doub:0.0$$R[9]C[0]$formula=RANGE SUM FORMULA_START, formulaTokenList==SUM( RANGE ), ranges=[R1C1FormulaRange{relativeRange=R[0]C[-12]:R[0]C[-2], startTokenIndex=3, workbookRangeId=null}], computedValue=doub:0.0$$R[10]C[0]$formula=RANGE SUM FORMULA_START, formulaTokenList==SUM( RANGE ), ranges=[R1C1FormulaRange{relativeRange=R[0]C[-12]:R[0]C[-2], startTokenIndex=3, workbookRangeId=null}], computedValue=doub:0.0$'>, 'context_header': <tf.Tensor: shape=(), dtype=string, numpy=b'$C[0]$'>, 'doc_id': <tf.Tensor: shape=(), dtype=string, numpy=b''>, 'formula': <tf.Tensor: shape=(), dtype=string, numpy=b'RANGE SUM FORMULA_START'>, 'formula_token_list': <tf.Tensor: shape=(), dtype=string, numpy=b\"b'=SUM(  RANGE ) '\">, 'header': <tf.Tensor: shape=(), dtype=string, numpy=b''>, 'ranges': <tf.Tensor: shape=(), dtype=string, numpy=b'R[0]C[-12]:R[0]C[-2]'>, 'record_index': <tf.Tensor: shape=(), dtype=int64, numpy=7>, 'table_id': <tf.Tensor: shape=(), dtype=int64, numpy=16>}\n",
            "{'col_index': <tf.Tensor: shape=(), dtype=int64, numpy=13>, 'computed_value': <tf.Tensor: shape=(), dtype=string, numpy=b'doub:0.0'>, 'context_data': <tf.Tensor: shape=(), dtype=string, numpy=b'$R[-8]C[0]$formula=RANGE SUM FORMULA_START, formulaTokenList==SUM( RANGE ), ranges=[R1C1FormulaRange{relativeRange=R[0]C[-12]:R[0]C[-2], startTokenIndex=3, workbookRangeId=null}], computedValue=doub:34118.0$$R[-7]C[0]$formula=RANGE SUM FORMULA_START, formulaTokenList==SUM( RANGE ), ranges=[R1C1FormulaRange{relativeRange=R[0]C[-12]:R[0]C[-2], startTokenIndex=3, workbookRangeId=null}], computedValue=doub:54118.0$$R[-6]C[0]$formula=RANGE SUM FORMULA_START, formulaTokenList==SUM( RANGE ), ranges=[R1C1FormulaRange{relativeRange=R[0]C[-12]:R[0]C[-2], startTokenIndex=3, workbookRangeId=null}], computedValue=doub:34118.0$$R[-5]C[0]$formula=RANGE SUM FORMULA_START, formulaTokenList==SUM( RANGE ), ranges=[R1C1FormulaRange{relativeRange=R[0]C[-12]:R[0]C[-2], startTokenIndex=3, workbookRangeId=null}], computedValue=doub:34118.0$$R[-4]C[0]$formula=RANGE SUM FORMULA_START, formulaTokenList==SUM( RANGE ), ranges=[R1C1FormulaRange{relativeRange=R[0]C[-12]:R[0]C[-2], startTokenIndex=3, workbookRangeId=null}], computedValue=doub:34118.0$$R[-3]C[0]$formula=RANGE SUM FORMULA_START, formulaTokenList==SUM( RANGE ), ranges=[R1C1FormulaRange{relativeRange=R[0]C[-12]:R[0]C[-2], startTokenIndex=3, workbookRangeId=null}], computedValue=doub:34118.0$$R[-2]C[0]$formula=RANGE SUM FORMULA_START, formulaTokenList==SUM( RANGE ), ranges=[R1C1FormulaRange{relativeRange=R[0]C[-12]:R[0]C[-2], startTokenIndex=3, workbookRangeId=null}], computedValue=doub:0.0$$R[-1]C[0]$formula=RANGE SUM FORMULA_START, formulaTokenList==SUM( RANGE ), ranges=[R1C1FormulaRange{relativeRange=R[0]C[-12]:R[0]C[-2], startTokenIndex=3, workbookRangeId=null}], computedValue=doub:0.0$$R[0]C[0]$formula=RANGE SUM FORMULA_START, formulaTokenList==SUM( RANGE ), ranges=[R1C1FormulaRange{relativeRange=R[0]C[-12]:R[0]C[-2], startTokenIndex=3, workbookRangeId=null}], computedValue=doub:0.0$$R[1]C[0]$formula=RANGE SUM FORMULA_START, formulaTokenList==SUM( RANGE ), ranges=[R1C1FormulaRange{relativeRange=R[0]C[-12]:R[0]C[-2], startTokenIndex=3, workbookRangeId=null}], computedValue=doub:0.0$$R[2]C[0]$formula=RANGE SUM FORMULA_START, formulaTokenList==SUM( RANGE ), ranges=[R1C1FormulaRange{relativeRange=R[0]C[-12]:R[0]C[-2], startTokenIndex=3, workbookRangeId=null}], computedValue=doub:0.0$$R[3]C[0]$formula=RANGE SUM FORMULA_START, formulaTokenList==SUM( RANGE ), ranges=[R1C1FormulaRange{relativeRange=R[0]C[-12]:R[0]C[-2], startTokenIndex=3, workbookRangeId=null}], computedValue=doub:0.0$$R[4]C[0]$formula=RANGE SUM FORMULA_START, formulaTokenList==SUM( RANGE ), ranges=[R1C1FormulaRange{relativeRange=R[0]C[-12]:R[0]C[-2], startTokenIndex=3, workbookRangeId=null}], computedValue=doub:0.0$$R[5]C[0]$formula=RANGE SUM FORMULA_START, formulaTokenList==SUM( RANGE ), ranges=[R1C1FormulaRange{relativeRange=R[0]C[-12]:R[0]C[-2], startTokenIndex=3, workbookRangeId=null}], computedValue=doub:0.0$$R[6]C[0]$formula=RANGE SUM FORMULA_START, formulaTokenList==SUM( RANGE ), ranges=[R1C1FormulaRange{relativeRange=R[0]C[-12]:R[0]C[-2], startTokenIndex=3, workbookRangeId=null}], computedValue=doub:0.0$$R[7]C[0]$formula=RANGE SUM FORMULA_START, formulaTokenList==SUM( RANGE ), ranges=[R1C1FormulaRange{relativeRange=R[0]C[-12]:R[0]C[-2], startTokenIndex=3, workbookRangeId=null}], computedValue=doub:0.0$$R[8]C[0]$formula=RANGE SUM FORMULA_START, formulaTokenList==SUM( RANGE ), ranges=[R1C1FormulaRange{relativeRange=R[0]C[-12]:R[0]C[-2], startTokenIndex=3, workbookRangeId=null}], computedValue=doub:0.0$$R[9]C[0]$formula=RANGE SUM FORMULA_START, formulaTokenList==SUM( RANGE ), ranges=[R1C1FormulaRange{relativeRange=R[0]C[-12]:R[0]C[-2], startTokenIndex=3, workbookRangeId=null}], computedValue=doub:0.0$$R[10]C[0]$formula=RANGE SUM FORMULA_START, formulaTokenList==SUM( RANGE ), ranges=[R1C1FormulaRange{relativeRange=R[0]C[-12]:R[0]C[-2], startTokenIndex=3, workbookRangeId=null}], computedValue=doub:0.0$'>, 'context_header': <tf.Tensor: shape=(), dtype=string, numpy=b'$C[0]$'>, 'doc_id': <tf.Tensor: shape=(), dtype=string, numpy=b''>, 'formula': <tf.Tensor: shape=(), dtype=string, numpy=b'RANGE SUM FORMULA_START'>, 'formula_token_list': <tf.Tensor: shape=(), dtype=string, numpy=b\"b'=SUM(  RANGE ) '\">, 'header': <tf.Tensor: shape=(), dtype=string, numpy=b''>, 'ranges': <tf.Tensor: shape=(), dtype=string, numpy=b'R[0]C[-12]:R[0]C[-2]'>, 'record_index': <tf.Tensor: shape=(), dtype=int64, numpy=8>, 'table_id': <tf.Tensor: shape=(), dtype=int64, numpy=16>}\n",
            "{'col_index': <tf.Tensor: shape=(), dtype=int64, numpy=13>, 'computed_value': <tf.Tensor: shape=(), dtype=string, numpy=b'doub:0.0'>, 'context_data': <tf.Tensor: shape=(), dtype=string, numpy=b'$R[-9]C[0]$formula=RANGE SUM FORMULA_START, formulaTokenList==SUM( RANGE ), ranges=[R1C1FormulaRange{relativeRange=R[0]C[-12]:R[0]C[-2], startTokenIndex=3, workbookRangeId=null}], computedValue=doub:34118.0$$R[-8]C[0]$formula=RANGE SUM FORMULA_START, formulaTokenList==SUM( RANGE ), ranges=[R1C1FormulaRange{relativeRange=R[0]C[-12]:R[0]C[-2], startTokenIndex=3, workbookRangeId=null}], computedValue=doub:54118.0$$R[-7]C[0]$formula=RANGE SUM FORMULA_START, formulaTokenList==SUM( RANGE ), ranges=[R1C1FormulaRange{relativeRange=R[0]C[-12]:R[0]C[-2], startTokenIndex=3, workbookRangeId=null}], computedValue=doub:34118.0$$R[-6]C[0]$formula=RANGE SUM FORMULA_START, formulaTokenList==SUM( RANGE ), ranges=[R1C1FormulaRange{relativeRange=R[0]C[-12]:R[0]C[-2], startTokenIndex=3, workbookRangeId=null}], computedValue=doub:34118.0$$R[-5]C[0]$formula=RANGE SUM FORMULA_START, formulaTokenList==SUM( RANGE ), ranges=[R1C1FormulaRange{relativeRange=R[0]C[-12]:R[0]C[-2], startTokenIndex=3, workbookRangeId=null}], computedValue=doub:34118.0$$R[-4]C[0]$formula=RANGE SUM FORMULA_START, formulaTokenList==SUM( RANGE ), ranges=[R1C1FormulaRange{relativeRange=R[0]C[-12]:R[0]C[-2], startTokenIndex=3, workbookRangeId=null}], computedValue=doub:34118.0$$R[-3]C[0]$formula=RANGE SUM FORMULA_START, formulaTokenList==SUM( RANGE ), ranges=[R1C1FormulaRange{relativeRange=R[0]C[-12]:R[0]C[-2], startTokenIndex=3, workbookRangeId=null}], computedValue=doub:0.0$$R[-2]C[0]$formula=RANGE SUM FORMULA_START, formulaTokenList==SUM( RANGE ), ranges=[R1C1FormulaRange{relativeRange=R[0]C[-12]:R[0]C[-2], startTokenIndex=3, workbookRangeId=null}], computedValue=doub:0.0$$R[-1]C[0]$formula=RANGE SUM FORMULA_START, formulaTokenList==SUM( RANGE ), ranges=[R1C1FormulaRange{relativeRange=R[0]C[-12]:R[0]C[-2], startTokenIndex=3, workbookRangeId=null}], computedValue=doub:0.0$$R[0]C[0]$formula=RANGE SUM FORMULA_START, formulaTokenList==SUM( RANGE ), ranges=[R1C1FormulaRange{relativeRange=R[0]C[-12]:R[0]C[-2], startTokenIndex=3, workbookRangeId=null}], computedValue=doub:0.0$$R[1]C[0]$formula=RANGE SUM FORMULA_START, formulaTokenList==SUM( RANGE ), ranges=[R1C1FormulaRange{relativeRange=R[0]C[-12]:R[0]C[-2], startTokenIndex=3, workbookRangeId=null}], computedValue=doub:0.0$$R[2]C[0]$formula=RANGE SUM FORMULA_START, formulaTokenList==SUM( RANGE ), ranges=[R1C1FormulaRange{relativeRange=R[0]C[-12]:R[0]C[-2], startTokenIndex=3, workbookRangeId=null}], computedValue=doub:0.0$$R[3]C[0]$formula=RANGE SUM FORMULA_START, formulaTokenList==SUM( RANGE ), ranges=[R1C1FormulaRange{relativeRange=R[0]C[-12]:R[0]C[-2], startTokenIndex=3, workbookRangeId=null}], computedValue=doub:0.0$$R[4]C[0]$formula=RANGE SUM FORMULA_START, formulaTokenList==SUM( RANGE ), ranges=[R1C1FormulaRange{relativeRange=R[0]C[-12]:R[0]C[-2], startTokenIndex=3, workbookRangeId=null}], computedValue=doub:0.0$$R[5]C[0]$formula=RANGE SUM FORMULA_START, formulaTokenList==SUM( RANGE ), ranges=[R1C1FormulaRange{relativeRange=R[0]C[-12]:R[0]C[-2], startTokenIndex=3, workbookRangeId=null}], computedValue=doub:0.0$$R[6]C[0]$formula=RANGE SUM FORMULA_START, formulaTokenList==SUM( RANGE ), ranges=[R1C1FormulaRange{relativeRange=R[0]C[-12]:R[0]C[-2], startTokenIndex=3, workbookRangeId=null}], computedValue=doub:0.0$$R[7]C[0]$formula=RANGE SUM FORMULA_START, formulaTokenList==SUM( RANGE ), ranges=[R1C1FormulaRange{relativeRange=R[0]C[-12]:R[0]C[-2], startTokenIndex=3, workbookRangeId=null}], computedValue=doub:0.0$$R[8]C[0]$formula=RANGE SUM FORMULA_START, formulaTokenList==SUM( RANGE ), ranges=[R1C1FormulaRange{relativeRange=R[0]C[-12]:R[0]C[-2], startTokenIndex=3, workbookRangeId=null}], computedValue=doub:0.0$$R[9]C[0]$formula=RANGE SUM FORMULA_START, formulaTokenList==SUM( RANGE ), ranges=[R1C1FormulaRange{relativeRange=R[0]C[-12]:R[0]C[-2], startTokenIndex=3, workbookRangeId=null}], computedValue=doub:0.0$$R[10]C[0]$formula=RANGE SUM FORMULA_START, formulaTokenList==SUM( RANGE ), ranges=[R1C1FormulaRange{relativeRange=R[0]C[-12]:R[0]C[-2], startTokenIndex=3, workbookRangeId=null}], computedValue=doub:0.0$'>, 'context_header': <tf.Tensor: shape=(), dtype=string, numpy=b'$C[0]$'>, 'doc_id': <tf.Tensor: shape=(), dtype=string, numpy=b''>, 'formula': <tf.Tensor: shape=(), dtype=string, numpy=b'RANGE SUM FORMULA_START'>, 'formula_token_list': <tf.Tensor: shape=(), dtype=string, numpy=b\"b'=SUM(  RANGE ) '\">, 'header': <tf.Tensor: shape=(), dtype=string, numpy=b''>, 'ranges': <tf.Tensor: shape=(), dtype=string, numpy=b'R[0]C[-12]:R[0]C[-2]'>, 'record_index': <tf.Tensor: shape=(), dtype=int64, numpy=9>, 'table_id': <tf.Tensor: shape=(), dtype=int64, numpy=16>}\n",
            "{'col_index': <tf.Tensor: shape=(), dtype=int64, numpy=13>, 'computed_value': <tf.Tensor: shape=(), dtype=string, numpy=b'doub:0.0'>, 'context_data': <tf.Tensor: shape=(), dtype=string, numpy=b'$R[-10]C[0]$formula=RANGE SUM FORMULA_START, formulaTokenList==SUM( RANGE ), ranges=[R1C1FormulaRange{relativeRange=R[0]C[-12]:R[0]C[-2], startTokenIndex=3, workbookRangeId=null}], computedValue=doub:34118.0$$R[-9]C[0]$formula=RANGE SUM FORMULA_START, formulaTokenList==SUM( RANGE ), ranges=[R1C1FormulaRange{relativeRange=R[0]C[-12]:R[0]C[-2], startTokenIndex=3, workbookRangeId=null}], computedValue=doub:54118.0$$R[-8]C[0]$formula=RANGE SUM FORMULA_START, formulaTokenList==SUM( RANGE ), ranges=[R1C1FormulaRange{relativeRange=R[0]C[-12]:R[0]C[-2], startTokenIndex=3, workbookRangeId=null}], computedValue=doub:34118.0$$R[-7]C[0]$formula=RANGE SUM FORMULA_START, formulaTokenList==SUM( RANGE ), ranges=[R1C1FormulaRange{relativeRange=R[0]C[-12]:R[0]C[-2], startTokenIndex=3, workbookRangeId=null}], computedValue=doub:34118.0$$R[-6]C[0]$formula=RANGE SUM FORMULA_START, formulaTokenList==SUM( RANGE ), ranges=[R1C1FormulaRange{relativeRange=R[0]C[-12]:R[0]C[-2], startTokenIndex=3, workbookRangeId=null}], computedValue=doub:34118.0$$R[-5]C[0]$formula=RANGE SUM FORMULA_START, formulaTokenList==SUM( RANGE ), ranges=[R1C1FormulaRange{relativeRange=R[0]C[-12]:R[0]C[-2], startTokenIndex=3, workbookRangeId=null}], computedValue=doub:34118.0$$R[-4]C[0]$formula=RANGE SUM FORMULA_START, formulaTokenList==SUM( RANGE ), ranges=[R1C1FormulaRange{relativeRange=R[0]C[-12]:R[0]C[-2], startTokenIndex=3, workbookRangeId=null}], computedValue=doub:0.0$$R[-3]C[0]$formula=RANGE SUM FORMULA_START, formulaTokenList==SUM( RANGE ), ranges=[R1C1FormulaRange{relativeRange=R[0]C[-12]:R[0]C[-2], startTokenIndex=3, workbookRangeId=null}], computedValue=doub:0.0$$R[-2]C[0]$formula=RANGE SUM FORMULA_START, formulaTokenList==SUM( RANGE ), ranges=[R1C1FormulaRange{relativeRange=R[0]C[-12]:R[0]C[-2], startTokenIndex=3, workbookRangeId=null}], computedValue=doub:0.0$$R[-1]C[0]$formula=RANGE SUM FORMULA_START, formulaTokenList==SUM( RANGE ), ranges=[R1C1FormulaRange{relativeRange=R[0]C[-12]:R[0]C[-2], startTokenIndex=3, workbookRangeId=null}], computedValue=doub:0.0$$R[0]C[0]$formula=RANGE SUM FORMULA_START, formulaTokenList==SUM( RANGE ), ranges=[R1C1FormulaRange{relativeRange=R[0]C[-12]:R[0]C[-2], startTokenIndex=3, workbookRangeId=null}], computedValue=doub:0.0$$R[1]C[0]$formula=RANGE SUM FORMULA_START, formulaTokenList==SUM( RANGE ), ranges=[R1C1FormulaRange{relativeRange=R[0]C[-12]:R[0]C[-2], startTokenIndex=3, workbookRangeId=null}], computedValue=doub:0.0$$R[2]C[0]$formula=RANGE SUM FORMULA_START, formulaTokenList==SUM( RANGE ), ranges=[R1C1FormulaRange{relativeRange=R[0]C[-12]:R[0]C[-2], startTokenIndex=3, workbookRangeId=null}], computedValue=doub:0.0$$R[3]C[0]$formula=RANGE SUM FORMULA_START, formulaTokenList==SUM( RANGE ), ranges=[R1C1FormulaRange{relativeRange=R[0]C[-12]:R[0]C[-2], startTokenIndex=3, workbookRangeId=null}], computedValue=doub:0.0$$R[4]C[0]$formula=RANGE SUM FORMULA_START, formulaTokenList==SUM( RANGE ), ranges=[R1C1FormulaRange{relativeRange=R[0]C[-12]:R[0]C[-2], startTokenIndex=3, workbookRangeId=null}], computedValue=doub:0.0$$R[5]C[0]$formula=RANGE SUM FORMULA_START, formulaTokenList==SUM( RANGE ), ranges=[R1C1FormulaRange{relativeRange=R[0]C[-12]:R[0]C[-2], startTokenIndex=3, workbookRangeId=null}], computedValue=doub:0.0$$R[6]C[0]$formula=RANGE SUM FORMULA_START, formulaTokenList==SUM( RANGE ), ranges=[R1C1FormulaRange{relativeRange=R[0]C[-12]:R[0]C[-2], startTokenIndex=3, workbookRangeId=null}], computedValue=doub:0.0$$R[7]C[0]$formula=RANGE SUM FORMULA_START, formulaTokenList==SUM( RANGE ), ranges=[R1C1FormulaRange{relativeRange=R[0]C[-12]:R[0]C[-2], startTokenIndex=3, workbookRangeId=null}], computedValue=doub:0.0$$R[8]C[0]$formula=RANGE SUM FORMULA_START, formulaTokenList==SUM( RANGE ), ranges=[R1C1FormulaRange{relativeRange=R[0]C[-12]:R[0]C[-2], startTokenIndex=3, workbookRangeId=null}], computedValue=doub:0.0$$R[9]C[0]$formula=RANGE SUM FORMULA_START, formulaTokenList==SUM( RANGE ), ranges=[R1C1FormulaRange{relativeRange=R[0]C[-12]:R[0]C[-2], startTokenIndex=3, workbookRangeId=null}], computedValue=doub:0.0$$R[10]C[0]$formula=RANGE SUM FORMULA_START, formulaTokenList==SUM( RANGE ), ranges=[R1C1FormulaRange{relativeRange=R[0]C[-12]:R[0]C[-2], startTokenIndex=3, workbookRangeId=null}], computedValue=doub:0.0$'>, 'context_header': <tf.Tensor: shape=(), dtype=string, numpy=b'$C[0]$'>, 'doc_id': <tf.Tensor: shape=(), dtype=string, numpy=b''>, 'formula': <tf.Tensor: shape=(), dtype=string, numpy=b'RANGE SUM FORMULA_START'>, 'formula_token_list': <tf.Tensor: shape=(), dtype=string, numpy=b\"b'=SUM(  RANGE ) '\">, 'header': <tf.Tensor: shape=(), dtype=string, numpy=b''>, 'ranges': <tf.Tensor: shape=(), dtype=string, numpy=b'R[0]C[-12]:R[0]C[-2]'>, 'record_index': <tf.Tensor: shape=(), dtype=int64, numpy=10>, 'table_id': <tf.Tensor: shape=(), dtype=int64, numpy=16>}\n",
            "{'col_index': <tf.Tensor: shape=(), dtype=int64, numpy=23>, 'computed_value': <tf.Tensor: shape=(), dtype=string, numpy=b'doub:36510.0'>, 'context_data': <tf.Tensor: shape=(), dtype=string, numpy=b'$R[0]C[0]$formula=RANGE SUM FORMULA_START, formulaTokenList==SUM( RANGE ), ranges=[R1C1FormulaRange{relativeRange=R[0]C[-8]:R[0]C[-1], startTokenIndex=3, workbookRangeId=null}], computedValue=doub:36510.0$$R[1]C[0]$formula=RANGE SUM FORMULA_START, formulaTokenList==SUM( RANGE ), ranges=[R1C1FormulaRange{relativeRange=R[0]C[-8]:R[0]C[-1], startTokenIndex=3, workbookRangeId=null}], computedValue=doub:55113.0$$R[2]C[0]$formula=RANGE SUM FORMULA_START, formulaTokenList==SUM( RANGE ), ranges=[R1C1FormulaRange{relativeRange=R[0]C[-8]:R[0]C[-1], startTokenIndex=3, workbookRangeId=null}], computedValue=doub:34936.0$$R[3]C[0]$formula=RANGE SUM FORMULA_START, formulaTokenList==SUM( RANGE ), ranges=[R1C1FormulaRange{relativeRange=R[0]C[-8]:R[0]C[-1], startTokenIndex=3, workbookRangeId=null}], computedValue=doub:36017.0$$R[4]C[0]$formula=RANGE SUM FORMULA_START, formulaTokenList==SUM( RANGE ), ranges=[R1C1FormulaRange{relativeRange=R[0]C[-8]:R[0]C[-1], startTokenIndex=3, workbookRangeId=null}], computedValue=doub:36416.0$$R[5]C[0]$formula=RANGE SUM FORMULA_START, formulaTokenList==SUM( RANGE ), ranges=[R1C1FormulaRange{relativeRange=R[0]C[-8]:R[0]C[-1], startTokenIndex=3, workbookRangeId=null}], computedValue=doub:36006.0$$R[6]C[0]$formula=RANGE SUM FORMULA_START, formulaTokenList==SUM( RANGE ), ranges=[R1C1FormulaRange{relativeRange=R[0]C[-8]:R[0]C[-1], startTokenIndex=3, workbookRangeId=null}], computedValue=doub:0.0$$R[7]C[0]$formula=RANGE SUM FORMULA_START, formulaTokenList==SUM( RANGE ), ranges=[R1C1FormulaRange{relativeRange=R[0]C[-8]:R[0]C[-1], startTokenIndex=3, workbookRangeId=null}], computedValue=doub:0.0$$R[8]C[0]$formula=RANGE SUM FORMULA_START, formulaTokenList==SUM( RANGE ), ranges=[R1C1FormulaRange{relativeRange=R[0]C[-8]:R[0]C[-1], startTokenIndex=3, workbookRangeId=null}], computedValue=doub:0.0$$R[9]C[0]$formula=RANGE SUM FORMULA_START, formulaTokenList==SUM( RANGE ), ranges=[R1C1FormulaRange{relativeRange=R[0]C[-8]:R[0]C[-1], startTokenIndex=3, workbookRangeId=null}], computedValue=doub:0.0$$R[10]C[0]$formula=RANGE SUM FORMULA_START, formulaTokenList==SUM( RANGE ), ranges=[R1C1FormulaRange{relativeRange=R[0]C[-8]:R[0]C[-1], startTokenIndex=3, workbookRangeId=null}], computedValue=doub:0.0$'>, 'context_header': <tf.Tensor: shape=(), dtype=string, numpy=b'$C[0]$'>, 'doc_id': <tf.Tensor: shape=(), dtype=string, numpy=b''>, 'formula': <tf.Tensor: shape=(), dtype=string, numpy=b'RANGE SUM FORMULA_START'>, 'formula_token_list': <tf.Tensor: shape=(), dtype=string, numpy=b\"b'=SUM(  RANGE ) '\">, 'header': <tf.Tensor: shape=(), dtype=string, numpy=b''>, 'ranges': <tf.Tensor: shape=(), dtype=string, numpy=b'R[0]C[-8]:R[0]C[-1]'>, 'record_index': <tf.Tensor: shape=(), dtype=int64, numpy=0>, 'table_id': <tf.Tensor: shape=(), dtype=int64, numpy=19>}\n",
            "{'col_index': <tf.Tensor: shape=(), dtype=int64, numpy=23>, 'computed_value': <tf.Tensor: shape=(), dtype=string, numpy=b'doub:55113.0'>, 'context_data': <tf.Tensor: shape=(), dtype=string, numpy=b'$R[-1]C[0]$formula=RANGE SUM FORMULA_START, formulaTokenList==SUM( RANGE ), ranges=[R1C1FormulaRange{relativeRange=R[0]C[-8]:R[0]C[-1], startTokenIndex=3, workbookRangeId=null}], computedValue=doub:36510.0$$R[0]C[0]$formula=RANGE SUM FORMULA_START, formulaTokenList==SUM( RANGE ), ranges=[R1C1FormulaRange{relativeRange=R[0]C[-8]:R[0]C[-1], startTokenIndex=3, workbookRangeId=null}], computedValue=doub:55113.0$$R[1]C[0]$formula=RANGE SUM FORMULA_START, formulaTokenList==SUM( RANGE ), ranges=[R1C1FormulaRange{relativeRange=R[0]C[-8]:R[0]C[-1], startTokenIndex=3, workbookRangeId=null}], computedValue=doub:34936.0$$R[2]C[0]$formula=RANGE SUM FORMULA_START, formulaTokenList==SUM( RANGE ), ranges=[R1C1FormulaRange{relativeRange=R[0]C[-8]:R[0]C[-1], startTokenIndex=3, workbookRangeId=null}], computedValue=doub:36017.0$$R[3]C[0]$formula=RANGE SUM FORMULA_START, formulaTokenList==SUM( RANGE ), ranges=[R1C1FormulaRange{relativeRange=R[0]C[-8]:R[0]C[-1], startTokenIndex=3, workbookRangeId=null}], computedValue=doub:36416.0$$R[4]C[0]$formula=RANGE SUM FORMULA_START, formulaTokenList==SUM( RANGE ), ranges=[R1C1FormulaRange{relativeRange=R[0]C[-8]:R[0]C[-1], startTokenIndex=3, workbookRangeId=null}], computedValue=doub:36006.0$$R[5]C[0]$formula=RANGE SUM FORMULA_START, formulaTokenList==SUM( RANGE ), ranges=[R1C1FormulaRange{relativeRange=R[0]C[-8]:R[0]C[-1], startTokenIndex=3, workbookRangeId=null}], computedValue=doub:0.0$$R[6]C[0]$formula=RANGE SUM FORMULA_START, formulaTokenList==SUM( RANGE ), ranges=[R1C1FormulaRange{relativeRange=R[0]C[-8]:R[0]C[-1], startTokenIndex=3, workbookRangeId=null}], computedValue=doub:0.0$$R[7]C[0]$formula=RANGE SUM FORMULA_START, formulaTokenList==SUM( RANGE ), ranges=[R1C1FormulaRange{relativeRange=R[0]C[-8]:R[0]C[-1], startTokenIndex=3, workbookRangeId=null}], computedValue=doub:0.0$$R[8]C[0]$formula=RANGE SUM FORMULA_START, formulaTokenList==SUM( RANGE ), ranges=[R1C1FormulaRange{relativeRange=R[0]C[-8]:R[0]C[-1], startTokenIndex=3, workbookRangeId=null}], computedValue=doub:0.0$$R[9]C[0]$formula=RANGE SUM FORMULA_START, formulaTokenList==SUM( RANGE ), ranges=[R1C1FormulaRange{relativeRange=R[0]C[-8]:R[0]C[-1], startTokenIndex=3, workbookRangeId=null}], computedValue=doub:0.0$$R[10]C[0]$formula=RANGE SUM FORMULA_START, formulaTokenList==SUM( RANGE ), ranges=[R1C1FormulaRange{relativeRange=R[0]C[-8]:R[0]C[-1], startTokenIndex=3, workbookRangeId=null}], computedValue=doub:0.0$'>, 'context_header': <tf.Tensor: shape=(), dtype=string, numpy=b'$C[0]$'>, 'doc_id': <tf.Tensor: shape=(), dtype=string, numpy=b''>, 'formula': <tf.Tensor: shape=(), dtype=string, numpy=b'RANGE SUM FORMULA_START'>, 'formula_token_list': <tf.Tensor: shape=(), dtype=string, numpy=b\"b'=SUM(  RANGE ) '\">, 'header': <tf.Tensor: shape=(), dtype=string, numpy=b''>, 'ranges': <tf.Tensor: shape=(), dtype=string, numpy=b'R[0]C[-8]:R[0]C[-1]'>, 'record_index': <tf.Tensor: shape=(), dtype=int64, numpy=1>, 'table_id': <tf.Tensor: shape=(), dtype=int64, numpy=19>}\n",
            "{'col_index': <tf.Tensor: shape=(), dtype=int64, numpy=23>, 'computed_value': <tf.Tensor: shape=(), dtype=string, numpy=b'doub:34936.0'>, 'context_data': <tf.Tensor: shape=(), dtype=string, numpy=b'$R[-2]C[0]$formula=RANGE SUM FORMULA_START, formulaTokenList==SUM( RANGE ), ranges=[R1C1FormulaRange{relativeRange=R[0]C[-8]:R[0]C[-1], startTokenIndex=3, workbookRangeId=null}], computedValue=doub:36510.0$$R[-1]C[0]$formula=RANGE SUM FORMULA_START, formulaTokenList==SUM( RANGE ), ranges=[R1C1FormulaRange{relativeRange=R[0]C[-8]:R[0]C[-1], startTokenIndex=3, workbookRangeId=null}], computedValue=doub:55113.0$$R[0]C[0]$formula=RANGE SUM FORMULA_START, formulaTokenList==SUM( RANGE ), ranges=[R1C1FormulaRange{relativeRange=R[0]C[-8]:R[0]C[-1], startTokenIndex=3, workbookRangeId=null}], computedValue=doub:34936.0$$R[1]C[0]$formula=RANGE SUM FORMULA_START, formulaTokenList==SUM( RANGE ), ranges=[R1C1FormulaRange{relativeRange=R[0]C[-8]:R[0]C[-1], startTokenIndex=3, workbookRangeId=null}], computedValue=doub:36017.0$$R[2]C[0]$formula=RANGE SUM FORMULA_START, formulaTokenList==SUM( RANGE ), ranges=[R1C1FormulaRange{relativeRange=R[0]C[-8]:R[0]C[-1], startTokenIndex=3, workbookRangeId=null}], computedValue=doub:36416.0$$R[3]C[0]$formula=RANGE SUM FORMULA_START, formulaTokenList==SUM( RANGE ), ranges=[R1C1FormulaRange{relativeRange=R[0]C[-8]:R[0]C[-1], startTokenIndex=3, workbookRangeId=null}], computedValue=doub:36006.0$$R[4]C[0]$formula=RANGE SUM FORMULA_START, formulaTokenList==SUM( RANGE ), ranges=[R1C1FormulaRange{relativeRange=R[0]C[-8]:R[0]C[-1], startTokenIndex=3, workbookRangeId=null}], computedValue=doub:0.0$$R[5]C[0]$formula=RANGE SUM FORMULA_START, formulaTokenList==SUM( RANGE ), ranges=[R1C1FormulaRange{relativeRange=R[0]C[-8]:R[0]C[-1], startTokenIndex=3, workbookRangeId=null}], computedValue=doub:0.0$$R[6]C[0]$formula=RANGE SUM FORMULA_START, formulaTokenList==SUM( RANGE ), ranges=[R1C1FormulaRange{relativeRange=R[0]C[-8]:R[0]C[-1], startTokenIndex=3, workbookRangeId=null}], computedValue=doub:0.0$$R[7]C[0]$formula=RANGE SUM FORMULA_START, formulaTokenList==SUM( RANGE ), ranges=[R1C1FormulaRange{relativeRange=R[0]C[-8]:R[0]C[-1], startTokenIndex=3, workbookRangeId=null}], computedValue=doub:0.0$$R[8]C[0]$formula=RANGE SUM FORMULA_START, formulaTokenList==SUM( RANGE ), ranges=[R1C1FormulaRange{relativeRange=R[0]C[-8]:R[0]C[-1], startTokenIndex=3, workbookRangeId=null}], computedValue=doub:0.0$$R[9]C[0]$formula=RANGE SUM FORMULA_START, formulaTokenList==SUM( RANGE ), ranges=[R1C1FormulaRange{relativeRange=R[0]C[-8]:R[0]C[-1], startTokenIndex=3, workbookRangeId=null}], computedValue=doub:0.0$$R[10]C[0]$formula=RANGE SUM FORMULA_START, formulaTokenList==SUM( RANGE ), ranges=[R1C1FormulaRange{relativeRange=R[0]C[-8]:R[0]C[-1], startTokenIndex=3, workbookRangeId=null}], computedValue=doub:0.0$'>, 'context_header': <tf.Tensor: shape=(), dtype=string, numpy=b'$C[0]$'>, 'doc_id': <tf.Tensor: shape=(), dtype=string, numpy=b''>, 'formula': <tf.Tensor: shape=(), dtype=string, numpy=b'RANGE SUM FORMULA_START'>, 'formula_token_list': <tf.Tensor: shape=(), dtype=string, numpy=b\"b'=SUM(  RANGE ) '\">, 'header': <tf.Tensor: shape=(), dtype=string, numpy=b''>, 'ranges': <tf.Tensor: shape=(), dtype=string, numpy=b'R[0]C[-8]:R[0]C[-1]'>, 'record_index': <tf.Tensor: shape=(), dtype=int64, numpy=2>, 'table_id': <tf.Tensor: shape=(), dtype=int64, numpy=19>}\n",
            "{'col_index': <tf.Tensor: shape=(), dtype=int64, numpy=23>, 'computed_value': <tf.Tensor: shape=(), dtype=string, numpy=b'doub:36017.0'>, 'context_data': <tf.Tensor: shape=(), dtype=string, numpy=b'$R[-3]C[0]$formula=RANGE SUM FORMULA_START, formulaTokenList==SUM( RANGE ), ranges=[R1C1FormulaRange{relativeRange=R[0]C[-8]:R[0]C[-1], startTokenIndex=3, workbookRangeId=null}], computedValue=doub:36510.0$$R[-2]C[0]$formula=RANGE SUM FORMULA_START, formulaTokenList==SUM( RANGE ), ranges=[R1C1FormulaRange{relativeRange=R[0]C[-8]:R[0]C[-1], startTokenIndex=3, workbookRangeId=null}], computedValue=doub:55113.0$$R[-1]C[0]$formula=RANGE SUM FORMULA_START, formulaTokenList==SUM( RANGE ), ranges=[R1C1FormulaRange{relativeRange=R[0]C[-8]:R[0]C[-1], startTokenIndex=3, workbookRangeId=null}], computedValue=doub:34936.0$$R[0]C[0]$formula=RANGE SUM FORMULA_START, formulaTokenList==SUM( RANGE ), ranges=[R1C1FormulaRange{relativeRange=R[0]C[-8]:R[0]C[-1], startTokenIndex=3, workbookRangeId=null}], computedValue=doub:36017.0$$R[1]C[0]$formula=RANGE SUM FORMULA_START, formulaTokenList==SUM( RANGE ), ranges=[R1C1FormulaRange{relativeRange=R[0]C[-8]:R[0]C[-1], startTokenIndex=3, workbookRangeId=null}], computedValue=doub:36416.0$$R[2]C[0]$formula=RANGE SUM FORMULA_START, formulaTokenList==SUM( RANGE ), ranges=[R1C1FormulaRange{relativeRange=R[0]C[-8]:R[0]C[-1], startTokenIndex=3, workbookRangeId=null}], computedValue=doub:36006.0$$R[3]C[0]$formula=RANGE SUM FORMULA_START, formulaTokenList==SUM( RANGE ), ranges=[R1C1FormulaRange{relativeRange=R[0]C[-8]:R[0]C[-1], startTokenIndex=3, workbookRangeId=null}], computedValue=doub:0.0$$R[4]C[0]$formula=RANGE SUM FORMULA_START, formulaTokenList==SUM( RANGE ), ranges=[R1C1FormulaRange{relativeRange=R[0]C[-8]:R[0]C[-1], startTokenIndex=3, workbookRangeId=null}], computedValue=doub:0.0$$R[5]C[0]$formula=RANGE SUM FORMULA_START, formulaTokenList==SUM( RANGE ), ranges=[R1C1FormulaRange{relativeRange=R[0]C[-8]:R[0]C[-1], startTokenIndex=3, workbookRangeId=null}], computedValue=doub:0.0$$R[6]C[0]$formula=RANGE SUM FORMULA_START, formulaTokenList==SUM( RANGE ), ranges=[R1C1FormulaRange{relativeRange=R[0]C[-8]:R[0]C[-1], startTokenIndex=3, workbookRangeId=null}], computedValue=doub:0.0$$R[7]C[0]$formula=RANGE SUM FORMULA_START, formulaTokenList==SUM( RANGE ), ranges=[R1C1FormulaRange{relativeRange=R[0]C[-8]:R[0]C[-1], startTokenIndex=3, workbookRangeId=null}], computedValue=doub:0.0$$R[8]C[0]$formula=RANGE SUM FORMULA_START, formulaTokenList==SUM( RANGE ), ranges=[R1C1FormulaRange{relativeRange=R[0]C[-8]:R[0]C[-1], startTokenIndex=3, workbookRangeId=null}], computedValue=doub:0.0$$R[9]C[0]$formula=RANGE SUM FORMULA_START, formulaTokenList==SUM( RANGE ), ranges=[R1C1FormulaRange{relativeRange=R[0]C[-8]:R[0]C[-1], startTokenIndex=3, workbookRangeId=null}], computedValue=doub:0.0$$R[10]C[0]$formula=RANGE SUM FORMULA_START, formulaTokenList==SUM( RANGE ), ranges=[R1C1FormulaRange{relativeRange=R[0]C[-8]:R[0]C[-1], startTokenIndex=3, workbookRangeId=null}], computedValue=doub:0.0$'>, 'context_header': <tf.Tensor: shape=(), dtype=string, numpy=b'$C[0]$'>, 'doc_id': <tf.Tensor: shape=(), dtype=string, numpy=b''>, 'formula': <tf.Tensor: shape=(), dtype=string, numpy=b'RANGE SUM FORMULA_START'>, 'formula_token_list': <tf.Tensor: shape=(), dtype=string, numpy=b\"b'=SUM(  RANGE ) '\">, 'header': <tf.Tensor: shape=(), dtype=string, numpy=b''>, 'ranges': <tf.Tensor: shape=(), dtype=string, numpy=b'R[0]C[-8]:R[0]C[-1]'>, 'record_index': <tf.Tensor: shape=(), dtype=int64, numpy=3>, 'table_id': <tf.Tensor: shape=(), dtype=int64, numpy=19>}\n",
            "{'col_index': <tf.Tensor: shape=(), dtype=int64, numpy=23>, 'computed_value': <tf.Tensor: shape=(), dtype=string, numpy=b'doub:36416.0'>, 'context_data': <tf.Tensor: shape=(), dtype=string, numpy=b'$R[-4]C[0]$formula=RANGE SUM FORMULA_START, formulaTokenList==SUM( RANGE ), ranges=[R1C1FormulaRange{relativeRange=R[0]C[-8]:R[0]C[-1], startTokenIndex=3, workbookRangeId=null}], computedValue=doub:36510.0$$R[-3]C[0]$formula=RANGE SUM FORMULA_START, formulaTokenList==SUM( RANGE ), ranges=[R1C1FormulaRange{relativeRange=R[0]C[-8]:R[0]C[-1], startTokenIndex=3, workbookRangeId=null}], computedValue=doub:55113.0$$R[-2]C[0]$formula=RANGE SUM FORMULA_START, formulaTokenList==SUM( RANGE ), ranges=[R1C1FormulaRange{relativeRange=R[0]C[-8]:R[0]C[-1], startTokenIndex=3, workbookRangeId=null}], computedValue=doub:34936.0$$R[-1]C[0]$formula=RANGE SUM FORMULA_START, formulaTokenList==SUM( RANGE ), ranges=[R1C1FormulaRange{relativeRange=R[0]C[-8]:R[0]C[-1], startTokenIndex=3, workbookRangeId=null}], computedValue=doub:36017.0$$R[0]C[0]$formula=RANGE SUM FORMULA_START, formulaTokenList==SUM( RANGE ), ranges=[R1C1FormulaRange{relativeRange=R[0]C[-8]:R[0]C[-1], startTokenIndex=3, workbookRangeId=null}], computedValue=doub:36416.0$$R[1]C[0]$formula=RANGE SUM FORMULA_START, formulaTokenList==SUM( RANGE ), ranges=[R1C1FormulaRange{relativeRange=R[0]C[-8]:R[0]C[-1], startTokenIndex=3, workbookRangeId=null}], computedValue=doub:36006.0$$R[2]C[0]$formula=RANGE SUM FORMULA_START, formulaTokenList==SUM( RANGE ), ranges=[R1C1FormulaRange{relativeRange=R[0]C[-8]:R[0]C[-1], startTokenIndex=3, workbookRangeId=null}], computedValue=doub:0.0$$R[3]C[0]$formula=RANGE SUM FORMULA_START, formulaTokenList==SUM( RANGE ), ranges=[R1C1FormulaRange{relativeRange=R[0]C[-8]:R[0]C[-1], startTokenIndex=3, workbookRangeId=null}], computedValue=doub:0.0$$R[4]C[0]$formula=RANGE SUM FORMULA_START, formulaTokenList==SUM( RANGE ), ranges=[R1C1FormulaRange{relativeRange=R[0]C[-8]:R[0]C[-1], startTokenIndex=3, workbookRangeId=null}], computedValue=doub:0.0$$R[5]C[0]$formula=RANGE SUM FORMULA_START, formulaTokenList==SUM( RANGE ), ranges=[R1C1FormulaRange{relativeRange=R[0]C[-8]:R[0]C[-1], startTokenIndex=3, workbookRangeId=null}], computedValue=doub:0.0$$R[6]C[0]$formula=RANGE SUM FORMULA_START, formulaTokenList==SUM( RANGE ), ranges=[R1C1FormulaRange{relativeRange=R[0]C[-8]:R[0]C[-1], startTokenIndex=3, workbookRangeId=null}], computedValue=doub:0.0$$R[7]C[0]$formula=RANGE SUM FORMULA_START, formulaTokenList==SUM( RANGE ), ranges=[R1C1FormulaRange{relativeRange=R[0]C[-8]:R[0]C[-1], startTokenIndex=3, workbookRangeId=null}], computedValue=doub:0.0$$R[8]C[0]$formula=RANGE SUM FORMULA_START, formulaTokenList==SUM( RANGE ), ranges=[R1C1FormulaRange{relativeRange=R[0]C[-8]:R[0]C[-1], startTokenIndex=3, workbookRangeId=null}], computedValue=doub:0.0$$R[9]C[0]$formula=RANGE SUM FORMULA_START, formulaTokenList==SUM( RANGE ), ranges=[R1C1FormulaRange{relativeRange=R[0]C[-8]:R[0]C[-1], startTokenIndex=3, workbookRangeId=null}], computedValue=doub:0.0$$R[10]C[0]$formula=RANGE SUM FORMULA_START, formulaTokenList==SUM( RANGE ), ranges=[R1C1FormulaRange{relativeRange=R[0]C[-8]:R[0]C[-1], startTokenIndex=3, workbookRangeId=null}], computedValue=doub:0.0$'>, 'context_header': <tf.Tensor: shape=(), dtype=string, numpy=b'$C[0]$'>, 'doc_id': <tf.Tensor: shape=(), dtype=string, numpy=b''>, 'formula': <tf.Tensor: shape=(), dtype=string, numpy=b'RANGE SUM FORMULA_START'>, 'formula_token_list': <tf.Tensor: shape=(), dtype=string, numpy=b\"b'=SUM(  RANGE ) '\">, 'header': <tf.Tensor: shape=(), dtype=string, numpy=b''>, 'ranges': <tf.Tensor: shape=(), dtype=string, numpy=b'R[0]C[-8]:R[0]C[-1]'>, 'record_index': <tf.Tensor: shape=(), dtype=int64, numpy=4>, 'table_id': <tf.Tensor: shape=(), dtype=int64, numpy=19>}\n",
            "{'col_index': <tf.Tensor: shape=(), dtype=int64, numpy=23>, 'computed_value': <tf.Tensor: shape=(), dtype=string, numpy=b'doub:36006.0'>, 'context_data': <tf.Tensor: shape=(), dtype=string, numpy=b'$R[-5]C[0]$formula=RANGE SUM FORMULA_START, formulaTokenList==SUM( RANGE ), ranges=[R1C1FormulaRange{relativeRange=R[0]C[-8]:R[0]C[-1], startTokenIndex=3, workbookRangeId=null}], computedValue=doub:36510.0$$R[-4]C[0]$formula=RANGE SUM FORMULA_START, formulaTokenList==SUM( RANGE ), ranges=[R1C1FormulaRange{relativeRange=R[0]C[-8]:R[0]C[-1], startTokenIndex=3, workbookRangeId=null}], computedValue=doub:55113.0$$R[-3]C[0]$formula=RANGE SUM FORMULA_START, formulaTokenList==SUM( RANGE ), ranges=[R1C1FormulaRange{relativeRange=R[0]C[-8]:R[0]C[-1], startTokenIndex=3, workbookRangeId=null}], computedValue=doub:34936.0$$R[-2]C[0]$formula=RANGE SUM FORMULA_START, formulaTokenList==SUM( RANGE ), ranges=[R1C1FormulaRange{relativeRange=R[0]C[-8]:R[0]C[-1], startTokenIndex=3, workbookRangeId=null}], computedValue=doub:36017.0$$R[-1]C[0]$formula=RANGE SUM FORMULA_START, formulaTokenList==SUM( RANGE ), ranges=[R1C1FormulaRange{relativeRange=R[0]C[-8]:R[0]C[-1], startTokenIndex=3, workbookRangeId=null}], computedValue=doub:36416.0$$R[0]C[0]$formula=RANGE SUM FORMULA_START, formulaTokenList==SUM( RANGE ), ranges=[R1C1FormulaRange{relativeRange=R[0]C[-8]:R[0]C[-1], startTokenIndex=3, workbookRangeId=null}], computedValue=doub:36006.0$$R[1]C[0]$formula=RANGE SUM FORMULA_START, formulaTokenList==SUM( RANGE ), ranges=[R1C1FormulaRange{relativeRange=R[0]C[-8]:R[0]C[-1], startTokenIndex=3, workbookRangeId=null}], computedValue=doub:0.0$$R[2]C[0]$formula=RANGE SUM FORMULA_START, formulaTokenList==SUM( RANGE ), ranges=[R1C1FormulaRange{relativeRange=R[0]C[-8]:R[0]C[-1], startTokenIndex=3, workbookRangeId=null}], computedValue=doub:0.0$$R[3]C[0]$formula=RANGE SUM FORMULA_START, formulaTokenList==SUM( RANGE ), ranges=[R1C1FormulaRange{relativeRange=R[0]C[-8]:R[0]C[-1], startTokenIndex=3, workbookRangeId=null}], computedValue=doub:0.0$$R[4]C[0]$formula=RANGE SUM FORMULA_START, formulaTokenList==SUM( RANGE ), ranges=[R1C1FormulaRange{relativeRange=R[0]C[-8]:R[0]C[-1], startTokenIndex=3, workbookRangeId=null}], computedValue=doub:0.0$$R[5]C[0]$formula=RANGE SUM FORMULA_START, formulaTokenList==SUM( RANGE ), ranges=[R1C1FormulaRange{relativeRange=R[0]C[-8]:R[0]C[-1], startTokenIndex=3, workbookRangeId=null}], computedValue=doub:0.0$$R[6]C[0]$formula=RANGE SUM FORMULA_START, formulaTokenList==SUM( RANGE ), ranges=[R1C1FormulaRange{relativeRange=R[0]C[-8]:R[0]C[-1], startTokenIndex=3, workbookRangeId=null}], computedValue=doub:0.0$$R[7]C[0]$formula=RANGE SUM FORMULA_START, formulaTokenList==SUM( RANGE ), ranges=[R1C1FormulaRange{relativeRange=R[0]C[-8]:R[0]C[-1], startTokenIndex=3, workbookRangeId=null}], computedValue=doub:0.0$$R[8]C[0]$formula=RANGE SUM FORMULA_START, formulaTokenList==SUM( RANGE ), ranges=[R1C1FormulaRange{relativeRange=R[0]C[-8]:R[0]C[-1], startTokenIndex=3, workbookRangeId=null}], computedValue=doub:0.0$$R[9]C[0]$formula=RANGE SUM FORMULA_START, formulaTokenList==SUM( RANGE ), ranges=[R1C1FormulaRange{relativeRange=R[0]C[-8]:R[0]C[-1], startTokenIndex=3, workbookRangeId=null}], computedValue=doub:0.0$$R[10]C[0]$formula=RANGE SUM FORMULA_START, formulaTokenList==SUM( RANGE ), ranges=[R1C1FormulaRange{relativeRange=R[0]C[-8]:R[0]C[-1], startTokenIndex=3, workbookRangeId=null}], computedValue=doub:0.0$'>, 'context_header': <tf.Tensor: shape=(), dtype=string, numpy=b'$C[0]$'>, 'doc_id': <tf.Tensor: shape=(), dtype=string, numpy=b''>, 'formula': <tf.Tensor: shape=(), dtype=string, numpy=b'RANGE SUM FORMULA_START'>, 'formula_token_list': <tf.Tensor: shape=(), dtype=string, numpy=b\"b'=SUM(  RANGE ) '\">, 'header': <tf.Tensor: shape=(), dtype=string, numpy=b''>, 'ranges': <tf.Tensor: shape=(), dtype=string, numpy=b'R[0]C[-8]:R[0]C[-1]'>, 'record_index': <tf.Tensor: shape=(), dtype=int64, numpy=5>, 'table_id': <tf.Tensor: shape=(), dtype=int64, numpy=19>}\n",
            "{'col_index': <tf.Tensor: shape=(), dtype=int64, numpy=23>, 'computed_value': <tf.Tensor: shape=(), dtype=string, numpy=b'doub:0.0'>, 'context_data': <tf.Tensor: shape=(), dtype=string, numpy=b'$R[-6]C[0]$formula=RANGE SUM FORMULA_START, formulaTokenList==SUM( RANGE ), ranges=[R1C1FormulaRange{relativeRange=R[0]C[-8]:R[0]C[-1], startTokenIndex=3, workbookRangeId=null}], computedValue=doub:36510.0$$R[-5]C[0]$formula=RANGE SUM FORMULA_START, formulaTokenList==SUM( RANGE ), ranges=[R1C1FormulaRange{relativeRange=R[0]C[-8]:R[0]C[-1], startTokenIndex=3, workbookRangeId=null}], computedValue=doub:55113.0$$R[-4]C[0]$formula=RANGE SUM FORMULA_START, formulaTokenList==SUM( RANGE ), ranges=[R1C1FormulaRange{relativeRange=R[0]C[-8]:R[0]C[-1], startTokenIndex=3, workbookRangeId=null}], computedValue=doub:34936.0$$R[-3]C[0]$formula=RANGE SUM FORMULA_START, formulaTokenList==SUM( RANGE ), ranges=[R1C1FormulaRange{relativeRange=R[0]C[-8]:R[0]C[-1], startTokenIndex=3, workbookRangeId=null}], computedValue=doub:36017.0$$R[-2]C[0]$formula=RANGE SUM FORMULA_START, formulaTokenList==SUM( RANGE ), ranges=[R1C1FormulaRange{relativeRange=R[0]C[-8]:R[0]C[-1], startTokenIndex=3, workbookRangeId=null}], computedValue=doub:36416.0$$R[-1]C[0]$formula=RANGE SUM FORMULA_START, formulaTokenList==SUM( RANGE ), ranges=[R1C1FormulaRange{relativeRange=R[0]C[-8]:R[0]C[-1], startTokenIndex=3, workbookRangeId=null}], computedValue=doub:36006.0$$R[0]C[0]$formula=RANGE SUM FORMULA_START, formulaTokenList==SUM( RANGE ), ranges=[R1C1FormulaRange{relativeRange=R[0]C[-8]:R[0]C[-1], startTokenIndex=3, workbookRangeId=null}], computedValue=doub:0.0$$R[1]C[0]$formula=RANGE SUM FORMULA_START, formulaTokenList==SUM( RANGE ), ranges=[R1C1FormulaRange{relativeRange=R[0]C[-8]:R[0]C[-1], startTokenIndex=3, workbookRangeId=null}], computedValue=doub:0.0$$R[2]C[0]$formula=RANGE SUM FORMULA_START, formulaTokenList==SUM( RANGE ), ranges=[R1C1FormulaRange{relativeRange=R[0]C[-8]:R[0]C[-1], startTokenIndex=3, workbookRangeId=null}], computedValue=doub:0.0$$R[3]C[0]$formula=RANGE SUM FORMULA_START, formulaTokenList==SUM( RANGE ), ranges=[R1C1FormulaRange{relativeRange=R[0]C[-8]:R[0]C[-1], startTokenIndex=3, workbookRangeId=null}], computedValue=doub:0.0$$R[4]C[0]$formula=RANGE SUM FORMULA_START, formulaTokenList==SUM( RANGE ), ranges=[R1C1FormulaRange{relativeRange=R[0]C[-8]:R[0]C[-1], startTokenIndex=3, workbookRangeId=null}], computedValue=doub:0.0$$R[5]C[0]$formula=RANGE SUM FORMULA_START, formulaTokenList==SUM( RANGE ), ranges=[R1C1FormulaRange{relativeRange=R[0]C[-8]:R[0]C[-1], startTokenIndex=3, workbookRangeId=null}], computedValue=doub:0.0$$R[6]C[0]$formula=RANGE SUM FORMULA_START, formulaTokenList==SUM( RANGE ), ranges=[R1C1FormulaRange{relativeRange=R[0]C[-8]:R[0]C[-1], startTokenIndex=3, workbookRangeId=null}], computedValue=doub:0.0$$R[7]C[0]$formula=RANGE SUM FORMULA_START, formulaTokenList==SUM( RANGE ), ranges=[R1C1FormulaRange{relativeRange=R[0]C[-8]:R[0]C[-1], startTokenIndex=3, workbookRangeId=null}], computedValue=doub:0.0$$R[8]C[0]$formula=RANGE SUM FORMULA_START, formulaTokenList==SUM( RANGE ), ranges=[R1C1FormulaRange{relativeRange=R[0]C[-8]:R[0]C[-1], startTokenIndex=3, workbookRangeId=null}], computedValue=doub:0.0$$R[9]C[0]$formula=RANGE SUM FORMULA_START, formulaTokenList==SUM( RANGE ), ranges=[R1C1FormulaRange{relativeRange=R[0]C[-8]:R[0]C[-1], startTokenIndex=3, workbookRangeId=null}], computedValue=doub:0.0$$R[10]C[0]$formula=RANGE SUM FORMULA_START, formulaTokenList==SUM( RANGE ), ranges=[R1C1FormulaRange{relativeRange=R[0]C[-8]:R[0]C[-1], startTokenIndex=3, workbookRangeId=null}], computedValue=doub:0.0$'>, 'context_header': <tf.Tensor: shape=(), dtype=string, numpy=b'$C[0]$'>, 'doc_id': <tf.Tensor: shape=(), dtype=string, numpy=b''>, 'formula': <tf.Tensor: shape=(), dtype=string, numpy=b'RANGE SUM FORMULA_START'>, 'formula_token_list': <tf.Tensor: shape=(), dtype=string, numpy=b\"b'=SUM(  RANGE ) '\">, 'header': <tf.Tensor: shape=(), dtype=string, numpy=b''>, 'ranges': <tf.Tensor: shape=(), dtype=string, numpy=b'R[0]C[-8]:R[0]C[-1]'>, 'record_index': <tf.Tensor: shape=(), dtype=int64, numpy=6>, 'table_id': <tf.Tensor: shape=(), dtype=int64, numpy=19>}\n"
          ]
        }
      ]
    },
    {
      "cell_type": "markdown",
      "metadata": {
        "id": "LCMYiPT93i3b"
      },
      "source": [
        "  <table border=\"1\">\n",
        "  <caption><i>Table 1. </i>Sample Data</caption>\n",
        "    <thead>\n",
        "      <tr>\n",
        "        <th></th>\n",
        "        <th>table_id</th>\n",
        "        <th>doc_id</th>\n",
        "        <th>record_index</th>\n",
        "        <th>col_index</th>\n",
        "        <th>formula</th>\n",
        "        <th>formula_token_list</th>\n",
        "        <th>ranges</th>\n",
        "        <th>computed_value</th>\n",
        "      </tr>\n",
        "    </thead>\n",
        "    <tbody>\n",
        "      <tr align=center>\n",
        "        <th align=left>1</th>\n",
        "        <td>2</td>\n",
        "        <td>b''</td>\n",
        "        <td>1</td>\n",
        "        <td>19</td>\n",
        "        <td>b'RANGE UPLUS FORMULA_START'</td>\n",
        "        <td>b\"b'= +  RANGE'\"</td>\n",
        "        <td>b'G278457581!R[3]C[13]'</td>\n",
        "        <td>b'doub:83.41666666666667'</td>\n",
        "      </tr>\n",
        "      <tr align=center>\n",
        "        <th align=left>2</th>\n",
        "        <td>2</td>\n",
        "        <td>b''</td>\n",
        "        <td>1</td>\n",
        "        <td>20</td>\n",
        "        <td>b'RANGE UPLUS FORMULA_START'</td>\n",
        "        <td>b\"b'= +  RANGE'\"</td>\n",
        "        <td>b'G278457581!R[4]C[12]'</td>\n",
        "        <td>b'doub:54.220833333333346'</td>\n",
        "      </tr>\n",
        "      <tr align=center>\n",
        "        <th align=left>3</th>\n",
        "        <td>2</td>\n",
        "        <td>b''</td>\n",
        "        <td>1</td>\n",
        "        <td>21</td>\n",
        "        <td>b'RANGE UPLUS FORMULA_START'</td>\n",
        "        <td>b\"b'= +  RANGE'\"</td>\n",
        "        <td>b'G278457581!R[3]C[-17]'</td>\n",
        "        <td>b'doub:49.215833333333336'</td>\n",
        "      </tr>\n",
        "    </tbody>\n",
        "  </table>\n",
        "\n",
        "<table border=\"1\">\n",
        "    <thead>\n",
        "      <tr>\n",
        "        <th></th>\n",
        "        <th>header</th>\n",
        "        <th>context_header</th>\n",
        "      </tr>\n",
        "    </thead>\n",
        "    <tbody>\n",
        "      <tr align=center>\n",
        "        <th align=left>1</th>\n",
        "        <td>b'Contract Cost'</td>\n",
        "        <td>b'$C[-10]$New/Used$C[-9]$Delivery Date$C[-8]$Owner$C[-7]$DASH\\nApproval\\nDate$C[-6]$Notice to Proceed Given<br/>$C[-5]$Status of Financing$C[-4]$Controlled By$C[-3]$Originator / Developer$C[-2]$Project Manager$C[-1]$Project Name<br/>$C[0]$Contract Cost$C[1]$Contract Paid to Date\\n(Scheduled)$C[2]$\\nCancel-lation Payment$C[3]$Comments$C[4]$Status Update'</td>\n",
        "      </tr>\n",
        "      <tr align=center>\n",
        "        <th align=left>2</th>\n",
        "        <td>b'Contract Paid to Date\\n(Scheduled)'</td>\n",
        "        <td>b'$C[-10]$Delivery Date$C[-9]$Owner$C[-8]$DASH\\nApproval\\nDate$C[-7]$Notice to Proceed Given$C[-6]$Status of Financing<br/>$C[-5]$Controlled By$C[-4]$Originator / Developer$C[-3]$Project Manager$C[-2]$Project Name$C[-1]$Contract Cost<br/>$C[0]$Contract Paid to Date\\n(Scheduled)$C[1]$\\nCancel-lation Payment$C[2]$Comments$C[3]$Status Update'</td>\n",
        "      </tr>\n",
        "      <tr align=center>\n",
        "        <th align=left>3</th>\n",
        "        <td>b'\\nCancel-lation Payment'</td>\n",
        "        <td>b'$C[-10]$Owner$C[-9]$DASH\\nApproval\\nDate$C[-8]$Notice to Proceed Given$C[-7]$Status of Financing$C[-6]$Controlled By<br/>$C[-5]$Originator / Developer$C[-4]$Project Manager$C[-3]$Project Name$C[-2]$Contract Cost$C[-1]$Contract Paid to Date\\n(Scheduled)<br/>$C[0]$\\nCancel-lation Payment$C[1]$Comments$C[2]$Status Update'</td>\n",
        "      </tr>\n",
        "    </tbody>\n",
        "<table>\n",
        "\n",
        "<table border=\"1\">\n",
        "    <thead>\n",
        "      <tr>\n",
        "        <th></th>\n",
        "        <th>context_data</th>\n",
        "      </tr>\n",
        "    </thead>\n",
        "    <tbody>\n",
        "      <tr align=center>\n",
        "        <th align=left>1</th>\n",
        "        <td>b'$R[-1]C[-10]$userEnteredValue=empty$<br/>$R[-1]C[-9]$userEnteredValue=empty$<br/>$R[-1]C[-8]$userEnteredValue=empty$<br/>$R[-1]C[-7]$userEnteredValue=empty$<br/>$R[-1]C[-6]$userEnteredValue=empty$<br/>$R[-1]C[-5]$userEnteredValue=empty$<br/>$R[-1]C[-4]$userEnteredValue=empty$<br/>$R[-1]C[-3]$userEnteredValue=empty$<br/>$R[-1]C[-2]$userEnteredValue=empty$<br/>$R[-1]C[-1]$userEnteredValue=empty$<br/>$R[-1]C[0]$userEnteredValue=empty$<br/>$R[-1]C[1]$userEnteredValue=empty$<br/>$R[-1]C[2]$userEnteredValue=empty$<br/>$R[-1]C[3]$userEnteredValue=empty$<br/>$R[-1]C[4]$userEnteredValue=empty$<br/>$R[0]C[-10]$userEnteredValue=str:New$<br/>$R[0]C[-9]$userEnteredValue=doub:37165.0$<br/>$R[0]C[-8]$userEnteredValue=str:Whitewing$<br/>$R[0]C[-7]$userEnteredValue=str:$4.5MM DASHed$<br/>$R[0]C[-6]$userEnteredValue=str:N$<br/>$R[0]C[-5]$userEnteredValue=str:N/A$<br/>$R[0]C[-4]$userEnteredValue=str:EWS$<br/>$R[0]C[-3]$userEnteredValue=str:John Chappell$<br/>$R[0]C[-2]$userEnteredValue=str:Stephen Heck$<br/>$R[0]C[-1]$userEnteredValue=str:Sale in Process$<br/>$R[0]C[0]$formula=RANGE UPLUS FORMULA_START, formulaTokenList==+ RANGE, ranges=[R1C1FormulaRange{relativeRange=G278457581!R[3]C[-17], startTokenIndex=2, workbookRangeId=null}], computedValue=doub:83.41666666666667$<br/>$R[0]C[1]$formula=RANGE UPLUS FORMULA_START, formulaTokenList==+ RANGE, ranges=[R1C1FormulaRange{relativeRange=G278457581!R[3]C[13], startTokenIndex=2, workbookRangeId=null}], computedValue=doub:54.220833333333346$<br/>$R[0]C[2]$formula=RANGE UPLUS FORMULA_START, formulaTokenList==+ RANGE, ranges=[R1C1FormulaRange{relativeRange=G278457581!R[4]C[12], startTokenIndex=2, workbookRangeId=null}], computedValue=doub:49.215833333333336$<br/>$R[0]C[3]$userEnteredValue=empty$<br/>$R[0]C[4]$userEnteredValue=str:DASH in progress.$<br/>$R[1]C[-10]$userEnteredValue=str:New$<br/>$R[1]C[-9]$userEnteredValue=doub:37196.0$<br/>$R[1]C[-8]$userEnteredValue=str:Whitewing$<br/>$R[1]C[-7]$userEnteredValue=str:$4.5MM DASHed$<br/>$R[1]C[-6]$userEnteredValue=str:N$<br/>$R[1]C[-5]$userEnteredValue=str:N/A$<br/>$R[1]C[-4]$userEnteredValue=str:EWS$<br/>$R[1]C[-3]$userEnteredValue=str:John Chappell$<br/>$R[1]C[-2]$userEnteredValue=str:Stephen Heck$<br/>$R[1]C[-1]$userEnteredValue=str:Sale in Process$<br/>$R[1]C[0]$formula=RANGE UPLUS FORMULA_START, formulaTokenList==+ RANGE, ranges=[R1C1FormulaRange{relativeRange=G278457581!R[10]C[-17], startTokenIndex=2, workbookRangeId=null}], computedValue=doub:83.41666666666667$<br/>$R[1]C[1]$formula=RANGE UPLUS FORMULA_START, formulaTokenList==+ RANGE, ranges=[R1C1FormulaRange{relativeRange=G278457581!R[10]C[13], startTokenIndex=2, workbookRangeId=null}], computedValue=doub:54.220833333333346$<br/>$R[1]C[2]$formula=RANGE UPLUS FORMULA_START, formulaTokenList==+ RANGE, ranges=[R1C1FormulaRange{relativeRange=G278457581!R[11]C[12], startTokenIndex=2, workbookRangeId=null}], computedValue=doub:49.215833333333336$<br/>$R[1]C[3]$userEnteredValue=empty$<br/>$R[1]C[4]$userEnteredValue=str:DASH in progress.$<br/>$R[2]C[-10]$userEnteredValue=str:New$<br/>$R[2]C[-9]$userEnteredValue=doub:37226.0$<br/>$R[2]C[-8]$userEnteredValue=str:Whitewing$<br/>$R[2]C[-7]$userEnteredValue=str:$4.5MM DASHed$<br/>$R[2]C[-6]$userEnteredValue=str:N$<br/>$R[2]C[-5]$userEnteredValue=str:N/A$<br/>$R[2]C[-4]$userEnteredValue=str:EWS$<br/>$R[2]C[-3]$userEnteredValue=str:John Chappell$<br/>$R[2]C[-2]$userEnteredValue=str:Stephen Heck$<br/>$R[2]C[-1]$userEnteredValue=str:Sale in Process$<br/>$R[2]C[0]$formula=RANGE UPLUS FORMULA_START, formulaTokenList==+ RANGE, ranges=[R1C1FormulaRange{relativeRange=G278457581!R[17]C[-17], startTokenIndex=2, workbookRangeId=null}], computedValue=doub:83.41666666666667$<br/>$R[2]C[1]$formula=RANGE UPLUS FORMULA_START, formulaTokenList==+ RANGE, ranges=[R1C1FormulaRange{relativeRange=G278457581!R[17]C[13], startTokenIndex=2, workbookRangeId=null}], computedValue=doub:54.220833333333346$<br/>$R[2]C[2]$formula=RANGE UPLUS FORMULA_START, formulaTokenList==+ RANGE, ranges=[R1C1FormulaRange{relativeRange=G278457581!R[18]C[12], startTokenIndex=2, workbookRangeId=null}], computedValue=doub:49.215833333333336$<br/>$R[2]C[3]$userEnteredValue=empty$<br/>$R[2]C[4]$userEnteredValue=str:DASH in progress.$<br/>$R[3]C[-10]$userEnteredValue=str:New$<br/>$R[3]C[-9]$userEnteredValue=doub:37135.0$<br/>$R[3]C[-8]$userEnteredValue=str:ENE B/S$<br/>$R[3]C[-7]$userEnteredValue=str:Approved$<br/>$R[3]C[-6]$userEnteredValue=str:N$<br/>$R[3]C[-5]$userEnteredValue=str:N/A$<br/>$R[3]C[-4]$userEnteredValue=str:EWS$<br/>$R[3]C[-3]$userEnteredValue=str:Dick Westfahl$<br/>$R[3]C[-2]$userEnteredValue=empty$<br/>$R[3]C[-1]$userEnteredValue=str:NEPCO / NESCO - Goldendale (EECC)$<br/>$R[3]C[0]$formula=RANGE UPLUS FORMULA_START, formulaTokenList==+ RANGE, ranges=[R1C1FormulaRange{relativeRange=G278457581!R[32]C[-17], startTokenIndex=2, workbookRangeId=null}], computedValue=doub:36.24736$<br/>$R[3]C[1]$formula=RANGE UPLUS FORMULA_START, formulaTokenList==+ RANGE, ranges=[R1C1FormulaRange{relativeRange=G278457581!R[32]C[13], startTokenIndex=2, workbookRangeId=null}], computedValue=doub:35.613031199999995$<br/>$R[3]C[2]$formula=RANGE UPLUS FORMULA_START, formulaTokenList==+ RANGE, ranges=[R1C1FormulaRange{relativeRange=G278457581!R[33]C[12], startTokenIndex=2, workbookRangeId=null}], computedValue=doub:35.7036496$<br/>$R[3]C[3]$userEnteredValue=empty$<br/>$R[3]C[4]$userEnteredValue=str:Contract in the works, possible buyer$<br/>$R[4]C[-10]$userEnteredValue=str:Used$<br/>$R[4]C[-9]$userEnteredValue=str:Delivered$<br/>$R[4]C[-8]$userEnteredValue=str:West LB$<br/>$R[4]C[-7]$userEnteredValue=str:Analyzing$<br/>$R[4]C[-6]$userEnteredValue=str:N$<br/>$R[4]C[-5]$userEnteredValue=str:N/A$<br/>$R[4]C[-4]$userEnteredValue=str:EA$<br/>$R[4]C[-3]$userEnteredValue=empty$<br/>$R[4]C[-2]$userEnteredValue=empty$<br/>$R[4]C[-1]$userEnteredValue=str:Sale in Process$<br/>$R[4]C[0]$formula=RANGE UPLUS FORMULA_START, formulaTokenList==+ RANGE, ranges=[R1C1FormulaRange{relativeRange=G278457581!R[111]C[-17], startTokenIndex=2, workbookRangeId=null}], computedValue=doub:17.25$<br/>$R[4]C[1]$formula=RANGE UPLUS FORMULA_START, formulaTokenList==+ RANGE, ranges=[R1C1FormulaRange{relativeRange=G278457581!R[111]C[13], startTokenIndex=2, workbookRangeId=null}], computedValue=doub:17.25$<br/>$R[4]C[2]$formula=RANGE UPLUS FORMULA_START, formulaTokenList==+ RANGE, ranges=[R1C1FormulaRange{relativeRange=G278457581!R[112]C[12], startTokenIndex=2, workbookRangeId=null}], computedValue=doub:17.25$<br/>$R[4]C[3]$userEnteredValue=empty$<br/>$R[4]C[4]$userEnteredValue=str:3 Potential buyers in Canada, no legitimate offer as of 1/25/01.$<br/>$R[5]C[-10]$userEnteredValue=str:Used$<br/>$R[5]C[-9]$userEnteredValue=str:Delivered$<br/>$R[5]C[-8]$userEnteredValue=str:West LB$<br/>$R[5]C[-7]$userEnteredValue=str:Analyzing$<br/>$R[5]C[-6]$userEnteredValue=str:N$<br/>$R[5]C[-5]$userEnteredValue=str:N/A$<br/>$R[5]C[-4]$userEnteredValue=str:EA$<br/>$R[5]C[-3]$userEnteredValue=empty$<br/>$R[5]C[-2]$userEnteredValue=empty$<br/>$R[5]C[-1]$userEnteredValue=str:Sale in Process$<br/>$R[5]C[0]$formula=RANGE UPLUS FORMULA_START, formulaTokenList==+ RANGE, ranges=[R1C1FormulaRange{relativeRange=G278457581!R[118]C[-17], startTokenIndex=2, workbookRangeId=null}], computedValue=doub:17.25$<br/>$R[5]C[1]$formula=RANGE UPLUS FORMULA_START, formulaTokenList==+ RANGE, ranges=[R1C1FormulaRange{relativeRange=G278457581!R[118]C[13], startTokenIndex=2, workbookRangeId=null}], computedValue=doub:17.25$<br/>$R[5]C[2]$formula=RANGE UPLUS FORMULA_START, formulaTokenList==+ RANGE, ranges=[R1C1FormulaRange{relativeRange=G278457581!R[119]C[12], startTokenIndex=2, workbookRangeId=null}], computedValue=doub:17.25$<br/>$R[5]C[3]$userEnteredValue=empty$<br/>$R[5]C[4]$userEnteredValue=str:3 Potential buyers in Canada, no legitimate offer as of 1/25/01.$<br/>$R[6]C[-10]$userEnteredValue=str:New$<br/>$R[6]C[-9]$userEnteredValue=str:being cleaned$<br/>$R[6]C[-8]$userEnteredValue=str:ENE B/S$<br/>$R[6]C[-7]$userEnteredValue=str:Analyzing$<br/>$R[6]C[-6]$userEnteredValue=str:N$<br/>$R[6]C[-5]$userEnteredValue=str:N/A$<br/>$R[6]C[-4]$userEnteredValue=str:EA$<br/>$R[6]C[-3]$userEnteredValue=str:David Fairley, Mathew Gimble$<br/>$R[6]C[-2]$userEnteredValue=empty$<br/>$R[6]C[-1]$userEnteredValue=str:Purchaser Identified$<br/>$R[6]C[0]$formula=RANGE UPLUS FORMULA_START, formulaTokenList==+ RANGE, ranges=[R1C1FormulaRange{relativeRange=G278457581!R[21]C[-17], startTokenIndex=2, workbookRangeId=null}], computedValue=doub:24.506$<br/>$R[6]C[1]$formula=RANGE UPLUS FORMULA_START, formulaTokenList==+ RANGE, ranges=[R1C1FormulaRange{relativeRange=G278457581!R[21]C[13], startTokenIndex=2, workbookRangeId=null}], computedValue=doub:24.506000000000007$<br/>$R[6]C[2]$formula=RANGE UPLUS FORMULA_START, formulaTokenList==+ RANGE, ranges=[R1C1FormulaRange{relativeRange=G278457581!R[22]C[12], startTokenIndex=2, workbookRangeId=null}], computedValue=doub:24.506$<br/>$R[6]C[3]$userEnteredValue=str:CALME purchased turbine from ENA; turbine has not yet cleared customs;  generator incurred salt water damage while unloading$<br/>$R[6]C[4]$userEnteredValue=empty$<br/>$R[7]C[-10]$userEnteredValue=empty$<br/>$R[7]C[-9]$userEnteredValue=empty$<br/>$R[7]C[-8]$userEnteredValue=str:E-Next Generation$<br/>$R[7]C[-7]$userEnteredValue=str:$16.5MM on 2/16/01$<br/>$R[7]C[-6]$userEnteredValue=str:N$<br/>$R[7]C[-5]$userEnteredValue=str:N/A$<br/>$R[7]C[-4]$userEnteredValue=str:EA$<br/>$R[7]C[-3]$userEnteredValue=str:Jake Thomas/Laura Wente$<br/>$R[7]C[-2]$userEnteredValue=empty$<br/>$R[7]C[-1]$userEnteredValue=str:Columbia$<br/>$R[7]C[0]$formula=RANGE FORMULA_START, formulaTokenList== RANGE, ranges=[R1C1FormulaRange{relativeRange=G278457581!R[100]C[-17], startTokenIndex=1, workbookRangeId=null}], computedValue=doub:39.2$<br/>$R[7]C[1]$formula=RANGE FORMULA_START, formulaTokenList== RANGE, ranges=[R1C1FormulaRange{relativeRange=G278457581!R[100]C[13], startTokenIndex=1, workbookRangeId=null}], computedValue=doub:6.272$<br/>$R[7]C[2]$formula=RANGE FORMULA_START, formulaTokenList== RANGE, ranges=[R1C1FormulaRange{relativeRange=G278457581!R[101]C[12], startTokenIndex=1, workbookRangeId=null}], computedValue=doub:4.704$<br/>$R[7]C[3]$userEnteredValue=empty$<br/>$R[7]C[4]$userEnteredValue=empty$<br/>$R[8]C[-10]$userEnteredValue=str:New$<br/>$R[8]C[-9]$userEnteredValue=doub:37408.0$<br/>$R[8]C[-8]$userEnteredValue=str:West LB$<br/>$R[8]C[-7]$userEnteredValue=str:$2.5MM on 1/31/01$<br/>$R[8]C[-6]$userEnteredValue=str:N$<br/>$R[8]C[-5]$userEnteredValue=str:N/A$<br/>$R[8]C[-4]$userEnteredValue=str:EA$<br/>$R[8]C[-3]$userEnteredValue=empty$<br/>$R[8]C[-2]$userEnteredValue=empty$<br/>$R[8]C[-1]$userEnteredValue=str:Fort Pierce$<br/>$R[8]C[0]$formula=RANGE UPLUS FORMULA_START, formulaTokenList==+ RANGE, ranges=[R1C1FormulaRange{relativeRange=G278457581!R[139]C[-17], startTokenIndex=2, workbookRangeId=null}], computedValue=doub:43.618$<br/>$R[8]C[1]$formula=RANGE UPLUS FORMULA_START, formulaTokenList==+ RANGE, ranges=[R1C1FormulaRange{relativeRange=G278457581!R[139]C[13], startTokenIndex=2, workbookRangeId=null}], computedValue=doub:34.894400000000005$<br/>$R[8]C[2]$formula=RANGE UPLUS FORMULA_START, formulaTokenList==+ RANGE, ranges=[R1C1FormulaRange{relativeRange=G278457581!R[140]C[12], startTokenIndex=2, workbookRangeId=null}], computedValue=doub:43.618$<br/>$R[8]C[3]$userEnteredValue=empty$<br/>$R[8]C[4]$userEnteredValue=empty$<br/>$R[9]C[-10]$userEnteredValue=str:New$<br/>$R[9]C[-9]$userEnteredValue=doub:37591.0$<br/>$R[9]C[-8]$userEnteredValue=empty$<br/>$R[9]C[-7]$userEnteredValue=str:$4.2MM on 7/24/00$<br/>$R[9]C[-6]$userEnteredValue=str:N$<br/>$R[9]C[-5]$userEnteredValue=str:N/A$<br/>$R[9]C[-4]$userEnteredValue=str:EA$<br/>$R[9]C[-3]$userEnteredValue=str:Maurice Gilbert$<br/>$R[9]C[-2]$userEnteredValue=empty$<br/>$R[9]C[-1]$userEnteredValue=str:Las Vegas CoGen II$<br/>$R[9]C[0]$formula=RANGE UPLUS FORMULA_START, formulaTokenList==+ RANGE, ranges=[R1C1FormulaRange{relativeRange=G278457581!R[34]C[-17], startTokenIndex=2, workbookRangeId=null}], computedValue=doub:15.769725$<br/>$R[9]C[1]$formula=RANGE UPLUS FORMULA_START, formulaTokenList==+ RANGE, ranges=[R1C1FormulaRange{relativeRange=G278457581!R[34]C[13], startTokenIndex=2, workbookRangeId=null}], computedValue=doub:3.94243125$<br/>$R[9]C[2]$formula=RANGE UPLUS FORMULA_START, formulaTokenList==+ RANGE, ranges=[R1C1FormulaRange{relativeRange=G278457581!R[35]C[12], startTokenIndex=2, workbookRangeId=null}], computedValue=doub:3.153945$<br/>$R[9]C[3]$userEnteredValue=empty$<br/>$R[9]C[4]$userEnteredValue=empty$<br/>$R[10]C[-10]$userEnteredValue=str:New$<br/>$R[10]C[-9]$userEnteredValue=doub:37257.0$<br/>$R[10]C[-8]$userEnteredValue=empty$<br/>$R[10]C[-7]$userEnteredValue=str:$4.2MM on 7/24/00$<br/>$R[10]C[-6]$userEnteredValue=str:N$<br/>$R[10]C[-5]$userEnteredValue=str:N/A$<br/>$R[10]C[-4]$userEnteredValue=str:EA$<br/>$R[10]C[-3]$userEnteredValue=str:Maurice Gilbert$<br/>$R[10]C[-2]$userEnteredValue=empty$<br/>$R[10]C[-1]$userEnteredValue=str:Las Vegas CoGen II$<br/>$R[10]C[0]$formula=RANGE UPLUS FORMULA_START, formulaTokenList==+ RANGE, ranges=[R1C1FormulaRange{relativeRange=G278457581!R[41]C[-17], startTokenIndex=2, workbookRangeId=null}], computedValue=doub:15.769725$<br/>$R[10]C[1]$formula=RANGE UPLUS FORMULA_START, formulaTokenList==+ RANGE, ranges=[R1C1FormulaRange{relativeRange=G278457581!R[41]C[13], startTokenIndex=2, workbookRangeId=null}], computedValue=doub:3.94243125$<br/>$R[10]C[2]$formula=RANGE UPLUS FORMULA_START, formulaTokenList==+ RANGE, ranges=[R1C1FormulaRange{relativeRange=G278457581!R[42]C[12], startTokenIndex=2, workbookRangeId=null}], computedValue=doub:3.153945$<br/>$R[10]C[3]$userEnteredValue=empty$<br/>$R[10]C[4]$userEnteredValue=empty$'\n",
        "      </tr>\n",
        "    </tbody>\n",
        "<table>"
      ]
    },
    {
      "cell_type": "markdown",
      "metadata": {
        "id": "x382mge6cehq"
      },
      "source": [
        "## Data preprocess\n",
        "```\n",
        "record_index: tf.int64\n",
        "col_index: tf.int64\n",
        "formula: tf.string, '<SKETCH> $ENDSKETCH$ $R$ R[] C[] $SEP$ R[] C[] $ENDR$ EOF'\n",
        "context_header: tf.string\n",
        "context_data: tf.string, [21, 21]\n",
        "```"
      ]
    },
    {
      "cell_type": "code",
      "metadata": {
        "colab": {
          "base_uri": "https://localhost:8080/"
        },
        "id": "FInrD0zwBHs1",
        "outputId": "0c530803-f60c-4a4e-c09e-091e6d16900f"
      },
      "source": [
        "import re\n",
        "import numpy as np\n",
        "import tensorflow_datasets as tfds\n",
        "from constants import SPECIAL_TOKEN_LIST\n",
        "\n",
        "D = 10\n",
        "print(SPECIAL_TOKEN_LIST)"
      ],
      "execution_count": 8,
      "outputs": [
        {
          "output_type": "stream",
          "name": "stdout",
          "text": [
            "['PAD', 'EOF', 'UNK', 'GO', 'empty', '$RANGESPLIT$', '$ENDRANGE$', '$ENDFORMULASKETCH$', 'R[0]', 'R[1]', 'R[2]', 'R[3]', 'R[4]', 'R[5]', 'R[6]', 'R[7]', 'R[8]', 'R[9]', 'R[10]', 'R[-1]', 'R[-2]', 'R[-3]', 'R[-4]', 'R[-5]', 'R[-6]', 'R[-7]', 'R[-8]', 'R[-9]', 'R[-10]', 'C[0]', 'C[1]', 'C[2]', 'C[3]', 'C[4]', 'C[5]', 'C[6]', 'C[7]', 'C[8]', 'C[9]', 'C[10]', 'C[-1]', 'C[-2]', 'C[-3]', 'C[-4]', 'C[-5]', 'C[-6]', 'C[-7]', 'C[-8]', 'C[-9]', 'C[-10]', 'str:', 'doub:', 'bool:', 'quotedstr:', 'err:', 'image:', 'sparkchart:']\n"
          ]
        }
      ]
    },
    {
      "cell_type": "code",
      "metadata": {
        "colab": {
          "base_uri": "https://localhost:8080/"
        },
        "id": "DuOosFJnP4kn",
        "outputId": "74e653f8-95c3-4dae-f318-55c7f693a3ca"
      },
      "source": [
        "# Complete brackets, eliminate Gxxxx\n",
        "def format_range(range_instance):\n",
        "  range_eliminate = re.sub('G\\d*', '', range_instance)\n",
        "  range_eliminate = re.sub('\"', '', range_instance)\n",
        "  str_list = list(range_eliminate)\n",
        "  for i in range(len(str_list) + 8):\n",
        "    if i >= len(str_list):\n",
        "      break\n",
        "    if (str_list[i] == 'R' or str_list[i] == 'C') and str_list[i + 1] != '[':\n",
        "      str_list.insert(i + 1, '[')\n",
        "    if (str_list[i] == 'C' or str_list[i] == ':') and str_list[i - 1] != ']':\n",
        "        str_list.insert(i, ']')\n",
        "  if str_list[-1] != ']':\n",
        "    str_list += ']'\n",
        "\n",
        "  format_string = ''.join(str_list)\n",
        "  range_values = np.array([int(range_string[1:-1]) for range_string in re.findall('\\[.*?\\]', format_string)])\n",
        "  exceed = not ((-D <= range_values) & (range_values < 11)).all()\n",
        "\n",
        "  return format_string, exceed\n",
        "\n",
        "a, b = format_range('G34545R-11C5:R[3]C[9')\n",
        "print(a, b)"
      ],
      "execution_count": 37,
      "outputs": [
        {
          "output_type": "stream",
          "name": "stdout",
          "text": [
            "G34545R[-11]C[5]:R[3]C[9] True\n"
          ]
        }
      ]
    },
    {
      "cell_type": "code",
      "metadata": {
        "id": "ltksuY9HpXOl"
      },
      "source": [
        "# \n",
        "def format_example(example):\n",
        "  # print(example)\n",
        "\n",
        "  formula_token_list = str(example['formula_token_list'].numpy())\n",
        "  ranges = str(example['ranges'].numpy())\n",
        "  context_header = str(example['context_header'].numpy())\n",
        "  context_data = str(example['context_data'].numpy())\n",
        "\n",
        "\n",
        "  sketch = re.search(\"b'(.*)'\", formula_token_list).group(1)\n",
        "  sketch = sketch.replace('=', 'GO', 1)\n",
        "  range_simple = re.search(\"b'(.*)'\", ranges)\n",
        "  if range_simple:\n",
        "    range_list = range_simple.group(1).split(' ')\n",
        "  else:\n",
        "    range_list = re.findall('!(.*?) ', ranges) + ranges.split(\"!\")[-1:]\n",
        "  exceed = False\n",
        "  format_ranges = []\n",
        "  for ra in range_list:\n",
        "    format_ra, exceed = format_range(ra)\n",
        "    format_ranges.append(format_ra)\n",
        "    if exceed:\n",
        "      break\n",
        "  if exceed:\n",
        "    return None\n",
        "\n",
        "  formula = sketch + ' $ENDFORMULASKETCH$ '\n",
        "  for (i, range_i) in enumerate(format_ranges):\n",
        "    if(i):\n",
        "      formula += ' $RANGESPLIT$ '\n",
        "    formula += range_i\n",
        "  formula += ' $ENDRANGE$ EOF'\n",
        "  \n",
        "  tokenizer = tfds.deprecated.text.Tokenizer(\n",
        "      alphanum_only=False, reserved_tokens=SPECIAL_TOKEN_LIST)\n",
        "  formula_tokens = tokenizer.tokenize(formula.replace(' ', ''))\n",
        "  formula_doc.append(formula_tokens)\n",
        "  \n",
        "  cells = context_header[3:-1].split('$')\n",
        "\n",
        "  if len(cells):\n",
        "    start_col_index = int(cells[0][2:-1])\n",
        "    for i in range(len(cells)):\n",
        "      if i >= len(cells):\n",
        "        break\n",
        "      while i % 2 == 0 and cells[i] != \"C[\" + str(start_col_index + i // 2) + \"]\":\n",
        "        part_of_former = cells[i]\n",
        "        cells.pop(i)\n",
        "        if i > 0:\n",
        "          cells[i - 1] += '$' + part_of_former\n",
        "        if i >= len(cells):\n",
        "          break\n",
        "      if i >= len(cells):\n",
        "        break\n",
        "        \n",
        "    end_col_index = int(cells[-2][2:-1])\n",
        "  else:\n",
        "    start_col_index = 10\n",
        "    end_col_index = 10\n",
        "\n",
        "  context_header = ''\n",
        "  if start_col_index > -D:\n",
        "    context_header += 'empty [SEP] ' * (start_col_index + D)\n",
        "\n",
        "  for i in range(end_col_index - start_col_index + 1):\n",
        "    if cells[2 * i + 1]:\n",
        "      context_header += cells[2 * i + 1]\n",
        "    else:\n",
        "      context_header += 'empty'\n",
        "    if i != end_col_index - start_col_index:\n",
        "      context_header += ' [SEP] '\n",
        "\n",
        "  if end_col_index < D:\n",
        "    context_header += ' [SEP] empty' * (D - end_col_index)\n",
        "  else:\n",
        "    context_header += 'empty'\n",
        "\n",
        "\n",
        "  cells = context_data[3:-1].split('$')\n",
        "    \n",
        "  context_data = ['empty'] * 21 * 21\n",
        "  cell_num = len(cells) // 3\n",
        "  last_index = 0\n",
        "\n",
        "  for i in range(cell_num):\n",
        "\n",
        "    if len(cells) <= 3 * i:\n",
        "      break;\n",
        "    cell_index = re.search(\"R\\[(.*)\\]C\\[(.*)\\]\", cells[3 * i])\n",
        "    while not cell_index:\n",
        "      part_of_last = cells[3 * i - 1]\n",
        "      cells.pop(3 * i - 1)\n",
        "      context_data[last_index] += '$' + part_of_last\n",
        "      if 3 * i >= len(cells):\n",
        "        break\n",
        "      cell_index = re.search(\"R\\[(.*)\\]C\\[(.*)\\]\", cells[3 * i])\n",
        "    if not cell_index:\n",
        "      break\n",
        "\n",
        "    row_index = int(cell_index.group(1))\n",
        "    col_index = int(cell_index.group(2))\n",
        "    context_index = (row_index + 10) * 21 + col_index + 10\n",
        "    last_index = context_index\n",
        "\n",
        "    value = cells[3 * i + 1]\n",
        "    value = re.search(\"Value=(.*)\", value).group(1)\n",
        "\n",
        "    context_data[context_index] = value\n",
        "\n",
        "  formula = tf.convert_to_tensor(np.array(formula),\n",
        "                                         dtype=tf.string)\n",
        "  context_header = tf.convert_to_tensor(np.array(context_header),\n",
        "                                         dtype=tf.string)\n",
        "  context_data = tf.convert_to_tensor(np.array(context_data).reshape(21, 21),\n",
        "                                         dtype=tf.string)\n",
        "  return {'record_index': example['record_index'], \n",
        "          'col_index': example['col_index'],\n",
        "          'formula': formula, \n",
        "          'context_header': context_header,\n",
        "          'context_data': context_data\n",
        "          }\n",
        "\n",
        "format_dataset = []\n",
        "formula_doc = []\n",
        "for parsed_data in parsed_dataset:\n",
        "  format_data = format_example(parsed_data)\n",
        "  if format_data:\n",
        "    format_dataset.append(format_data)\n"
      ],
      "execution_count": 38,
      "outputs": []
    },
    {
      "cell_type": "code",
      "metadata": {
        "id": "yLCH-czFQ1nX"
      },
      "source": [
        "# Show the first observations in datasets.\n",
        "for format_record in format_dataset[:0]:\n",
        "  print(repr(format_record))"
      ],
      "execution_count": 40,
      "outputs": []
    },
    {
      "cell_type": "markdown",
      "metadata": {
        "id": "9SrRuRgiSLu-"
      },
      "source": [
        "## Statistics"
      ]
    },
    {
      "cell_type": "markdown",
      "metadata": {
        "id": "LVOhyAV7hpsK"
      },
      "source": [
        "### From paper"
      ]
    },
    {
      "cell_type": "markdown",
      "metadata": {
        "id": "HKKmfZUIekmw"
      },
      "source": [
        "  <table border=\"1\">\n",
        "  <caption><i>Table 1. </i>Dataset</caption>\n",
        "    <thead>\n",
        "      <tr>\n",
        "        <th></th>\n",
        "        <th>Train</th>\n",
        "        <th>Validation</th>\n",
        "        <th>Test</th>\n",
        "        <th>Total</th>\n",
        "      </tr>\n",
        "    </thead>\n",
        "    <tbody>\n",
        "      <tr align=center>\n",
        "        <th align=left>#Samples</th>\n",
        "        <td>178K</td>\n",
        "        <td>41K</td>\n",
        "        <td>33K</td>\n",
        "        <td>252K</td>\n",
        "      </tr>\n",
        "    </tbody>\n",
        "  </table>\n",
        "\n",
        "  <br />\n",
        "\n",
        "  <table border=\"1\">\n",
        "  <caption><i>Table 2. </i>Sketch Length (excluding ENDSKETCH).</caption>\n",
        "    <thead>\n",
        "      <tr>\n",
        "        <th align=left>Length</th>\n",
        "        <th>2</th>\n",
        "        <th>3</th>\n",
        "        <th>4-5</th>\n",
        "        <th>6-7</th>\n",
        "        <th>8+</th>\n",
        "      </tr>\n",
        "    </thead>\n",
        "    <tbody>\n",
        "      <tr align=center>\n",
        "        <th align=left>Distribution</th>\n",
        "        <td>55%</td>\n",
        "        <td>18%</td>\n",
        "        <td>13%</td>\n",
        "        <td>9%</td>\n",
        "        <td>5%</td>\n",
        "      </tr>\n",
        "    </tbody>\n",
        "  </table>\n",
        "\n",
        "  <br />\n",
        "  \n",
        "  <table border=\"1\">\n",
        "  <caption><i>Table 3. </i>Spreadsheet Functions & Operators</caption>\n",
        "    <thead>\n",
        "      <tr>\n",
        "        <th></th>\n",
        "        <th>Spreadsheet Functions</th>\n",
        "        <th>Type</th>\n",
        "      </tr>\n",
        "    </thead>\n",
        "    <tbody>\n",
        "      <tr align=center>\n",
        "        <th align=left>1</th>\n",
        "        <td>ADD(+)</td>\n",
        "        <td>Operator</td>\n",
        "      </tr>\n",
        "      <tr align=center>\n",
        "        <th align=left>2</th>\n",
        "        <td>MINUS(-)</td>\n",
        "        <td>Operator</td>\n",
        "      </tr>\n",
        "      <tr align=center>\n",
        "        <th align=left>3</th>\n",
        "        <td>MULPTIPLY(*)</td>\n",
        "        <td>Operator</td>\n",
        "      </tr>\n",
        "      <tr align=center>\n",
        "        <th align=left>4</th>\n",
        "        <td>DIV(/)</td>\n",
        "        <td>Operator</td>\n",
        "      </tr>\n",
        "      <tr align=center>\n",
        "        <th align=left>5</th>\n",
        "        <td>UPLUS</td>\n",
        "        <td>Operator</td>\n",
        "      </tr>\n",
        "      <tr align=center>\n",
        "        <th align=left>6</th>\n",
        "        <td>UMINUS</td>\n",
        "        <td>Operator</td>\n",
        "      </tr>      \n",
        "      <tr align=center>\n",
        "        <th align=left>7</th>\n",
        "        <td>SUM</td>\n",
        "        <td>Math</td>\n",
        "      </tr>\n",
        "      <tr align=center>\n",
        "        <th align=left>8</th>\n",
        "        <td>ABS</td>\n",
        "        <td>Math</td>\n",
        "      </tr>\n",
        "      <tr align=center>\n",
        "        <th align=left>9</th>\n",
        "        <td>LN</td>\n",
        "        <td>Math</td>\n",
        "      </tr>\n",
        "      <tr align=center>\n",
        "        <th align=left>10</th>\n",
        "        <td>AVERAGE</td>\n",
        "        <td>Statistical</td>\n",
        "      </tr>\n",
        "      <tr align=center>\n",
        "        <th align=left>11</th>\n",
        "        <td>MIN</td>\n",
        "        <td>Statistical</td>\n",
        "      </tr>\n",
        "      <tr align=center>\n",
        "        <th align=left>12</th>\n",
        "        <td>MAX</td>\n",
        "        <td>Statistical</td>\n",
        "      </tr>\n",
        "      <tr align=center>\n",
        "        <th align=left>13</th>\n",
        "        <td>COUNT</td>\n",
        "        <td>Statistical</td>\n",
        "      </tr>\n",
        "      <tr align=center>\n",
        "        <th align=left>14</th>\n",
        "        <td>COUNTA</td>\n",
        "        <td>Statistical</td>\n",
        "      </tr>\n",
        "      <tr align=center>\n",
        "        <th align=left>15</th>\n",
        "        <td>STDEV</td>\n",
        "        <td>Statistical</td>\n",
        "      </tr>\n",
        "      <tr align=center>\n",
        "        <th align=left>16</th>\n",
        "        <td>DAY</td>\n",
        "        <td>Date</td>\n",
        "      </tr>\n",
        "      <tr align=center>\n",
        "        <th align=left>17</th>\n",
        "        <td>WEEKDAY</td>\n",
        "        <td>Date</td>\n",
        "      </tr>\n",
        "    </tbody>\n",
        "  </table>\n",
        "\n",
        "<br />"
      ]
    },
    {
      "cell_type": "markdown",
      "metadata": {
        "id": "XeAMF31Nco9M"
      },
      "source": [
        "### From data"
      ]
    },
    {
      "cell_type": "code",
      "metadata": {
        "colab": {
          "base_uri": "https://localhost:8080/"
        },
        "id": "j8V676uLbITt",
        "outputId": "80a8b3c4-1548-4dd6-e7da-a7f849e1bd13"
      },
      "source": [
        "TOTAL_SIZE = len(format_dataset)\n",
        "print(TOTAL_SIZE)"
      ],
      "execution_count": 41,
      "outputs": [
        {
          "output_type": "stream",
          "name": "stdout",
          "text": [
            "172908\n"
          ]
        }
      ]
    },
    {
      "cell_type": "markdown",
      "metadata": {
        "id": "lLaABr7OcB4k"
      },
      "source": [
        "## Construct output vocabulary"
      ]
    },
    {
      "cell_type": "code",
      "metadata": {
        "id": "YwoC3LHghvTP"
      },
      "source": [
        "from collections import defaultdict\n",
        "\n",
        "class Vocab:\n",
        "  def __init__(self, tokens=None):\n",
        "    self.idx_to_token = list()\n",
        "    self.token_to_idx = dict()\n",
        "\n",
        "    if tokens is not None:\n",
        "      if \"UNK\" not in tokens:\n",
        "        tokens = tokens + [\"UNK\"]\n",
        "      for token in tokens:\n",
        "        self.idx_to_token.append(token)\n",
        "        self.token_to_idx[token] = len(self.idx_to_token) - 1\n",
        "      self.unk = self.token_to_idx['UNK']\n",
        "\n",
        "  @classmethod\n",
        "  def build(cls, text, min_freq=1, reserved_tokens=None):\n",
        "    token_freqs = defaultdict(int)\n",
        "    for sentence in text:\n",
        "      for token in sentence:\n",
        "        token_freqs[token] += 1\n",
        "    token_list = reserved_tokens if reserved_tokens else []\n",
        "    uniq_tokens = set(token_list)\n",
        "    for token, freq in token_freqs.items():\n",
        "      if freq >= min_freq and (token not in uniq_tokens):\n",
        "        token_list += [token]\n",
        "        uniq_tokens.add(token)\n",
        "    return cls(tokens=token_list)\n",
        "  \n",
        "  def __len__(self):\n",
        "    return len(self.idx_to_token)\n",
        "\n",
        "  def __getitem__(self, token):\n",
        "    return self.token_to_idx\n",
        "  \n",
        "  def convert_tokens_to_ids(self, tokens):\n",
        "    return [self[token] for token in tokens]\n",
        "\n",
        "  def convert_ids_to_tokens(self, indices):\n",
        "    return [self.idx_to_token[index] for index in indices]"
      ],
      "execution_count": 43,
      "outputs": []
    },
    {
      "cell_type": "code",
      "metadata": {
        "colab": {
          "base_uri": "https://localhost:8080/"
        },
        "id": "EOImtGCliI38",
        "outputId": "eaba3a09-bbba-4cde-c202-c49a37955f35"
      },
      "source": [
        "# Filter out tokens that appear less than 10 times in the training set to construct the output formula token vocabulary.\n",
        "output_vocab = Vocab.build(formula_doc, min_freq=10, reserved_tokens=SPECIAL_TOKEN_LIST)\n",
        "VOCAB_SIZE = len(output_vocab)\n",
        "\n",
        "print(output_vocab.idx_to_token)\n",
        "print(VOCAB_SIZE)"
      ],
      "execution_count": 44,
      "outputs": [
        {
          "output_type": "stream",
          "name": "stdout",
          "text": [
            "['PAD', 'EOF', 'UNK', 'GO', 'empty', '$RANGESPLIT$', '$ENDRANGE$', '$ENDFORMULASKETCH$', 'R[0]', 'R[1]', 'R[2]', 'R[3]', 'R[4]', 'R[5]', 'R[6]', 'R[7]', 'R[8]', 'R[9]', 'R[10]', 'R[-1]', 'R[-2]', 'R[-3]', 'R[-4]', 'R[-5]', 'R[-6]', 'R[-7]', 'R[-8]', 'R[-9]', 'R[-10]', 'C[0]', 'C[1]', 'C[2]', 'C[3]', 'C[4]', 'C[5]', 'C[6]', 'C[7]', 'C[8]', 'C[9]', 'C[10]', 'C[-1]', 'C[-2]', 'C[-3]', 'C[-4]', 'C[-5]', 'C[-6]', 'C[-7]', 'C[-8]', 'C[-9]', 'C[-10]', 'str:', 'doub:', 'bool:', 'quotedstr:', 'err:', 'image:', 'sparkchart:', '+', 'RANGE', '-', 'C', '[-', '12', ']', 'SUM', '(', ')', 'R', '33', ':', ']:', '14', '11', '31', '\"]', '*', '13', '/', '[', '24', ']\"]', ')/', '92', '91', '95', '93', '96', '94', '97', '98', '99', '100', '101', '102', '103', '104', '105', '106', '15', '107', '16', '108', '17', '109', '18', '110', '19', '111', '20', '112', '21', '113', '22', '114', '23', '115', '116', '25', '117', '26', '118', '27', '119', '28', '120', '29', '121', '30', '122', '123', '32', '124', '125', '34', '126', '35', '127', '36', '128', '37', '129', '38', '130', '39', '131', '40', '132', '41', '133', '42', '134', '43', '135', '44', '136', '45', '137', '46', '138', '47', '139', '48', '140', '49', '141', '50', '142', '51', '143', '52', '144', '53', '145', '54', '146', '55', '147', '56', '148', '57', '149', '58', '150', '59', '151', '60', '152', '61', '153', '62', '154', '63', '155', '64', '156', '65', '157', '66', '158', '67', '159', '68', '160', '69', '161', '70', '162', '71', '163', '72', '164', '73', '165', '74', '166', '75', '167', '76', '168', '77', '169', '78', '170', '79', '171', '80', '172', '81', '173', '82', '174', '83', '175', '84', '176', '85', '177', '86', '178', '87', '179', '88', '180', '89', '181', '90', '182', ')+', 'AVERAGE', '*(', 'COUNTA', ')-', '!', '253', '((+', ')/(', '))', '(+', ')*', '#', 'REF', '!-', '((', '65534', 'STDEV', 'LN', '205', '235', '+(', ')+(', '-(', ')))', '231', '!*', '222', '266', 'COUNT', 'WEEKDAY', 'MAX', '367', 'MIN', '368', '2168', '208', '226', '230', '244', ')*(+', '243', '238', '257', '246', '256', '249', '251', '247', '237', '232', '2', 'ABS', '(-', ')*(', 'DATEVALUE', '285', '288', 'DAY', '/(', '347', '403', '+#', '!+', '325', '343', '239', '453', '463', '296', '496', '!+#', '))/', '216', '330', '346', '448', '468', '550', '620', '677', '780', '716', '571', '365', '199', '220', '242', '250', '2354', '3309', '65533', '1400', 'YEAR', 'MONTH', '241', '1266', '236', '361', '319', '322', '192', '+((', '188', '217', '271', '289', '307', '379', 'b', \"\\\\'\", '&\":\"&', '4902', 'OUNTA', 'G', '0', '1', '9', '4', '03', '3', '09', '6', '8', '7', '00', 'EF', '009', '07', '5', '01', '10', '000', '005', '06', '001', '08', 'OUNT', '04', '0006']\n",
            "387\n"
          ]
        }
      ]
    },
    {
      "cell_type": "markdown",
      "metadata": {
        "id": "zoF_EwC-a8PE"
      },
      "source": [
        "## Split dataset"
      ]
    },
    {
      "cell_type": "code",
      "metadata": {
        "colab": {
          "base_uri": "https://localhost:8080/",
          "height": 236
        },
        "id": "qEaqQeexbLmz",
        "outputId": "bf914e13-dab4-4edf-9302-dbf8afbf6c0a"
      },
      "source": [
        "TRAIN_SIZE = 130000\n",
        "VALID_SIZE = 25000\n",
        "\n",
        "BATCH_SIZE = 64\n",
        "\n",
        "dataset = tf.data.Dataset.from_tensor_slices(format_dataset)\n",
        "train_data = dataset.take(TRAIN_SIZE).batch(BATCH_SIZE)\n",
        "valid_data = dataset.skip(TRAIN_SIZE).take(VALID_SIZE).batch(BATCH_SIZE)\n",
        "test_data = dataset.skip(TRAIN_SIZE + VALID_SIZE).batch(BATCH_SIZE)"
      ],
      "execution_count": 1,
      "outputs": [
        {
          "output_type": "error",
          "ename": "NameError",
          "evalue": "ignored",
          "traceback": [
            "\u001b[0;31m---------------------------------------------------------------------------\u001b[0m",
            "\u001b[0;31mNameError\u001b[0m                                 Traceback (most recent call last)",
            "\u001b[0;32m<ipython-input-1-a0c83d17f9e4>\u001b[0m in \u001b[0;36m<module>\u001b[0;34m()\u001b[0m\n\u001b[1;32m      4\u001b[0m \u001b[0mBATCH_SIZE\u001b[0m \u001b[0;34m=\u001b[0m \u001b[0;36m64\u001b[0m\u001b[0;34m\u001b[0m\u001b[0;34m\u001b[0m\u001b[0m\n\u001b[1;32m      5\u001b[0m \u001b[0;34m\u001b[0m\u001b[0m\n\u001b[0;32m----> 6\u001b[0;31m \u001b[0mdataset\u001b[0m \u001b[0;34m=\u001b[0m \u001b[0mtf\u001b[0m\u001b[0;34m.\u001b[0m\u001b[0mdata\u001b[0m\u001b[0;34m.\u001b[0m\u001b[0mDataset\u001b[0m\u001b[0;34m.\u001b[0m\u001b[0mfrom_tensor_slices\u001b[0m\u001b[0;34m(\u001b[0m\u001b[0mformat_dataset\u001b[0m\u001b[0;34m)\u001b[0m\u001b[0;34m\u001b[0m\u001b[0;34m\u001b[0m\u001b[0m\n\u001b[0m\u001b[1;32m      7\u001b[0m \u001b[0mtrain_data\u001b[0m \u001b[0;34m=\u001b[0m \u001b[0mdataset\u001b[0m\u001b[0;34m.\u001b[0m\u001b[0mtake\u001b[0m\u001b[0;34m(\u001b[0m\u001b[0mTRAIN_SIZE\u001b[0m\u001b[0;34m)\u001b[0m\u001b[0;34m.\u001b[0m\u001b[0mbatch\u001b[0m\u001b[0;34m(\u001b[0m\u001b[0mbatch_size\u001b[0m\u001b[0;34m=\u001b[0m\u001b[0mBATCH_SIZE\u001b[0m\u001b[0;34m)\u001b[0m\u001b[0;34m\u001b[0m\u001b[0;34m\u001b[0m\u001b[0m\n\u001b[1;32m      8\u001b[0m \u001b[0mvalid_data\u001b[0m \u001b[0;34m=\u001b[0m \u001b[0mdataset\u001b[0m\u001b[0;34m.\u001b[0m\u001b[0mskip\u001b[0m\u001b[0;34m(\u001b[0m\u001b[0mTRAIN_SIZE\u001b[0m\u001b[0;34m)\u001b[0m\u001b[0;34m.\u001b[0m\u001b[0mtake\u001b[0m\u001b[0;34m(\u001b[0m\u001b[0mVALID_SIZE\u001b[0m\u001b[0;34m)\u001b[0m\u001b[0;34m.\u001b[0m\u001b[0mbatch\u001b[0m\u001b[0;34m(\u001b[0m\u001b[0mbatch_size\u001b[0m\u001b[0;34m=\u001b[0m\u001b[0mBATCH_SIZE\u001b[0m\u001b[0;34m)\u001b[0m\u001b[0;34m\u001b[0m\u001b[0;34m\u001b[0m\u001b[0m\n",
            "\u001b[0;31mNameError\u001b[0m: name 'tf' is not defined"
          ]
        }
      ]
    },
    {
      "cell_type": "markdown",
      "metadata": {
        "id": "X7W0qiukRsxo"
      },
      "source": [
        "# Model![model architecture](https://raw.github.com/wy-go/google-research/master/spreadsheet_coder/spreadsheetcoder_model_architecture.png)\n"
      ]
    },
    {
      "cell_type": "code",
      "metadata": {
        "id": "AioSG3_jer67",
        "colab": {
          "base_uri": "https://localhost:8080/",
          "height": 131
        },
        "outputId": "3df36681-9eb8-430a-b682-a11db3c59547"
      },
      "source": [
        "# Install deps\n",
        "!pip install -q -U tensor2tensor\n",
        "\n",
        "from model import create_model\n",
        "from model_utils import get_train_op\n",
        "from bert_modeling import BertConfig\n",
        "\n",
        "NUM_ENCODER_LAYERS = 1 # not provided in paper\n",
        "NUM_DECODER_LAYERS = 1 \n",
        "EMBEDDING_SIZE = 512 # not provided in paper\n",
        "HIDDEN_SIZE = 512\n",
        "DROPOUT_RATE = 0.1\n",
        "BEAM_SIZE = 64\n",
        "\n",
        "MAX_CELL_CONTEXT_LENGTH = 128\n",
        "FORMULA_LENGTH = 30 # not provided in paper\n",
        "\n",
        "BERT_CONFIG = BertConfig(hidden_size=512, hidden_act='gelu', \n",
        "                         initializer_range=0.02, vocab_size=30522, \n",
        "                         hidden_dropout_prob=0.1, num_attention_heads=8,\n",
        "                         type_vocab_size=2, max_position_embeddings=512,\n",
        "                         num_hidden_layers=8, intermediate_size=2048,\n",
        "                         attention_probs_dropout_prob=0.1)  # BERT-Medium\n",
        "\n",
        "formula_placeholder = tf.compat.v1.placeholder(name='formula', dtype=tf.int32)    # [batch_size, formula_length]\n",
        "row_cell_context_placeholder = tf.compat.v1.placeholder(name='row_cell_context', dtype=tf.int32) \n",
        "col_cell_context_placeholder = tf.compat.v1.placeholder(name='col_cell_context', dtype=tf.int32) \n",
        "row_context_mask_placeholder = tf.compat.v1.placeholder(name='row_context_mask', dtype=tf.float32) \n",
        "col_context_mask_placeholder = tf.compat.v1.placeholder(name='col_context_mask', dtype=tf.float32) \n",
        "row_context_segment_ids_placeholder = tf.compat.v1.placeholder(name='row_context_segment_ids', dtype=tf.int32) \n",
        "col_context_segment_ids_placeholder = tf.compat.v1.placeholder(name='col_context_segment_ids', dtype=tf.int32) \n",
        "row_cell_indices_placeholder = tf.compat.v1.placeholder(name='row_cell_indices', dtype=tf.int32) \n",
        "col_cell_indices_placeholder = tf.compat.v1.placeholder(name='col_cell_indices', dtype=tf.int32) \n",
        "row_context_mask_per_cell_placeholder = tf.compat.v1.placeholder(name='row_context_mask_per_cell', dtype=tf.float32) \n",
        "col_context_mask_per_cell_placeholder = tf.compat.v1.placeholder(name='col_context_mask_per_cell', dtype=tf.float32) \n",
        "row_context_segment_ids_per_cell_placeholder = tf.compat.v1.placeholder(name='row_context_segment_ids_per_cell', dtype=tf.int32) \n",
        "col_context_segment_ids_per_cell_placeholder = tf.compat.v1.placeholder(name='col_context_segment_ids_per_cell', dtype=tf.int32) \n",
        "record_index_placeholder = tf.compat.v1.placeholder(name='record_index', dtype=tf.int32) \n",
        "column_index_placeholder = tf.compat.v1.placeholder(name='column_index', dtype=tf.int32) "
      ],
      "execution_count": 45,
      "outputs": [
        {
          "output_type": "error",
          "ename": "SyntaxError",
          "evalue": "ignored",
          "traceback": [
            "\u001b[0;36m  File \u001b[0;32m\"<ipython-input-45-544a291575a5>\"\u001b[0;36m, line \u001b[0;32m39\u001b[0m\n\u001b[0;31m    column_index_placeholder=\u001b[0m\n\u001b[0m                             ^\u001b[0m\n\u001b[0;31mSyntaxError\u001b[0m\u001b[0;31m:\u001b[0m invalid syntax\n"
          ]
        }
      ]
    },
    {
      "cell_type": "markdown",
      "metadata": {
        "id": "5gPHChGOqJ68"
      },
      "source": [
        "bert_modeling:\n",
        "- get_shape_list()\n",
        "- BertModel()\n",
        "- gelu()\n",
        "\n",
        "model_utils:\n",
        "- configure_tpu(flags): Configures the TPU from the command line flags.\n",
        "- class AdamWeightDecayOptimizer(): apply_gradients(grads_and_vars, global_step=None, name=None)\n",
        "- get_train_op(flags, total_loss, ema=None, tvars=None): Generates the training operation.\n",
        "- construct_scalar_host_call(monitor_dict, model_dir, prefix=\"\", reduce_fn=None): Construct host calls to monitor training progress on TPUs.\n",
        "- build_lstm(num_units)\n",
        "- print_tensors(**tensors): Host call function to print Tensors from the TPU during training.\n",
        "- get_assignment_map_from_checkpoint(vars_to_restore, init_checkpoint, bert_prefix=\"\"): Compute the union of the current variables and checkpoint variables."
      ]
    },
    {
      "cell_type": "markdown",
      "metadata": {
        "id": "k5XcC0UlI9ND"
      },
      "source": [
        "# Experiment"
      ]
    },
    {
      "cell_type": "markdown",
      "metadata": {
        "id": "MErAi06xh5z9"
      },
      "source": [
        "  <table border=\"1\">\n",
        "    <caption><i>Table 4. </i>Hyper-parameters</caption>\n",
        "    <thead>\n",
        "      <tr align=center>\n",
        "        <th></th>\n",
        "        <th></th>\n",
        "      </tr>\n",
        "    </thead>\n",
        "    <tbody>\n",
        "      <tr align=center>\n",
        "        <th align=left>#Encoder layer</th>\n",
        "        <td></td>\n",
        "      </tr>\n",
        "      <tr align=center>\n",
        "        <th align=left>#Decoder layer</th>\n",
        "        <td>1</td>\n",
        "      </tr>\n",
        "      <tr align=center>\n",
        "        <th align=left>Embedding size</th>\n",
        "        <td></td>\n",
        "      </tr>\n",
        "      <tr align=center>\n",
        "        <th align=left>Hidden size</th>\n",
        "        <td>512</td>\n",
        "      </tr>\n",
        "      <tr align=center>\n",
        "        <th align=left>Dropout rate</th>\n",
        "        <td>0.1</td>\n",
        "      </tr>\n",
        "      <tr align=center>\n",
        "        <th align=left>Initial lr</th>\n",
        "        <td>5e-5</td>\n",
        "      </tr>\n",
        "      <tr align=center>\n",
        "        <th align=left>Batch size</th>\n",
        "        <td>64</td>\n",
        "      </tr>\n",
        "      <tr align=center>\n",
        "        <th align=left>Gradient clipping norm</th>\n",
        "        <td>1.0</td>\n",
        "      </tr>\n",
        "      <tr align=center>\n",
        "        <th align=left>Optimizer</th>\n",
        "        <td>Adam</td>\n",
        "      </tr>\n",
        "      <tr align=center>\n",
        "        <th align=left>#Minibatch updates</th>\n",
        "        <td>200K</td>\n",
        "      </tr>\n",
        "      <tr align=center>\n",
        "        <th align=left>Beam size</th>\n",
        "        <td>64</td>\n",
        "      </tr>\n",
        "    </tbody>\n",
        "  </table>"
      ]
    },
    {
      "cell_type": "markdown",
      "metadata": {
        "id": "IyfpFfm0kyTL"
      },
      "source": [
        "## Full model"
      ]
    },
    {
      "cell_type": "code",
      "metadata": {
        "id": "ruqa4t-uxt9b"
      },
      "source": [
        "y_train = create_model(num_encoder_layers=NUM_ENCODER_LAYERS,\n",
        "                      num_decoder_layers=NUM_DECODER_LAYERS,\n",
        "                      embedding_size=EMBEDDING_SIZE,\n",
        "                      hidden_size=HIDDEN_SIZE,\n",
        "                      dropout_rate=DROPOUT_RATE,\n",
        "                      is_traing=True,\n",
        "                      formula=formula_placeholder, \n",
        "                      row_cell_context=row_cell_context_placeholder,\n",
        "                      col_cell_context=col_cell_context_placeholder,\n",
        "                      row_context_mask=row_context_mask_placeholder, \n",
        "                      col_context_mask=col_context_mask_placeholder,\n",
        "                      row_context_segment_ids=row_context_segment_ids_placeholder,\n",
        "                      col_context_segment_ids=col_context_segment_ids_placeholder,\n",
        "                      row_cell_indices=row_cell_indices_placeholder,\n",
        "                      col_cell_indices=col_cell_indices_placeholder,\n",
        "                      row_context_mask_per_cell=row_context_mask_per_cell_placeholder,\n",
        "                      col_context_mask_per_cell=col_context_mask_per_cell_placeholder,\n",
        "                      row_context_segment_ids_per_cell=row_context_segment_ids_per_cell_placeholder,\n",
        "                      col_context_segment_ids_per_cell=col_context_segment_ids_per_cell_placeholder,\n",
        "                      exclude_headers=False,\n",
        "                      max_cell_context_length=MAX_CELL_LENGTH, #\n",
        "                      num_rows=21,\n",
        "                      record_index=record_index_placeholder,\n",
        "                      column_index=column_index_placeholder,\n",
        "                      layer_norm=True,\n",
        "                      cell_position_encoding=, #\n",
        "                      cell_context_encoding=True,\n",
        "                      use_bert=True,\n",
        "                      use_mobilebert=False,\n",
        "                      per_row_encoding=, #\n",
        "                      max_pooling=, #\n",
        "                      use_cnn=True,\n",
        "                      use_pointer_network=False,\n",
        "                      two_stage_encoding=True,\n",
        "                      conv_type=, #\n",
        "                      grid_type='both',\n",
        "                      skip_connection=, #\n",
        "                      bert_config=bert_config,\n",
        "                      unused_tensors_to_print=True, # unused\n",
        "                      formula_length=FORMULA_LENGTH,\n",
        "                      formula_prefix_length=0,\n",
        "                      vocab_size=VOCAB_SIZE,\n",
        "                      beam_size=BEAM_SIZE,\n",
        "                      use_tpu=True,\n",
        "                      use_one_hot_embeddings=False\n",
        "                      )\n",
        "\n",
        "y_test, y_p = create_model(num_encoder_layers=NUM_ENCODER_LAYERS,\n",
        "                      num_decoder_layers=NUM_DECODER_LAYERS,\n",
        "                      embedding_size=EMBEDDING_SIZE,\n",
        "                      hidden_size=HIDDEN_SIZE,\n",
        "                      dropout_rate=DROPOUT_RATE,\n",
        "                      is_traing=True,\n",
        "                      formula=formula_placeholder, \n",
        "                      row_cell_context=row_cell_context_placeholder,\n",
        "                      col_cell_context=col_cell_context_placeholder,\n",
        "                      row_context_mask=row_context_mask_placeholder, \n",
        "                      col_context_mask=col_context_mask_placeholder,\n",
        "                      row_context_segment_ids=row_context_segment_ids_placeholder,\n",
        "                      col_context_segment_ids=col_context_segment_ids_placeholder,\n",
        "                      row_cell_indices=row_cell_indices_placeholder,\n",
        "                      col_cell_indices=col_cell_indices_placeholder,\n",
        "                      row_context_mask_per_cell=row_context_mask_per_cell_placeholder,\n",
        "                      col_context_mask_per_cell=col_context_mask_per_cell_placeholder,\n",
        "                      row_context_segment_ids_per_cell=row_context_segment_ids_per_cell_placeholder,\n",
        "                      col_context_segment_ids_per_cell=col_context_segment_ids_per_cell_placeholder,\n",
        "                      exclude_headers=False,\n",
        "                      max_cell_context_length=MAX_CELL_LENGTH, #\n",
        "                      num_rows=21,\n",
        "                      record_index=record_index_placeholder,\n",
        "                      column_index=column_index_placeholder,\n",
        "                      layer_norm=True,\n",
        "                      cell_position_encoding=, #\n",
        "                      cell_context_encoding=True,\n",
        "                      use_bert=True,\n",
        "                      use_mobilebert=False,\n",
        "                      per_row_encoding=, #\n",
        "                      max_pooling=, #\n",
        "                      use_cnn=True,\n",
        "                      use_pointer_network=False,\n",
        "                      two_stage_encoding=True,\n",
        "                      conv_type=, #\n",
        "                      grid_type='both',\n",
        "                      skip_connection=, #\n",
        "                      bert_config=bert_config,\n",
        "                      unused_tensors_to_print=True, # unused\n",
        "                      formula_length=FORMULA_LENGTH,\n",
        "                      formula_prefix_length=0,\n",
        "                      vocab_size=VOCAB_SIZE,\n",
        "                      beam_size=BEAM_SIZE,\n",
        "                      use_tpu=True,\n",
        "                      use_one_hot_embeddings=False\n",
        "                      )\n",
        "\n",
        "\n",
        "loss = tf.keras.losses.sparse_categorical_crossentropy(y_true=formula_placeholder, y_pred=y_train)\n",
        "\n",
        "top1_value = tf.gather(y_test, tf.argmax(y_p, axis=-1, output_type=tf.int32), axis=1)\n",
        "\n",
        "count = y_test.get_shape()[0]\n",
        "top1_accuracy = tf.reduce_sum(tf.equal(tf.reduce_sum(tf.cast(tf.equal(formula_placeholder, top1_value), tf.int32), 1), tf.fill([count], y_test.get_shape()[-1])))/count\n",
        "\n",
        "import model_utils\n",
        "\n",
        "INIT_LR = 5e-5\n",
        "CLIP = 1.0\n",
        "NUM_EPOCH = 72\n",
        "\n",
        "train_op, learning_rate, gnorm = model_utils.get_train_op(flags, loss)\n",
        "init_op = tf.global_variables_initializer()\n",
        "\n",
        "iterator = tf.data.Iterator.from_structure(train_data.output_types, train_data.output_shapes)\n",
        "\n",
        "next_elem = iterator.get_next()\n",
        "\n",
        "train_init_op = iterator.make_initializer(train_data)\n",
        "\n",
        "with tf.Session() as sess:\n",
        "  #Initialize variables\n",
        "  sess.run(tf.global_variables_initializer())\n",
        "  sess.run(train_init_op)\n",
        "  while True:\n",
        "    try:\n",
        "      print(sess.run(loss, next_elem))\n",
        "    except tf.errors.OutOfRangeError:\n",
        "      print('End of training datset.')\n",
        "      break\n",
        "\n",
        "\n",
        "\n"
      ],
      "execution_count": null,
      "outputs": []
    },
    {
      "cell_type": "code",
      "metadata": {
        "id": "1y0sGGpXWXPt"
      },
      "source": [
        "# Test\n",
        "\n",
        "test_init_op = iterator.make_initializer(test_data)\n",
        "\n",
        "with tf.Session() as sess:\n",
        "  #Initialize variables\n",
        "  sess.run(tf.global_variables_initializer())\n",
        "  sess.run(test_init_op)\n",
        "  while True:\n",
        "    try:\n",
        "      print(sess.run(top1_accuracy, next_elem))\n",
        "    except tf.errors.OutOfRangeError:\n",
        "      print('End of test datset.')\n",
        "      break"
      ],
      "execution_count": null,
      "outputs": []
    },
    {
      "cell_type": "markdown",
      "metadata": {
        "id": "n7gB7qcEvQMI"
      },
      "source": [
        "## Different encoder architecture\n",
        "- — Column-based BERT\n",
        "- — Row-based BERT\n",
        "- — Convolution layers"
      ]
    },
    {
      "cell_type": "markdown",
      "metadata": {
        "id": "JPGYz7R6v9Xn"
      },
      "source": [
        "### — Column-based BERT"
      ]
    },
    {
      "cell_type": "code",
      "metadata": {
        "id": "nYxX9LtCwJgu"
      },
      "source": [
        ""
      ],
      "execution_count": null,
      "outputs": []
    },
    {
      "cell_type": "markdown",
      "metadata": {
        "id": "EFWIvntQwCST"
      },
      "source": [
        "### — Row-based BERT"
      ]
    },
    {
      "cell_type": "code",
      "metadata": {
        "id": "ndjXc8KLwHPA"
      },
      "source": [
        ""
      ],
      "execution_count": null,
      "outputs": []
    },
    {
      "cell_type": "markdown",
      "metadata": {
        "id": "e5OPbMFBwH3O"
      },
      "source": [
        "### — Convolution layers"
      ]
    },
    {
      "cell_type": "code",
      "metadata": {
        "id": "3hYuFFhnwM_F"
      },
      "source": [
        ""
      ],
      "execution_count": null,
      "outputs": []
    },
    {
      "cell_type": "markdown",
      "metadata": {
        "id": "Rq4sOOJKwbkz"
      },
      "source": [
        "## Different decoding architecture\n",
        "Same predictor for both the sketch and ranges, with a single output vocabulary"
      ]
    },
    {
      "cell_type": "markdown",
      "metadata": {
        "id": "tpYj_MDxxZTc"
      },
      "source": [
        "### — Two-stage decoding"
      ]
    },
    {
      "cell_type": "code",
      "metadata": {
        "id": "eo1jeC7GwyN9"
      },
      "source": [
        ""
      ],
      "execution_count": null,
      "outputs": []
    },
    {
      "cell_type": "markdown",
      "metadata": {
        "id": "GRVDhZhIwybr"
      },
      "source": [
        "## Different model initialization\n",
        "Randomly initialize BERT encoders"
      ]
    },
    {
      "cell_type": "markdown",
      "metadata": {
        "id": "av1jJDhhxij2"
      },
      "source": [
        "### — Pretraining"
      ]
    },
    {
      "cell_type": "code",
      "metadata": {
        "id": "gn6C7JGyxx43"
      },
      "source": [
        ""
      ],
      "execution_count": null,
      "outputs": []
    },
    {
      "cell_type": "markdown",
      "metadata": {
        "id": "LFE-CsugyDev"
      },
      "source": [
        "## Previous approaches\n",
        "Randomly initialize BERT encoders"
      ]
    },
    {
      "cell_type": "markdown",
      "metadata": {
        "id": "aT3Tl_PKyUt0"
      },
      "source": [
        "### Row-based RobustFill"
      ]
    },
    {
      "cell_type": "code",
      "metadata": {
        "id": "JW7UbXeXyeGA"
      },
      "source": [
        ""
      ],
      "execution_count": null,
      "outputs": []
    },
    {
      "cell_type": "markdown",
      "metadata": {
        "id": "yYpkj6dvyeYg"
      },
      "source": [
        "### Column-based RobustFill"
      ]
    },
    {
      "cell_type": "code",
      "metadata": {
        "id": "dLe-l9dIyiP_"
      },
      "source": [
        ""
      ],
      "execution_count": null,
      "outputs": []
    },
    {
      "cell_type": "markdown",
      "metadata": {
        "id": "EGqFn7G7yocT"
      },
      "source": [
        "## Baseline\n",
        "LSTM decoder only"
      ]
    },
    {
      "cell_type": "markdown",
      "metadata": {
        "id": "dIQmX7YfyrU9"
      },
      "source": [
        "### No context"
      ]
    },
    {
      "cell_type": "code",
      "metadata": {
        "id": "YUseNKITy8Y9"
      },
      "source": [
        ""
      ],
      "execution_count": null,
      "outputs": []
    },
    {
      "cell_type": "markdown",
      "metadata": {
        "id": "sQrfHbQC80_N"
      },
      "source": [
        "\n",
        "# Results\n",
        "\n",
        "  <table border=\"1\">\n",
        "  <caption><i>Table 5. </i>Full model formula accuracy from paper.</caption>\n",
        "    <thead>\n",
        "      <tr>\n",
        "        <th align=left>Dataset</th>\n",
        "        <th>Top-1</th>\n",
        "        <th>Top-5</th>\n",
        "        <th>Top-10</th>\n",
        "      </tr>\n",
        "    </thead>\n",
        "    <tbody>\n",
        "      <tr align=center>\n",
        "        <th align=left>Enron</th>\n",
        "        <td>29.8%</td>\n",
        "        <td>41.8%</td>\n",
        "        <td>48.5%</td>\n",
        "      </tr>\n",
        "      <tr align=center>\n",
        "        <th align=left>Google Sheets</th>\n",
        "        <td>42.51%</td>\n",
        "        <td>54.41%</td>\n",
        "        <td>58.57%</td>\n",
        "      </tr>\n",
        "    </tbody>\n",
        "  </table>\n",
        "\n",
        "  <br/>\n",
        "\n",
        "  <table border=\"1\">\n",
        "    <caption><i>Table 6. </i>Formula accuracy on the Google Sheets test set.</caption>\n",
        "    <thead>\n",
        "      <tr>\n",
        "        <th align=left>Approach</th>\n",
        "        <th>Top-1</th>\n",
        "        <th>Top-5</th>\n",
        "        <th>Top-10</th>\n",
        "      </tr>\n",
        "    </thead>\n",
        "    <tbody>\n",
        "      <tr align=center>\n",
        "        <th align=left>Full model</th>\n",
        "        <td><b>42.51%</b></td>\n",
        "        <td><b>54.41%</b></td>\n",
        "        <td><b>58.57%</b></td>\n",
        "      </tr>\n",
        "      <tr align=center>\n",
        "        <th align=left>— Column-based BERT</th>\n",
        "        <td>39.42%</td>\n",
        "        <td>51.68%</td>\n",
        "        <td>56.50%</td>\n",
        "      </tr>\n",
        "      <tr align=center>\n",
        "        <th align=left>— Row-based BERT</th>\n",
        "        <td>20.37%</td>\n",
        "        <td>40.87%</td>\n",
        "        <td>48.37%</td>\n",
        "      </tr>\n",
        "      <tr align=center>\n",
        "        <th align=left>— Convolution layers</th>\n",
        "        <td>38.43%</td>\n",
        "        <td>51.31%</td>\n",
        "        <td>55.87%</td>\n",
        "      </tr>\n",
        "      <tr align=center>\n",
        "        <th align=left>— Two-stage decoding</th>\n",
        "        <td>41.12%</td>\n",
        "        <td>53.57%</td>\n",
        "        <td>57.95%</td>\n",
        "      </tr>\n",
        "      <tr align=center>\n",
        "        <th align=left>— Pretraining</th>\n",
        "        <td>31.51%</td>\n",
        "        <td>42.64%</td>\n",
        "        <td>49.77%</td>\n",
        "      </tr>\n",
        "      <tr align=center>\n",
        "        <th align=left>Row-based RobustFill</th>\n",
        "        <td>31.14%</td>\n",
        "        <td>40.09%</td>\n",
        "        <td>47.10%</td>\n",
        "      </tr>\n",
        "      <tr align=center>\n",
        "        <th align=left>Column-based RobustFill</th>\n",
        "        <td>20.65%</td>\n",
        "        <td>39.69%</td>\n",
        "        <td>46.96%</td>\n",
        "      </tr>\n",
        "      <tr align=center>\n",
        "        <th align=left>No context</th>\n",
        "        <td>10.56%</td>\n",
        "        <td>23.27%</td>\n",
        "        <td>31.96%</td>\n",
        "      </tr>\n",
        "    </tbody>\n",
        "  </table>"
      ]
    },
    {
      "cell_type": "code",
      "metadata": {
        "id": "yy2gRgxe813S"
      },
      "source": [
        ""
      ],
      "execution_count": null,
      "outputs": []
    }
  ]
}