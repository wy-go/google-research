{
  "nbformat": 4,
  "nbformat_minor": 0,
  "metadata": {
    "colab": {
      "name": "Untitled0.ipynb",
      "provenance": [],
      "authorship_tag": "ABX9TyMfr44/gceN58siKEcSMrV8",
      "include_colab_link": true
    },
    "kernelspec": {
      "name": "python3",
      "display_name": "Python 3"
    },
    "language_info": {
      "name": "python"
    }
  },
  "cells": [
    {
      "cell_type": "markdown",
      "metadata": {
        "id": "view-in-github",
        "colab_type": "text"
      },
      "source": [
        "<a href=\"https://colab.research.google.com/github/wy-go/google-research/blob/master/spreadsheet_coder/experiments.ipynb\" target=\"_parent\"><img src=\"https://colab.research.google.com/assets/colab-badge.svg\" alt=\"Open In Colab\"/></a>"
      ]
    },
    {
      "cell_type": "markdown",
      "metadata": {
        "id": "BxlH4IZDv-Zn"
      },
      "source": [
        "# Data\n",
        "Load data from [[UI]](https://console.cloud.google.com/storage/browser/spreadsheet_coder)\n",
        "\n",
        "## Open files from GCS with gsutil"
      ]
    },
    {
      "cell_type": "code",
      "metadata": {
        "colab": {
          "base_uri": "https://localhost:8080/"
        },
        "id": "gJLt_RvlwHA-",
        "outputId": "e6122f84-aae1-4860-8256-ce68906ddf86"
      },
      "source": [
        "from google.colab import auth\n",
        "auth.authenticate_user()\n",
        "\n",
        "# https://cloud.google.com/resource-manager/docs/creating-managing-projects\n",
        "project_id = 'sheetcoder'\n",
        "!gcloud config set project {project_id}"
      ],
      "execution_count": 3,
      "outputs": [
        {
          "output_type": "stream",
          "name": "stdout",
          "text": [
            "Updated property [core/project].\n"
          ]
        }
      ]
    },
    {
      "cell_type": "code",
      "metadata": {
        "colab": {
          "base_uri": "https://localhost:8080/"
        },
        "id": "XRy331zlxcJQ",
        "outputId": "24ceebec-9ace-4c39-a0a7-4561d34dadd2"
      },
      "source": [
        "# Download the file from a given Google Cloud Storage bucket.\n",
        "!gsutil -m cp -r \\\n",
        "  \"gs://spreadsheet_coder/enron/\" \\\n",
        "  .\n",
        "  \n",
        "# Print the result to make sure the transfer worked.\n",
        "# !cat /sheetcoder/data/formulas_0_5.tf_record"
      ],
      "execution_count": 8,
      "outputs": [
        {
          "output_type": "stream",
          "name": "stdout",
          "text": [
            "CommandException: No URLs matched: gs://spreadsheet_coder/enron_$\n",
            "Copying gs://spreadsheet_coder/enron/formulas_0_5.tf_record...\n",
            "/ [0 files][    0.0 B/549.8 MiB]                                                \rCopying gs://spreadsheet_coder/enron/formulas_10_15.tf_record...\n",
            "/ [0/6 files][    0.0 B/  3.9 GiB]   0% Done                                    \rCopying gs://spreadsheet_coder/enron/formulas_15_20.tf_record...\n",
            "/ [0/6 files][    0.0 B/  3.9 GiB]   0% Done                                    \rCopying gs://spreadsheet_coder/enron/formulas_20_25.tf_record...\n",
            "Copying gs://spreadsheet_coder/enron/formulas_25_30.tf_record...\n",
            "Copying gs://spreadsheet_coder/enron/formulas_5_10.tf_record...\n",
            "| [6/6 files][  3.9 GiB/  3.9 GiB] 100% Done  71.7 MiB/s ETA 00:00:00           \n",
            "Operation completed over 6 objects/3.9 GiB.                                      \n",
            "CommandException: 1 file/object could not be transferred.\n"
          ]
        }
      ]
    }
  ]
}